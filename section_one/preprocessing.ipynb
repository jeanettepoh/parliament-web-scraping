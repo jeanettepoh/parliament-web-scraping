{
 "cells": [
  {
   "cell_type": "code",
   "execution_count": 1,
   "metadata": {},
   "outputs": [],
   "source": [
    "import os\n",
    "import re\n",
    "import glob\n",
    "import nltk\n",
    "import sklearn\n",
    "import pandas as pd\n",
    "import plotly.express as px\n",
    "import plotly.graph_objects as go\n",
    "from bs4 import BeautifulSoup\n",
    "from collections import Counter\n",
    "from wordcloud import WordCloud\n",
    "from nltk.corpus import stopwords\n",
    "from nltk.tokenize import word_tokenize\n",
    "from nltk.stem import WordNetLemmatizer\n",
    "from sklearn.feature_extraction.text import CountVectorizer\n",
    "from sklearn.decomposition import LatentDirichletAllocation"
   ]
  },
  {
   "cell_type": "code",
   "execution_count": 2,
   "metadata": {},
   "outputs": [
    {
     "name": "stderr",
     "output_type": "stream",
     "text": [
      "[nltk_data] Downloading package stopwords to\n",
      "[nltk_data]     /Users/jeanettepoh/nltk_data...\n",
      "[nltk_data]   Package stopwords is already up-to-date!\n",
      "[nltk_data] Downloading package punkt to\n",
      "[nltk_data]     /Users/jeanettepoh/nltk_data...\n",
      "[nltk_data]   Package punkt is already up-to-date!\n",
      "[nltk_data] Downloading package wordnet to\n",
      "[nltk_data]     /Users/jeanettepoh/nltk_data...\n",
      "[nltk_data]   Package wordnet is already up-to-date!\n",
      "[nltk_data] Downloading package omw-1.4 to\n",
      "[nltk_data]     /Users/jeanettepoh/nltk_data...\n",
      "[nltk_data]   Package omw-1.4 is already up-to-date!\n"
     ]
    },
    {
     "data": {
      "text/plain": [
       "True"
      ]
     },
     "execution_count": 2,
     "metadata": {},
     "output_type": "execute_result"
    }
   ],
   "source": [
    "nltk.download('stopwords')\n",
    "nltk.download('punkt')\n",
    "nltk.download('wordnet')\n",
    "nltk.download('omw-1.4')"
   ]
  },
  {
   "cell_type": "code",
   "execution_count": 3,
   "metadata": {},
   "outputs": [
    {
     "name": "stdout",
     "output_type": "stream",
     "text": [
      "\n",
      "Files with no matching elements:\n",
      "scraped_data/sprs3topic_reportid=budget-1314.txt\n",
      "scraped_data/sprs3topic_reportid=president-address-27.txt\n",
      "scraped_data/sprs3topic_reportid=budget-1277.txt\n",
      "scraped_data/sprs3topic_reportid=budget-820.txt\n",
      "scraped_data/sprs3topic_reportid=budget-1099.txt\n",
      "scraped_data/sprs3topic_reportid=budget-1338.txt\n",
      "scraped_data/sprs3topic_reportid=budget-840.txt\n",
      "scraped_data/sprs3topic_reportid=budget-1160.txt\n",
      "scraped_data/sprs3topic_reportid=budget-688.txt\n",
      "scraped_data/sprs3topic_reportid=budget-1142.txt\n",
      "scraped_data/sprs3topic_reportid=budget-867.txt\n",
      "scraped_data/sprs3topic_reportid=budget-696.txt\n",
      "scraped_data/sprs3topic_reportid=budget-938.txt\n",
      "scraped_data/sprs3topic_reportid=motion-902.txt\n",
      "scraped_data/sprs3topic_reportid=budget-870.txt\n",
      "scraped_data/sprs3topic_reportid=budget-1081.txt\n",
      "scraped_data/sprs3topic_reportid=budget-1279.txt\n"
     ]
    }
   ],
   "source": [
    "file_pattern = 'scraped_data/*.txt'\n",
    "data = []\n",
    "files_with_no_elements = []\n",
    "\n",
    "for file in glob.glob(file_pattern):\n",
    "    try:\n",
    "        with open(file, 'r', encoding='utf-8') as f:\n",
    "            # Read the entire content of the file\n",
    "            content = f.read()\n",
    "\n",
    "            # Parse the HTML content\n",
    "            soup = BeautifulSoup(content, 'html.parser')\n",
    "\n",
    "            # Extract data from specified CSS selectors\n",
    "            # sitting_date = soup.select_one('#right1-1 > div > table > tr:nth-child(5) > td:nth-child(2) > span')\n",
    "            section_name = soup.select_one('#right1-1 > div > table > tr:nth-child(6) > td:nth-child(2) > span')\n",
    "            title = soup.select_one('#right1-1 > div > table > tr:nth-child(7) > td:nth-child(2) > span')\n",
    "            text = soup.select_one('#showTopic > div.hansardContent > div')\n",
    "            speakers = soup.select_one('#right1-1 > div > table > tr:nth-child(8) > td:nth-child(2) > span')\n",
    "\n",
    "            # Check if any element is missing\n",
    "            if not (section_name and title and text and speakers):\n",
    "                files_with_no_elements.append(file)\n",
    "                continue\n",
    "\n",
    "            # Initialize a dictionary to store data for this file\n",
    "            file_data = {\n",
    "                'Section Name': section_name.text.strip() if section_name else None,\n",
    "                'Title': title.text.strip() if title else None,\n",
    "                'Text': text.text.strip() if text else None,\n",
    "                'Speakers': speakers.text.strip() if speakers else None\n",
    "            }\n",
    "\n",
    "            # Append the dictionary to the list of data\n",
    "            data.append(file_data)\n",
    "\n",
    "    except Exception as e:\n",
    "        print(f\"Error processing file '{file}': {str(e)}\")\n",
    "\n",
    "# Create a DataFrame from the collected data\n",
    "df = pd.DataFrame(data)\n",
    "\n",
    "# Drop rows with any missing values\n",
    "df.dropna(inplace=True)\n",
    "\n",
    "# Print files with no matching elements\n",
    "if files_with_no_elements:\n",
    "    print(\"\\nFiles with no matching elements:\")\n",
    "    for file in files_with_no_elements:\n",
    "        print(file)\n",
    "else:\n",
    "    print(\"\\nAll files had matching elements.\")"
   ]
  },
  {
   "cell_type": "code",
   "execution_count": 4,
   "metadata": {},
   "outputs": [
    {
     "data": {
      "text/html": [
       "<div>\n",
       "<style scoped>\n",
       "    .dataframe tbody tr th:only-of-type {\n",
       "        vertical-align: middle;\n",
       "    }\n",
       "\n",
       "    .dataframe tbody tr th {\n",
       "        vertical-align: top;\n",
       "    }\n",
       "\n",
       "    .dataframe thead th {\n",
       "        text-align: right;\n",
       "    }\n",
       "</style>\n",
       "<table border=\"1\" class=\"dataframe\">\n",
       "  <thead>\n",
       "    <tr style=\"text-align: right;\">\n",
       "      <th></th>\n",
       "      <th>Section Name</th>\n",
       "      <th>Title</th>\n",
       "      <th>Text</th>\n",
       "      <th>Speakers</th>\n",
       "    </tr>\n",
       "  </thead>\n",
       "  <tbody>\n",
       "    <tr>\n",
       "      <th>0</th>\n",
       "      <td>Oral Answers to Questions</td>\n",
       "      <td>Fair Process for Termination Due to Poor Perfo...</td>\n",
       "      <td>1 Dr Tan Wu Meng asked\\tthe Minister for Manpo...</td>\n",
       "      <td>Er Dr Lee Bee Wah (Nee Soon),Mr Zainal Sapari ...</td>\n",
       "    </tr>\n",
       "    <tr>\n",
       "      <th>1</th>\n",
       "      <td>Written Answers to Questions for Oral Answer N...</td>\n",
       "      <td>Details and Framework of Workings of The Speci...</td>\n",
       "      <td>22 Assoc Prof Fatimah Lateef asked the Ministe...</td>\n",
       "      <td>[Prof Fatimah Lateef, Mr Desmond Lee]</td>\n",
       "    </tr>\n",
       "    <tr>\n",
       "      <th>2</th>\n",
       "      <td>Budget</td>\n",
       "      <td>Committee of Supply – Head R (Ministry of Law)</td>\n",
       "      <td>The Chairman: Head R, Ministry of Law. Mr Chri...</td>\n",
       "      <td>[The Senior Minister of State for Law (Mr Edwi...</td>\n",
       "    </tr>\n",
       "    <tr>\n",
       "      <th>3</th>\n",
       "      <td>Oral Answers to Questions</td>\n",
       "      <td>Female Representation in Statutory Boards</td>\n",
       "      <td>The following question stood in the name of Ms...</td>\n",
       "      <td>[The Senior Parliamentary Secretary to the Min...</td>\n",
       "    </tr>\n",
       "    <tr>\n",
       "      <th>4</th>\n",
       "      <td>Budget</td>\n",
       "      <td>Committee of Supply – Head W (Ministry of Tran...</td>\n",
       "      <td>Growing Pains in TransportMr Sitoh Yih Pin (Po...</td>\n",
       "      <td>[Mr Pritam Singh (Aljunied), Mr Melvin Yong Yi...</td>\n",
       "    </tr>\n",
       "    <tr>\n",
       "      <th>...</th>\n",
       "      <td>...</td>\n",
       "      <td>...</td>\n",
       "      <td>...</td>\n",
       "      <td>...</td>\n",
       "    </tr>\n",
       "    <tr>\n",
       "      <th>159</th>\n",
       "      <td>Oral Answers to Questions</td>\n",
       "      <td>Complaints on Lapses in Real-time Updates for ...</td>\n",
       "      <td>1 Er Dr Lee Bee Wah asked\\tthe Minister for Tr...</td>\n",
       "      <td>Er Dr Lee Bee Wah (Nee Soon),Er Dr Lee Bee Wah...</td>\n",
       "    </tr>\n",
       "    <tr>\n",
       "      <th>160</th>\n",
       "      <td>Second Reading Bills</td>\n",
       "      <td>Central Provident Fund (Amendment) Bill</td>\n",
       "      <td>Order for Second Reading read.4.51 pmThe Minis...</td>\n",
       "      <td>[Mrs Josephine Teo, Assoc Prof Daniel Goh Pei ...</td>\n",
       "    </tr>\n",
       "    <tr>\n",
       "      <th>161</th>\n",
       "      <td>Budget</td>\n",
       "      <td>Committee of Supply – Head I (Ministry of Soci...</td>\n",
       "      <td>The Chairman: Head I, Ministry of Social and F...</td>\n",
       "      <td>[The Chairman, Mr Sam Tan Chin Siong, Ms Denis...</td>\n",
       "    </tr>\n",
       "    <tr>\n",
       "      <th>162</th>\n",
       "      <td>Ministerial Statements</td>\n",
       "      <td>Government's Plans in our Continued Fight agai...</td>\n",
       "      <td>Debate resumed.Mr Deputy Speaker: Minister Isw...</td>\n",
       "      <td>[Mr Deputy Speaker, Mr Deputy Speaker, Miss Ch...</td>\n",
       "    </tr>\n",
       "    <tr>\n",
       "      <th>163</th>\n",
       "      <td>Budget</td>\n",
       "      <td>Committee of Supply – Head X (Ministry of Cult...</td>\n",
       "      <td>Rallying SingaporeansDr Lim Wee Kiak (Sembawan...</td>\n",
       "      <td>Er Dr Lee Bee Wah (Nee Soon),Dr Teo Ho Pin (Bu...</td>\n",
       "    </tr>\n",
       "  </tbody>\n",
       "</table>\n",
       "<p>164 rows × 4 columns</p>\n",
       "</div>"
      ],
      "text/plain": [
       "                                          Section Name  \\\n",
       "0                            Oral Answers to Questions   \n",
       "1    Written Answers to Questions for Oral Answer N...   \n",
       "2                                               Budget   \n",
       "3                            Oral Answers to Questions   \n",
       "4                                               Budget   \n",
       "..                                                 ...   \n",
       "159                          Oral Answers to Questions   \n",
       "160                               Second Reading Bills   \n",
       "161                                             Budget   \n",
       "162                             Ministerial Statements   \n",
       "163                                             Budget   \n",
       "\n",
       "                                                 Title  \\\n",
       "0    Fair Process for Termination Due to Poor Perfo...   \n",
       "1    Details and Framework of Workings of The Speci...   \n",
       "2       Committee of Supply – Head R (Ministry of Law)   \n",
       "3            Female Representation in Statutory Boards   \n",
       "4    Committee of Supply – Head W (Ministry of Tran...   \n",
       "..                                                 ...   \n",
       "159  Complaints on Lapses in Real-time Updates for ...   \n",
       "160            Central Provident Fund (Amendment) Bill   \n",
       "161  Committee of Supply – Head I (Ministry of Soci...   \n",
       "162  Government's Plans in our Continued Fight agai...   \n",
       "163  Committee of Supply – Head X (Ministry of Cult...   \n",
       "\n",
       "                                                  Text  \\\n",
       "0    1 Dr Tan Wu Meng asked\\tthe Minister for Manpo...   \n",
       "1    22 Assoc Prof Fatimah Lateef asked the Ministe...   \n",
       "2    The Chairman: Head R, Ministry of Law. Mr Chri...   \n",
       "3    The following question stood in the name of Ms...   \n",
       "4    Growing Pains in TransportMr Sitoh Yih Pin (Po...   \n",
       "..                                                 ...   \n",
       "159  1 Er Dr Lee Bee Wah asked\\tthe Minister for Tr...   \n",
       "160  Order for Second Reading read.4.51 pmThe Minis...   \n",
       "161  The Chairman: Head I, Ministry of Social and F...   \n",
       "162  Debate resumed.Mr Deputy Speaker: Minister Isw...   \n",
       "163  Rallying SingaporeansDr Lim Wee Kiak (Sembawan...   \n",
       "\n",
       "                                              Speakers  \n",
       "0    Er Dr Lee Bee Wah (Nee Soon),Mr Zainal Sapari ...  \n",
       "1                [Prof Fatimah Lateef, Mr Desmond Lee]  \n",
       "2    [The Senior Minister of State for Law (Mr Edwi...  \n",
       "3    [The Senior Parliamentary Secretary to the Min...  \n",
       "4    [Mr Pritam Singh (Aljunied), Mr Melvin Yong Yi...  \n",
       "..                                                 ...  \n",
       "159  Er Dr Lee Bee Wah (Nee Soon),Er Dr Lee Bee Wah...  \n",
       "160  [Mrs Josephine Teo, Assoc Prof Daniel Goh Pei ...  \n",
       "161  [The Chairman, Mr Sam Tan Chin Siong, Ms Denis...  \n",
       "162  [Mr Deputy Speaker, Mr Deputy Speaker, Miss Ch...  \n",
       "163  Er Dr Lee Bee Wah (Nee Soon),Dr Teo Ho Pin (Bu...  \n",
       "\n",
       "[164 rows x 4 columns]"
      ]
     },
     "execution_count": 4,
     "metadata": {},
     "output_type": "execute_result"
    }
   ],
   "source": [
    "df"
   ]
  },
  {
   "cell_type": "code",
   "execution_count": 5,
   "metadata": {},
   "outputs": [],
   "source": [
    "# Directory to save figures\n",
    "save_dir = \"figures\"\n",
    "os.makedirs(save_dir, exist_ok=True)"
   ]
  },
  {
   "cell_type": "code",
   "execution_count": 6,
   "metadata": {},
   "outputs": [
    {
     "data": {
      "application/vnd.plotly.v1+json": {
       "config": {
        "plotlyServerURL": "https://plot.ly"
       },
       "data": [
        {
         "alignmentgroup": "True",
         "hovertemplate": "Section Name=%{x}<br>Frequency=%{text}<extra></extra>",
         "legendgroup": "",
         "marker": {
          "color": "#636efa",
          "pattern": {
           "shape": ""
          }
         },
         "name": "",
         "offsetgroup": "",
         "orientation": "v",
         "showlegend": false,
         "text": [
          88,
          29,
          24,
          6,
          5,
          4,
          4,
          3,
          1
         ],
         "textposition": "outside",
         "texttemplate": "%{text}",
         "type": "bar",
         "x": [
          "Budget",
          "Oral Answers to Questions",
          "Second Reading Bills",
          "Ministerial Statements",
          "Written Answers to Questions for Oral Answer Not Answered by End of Question Time",
          "Speaker",
          "Motions",
          "Matter Raised On Adjournment Motion",
          "President's Address"
         ],
         "xaxis": "x",
         "y": [
          88,
          29,
          24,
          6,
          5,
          4,
          4,
          3,
          1
         ],
         "yaxis": "y"
        }
       ],
       "layout": {
        "barmode": "relative",
        "height": 600,
        "legend": {
         "tracegroupgap": 0
        },
        "margin": {
         "b": 100,
         "l": 50,
         "r": 50,
         "t": 100
        },
        "plot_bgcolor": "rgba(0,0,0,0)",
        "template": {
         "data": {
          "bar": [
           {
            "error_x": {
             "color": "#2a3f5f"
            },
            "error_y": {
             "color": "#2a3f5f"
            },
            "marker": {
             "line": {
              "color": "#E5ECF6",
              "width": 0.5
             },
             "pattern": {
              "fillmode": "overlay",
              "size": 10,
              "solidity": 0.2
             }
            },
            "type": "bar"
           }
          ],
          "barpolar": [
           {
            "marker": {
             "line": {
              "color": "#E5ECF6",
              "width": 0.5
             },
             "pattern": {
              "fillmode": "overlay",
              "size": 10,
              "solidity": 0.2
             }
            },
            "type": "barpolar"
           }
          ],
          "carpet": [
           {
            "aaxis": {
             "endlinecolor": "#2a3f5f",
             "gridcolor": "white",
             "linecolor": "white",
             "minorgridcolor": "white",
             "startlinecolor": "#2a3f5f"
            },
            "baxis": {
             "endlinecolor": "#2a3f5f",
             "gridcolor": "white",
             "linecolor": "white",
             "minorgridcolor": "white",
             "startlinecolor": "#2a3f5f"
            },
            "type": "carpet"
           }
          ],
          "choropleth": [
           {
            "colorbar": {
             "outlinewidth": 0,
             "ticks": ""
            },
            "type": "choropleth"
           }
          ],
          "contour": [
           {
            "colorbar": {
             "outlinewidth": 0,
             "ticks": ""
            },
            "colorscale": [
             [
              0,
              "#0d0887"
             ],
             [
              0.1111111111111111,
              "#46039f"
             ],
             [
              0.2222222222222222,
              "#7201a8"
             ],
             [
              0.3333333333333333,
              "#9c179e"
             ],
             [
              0.4444444444444444,
              "#bd3786"
             ],
             [
              0.5555555555555556,
              "#d8576b"
             ],
             [
              0.6666666666666666,
              "#ed7953"
             ],
             [
              0.7777777777777778,
              "#fb9f3a"
             ],
             [
              0.8888888888888888,
              "#fdca26"
             ],
             [
              1,
              "#f0f921"
             ]
            ],
            "type": "contour"
           }
          ],
          "contourcarpet": [
           {
            "colorbar": {
             "outlinewidth": 0,
             "ticks": ""
            },
            "type": "contourcarpet"
           }
          ],
          "heatmap": [
           {
            "colorbar": {
             "outlinewidth": 0,
             "ticks": ""
            },
            "colorscale": [
             [
              0,
              "#0d0887"
             ],
             [
              0.1111111111111111,
              "#46039f"
             ],
             [
              0.2222222222222222,
              "#7201a8"
             ],
             [
              0.3333333333333333,
              "#9c179e"
             ],
             [
              0.4444444444444444,
              "#bd3786"
             ],
             [
              0.5555555555555556,
              "#d8576b"
             ],
             [
              0.6666666666666666,
              "#ed7953"
             ],
             [
              0.7777777777777778,
              "#fb9f3a"
             ],
             [
              0.8888888888888888,
              "#fdca26"
             ],
             [
              1,
              "#f0f921"
             ]
            ],
            "type": "heatmap"
           }
          ],
          "heatmapgl": [
           {
            "colorbar": {
             "outlinewidth": 0,
             "ticks": ""
            },
            "colorscale": [
             [
              0,
              "#0d0887"
             ],
             [
              0.1111111111111111,
              "#46039f"
             ],
             [
              0.2222222222222222,
              "#7201a8"
             ],
             [
              0.3333333333333333,
              "#9c179e"
             ],
             [
              0.4444444444444444,
              "#bd3786"
             ],
             [
              0.5555555555555556,
              "#d8576b"
             ],
             [
              0.6666666666666666,
              "#ed7953"
             ],
             [
              0.7777777777777778,
              "#fb9f3a"
             ],
             [
              0.8888888888888888,
              "#fdca26"
             ],
             [
              1,
              "#f0f921"
             ]
            ],
            "type": "heatmapgl"
           }
          ],
          "histogram": [
           {
            "marker": {
             "pattern": {
              "fillmode": "overlay",
              "size": 10,
              "solidity": 0.2
             }
            },
            "type": "histogram"
           }
          ],
          "histogram2d": [
           {
            "colorbar": {
             "outlinewidth": 0,
             "ticks": ""
            },
            "colorscale": [
             [
              0,
              "#0d0887"
             ],
             [
              0.1111111111111111,
              "#46039f"
             ],
             [
              0.2222222222222222,
              "#7201a8"
             ],
             [
              0.3333333333333333,
              "#9c179e"
             ],
             [
              0.4444444444444444,
              "#bd3786"
             ],
             [
              0.5555555555555556,
              "#d8576b"
             ],
             [
              0.6666666666666666,
              "#ed7953"
             ],
             [
              0.7777777777777778,
              "#fb9f3a"
             ],
             [
              0.8888888888888888,
              "#fdca26"
             ],
             [
              1,
              "#f0f921"
             ]
            ],
            "type": "histogram2d"
           }
          ],
          "histogram2dcontour": [
           {
            "colorbar": {
             "outlinewidth": 0,
             "ticks": ""
            },
            "colorscale": [
             [
              0,
              "#0d0887"
             ],
             [
              0.1111111111111111,
              "#46039f"
             ],
             [
              0.2222222222222222,
              "#7201a8"
             ],
             [
              0.3333333333333333,
              "#9c179e"
             ],
             [
              0.4444444444444444,
              "#bd3786"
             ],
             [
              0.5555555555555556,
              "#d8576b"
             ],
             [
              0.6666666666666666,
              "#ed7953"
             ],
             [
              0.7777777777777778,
              "#fb9f3a"
             ],
             [
              0.8888888888888888,
              "#fdca26"
             ],
             [
              1,
              "#f0f921"
             ]
            ],
            "type": "histogram2dcontour"
           }
          ],
          "mesh3d": [
           {
            "colorbar": {
             "outlinewidth": 0,
             "ticks": ""
            },
            "type": "mesh3d"
           }
          ],
          "parcoords": [
           {
            "line": {
             "colorbar": {
              "outlinewidth": 0,
              "ticks": ""
             }
            },
            "type": "parcoords"
           }
          ],
          "pie": [
           {
            "automargin": true,
            "type": "pie"
           }
          ],
          "scatter": [
           {
            "fillpattern": {
             "fillmode": "overlay",
             "size": 10,
             "solidity": 0.2
            },
            "type": "scatter"
           }
          ],
          "scatter3d": [
           {
            "line": {
             "colorbar": {
              "outlinewidth": 0,
              "ticks": ""
             }
            },
            "marker": {
             "colorbar": {
              "outlinewidth": 0,
              "ticks": ""
             }
            },
            "type": "scatter3d"
           }
          ],
          "scattercarpet": [
           {
            "marker": {
             "colorbar": {
              "outlinewidth": 0,
              "ticks": ""
             }
            },
            "type": "scattercarpet"
           }
          ],
          "scattergeo": [
           {
            "marker": {
             "colorbar": {
              "outlinewidth": 0,
              "ticks": ""
             }
            },
            "type": "scattergeo"
           }
          ],
          "scattergl": [
           {
            "marker": {
             "colorbar": {
              "outlinewidth": 0,
              "ticks": ""
             }
            },
            "type": "scattergl"
           }
          ],
          "scattermapbox": [
           {
            "marker": {
             "colorbar": {
              "outlinewidth": 0,
              "ticks": ""
             }
            },
            "type": "scattermapbox"
           }
          ],
          "scatterpolar": [
           {
            "marker": {
             "colorbar": {
              "outlinewidth": 0,
              "ticks": ""
             }
            },
            "type": "scatterpolar"
           }
          ],
          "scatterpolargl": [
           {
            "marker": {
             "colorbar": {
              "outlinewidth": 0,
              "ticks": ""
             }
            },
            "type": "scatterpolargl"
           }
          ],
          "scatterternary": [
           {
            "marker": {
             "colorbar": {
              "outlinewidth": 0,
              "ticks": ""
             }
            },
            "type": "scatterternary"
           }
          ],
          "surface": [
           {
            "colorbar": {
             "outlinewidth": 0,
             "ticks": ""
            },
            "colorscale": [
             [
              0,
              "#0d0887"
             ],
             [
              0.1111111111111111,
              "#46039f"
             ],
             [
              0.2222222222222222,
              "#7201a8"
             ],
             [
              0.3333333333333333,
              "#9c179e"
             ],
             [
              0.4444444444444444,
              "#bd3786"
             ],
             [
              0.5555555555555556,
              "#d8576b"
             ],
             [
              0.6666666666666666,
              "#ed7953"
             ],
             [
              0.7777777777777778,
              "#fb9f3a"
             ],
             [
              0.8888888888888888,
              "#fdca26"
             ],
             [
              1,
              "#f0f921"
             ]
            ],
            "type": "surface"
           }
          ],
          "table": [
           {
            "cells": {
             "fill": {
              "color": "#EBF0F8"
             },
             "line": {
              "color": "white"
             }
            },
            "header": {
             "fill": {
              "color": "#C8D4E3"
             },
             "line": {
              "color": "white"
             }
            },
            "type": "table"
           }
          ]
         },
         "layout": {
          "annotationdefaults": {
           "arrowcolor": "#2a3f5f",
           "arrowhead": 0,
           "arrowwidth": 1
          },
          "autotypenumbers": "strict",
          "coloraxis": {
           "colorbar": {
            "outlinewidth": 0,
            "ticks": ""
           }
          },
          "colorscale": {
           "diverging": [
            [
             0,
             "#8e0152"
            ],
            [
             0.1,
             "#c51b7d"
            ],
            [
             0.2,
             "#de77ae"
            ],
            [
             0.3,
             "#f1b6da"
            ],
            [
             0.4,
             "#fde0ef"
            ],
            [
             0.5,
             "#f7f7f7"
            ],
            [
             0.6,
             "#e6f5d0"
            ],
            [
             0.7,
             "#b8e186"
            ],
            [
             0.8,
             "#7fbc41"
            ],
            [
             0.9,
             "#4d9221"
            ],
            [
             1,
             "#276419"
            ]
           ],
           "sequential": [
            [
             0,
             "#0d0887"
            ],
            [
             0.1111111111111111,
             "#46039f"
            ],
            [
             0.2222222222222222,
             "#7201a8"
            ],
            [
             0.3333333333333333,
             "#9c179e"
            ],
            [
             0.4444444444444444,
             "#bd3786"
            ],
            [
             0.5555555555555556,
             "#d8576b"
            ],
            [
             0.6666666666666666,
             "#ed7953"
            ],
            [
             0.7777777777777778,
             "#fb9f3a"
            ],
            [
             0.8888888888888888,
             "#fdca26"
            ],
            [
             1,
             "#f0f921"
            ]
           ],
           "sequentialminus": [
            [
             0,
             "#0d0887"
            ],
            [
             0.1111111111111111,
             "#46039f"
            ],
            [
             0.2222222222222222,
             "#7201a8"
            ],
            [
             0.3333333333333333,
             "#9c179e"
            ],
            [
             0.4444444444444444,
             "#bd3786"
            ],
            [
             0.5555555555555556,
             "#d8576b"
            ],
            [
             0.6666666666666666,
             "#ed7953"
            ],
            [
             0.7777777777777778,
             "#fb9f3a"
            ],
            [
             0.8888888888888888,
             "#fdca26"
            ],
            [
             1,
             "#f0f921"
            ]
           ]
          },
          "colorway": [
           "#636efa",
           "#EF553B",
           "#00cc96",
           "#ab63fa",
           "#FFA15A",
           "#19d3f3",
           "#FF6692",
           "#B6E880",
           "#FF97FF",
           "#FECB52"
          ],
          "font": {
           "color": "#2a3f5f"
          },
          "geo": {
           "bgcolor": "white",
           "lakecolor": "white",
           "landcolor": "#E5ECF6",
           "showlakes": true,
           "showland": true,
           "subunitcolor": "white"
          },
          "hoverlabel": {
           "align": "left"
          },
          "hovermode": "closest",
          "mapbox": {
           "style": "light"
          },
          "paper_bgcolor": "white",
          "plot_bgcolor": "#E5ECF6",
          "polar": {
           "angularaxis": {
            "gridcolor": "white",
            "linecolor": "white",
            "ticks": ""
           },
           "bgcolor": "#E5ECF6",
           "radialaxis": {
            "gridcolor": "white",
            "linecolor": "white",
            "ticks": ""
           }
          },
          "scene": {
           "xaxis": {
            "backgroundcolor": "#E5ECF6",
            "gridcolor": "white",
            "gridwidth": 2,
            "linecolor": "white",
            "showbackground": true,
            "ticks": "",
            "zerolinecolor": "white"
           },
           "yaxis": {
            "backgroundcolor": "#E5ECF6",
            "gridcolor": "white",
            "gridwidth": 2,
            "linecolor": "white",
            "showbackground": true,
            "ticks": "",
            "zerolinecolor": "white"
           },
           "zaxis": {
            "backgroundcolor": "#E5ECF6",
            "gridcolor": "white",
            "gridwidth": 2,
            "linecolor": "white",
            "showbackground": true,
            "ticks": "",
            "zerolinecolor": "white"
           }
          },
          "shapedefaults": {
           "line": {
            "color": "#2a3f5f"
           }
          },
          "ternary": {
           "aaxis": {
            "gridcolor": "white",
            "linecolor": "white",
            "ticks": ""
           },
           "baxis": {
            "gridcolor": "white",
            "linecolor": "white",
            "ticks": ""
           },
           "bgcolor": "#E5ECF6",
           "caxis": {
            "gridcolor": "white",
            "linecolor": "white",
            "ticks": ""
           }
          },
          "title": {
           "x": 0.05
          },
          "xaxis": {
           "automargin": true,
           "gridcolor": "white",
           "linecolor": "white",
           "ticks": "",
           "title": {
            "standoff": 15
           },
           "zerolinecolor": "white",
           "zerolinewidth": 2
          },
          "yaxis": {
           "automargin": true,
           "gridcolor": "white",
           "linecolor": "white",
           "ticks": "",
           "title": {
            "standoff": 15
           },
           "zerolinecolor": "white",
           "zerolinewidth": 2
          }
         }
        },
        "title": {
         "text": "Distribution of Section Name"
        },
        "uniformtext": {
         "minsize": 8,
         "mode": "hide"
        },
        "width": 1000,
        "xaxis": {
         "anchor": "y",
         "domain": [
          0,
          1
         ],
         "tickangle": -45,
         "tickfont": {
          "size": 12
         },
         "title": {
          "text": "Section Name"
         }
        },
        "yaxis": {
         "anchor": "x",
         "domain": [
          0,
          1
         ],
         "range": [
          0,
          120
         ],
         "tickfont": {
          "size": 12
         },
         "title": {
          "text": "Frequency"
         }
        }
       }
      }
     },
     "metadata": {},
     "output_type": "display_data"
    }
   ],
   "source": [
    "# Group by Section Name and count occurrences\n",
    "section_name_counts = df['Section Name'].value_counts().reset_index()\n",
    "section_name_counts.columns = ['Section Name', 'Count']\n",
    "\n",
    "# Plotting the distribution with Plotly\n",
    "fig = px.bar(section_name_counts, x='Section Name', y='Count', text='Count', \n",
    "             title='Distribution of Section Name', labels={'Count': 'Frequency'})\n",
    "fig.update_traces(texttemplate='%{text}', textposition='outside')  # Display count above each bar\n",
    "fig.update_layout(xaxis_title='Section Name', yaxis_title='Frequency', xaxis_tickangle=-45,\n",
    "                  uniformtext_minsize=8, uniformtext_mode='hide',  # Adjust text size and visibility\n",
    "                  height=600, width=1000,  # Adjust plot size\n",
    "                  margin=dict(l=50, r=50, b=100, t=100),  # Adjust margins for better layout\n",
    "                  plot_bgcolor='rgba(0,0,0,0)')  # Set plot background color to transparent\n",
    "\n",
    "fig.update_xaxes(tickfont=dict(size=12))  # Adjust x-axis tick font size\n",
    "fig.update_yaxes(tickfont=dict(size=12), range=[0, 120])  # Adjust y-axis tick font size and range\n",
    "\n",
    "# Save the plot as an HTML file\n",
    "fig.write_html(os.path.join(save_dir, \"distribution_of_section_names.html\"))\n",
    "\n",
    "fig.show()"
   ]
  },
  {
   "cell_type": "code",
   "execution_count": 7,
   "metadata": {},
   "outputs": [
    {
     "data": {
      "application/vnd.plotly.v1+json": {
       "config": {
        "plotlyServerURL": "https://plot.ly"
       },
       "data": [
        {
         "hovertemplate": "x: %{x}<br>y: %{y}<br>color: [%{z[0]}, %{z[1]}, %{z[2]}]<extra></extra>",
         "name": "0",
         "source": "data:image/png;base64,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",
         "type": "image",
         "xaxis": "x",
         "yaxis": "y"
        }
       ],
       "layout": {
        "coloraxis": {
         "showscale": false
        },
        "template": {
         "data": {
          "bar": [
           {
            "error_x": {
             "color": "#2a3f5f"
            },
            "error_y": {
             "color": "#2a3f5f"
            },
            "marker": {
             "line": {
              "color": "#E5ECF6",
              "width": 0.5
             },
             "pattern": {
              "fillmode": "overlay",
              "size": 10,
              "solidity": 0.2
             }
            },
            "type": "bar"
           }
          ],
          "barpolar": [
           {
            "marker": {
             "line": {
              "color": "#E5ECF6",
              "width": 0.5
             },
             "pattern": {
              "fillmode": "overlay",
              "size": 10,
              "solidity": 0.2
             }
            },
            "type": "barpolar"
           }
          ],
          "carpet": [
           {
            "aaxis": {
             "endlinecolor": "#2a3f5f",
             "gridcolor": "white",
             "linecolor": "white",
             "minorgridcolor": "white",
             "startlinecolor": "#2a3f5f"
            },
            "baxis": {
             "endlinecolor": "#2a3f5f",
             "gridcolor": "white",
             "linecolor": "white",
             "minorgridcolor": "white",
             "startlinecolor": "#2a3f5f"
            },
            "type": "carpet"
           }
          ],
          "choropleth": [
           {
            "colorbar": {
             "outlinewidth": 0,
             "ticks": ""
            },
            "type": "choropleth"
           }
          ],
          "contour": [
           {
            "colorbar": {
             "outlinewidth": 0,
             "ticks": ""
            },
            "colorscale": [
             [
              0,
              "#0d0887"
             ],
             [
              0.1111111111111111,
              "#46039f"
             ],
             [
              0.2222222222222222,
              "#7201a8"
             ],
             [
              0.3333333333333333,
              "#9c179e"
             ],
             [
              0.4444444444444444,
              "#bd3786"
             ],
             [
              0.5555555555555556,
              "#d8576b"
             ],
             [
              0.6666666666666666,
              "#ed7953"
             ],
             [
              0.7777777777777778,
              "#fb9f3a"
             ],
             [
              0.8888888888888888,
              "#fdca26"
             ],
             [
              1,
              "#f0f921"
             ]
            ],
            "type": "contour"
           }
          ],
          "contourcarpet": [
           {
            "colorbar": {
             "outlinewidth": 0,
             "ticks": ""
            },
            "type": "contourcarpet"
           }
          ],
          "heatmap": [
           {
            "colorbar": {
             "outlinewidth": 0,
             "ticks": ""
            },
            "colorscale": [
             [
              0,
              "#0d0887"
             ],
             [
              0.1111111111111111,
              "#46039f"
             ],
             [
              0.2222222222222222,
              "#7201a8"
             ],
             [
              0.3333333333333333,
              "#9c179e"
             ],
             [
              0.4444444444444444,
              "#bd3786"
             ],
             [
              0.5555555555555556,
              "#d8576b"
             ],
             [
              0.6666666666666666,
              "#ed7953"
             ],
             [
              0.7777777777777778,
              "#fb9f3a"
             ],
             [
              0.8888888888888888,
              "#fdca26"
             ],
             [
              1,
              "#f0f921"
             ]
            ],
            "type": "heatmap"
           }
          ],
          "heatmapgl": [
           {
            "colorbar": {
             "outlinewidth": 0,
             "ticks": ""
            },
            "colorscale": [
             [
              0,
              "#0d0887"
             ],
             [
              0.1111111111111111,
              "#46039f"
             ],
             [
              0.2222222222222222,
              "#7201a8"
             ],
             [
              0.3333333333333333,
              "#9c179e"
             ],
             [
              0.4444444444444444,
              "#bd3786"
             ],
             [
              0.5555555555555556,
              "#d8576b"
             ],
             [
              0.6666666666666666,
              "#ed7953"
             ],
             [
              0.7777777777777778,
              "#fb9f3a"
             ],
             [
              0.8888888888888888,
              "#fdca26"
             ],
             [
              1,
              "#f0f921"
             ]
            ],
            "type": "heatmapgl"
           }
          ],
          "histogram": [
           {
            "marker": {
             "pattern": {
              "fillmode": "overlay",
              "size": 10,
              "solidity": 0.2
             }
            },
            "type": "histogram"
           }
          ],
          "histogram2d": [
           {
            "colorbar": {
             "outlinewidth": 0,
             "ticks": ""
            },
            "colorscale": [
             [
              0,
              "#0d0887"
             ],
             [
              0.1111111111111111,
              "#46039f"
             ],
             [
              0.2222222222222222,
              "#7201a8"
             ],
             [
              0.3333333333333333,
              "#9c179e"
             ],
             [
              0.4444444444444444,
              "#bd3786"
             ],
             [
              0.5555555555555556,
              "#d8576b"
             ],
             [
              0.6666666666666666,
              "#ed7953"
             ],
             [
              0.7777777777777778,
              "#fb9f3a"
             ],
             [
              0.8888888888888888,
              "#fdca26"
             ],
             [
              1,
              "#f0f921"
             ]
            ],
            "type": "histogram2d"
           }
          ],
          "histogram2dcontour": [
           {
            "colorbar": {
             "outlinewidth": 0,
             "ticks": ""
            },
            "colorscale": [
             [
              0,
              "#0d0887"
             ],
             [
              0.1111111111111111,
              "#46039f"
             ],
             [
              0.2222222222222222,
              "#7201a8"
             ],
             [
              0.3333333333333333,
              "#9c179e"
             ],
             [
              0.4444444444444444,
              "#bd3786"
             ],
             [
              0.5555555555555556,
              "#d8576b"
             ],
             [
              0.6666666666666666,
              "#ed7953"
             ],
             [
              0.7777777777777778,
              "#fb9f3a"
             ],
             [
              0.8888888888888888,
              "#fdca26"
             ],
             [
              1,
              "#f0f921"
             ]
            ],
            "type": "histogram2dcontour"
           }
          ],
          "mesh3d": [
           {
            "colorbar": {
             "outlinewidth": 0,
             "ticks": ""
            },
            "type": "mesh3d"
           }
          ],
          "parcoords": [
           {
            "line": {
             "colorbar": {
              "outlinewidth": 0,
              "ticks": ""
             }
            },
            "type": "parcoords"
           }
          ],
          "pie": [
           {
            "automargin": true,
            "type": "pie"
           }
          ],
          "scatter": [
           {
            "fillpattern": {
             "fillmode": "overlay",
             "size": 10,
             "solidity": 0.2
            },
            "type": "scatter"
           }
          ],
          "scatter3d": [
           {
            "line": {
             "colorbar": {
              "outlinewidth": 0,
              "ticks": ""
             }
            },
            "marker": {
             "colorbar": {
              "outlinewidth": 0,
              "ticks": ""
             }
            },
            "type": "scatter3d"
           }
          ],
          "scattercarpet": [
           {
            "marker": {
             "colorbar": {
              "outlinewidth": 0,
              "ticks": ""
             }
            },
            "type": "scattercarpet"
           }
          ],
          "scattergeo": [
           {
            "marker": {
             "colorbar": {
              "outlinewidth": 0,
              "ticks": ""
             }
            },
            "type": "scattergeo"
           }
          ],
          "scattergl": [
           {
            "marker": {
             "colorbar": {
              "outlinewidth": 0,
              "ticks": ""
             }
            },
            "type": "scattergl"
           }
          ],
          "scattermapbox": [
           {
            "marker": {
             "colorbar": {
              "outlinewidth": 0,
              "ticks": ""
             }
            },
            "type": "scattermapbox"
           }
          ],
          "scatterpolar": [
           {
            "marker": {
             "colorbar": {
              "outlinewidth": 0,
              "ticks": ""
             }
            },
            "type": "scatterpolar"
           }
          ],
          "scatterpolargl": [
           {
            "marker": {
             "colorbar": {
              "outlinewidth": 0,
              "ticks": ""
             }
            },
            "type": "scatterpolargl"
           }
          ],
          "scatterternary": [
           {
            "marker": {
             "colorbar": {
              "outlinewidth": 0,
              "ticks": ""
             }
            },
            "type": "scatterternary"
           }
          ],
          "surface": [
           {
            "colorbar": {
             "outlinewidth": 0,
             "ticks": ""
            },
            "colorscale": [
             [
              0,
              "#0d0887"
             ],
             [
              0.1111111111111111,
              "#46039f"
             ],
             [
              0.2222222222222222,
              "#7201a8"
             ],
             [
              0.3333333333333333,
              "#9c179e"
             ],
             [
              0.4444444444444444,
              "#bd3786"
             ],
             [
              0.5555555555555556,
              "#d8576b"
             ],
             [
              0.6666666666666666,
              "#ed7953"
             ],
             [
              0.7777777777777778,
              "#fb9f3a"
             ],
             [
              0.8888888888888888,
              "#fdca26"
             ],
             [
              1,
              "#f0f921"
             ]
            ],
            "type": "surface"
           }
          ],
          "table": [
           {
            "cells": {
             "fill": {
              "color": "#EBF0F8"
             },
             "line": {
              "color": "white"
             }
            },
            "header": {
             "fill": {
              "color": "#C8D4E3"
             },
             "line": {
              "color": "white"
             }
            },
            "type": "table"
           }
          ]
         },
         "layout": {
          "annotationdefaults": {
           "arrowcolor": "#2a3f5f",
           "arrowhead": 0,
           "arrowwidth": 1
          },
          "autotypenumbers": "strict",
          "coloraxis": {
           "colorbar": {
            "outlinewidth": 0,
            "ticks": ""
           }
          },
          "colorscale": {
           "diverging": [
            [
             0,
             "#8e0152"
            ],
            [
             0.1,
             "#c51b7d"
            ],
            [
             0.2,
             "#de77ae"
            ],
            [
             0.3,
             "#f1b6da"
            ],
            [
             0.4,
             "#fde0ef"
            ],
            [
             0.5,
             "#f7f7f7"
            ],
            [
             0.6,
             "#e6f5d0"
            ],
            [
             0.7,
             "#b8e186"
            ],
            [
             0.8,
             "#7fbc41"
            ],
            [
             0.9,
             "#4d9221"
            ],
            [
             1,
             "#276419"
            ]
           ],
           "sequential": [
            [
             0,
             "#0d0887"
            ],
            [
             0.1111111111111111,
             "#46039f"
            ],
            [
             0.2222222222222222,
             "#7201a8"
            ],
            [
             0.3333333333333333,
             "#9c179e"
            ],
            [
             0.4444444444444444,
             "#bd3786"
            ],
            [
             0.5555555555555556,
             "#d8576b"
            ],
            [
             0.6666666666666666,
             "#ed7953"
            ],
            [
             0.7777777777777778,
             "#fb9f3a"
            ],
            [
             0.8888888888888888,
             "#fdca26"
            ],
            [
             1,
             "#f0f921"
            ]
           ],
           "sequentialminus": [
            [
             0,
             "#0d0887"
            ],
            [
             0.1111111111111111,
             "#46039f"
            ],
            [
             0.2222222222222222,
             "#7201a8"
            ],
            [
             0.3333333333333333,
             "#9c179e"
            ],
            [
             0.4444444444444444,
             "#bd3786"
            ],
            [
             0.5555555555555556,
             "#d8576b"
            ],
            [
             0.6666666666666666,
             "#ed7953"
            ],
            [
             0.7777777777777778,
             "#fb9f3a"
            ],
            [
             0.8888888888888888,
             "#fdca26"
            ],
            [
             1,
             "#f0f921"
            ]
           ]
          },
          "colorway": [
           "#636efa",
           "#EF553B",
           "#00cc96",
           "#ab63fa",
           "#FFA15A",
           "#19d3f3",
           "#FF6692",
           "#B6E880",
           "#FF97FF",
           "#FECB52"
          ],
          "font": {
           "color": "#2a3f5f"
          },
          "geo": {
           "bgcolor": "white",
           "lakecolor": "white",
           "landcolor": "#E5ECF6",
           "showlakes": true,
           "showland": true,
           "subunitcolor": "white"
          },
          "hoverlabel": {
           "align": "left"
          },
          "hovermode": "closest",
          "mapbox": {
           "style": "light"
          },
          "paper_bgcolor": "white",
          "plot_bgcolor": "#E5ECF6",
          "polar": {
           "angularaxis": {
            "gridcolor": "white",
            "linecolor": "white",
            "ticks": ""
           },
           "bgcolor": "#E5ECF6",
           "radialaxis": {
            "gridcolor": "white",
            "linecolor": "white",
            "ticks": ""
           }
          },
          "scene": {
           "xaxis": {
            "backgroundcolor": "#E5ECF6",
            "gridcolor": "white",
            "gridwidth": 2,
            "linecolor": "white",
            "showbackground": true,
            "ticks": "",
            "zerolinecolor": "white"
           },
           "yaxis": {
            "backgroundcolor": "#E5ECF6",
            "gridcolor": "white",
            "gridwidth": 2,
            "linecolor": "white",
            "showbackground": true,
            "ticks": "",
            "zerolinecolor": "white"
           },
           "zaxis": {
            "backgroundcolor": "#E5ECF6",
            "gridcolor": "white",
            "gridwidth": 2,
            "linecolor": "white",
            "showbackground": true,
            "ticks": "",
            "zerolinecolor": "white"
           }
          },
          "shapedefaults": {
           "line": {
            "color": "#2a3f5f"
           }
          },
          "ternary": {
           "aaxis": {
            "gridcolor": "white",
            "linecolor": "white",
            "ticks": ""
           },
           "baxis": {
            "gridcolor": "white",
            "linecolor": "white",
            "ticks": ""
           },
           "bgcolor": "#E5ECF6",
           "caxis": {
            "gridcolor": "white",
            "linecolor": "white",
            "ticks": ""
           }
          },
          "title": {
           "x": 0.05
          },
          "xaxis": {
           "automargin": true,
           "gridcolor": "white",
           "linecolor": "white",
           "ticks": "",
           "title": {
            "standoff": 15
           },
           "zerolinecolor": "white",
           "zerolinewidth": 2
          },
          "yaxis": {
           "automargin": true,
           "gridcolor": "white",
           "linecolor": "white",
           "ticks": "",
           "title": {
            "standoff": 15
           },
           "zerolinecolor": "white",
           "zerolinewidth": 2
          }
         }
        },
        "title": {
         "text": "Word Cloud for Titles"
        },
        "xaxis": {
         "anchor": "y",
         "domain": [
          0,
          1
         ]
        },
        "yaxis": {
         "anchor": "x",
         "domain": [
          0,
          1
         ]
        }
       }
      }
     },
     "metadata": {},
     "output_type": "display_data"
    }
   ],
   "source": [
    "# Assuming df['Title'] contains the titles\n",
    "titles_text = ' '.join(df['Title'].dropna().astype(str))\n",
    "\n",
    "# Set NLTK English stopwords\n",
    "stop_words = set(stopwords.words('english'))\n",
    "\n",
    "# Add custom stopwords\n",
    "custom_stopwords = {'head', 'committee', 'ministry', 'debate', 'supply', 'annual', 'statement', 'singapore', 'measures', 'chair', 'prime', 'minister'}\n",
    "stop_words.update(custom_stopwords)\n",
    "\n",
    "# Generate the word cloud excluding stopwords\n",
    "wordcloud = WordCloud(width=800, height=400, background_color='white', stopwords=stop_words).generate(titles_text)\n",
    "\n",
    "# Plotting the word cloud using Plotly\n",
    "fig = px.imshow(wordcloud, title='Word Cloud for Titles')\n",
    "fig.update_layout(coloraxis_showscale=False)  # Hide the color axis for cleaner display\n",
    "\n",
    "# Save the plot as an HTML file\n",
    "fig.write_html(os.path.join(save_dir, \"word_cloud_for_titles.html\"))\n",
    "\n",
    "fig.show()"
   ]
  },
  {
   "cell_type": "code",
   "execution_count": 8,
   "metadata": {},
   "outputs": [
    {
     "name": "stdout",
     "output_type": "stream",
     "text": [
      "Topic #0:\n",
      "school student education need child learning support programme moe skill\n",
      "Topic #1:\n",
      "business company industry sector new digital help technology need smes\n",
      "Topic #2:\n",
      "drug lift police team people family offender building home work\n",
      "Topic #3:\n",
      "public defence service time saf people family need country threat\n",
      "Topic #4:\n",
      "energy smoking smoker product tobacco water carbon cigarettes cigarette emission\n",
      "Topic #5:\n",
      "covid 19 support need community people help time art budget\n",
      "Topic #6:\n",
      "transport public new bus waste food like vehicle lta need\n",
      "Topic #7:\n",
      "worker job need budget support work company time help employer\n",
      "Topic #8:\n",
      "care need community service health flat family healthcare support senior\n",
      "Topic #9:\n",
      "council town speaker claim cpf law act case amendment time\n",
      "\n"
     ]
    }
   ],
   "source": [
    "# Add custom stopwords\n",
    "custom_stopwords = list(custom_stopwords) + [\"parliament\", \"session\", \"government\", \"mr\", \"year\", \"singaporeans\", \"member\"]\n",
    "\n",
    "# Combine custom stopwords with the default English stopwords\n",
    "combined_stopwords = list(sklearn.feature_extraction.text.ENGLISH_STOP_WORDS.union(custom_stopwords))\n",
    "\n",
    "# Initialize the lemmatizer\n",
    "lemmatizer = WordNetLemmatizer()\n",
    "\n",
    "# Function to lemmatize the text\n",
    "def lemmatize_text(text):\n",
    "    tokens = word_tokenize(text)\n",
    "    lemmatized_tokens = [lemmatizer.lemmatize(token.lower()) for token in tokens if token.lower() not in combined_stopwords]\n",
    "    return ' '.join(lemmatized_tokens)\n",
    "\n",
    "# Apply lemmatization to each text in the dataframe\n",
    "df['Lemmatized Text'] = df['Text'].apply(lemmatize_text)\n",
    "\n",
    "# Extract all texts for topic modeling\n",
    "texts = df['Lemmatized Text']\n",
    "\n",
    "# Convert texts to a matrix of token counts\n",
    "vectorizer = CountVectorizer(stop_words=combined_stopwords)\n",
    "X = vectorizer.fit_transform(texts)\n",
    "\n",
    "# Fit LDA model\n",
    "lda = LatentDirichletAllocation(n_components=10, random_state=25)  \n",
    "lda.fit(X)\n",
    "\n",
    "# Display the most important words for each topic identified by the LDA model\n",
    "def print_top_words(model, feature_names, n_top_words):\n",
    "    for topic_idx, topic in enumerate(model.components_):\n",
    "        print(f\"Topic #{topic_idx}:\")\n",
    "        # Extract and print the top words for a given topic in an LDA model\n",
    "        print(\" \".join([feature_names[i] for i in topic.argsort()[:-n_top_words - 1:-1]]))\n",
    "    print()\n",
    "\n",
    "n_top_words = 10\n",
    "print_top_words(lda, vectorizer.get_feature_names_out(), n_top_words)\n",
    "\n",
    "# Assign topics to the debates\n",
    "df['Topic'] = lda.transform(X).argmax(axis=1)"
   ]
  },
  {
   "cell_type": "code",
   "execution_count": 9,
   "metadata": {},
   "outputs": [],
   "source": [
    "topics = {\n",
    "    0: \"Education and Support Programmes\",\n",
    "    1: \"Digital Transformation in Industry\",\n",
    "    2: \"Law Enforcement and Rehabilitation\",\n",
    "    3: \"National Defence and Security\",\n",
    "    4: \"Smoking and Environmental Impact\",\n",
    "    5: \"Community Support during COVID-19\",\n",
    "    6: \"Public Transport and Waste Management\",\n",
    "    7: \"Workforce Support and Employment\",\n",
    "    8: \"Community Care and Services\",\n",
    "    9: \"Legislative Matters and Amendments\"\n",
    "}\n",
    "\n",
    "df[\"Topic\"] = df[\"Topic\"].map(topics)"
   ]
  },
  {
   "cell_type": "code",
   "execution_count": 10,
   "metadata": {},
   "outputs": [
    {
     "data": {
      "text/html": [
       "<div>\n",
       "<style scoped>\n",
       "    .dataframe tbody tr th:only-of-type {\n",
       "        vertical-align: middle;\n",
       "    }\n",
       "\n",
       "    .dataframe tbody tr th {\n",
       "        vertical-align: top;\n",
       "    }\n",
       "\n",
       "    .dataframe thead th {\n",
       "        text-align: right;\n",
       "    }\n",
       "</style>\n",
       "<table border=\"1\" class=\"dataframe\">\n",
       "  <thead>\n",
       "    <tr style=\"text-align: right;\">\n",
       "      <th></th>\n",
       "      <th>Section Name</th>\n",
       "      <th>Title</th>\n",
       "      <th>Text</th>\n",
       "      <th>Speakers</th>\n",
       "      <th>Lemmatized Text</th>\n",
       "      <th>Topic</th>\n",
       "    </tr>\n",
       "  </thead>\n",
       "  <tbody>\n",
       "    <tr>\n",
       "      <th>0</th>\n",
       "      <td>Oral Answers to Questions</td>\n",
       "      <td>Fair Process for Termination Due to Poor Perfo...</td>\n",
       "      <td>1 Dr Tan Wu Meng asked\\tthe Minister for Manpo...</td>\n",
       "      <td>Er Dr Lee Bee Wah (Nee Soon),Mr Zainal Sapari ...</td>\n",
       "      <td>1 dr tan wu meng asked manpower provide update...</td>\n",
       "      <td>Workforce Support and Employment</td>\n",
       "    </tr>\n",
       "    <tr>\n",
       "      <th>1</th>\n",
       "      <td>Written Answers to Questions for Oral Answer N...</td>\n",
       "      <td>Details and Framework of Workings of The Speci...</td>\n",
       "      <td>22 Assoc Prof Fatimah Lateef asked the Ministe...</td>\n",
       "      <td>[Prof Fatimah Lateef, Mr Desmond Lee]</td>\n",
       "      <td>22 assoc prof fatimah lateef asked social fami...</td>\n",
       "      <td>Community Care and Services</td>\n",
       "    </tr>\n",
       "    <tr>\n",
       "      <th>2</th>\n",
       "      <td>Budget</td>\n",
       "      <td>Committee of Supply – Head R (Ministry of Law)</td>\n",
       "      <td>The Chairman: Head R, Ministry of Law. Mr Chri...</td>\n",
       "      <td>[The Senior Minister of State for Law (Mr Edwi...</td>\n",
       "      <td>chairman : r , law . christopher souza , cut ....</td>\n",
       "      <td>Legislative Matters and Amendments</td>\n",
       "    </tr>\n",
       "    <tr>\n",
       "      <th>3</th>\n",
       "      <td>Oral Answers to Questions</td>\n",
       "      <td>Female Representation in Statutory Boards</td>\n",
       "      <td>The following question stood in the name of Ms...</td>\n",
       "      <td>[The Senior Parliamentary Secretary to the Min...</td>\n",
       "      <td>following question stood m anthea ong –1 ask s...</td>\n",
       "      <td>Community Care and Services</td>\n",
       "    </tr>\n",
       "    <tr>\n",
       "      <th>4</th>\n",
       "      <td>Budget</td>\n",
       "      <td>Committee of Supply – Head W (Ministry of Tran...</td>\n",
       "      <td>Growing Pains in TransportMr Sitoh Yih Pin (Po...</td>\n",
       "      <td>[Mr Pritam Singh (Aljunied), Mr Melvin Yong Yi...</td>\n",
       "      <td>growing pain transportmr sitoh yih pin ( poton...</td>\n",
       "      <td>Public Transport and Waste Management</td>\n",
       "    </tr>\n",
       "    <tr>\n",
       "      <th>...</th>\n",
       "      <td>...</td>\n",
       "      <td>...</td>\n",
       "      <td>...</td>\n",
       "      <td>...</td>\n",
       "      <td>...</td>\n",
       "      <td>...</td>\n",
       "    </tr>\n",
       "    <tr>\n",
       "      <th>159</th>\n",
       "      <td>Oral Answers to Questions</td>\n",
       "      <td>Complaints on Lapses in Real-time Updates for ...</td>\n",
       "      <td>1 Er Dr Lee Bee Wah asked\\tthe Minister for Tr...</td>\n",
       "      <td>Er Dr Lee Bee Wah (Nee Soon),Er Dr Lee Bee Wah...</td>\n",
       "      <td>1 er dr lee bee wah asked transport ( ) lta aw...</td>\n",
       "      <td>Public Transport and Waste Management</td>\n",
       "    </tr>\n",
       "    <tr>\n",
       "      <th>160</th>\n",
       "      <td>Second Reading Bills</td>\n",
       "      <td>Central Provident Fund (Amendment) Bill</td>\n",
       "      <td>Order for Second Reading read.4.51 pmThe Minis...</td>\n",
       "      <td>[Mrs Josephine Teo, Assoc Prof Daniel Goh Pei ...</td>\n",
       "      <td>order second reading read.4.51 pmthe manpower ...</td>\n",
       "      <td>Legislative Matters and Amendments</td>\n",
       "    </tr>\n",
       "    <tr>\n",
       "      <th>161</th>\n",
       "      <td>Budget</td>\n",
       "      <td>Committee of Supply – Head I (Ministry of Soci...</td>\n",
       "      <td>The Chairman: Head I, Ministry of Social and F...</td>\n",
       "      <td>[The Chairman, Mr Sam Tan Chin Siong, Ms Denis...</td>\n",
       "      <td>chairman : , social family development . seah ...</td>\n",
       "      <td>Community Care and Services</td>\n",
       "    </tr>\n",
       "    <tr>\n",
       "      <th>162</th>\n",
       "      <td>Ministerial Statements</td>\n",
       "      <td>Government's Plans in our Continued Fight agai...</td>\n",
       "      <td>Debate resumed.Mr Deputy Speaker: Minister Isw...</td>\n",
       "      <td>[Mr Deputy Speaker, Mr Deputy Speaker, Miss Ch...</td>\n",
       "      <td>resumed.mr deputy speaker : iswaran.6.49 pmthe...</td>\n",
       "      <td>Digital Transformation in Industry</td>\n",
       "    </tr>\n",
       "    <tr>\n",
       "      <th>163</th>\n",
       "      <td>Budget</td>\n",
       "      <td>Committee of Supply – Head X (Ministry of Cult...</td>\n",
       "      <td>Rallying SingaporeansDr Lim Wee Kiak (Sembawan...</td>\n",
       "      <td>Er Dr Lee Bee Wah (Nee Soon),Dr Teo Ho Pin (Bu...</td>\n",
       "      <td>rallying singaporeansdr lim wee kiak ( sembawa...</td>\n",
       "      <td>Community Support during COVID-19</td>\n",
       "    </tr>\n",
       "  </tbody>\n",
       "</table>\n",
       "<p>164 rows × 6 columns</p>\n",
       "</div>"
      ],
      "text/plain": [
       "                                          Section Name  \\\n",
       "0                            Oral Answers to Questions   \n",
       "1    Written Answers to Questions for Oral Answer N...   \n",
       "2                                               Budget   \n",
       "3                            Oral Answers to Questions   \n",
       "4                                               Budget   \n",
       "..                                                 ...   \n",
       "159                          Oral Answers to Questions   \n",
       "160                               Second Reading Bills   \n",
       "161                                             Budget   \n",
       "162                             Ministerial Statements   \n",
       "163                                             Budget   \n",
       "\n",
       "                                                 Title  \\\n",
       "0    Fair Process for Termination Due to Poor Perfo...   \n",
       "1    Details and Framework of Workings of The Speci...   \n",
       "2       Committee of Supply – Head R (Ministry of Law)   \n",
       "3            Female Representation in Statutory Boards   \n",
       "4    Committee of Supply – Head W (Ministry of Tran...   \n",
       "..                                                 ...   \n",
       "159  Complaints on Lapses in Real-time Updates for ...   \n",
       "160            Central Provident Fund (Amendment) Bill   \n",
       "161  Committee of Supply – Head I (Ministry of Soci...   \n",
       "162  Government's Plans in our Continued Fight agai...   \n",
       "163  Committee of Supply – Head X (Ministry of Cult...   \n",
       "\n",
       "                                                  Text  \\\n",
       "0    1 Dr Tan Wu Meng asked\\tthe Minister for Manpo...   \n",
       "1    22 Assoc Prof Fatimah Lateef asked the Ministe...   \n",
       "2    The Chairman: Head R, Ministry of Law. Mr Chri...   \n",
       "3    The following question stood in the name of Ms...   \n",
       "4    Growing Pains in TransportMr Sitoh Yih Pin (Po...   \n",
       "..                                                 ...   \n",
       "159  1 Er Dr Lee Bee Wah asked\\tthe Minister for Tr...   \n",
       "160  Order for Second Reading read.4.51 pmThe Minis...   \n",
       "161  The Chairman: Head I, Ministry of Social and F...   \n",
       "162  Debate resumed.Mr Deputy Speaker: Minister Isw...   \n",
       "163  Rallying SingaporeansDr Lim Wee Kiak (Sembawan...   \n",
       "\n",
       "                                              Speakers  \\\n",
       "0    Er Dr Lee Bee Wah (Nee Soon),Mr Zainal Sapari ...   \n",
       "1                [Prof Fatimah Lateef, Mr Desmond Lee]   \n",
       "2    [The Senior Minister of State for Law (Mr Edwi...   \n",
       "3    [The Senior Parliamentary Secretary to the Min...   \n",
       "4    [Mr Pritam Singh (Aljunied), Mr Melvin Yong Yi...   \n",
       "..                                                 ...   \n",
       "159  Er Dr Lee Bee Wah (Nee Soon),Er Dr Lee Bee Wah...   \n",
       "160  [Mrs Josephine Teo, Assoc Prof Daniel Goh Pei ...   \n",
       "161  [The Chairman, Mr Sam Tan Chin Siong, Ms Denis...   \n",
       "162  [Mr Deputy Speaker, Mr Deputy Speaker, Miss Ch...   \n",
       "163  Er Dr Lee Bee Wah (Nee Soon),Dr Teo Ho Pin (Bu...   \n",
       "\n",
       "                                       Lemmatized Text  \\\n",
       "0    1 dr tan wu meng asked manpower provide update...   \n",
       "1    22 assoc prof fatimah lateef asked social fami...   \n",
       "2    chairman : r , law . christopher souza , cut ....   \n",
       "3    following question stood m anthea ong –1 ask s...   \n",
       "4    growing pain transportmr sitoh yih pin ( poton...   \n",
       "..                                                 ...   \n",
       "159  1 er dr lee bee wah asked transport ( ) lta aw...   \n",
       "160  order second reading read.4.51 pmthe manpower ...   \n",
       "161  chairman : , social family development . seah ...   \n",
       "162  resumed.mr deputy speaker : iswaran.6.49 pmthe...   \n",
       "163  rallying singaporeansdr lim wee kiak ( sembawa...   \n",
       "\n",
       "                                     Topic  \n",
       "0         Workforce Support and Employment  \n",
       "1              Community Care and Services  \n",
       "2       Legislative Matters and Amendments  \n",
       "3              Community Care and Services  \n",
       "4    Public Transport and Waste Management  \n",
       "..                                     ...  \n",
       "159  Public Transport and Waste Management  \n",
       "160     Legislative Matters and Amendments  \n",
       "161            Community Care and Services  \n",
       "162     Digital Transformation in Industry  \n",
       "163      Community Support during COVID-19  \n",
       "\n",
       "[164 rows x 6 columns]"
      ]
     },
     "execution_count": 10,
     "metadata": {},
     "output_type": "execute_result"
    }
   ],
   "source": [
    "df"
   ]
  },
  {
   "cell_type": "code",
   "execution_count": 11,
   "metadata": {},
   "outputs": [
    {
     "data": {
      "text/plain": [
       "Topic\n",
       "Workforce Support and Employment         27\n",
       "Digital Transformation in Industry       26\n",
       "Community Care and Services              22\n",
       "Public Transport and Waste Management    20\n",
       "Legislative Matters and Amendments       18\n",
       "Education and Support Programmes         16\n",
       "National Defence and Security            14\n",
       "Community Support during COVID-19        13\n",
       "Law Enforcement and Rehabilitation        6\n",
       "Smoking and Environmental Impact          2\n",
       "Name: count, dtype: int64"
      ]
     },
     "execution_count": 11,
     "metadata": {},
     "output_type": "execute_result"
    }
   ],
   "source": [
    "df[\"Topic\"].value_counts()"
   ]
  },
  {
   "cell_type": "code",
   "execution_count": 12,
   "metadata": {},
   "outputs": [
    {
     "data": {
      "application/vnd.plotly.v1+json": {
       "config": {
        "plotlyServerURL": "https://plot.ly"
       },
       "data": [
        {
         "alignmentgroup": "True",
         "hovertemplate": "Topic=%{x}<br>Number of Debates=%{text}<extra></extra>",
         "legendgroup": "Workforce Support and Employment",
         "marker": {
          "color": "#636efa",
          "pattern": {
           "shape": ""
          }
         },
         "name": "Workforce Support and Employment",
         "offsetgroup": "Workforce Support and Employment",
         "orientation": "v",
         "showlegend": true,
         "text": [
          27
         ],
         "textposition": "outside",
         "texttemplate": "%{text}",
         "type": "bar",
         "x": [
          "Workforce Support and Employment"
         ],
         "xaxis": "x",
         "y": [
          27
         ],
         "yaxis": "y"
        },
        {
         "alignmentgroup": "True",
         "hovertemplate": "Topic=%{x}<br>Number of Debates=%{text}<extra></extra>",
         "legendgroup": "Digital Transformation in Industry",
         "marker": {
          "color": "#EF553B",
          "pattern": {
           "shape": ""
          }
         },
         "name": "Digital Transformation in Industry",
         "offsetgroup": "Digital Transformation in Industry",
         "orientation": "v",
         "showlegend": true,
         "text": [
          26
         ],
         "textposition": "outside",
         "texttemplate": "%{text}",
         "type": "bar",
         "x": [
          "Digital Transformation in Industry"
         ],
         "xaxis": "x",
         "y": [
          26
         ],
         "yaxis": "y"
        },
        {
         "alignmentgroup": "True",
         "hovertemplate": "Topic=%{x}<br>Number of Debates=%{text}<extra></extra>",
         "legendgroup": "Community Care and Services",
         "marker": {
          "color": "#00cc96",
          "pattern": {
           "shape": ""
          }
         },
         "name": "Community Care and Services",
         "offsetgroup": "Community Care and Services",
         "orientation": "v",
         "showlegend": true,
         "text": [
          22
         ],
         "textposition": "outside",
         "texttemplate": "%{text}",
         "type": "bar",
         "x": [
          "Community Care and Services"
         ],
         "xaxis": "x",
         "y": [
          22
         ],
         "yaxis": "y"
        },
        {
         "alignmentgroup": "True",
         "hovertemplate": "Topic=%{x}<br>Number of Debates=%{text}<extra></extra>",
         "legendgroup": "Public Transport and Waste Management",
         "marker": {
          "color": "#ab63fa",
          "pattern": {
           "shape": ""
          }
         },
         "name": "Public Transport and Waste Management",
         "offsetgroup": "Public Transport and Waste Management",
         "orientation": "v",
         "showlegend": true,
         "text": [
          20
         ],
         "textposition": "outside",
         "texttemplate": "%{text}",
         "type": "bar",
         "x": [
          "Public Transport and Waste Management"
         ],
         "xaxis": "x",
         "y": [
          20
         ],
         "yaxis": "y"
        },
        {
         "alignmentgroup": "True",
         "hovertemplate": "Topic=%{x}<br>Number of Debates=%{text}<extra></extra>",
         "legendgroup": "Legislative Matters and Amendments",
         "marker": {
          "color": "#FFA15A",
          "pattern": {
           "shape": ""
          }
         },
         "name": "Legislative Matters and Amendments",
         "offsetgroup": "Legislative Matters and Amendments",
         "orientation": "v",
         "showlegend": true,
         "text": [
          18
         ],
         "textposition": "outside",
         "texttemplate": "%{text}",
         "type": "bar",
         "x": [
          "Legislative Matters and Amendments"
         ],
         "xaxis": "x",
         "y": [
          18
         ],
         "yaxis": "y"
        },
        {
         "alignmentgroup": "True",
         "hovertemplate": "Topic=%{x}<br>Number of Debates=%{text}<extra></extra>",
         "legendgroup": "Education and Support Programmes",
         "marker": {
          "color": "#19d3f3",
          "pattern": {
           "shape": ""
          }
         },
         "name": "Education and Support Programmes",
         "offsetgroup": "Education and Support Programmes",
         "orientation": "v",
         "showlegend": true,
         "text": [
          16
         ],
         "textposition": "outside",
         "texttemplate": "%{text}",
         "type": "bar",
         "x": [
          "Education and Support Programmes"
         ],
         "xaxis": "x",
         "y": [
          16
         ],
         "yaxis": "y"
        },
        {
         "alignmentgroup": "True",
         "hovertemplate": "Topic=%{x}<br>Number of Debates=%{text}<extra></extra>",
         "legendgroup": "National Defence and Security",
         "marker": {
          "color": "#FF6692",
          "pattern": {
           "shape": ""
          }
         },
         "name": "National Defence and Security",
         "offsetgroup": "National Defence and Security",
         "orientation": "v",
         "showlegend": true,
         "text": [
          14
         ],
         "textposition": "outside",
         "texttemplate": "%{text}",
         "type": "bar",
         "x": [
          "National Defence and Security"
         ],
         "xaxis": "x",
         "y": [
          14
         ],
         "yaxis": "y"
        },
        {
         "alignmentgroup": "True",
         "hovertemplate": "Topic=%{x}<br>Number of Debates=%{text}<extra></extra>",
         "legendgroup": "Community Support during COVID-19",
         "marker": {
          "color": "#B6E880",
          "pattern": {
           "shape": ""
          }
         },
         "name": "Community Support during COVID-19",
         "offsetgroup": "Community Support during COVID-19",
         "orientation": "v",
         "showlegend": true,
         "text": [
          13
         ],
         "textposition": "outside",
         "texttemplate": "%{text}",
         "type": "bar",
         "x": [
          "Community Support during COVID-19"
         ],
         "xaxis": "x",
         "y": [
          13
         ],
         "yaxis": "y"
        },
        {
         "alignmentgroup": "True",
         "hovertemplate": "Topic=%{x}<br>Number of Debates=%{text}<extra></extra>",
         "legendgroup": "Law Enforcement and Rehabilitation",
         "marker": {
          "color": "#FF97FF",
          "pattern": {
           "shape": ""
          }
         },
         "name": "Law Enforcement and Rehabilitation",
         "offsetgroup": "Law Enforcement and Rehabilitation",
         "orientation": "v",
         "showlegend": true,
         "text": [
          6
         ],
         "textposition": "outside",
         "texttemplate": "%{text}",
         "type": "bar",
         "x": [
          "Law Enforcement and Rehabilitation"
         ],
         "xaxis": "x",
         "y": [
          6
         ],
         "yaxis": "y"
        },
        {
         "alignmentgroup": "True",
         "hovertemplate": "Topic=%{x}<br>Number of Debates=%{text}<extra></extra>",
         "legendgroup": "Smoking and Environmental Impact",
         "marker": {
          "color": "#FECB52",
          "pattern": {
           "shape": ""
          }
         },
         "name": "Smoking and Environmental Impact",
         "offsetgroup": "Smoking and Environmental Impact",
         "orientation": "v",
         "showlegend": true,
         "text": [
          2
         ],
         "textposition": "outside",
         "texttemplate": "%{text}",
         "type": "bar",
         "x": [
          "Smoking and Environmental Impact"
         ],
         "xaxis": "x",
         "y": [
          2
         ],
         "yaxis": "y"
        }
       ],
       "layout": {
        "bargap": 0.4,
        "barmode": "relative",
        "font": {
         "size": 12
        },
        "legend": {
         "title": {
          "text": "Topic"
         },
         "tracegroupgap": 0
        },
        "margin": {
         "b": 100,
         "l": 50,
         "r": 50,
         "t": 100
        },
        "paper_bgcolor": "white",
        "plot_bgcolor": "white",
        "showlegend": false,
        "template": {
         "data": {
          "bar": [
           {
            "error_x": {
             "color": "#2a3f5f"
            },
            "error_y": {
             "color": "#2a3f5f"
            },
            "marker": {
             "line": {
              "color": "#E5ECF6",
              "width": 0.5
             },
             "pattern": {
              "fillmode": "overlay",
              "size": 10,
              "solidity": 0.2
             }
            },
            "type": "bar"
           }
          ],
          "barpolar": [
           {
            "marker": {
             "line": {
              "color": "#E5ECF6",
              "width": 0.5
             },
             "pattern": {
              "fillmode": "overlay",
              "size": 10,
              "solidity": 0.2
             }
            },
            "type": "barpolar"
           }
          ],
          "carpet": [
           {
            "aaxis": {
             "endlinecolor": "#2a3f5f",
             "gridcolor": "white",
             "linecolor": "white",
             "minorgridcolor": "white",
             "startlinecolor": "#2a3f5f"
            },
            "baxis": {
             "endlinecolor": "#2a3f5f",
             "gridcolor": "white",
             "linecolor": "white",
             "minorgridcolor": "white",
             "startlinecolor": "#2a3f5f"
            },
            "type": "carpet"
           }
          ],
          "choropleth": [
           {
            "colorbar": {
             "outlinewidth": 0,
             "ticks": ""
            },
            "type": "choropleth"
           }
          ],
          "contour": [
           {
            "colorbar": {
             "outlinewidth": 0,
             "ticks": ""
            },
            "colorscale": [
             [
              0,
              "#0d0887"
             ],
             [
              0.1111111111111111,
              "#46039f"
             ],
             [
              0.2222222222222222,
              "#7201a8"
             ],
             [
              0.3333333333333333,
              "#9c179e"
             ],
             [
              0.4444444444444444,
              "#bd3786"
             ],
             [
              0.5555555555555556,
              "#d8576b"
             ],
             [
              0.6666666666666666,
              "#ed7953"
             ],
             [
              0.7777777777777778,
              "#fb9f3a"
             ],
             [
              0.8888888888888888,
              "#fdca26"
             ],
             [
              1,
              "#f0f921"
             ]
            ],
            "type": "contour"
           }
          ],
          "contourcarpet": [
           {
            "colorbar": {
             "outlinewidth": 0,
             "ticks": ""
            },
            "type": "contourcarpet"
           }
          ],
          "heatmap": [
           {
            "colorbar": {
             "outlinewidth": 0,
             "ticks": ""
            },
            "colorscale": [
             [
              0,
              "#0d0887"
             ],
             [
              0.1111111111111111,
              "#46039f"
             ],
             [
              0.2222222222222222,
              "#7201a8"
             ],
             [
              0.3333333333333333,
              "#9c179e"
             ],
             [
              0.4444444444444444,
              "#bd3786"
             ],
             [
              0.5555555555555556,
              "#d8576b"
             ],
             [
              0.6666666666666666,
              "#ed7953"
             ],
             [
              0.7777777777777778,
              "#fb9f3a"
             ],
             [
              0.8888888888888888,
              "#fdca26"
             ],
             [
              1,
              "#f0f921"
             ]
            ],
            "type": "heatmap"
           }
          ],
          "heatmapgl": [
           {
            "colorbar": {
             "outlinewidth": 0,
             "ticks": ""
            },
            "colorscale": [
             [
              0,
              "#0d0887"
             ],
             [
              0.1111111111111111,
              "#46039f"
             ],
             [
              0.2222222222222222,
              "#7201a8"
             ],
             [
              0.3333333333333333,
              "#9c179e"
             ],
             [
              0.4444444444444444,
              "#bd3786"
             ],
             [
              0.5555555555555556,
              "#d8576b"
             ],
             [
              0.6666666666666666,
              "#ed7953"
             ],
             [
              0.7777777777777778,
              "#fb9f3a"
             ],
             [
              0.8888888888888888,
              "#fdca26"
             ],
             [
              1,
              "#f0f921"
             ]
            ],
            "type": "heatmapgl"
           }
          ],
          "histogram": [
           {
            "marker": {
             "pattern": {
              "fillmode": "overlay",
              "size": 10,
              "solidity": 0.2
             }
            },
            "type": "histogram"
           }
          ],
          "histogram2d": [
           {
            "colorbar": {
             "outlinewidth": 0,
             "ticks": ""
            },
            "colorscale": [
             [
              0,
              "#0d0887"
             ],
             [
              0.1111111111111111,
              "#46039f"
             ],
             [
              0.2222222222222222,
              "#7201a8"
             ],
             [
              0.3333333333333333,
              "#9c179e"
             ],
             [
              0.4444444444444444,
              "#bd3786"
             ],
             [
              0.5555555555555556,
              "#d8576b"
             ],
             [
              0.6666666666666666,
              "#ed7953"
             ],
             [
              0.7777777777777778,
              "#fb9f3a"
             ],
             [
              0.8888888888888888,
              "#fdca26"
             ],
             [
              1,
              "#f0f921"
             ]
            ],
            "type": "histogram2d"
           }
          ],
          "histogram2dcontour": [
           {
            "colorbar": {
             "outlinewidth": 0,
             "ticks": ""
            },
            "colorscale": [
             [
              0,
              "#0d0887"
             ],
             [
              0.1111111111111111,
              "#46039f"
             ],
             [
              0.2222222222222222,
              "#7201a8"
             ],
             [
              0.3333333333333333,
              "#9c179e"
             ],
             [
              0.4444444444444444,
              "#bd3786"
             ],
             [
              0.5555555555555556,
              "#d8576b"
             ],
             [
              0.6666666666666666,
              "#ed7953"
             ],
             [
              0.7777777777777778,
              "#fb9f3a"
             ],
             [
              0.8888888888888888,
              "#fdca26"
             ],
             [
              1,
              "#f0f921"
             ]
            ],
            "type": "histogram2dcontour"
           }
          ],
          "mesh3d": [
           {
            "colorbar": {
             "outlinewidth": 0,
             "ticks": ""
            },
            "type": "mesh3d"
           }
          ],
          "parcoords": [
           {
            "line": {
             "colorbar": {
              "outlinewidth": 0,
              "ticks": ""
             }
            },
            "type": "parcoords"
           }
          ],
          "pie": [
           {
            "automargin": true,
            "type": "pie"
           }
          ],
          "scatter": [
           {
            "fillpattern": {
             "fillmode": "overlay",
             "size": 10,
             "solidity": 0.2
            },
            "type": "scatter"
           }
          ],
          "scatter3d": [
           {
            "line": {
             "colorbar": {
              "outlinewidth": 0,
              "ticks": ""
             }
            },
            "marker": {
             "colorbar": {
              "outlinewidth": 0,
              "ticks": ""
             }
            },
            "type": "scatter3d"
           }
          ],
          "scattercarpet": [
           {
            "marker": {
             "colorbar": {
              "outlinewidth": 0,
              "ticks": ""
             }
            },
            "type": "scattercarpet"
           }
          ],
          "scattergeo": [
           {
            "marker": {
             "colorbar": {
              "outlinewidth": 0,
              "ticks": ""
             }
            },
            "type": "scattergeo"
           }
          ],
          "scattergl": [
           {
            "marker": {
             "colorbar": {
              "outlinewidth": 0,
              "ticks": ""
             }
            },
            "type": "scattergl"
           }
          ],
          "scattermapbox": [
           {
            "marker": {
             "colorbar": {
              "outlinewidth": 0,
              "ticks": ""
             }
            },
            "type": "scattermapbox"
           }
          ],
          "scatterpolar": [
           {
            "marker": {
             "colorbar": {
              "outlinewidth": 0,
              "ticks": ""
             }
            },
            "type": "scatterpolar"
           }
          ],
          "scatterpolargl": [
           {
            "marker": {
             "colorbar": {
              "outlinewidth": 0,
              "ticks": ""
             }
            },
            "type": "scatterpolargl"
           }
          ],
          "scatterternary": [
           {
            "marker": {
             "colorbar": {
              "outlinewidth": 0,
              "ticks": ""
             }
            },
            "type": "scatterternary"
           }
          ],
          "surface": [
           {
            "colorbar": {
             "outlinewidth": 0,
             "ticks": ""
            },
            "colorscale": [
             [
              0,
              "#0d0887"
             ],
             [
              0.1111111111111111,
              "#46039f"
             ],
             [
              0.2222222222222222,
              "#7201a8"
             ],
             [
              0.3333333333333333,
              "#9c179e"
             ],
             [
              0.4444444444444444,
              "#bd3786"
             ],
             [
              0.5555555555555556,
              "#d8576b"
             ],
             [
              0.6666666666666666,
              "#ed7953"
             ],
             [
              0.7777777777777778,
              "#fb9f3a"
             ],
             [
              0.8888888888888888,
              "#fdca26"
             ],
             [
              1,
              "#f0f921"
             ]
            ],
            "type": "surface"
           }
          ],
          "table": [
           {
            "cells": {
             "fill": {
              "color": "#EBF0F8"
             },
             "line": {
              "color": "white"
             }
            },
            "header": {
             "fill": {
              "color": "#C8D4E3"
             },
             "line": {
              "color": "white"
             }
            },
            "type": "table"
           }
          ]
         },
         "layout": {
          "annotationdefaults": {
           "arrowcolor": "#2a3f5f",
           "arrowhead": 0,
           "arrowwidth": 1
          },
          "autotypenumbers": "strict",
          "coloraxis": {
           "colorbar": {
            "outlinewidth": 0,
            "ticks": ""
           }
          },
          "colorscale": {
           "diverging": [
            [
             0,
             "#8e0152"
            ],
            [
             0.1,
             "#c51b7d"
            ],
            [
             0.2,
             "#de77ae"
            ],
            [
             0.3,
             "#f1b6da"
            ],
            [
             0.4,
             "#fde0ef"
            ],
            [
             0.5,
             "#f7f7f7"
            ],
            [
             0.6,
             "#e6f5d0"
            ],
            [
             0.7,
             "#b8e186"
            ],
            [
             0.8,
             "#7fbc41"
            ],
            [
             0.9,
             "#4d9221"
            ],
            [
             1,
             "#276419"
            ]
           ],
           "sequential": [
            [
             0,
             "#0d0887"
            ],
            [
             0.1111111111111111,
             "#46039f"
            ],
            [
             0.2222222222222222,
             "#7201a8"
            ],
            [
             0.3333333333333333,
             "#9c179e"
            ],
            [
             0.4444444444444444,
             "#bd3786"
            ],
            [
             0.5555555555555556,
             "#d8576b"
            ],
            [
             0.6666666666666666,
             "#ed7953"
            ],
            [
             0.7777777777777778,
             "#fb9f3a"
            ],
            [
             0.8888888888888888,
             "#fdca26"
            ],
            [
             1,
             "#f0f921"
            ]
           ],
           "sequentialminus": [
            [
             0,
             "#0d0887"
            ],
            [
             0.1111111111111111,
             "#46039f"
            ],
            [
             0.2222222222222222,
             "#7201a8"
            ],
            [
             0.3333333333333333,
             "#9c179e"
            ],
            [
             0.4444444444444444,
             "#bd3786"
            ],
            [
             0.5555555555555556,
             "#d8576b"
            ],
            [
             0.6666666666666666,
             "#ed7953"
            ],
            [
             0.7777777777777778,
             "#fb9f3a"
            ],
            [
             0.8888888888888888,
             "#fdca26"
            ],
            [
             1,
             "#f0f921"
            ]
           ]
          },
          "colorway": [
           "#636efa",
           "#EF553B",
           "#00cc96",
           "#ab63fa",
           "#FFA15A",
           "#19d3f3",
           "#FF6692",
           "#B6E880",
           "#FF97FF",
           "#FECB52"
          ],
          "font": {
           "color": "#2a3f5f"
          },
          "geo": {
           "bgcolor": "white",
           "lakecolor": "white",
           "landcolor": "#E5ECF6",
           "showlakes": true,
           "showland": true,
           "subunitcolor": "white"
          },
          "hoverlabel": {
           "align": "left"
          },
          "hovermode": "closest",
          "mapbox": {
           "style": "light"
          },
          "paper_bgcolor": "white",
          "plot_bgcolor": "#E5ECF6",
          "polar": {
           "angularaxis": {
            "gridcolor": "white",
            "linecolor": "white",
            "ticks": ""
           },
           "bgcolor": "#E5ECF6",
           "radialaxis": {
            "gridcolor": "white",
            "linecolor": "white",
            "ticks": ""
           }
          },
          "scene": {
           "xaxis": {
            "backgroundcolor": "#E5ECF6",
            "gridcolor": "white",
            "gridwidth": 2,
            "linecolor": "white",
            "showbackground": true,
            "ticks": "",
            "zerolinecolor": "white"
           },
           "yaxis": {
            "backgroundcolor": "#E5ECF6",
            "gridcolor": "white",
            "gridwidth": 2,
            "linecolor": "white",
            "showbackground": true,
            "ticks": "",
            "zerolinecolor": "white"
           },
           "zaxis": {
            "backgroundcolor": "#E5ECF6",
            "gridcolor": "white",
            "gridwidth": 2,
            "linecolor": "white",
            "showbackground": true,
            "ticks": "",
            "zerolinecolor": "white"
           }
          },
          "shapedefaults": {
           "line": {
            "color": "#2a3f5f"
           }
          },
          "ternary": {
           "aaxis": {
            "gridcolor": "white",
            "linecolor": "white",
            "ticks": ""
           },
           "baxis": {
            "gridcolor": "white",
            "linecolor": "white",
            "ticks": ""
           },
           "bgcolor": "#E5ECF6",
           "caxis": {
            "gridcolor": "white",
            "linecolor": "white",
            "ticks": ""
           }
          },
          "title": {
           "x": 0.05
          },
          "xaxis": {
           "automargin": true,
           "gridcolor": "white",
           "linecolor": "white",
           "ticks": "",
           "title": {
            "standoff": 15
           },
           "zerolinecolor": "white",
           "zerolinewidth": 2
          },
          "yaxis": {
           "automargin": true,
           "gridcolor": "white",
           "linecolor": "white",
           "ticks": "",
           "title": {
            "standoff": 15
           },
           "zerolinecolor": "white",
           "zerolinewidth": 2
          }
         }
        },
        "title": {
         "text": "Distribution of Common Topics in Parliamentary Debates",
         "x": 0.5,
         "xanchor": "center"
        },
        "uniformtext": {
         "minsize": 8,
         "mode": "hide"
        },
        "xaxis": {
         "anchor": "y",
         "categoryarray": [
          "Workforce Support and Employment",
          "Digital Transformation in Industry",
          "Community Care and Services",
          "Public Transport and Waste Management",
          "Legislative Matters and Amendments",
          "Education and Support Programmes",
          "National Defence and Security",
          "Community Support during COVID-19",
          "Law Enforcement and Rehabilitation",
          "Smoking and Environmental Impact"
         ],
         "categoryorder": "array",
         "domain": [
          0,
          1
         ],
         "tickangle": -45,
         "title": {
          "text": "Topic"
         }
        },
        "yaxis": {
         "anchor": "x",
         "domain": [
          0,
          1
         ],
         "range": [
          0,
          45
         ],
         "showgrid": true,
         "title": {
          "text": "Count"
         },
         "zeroline": false
        }
       }
      }
     },
     "metadata": {},
     "output_type": "display_data"
    }
   ],
   "source": [
    "# Calculate topic counts\n",
    "topic_counts = df[\"Topic\"].value_counts().reset_index()\n",
    "topic_counts.columns = ['Topic', 'Count']\n",
    "\n",
    "# Create the bar plot with Plotly\n",
    "fig = px.bar(topic_counts, x='Topic', y='Count', title='Distribution of Dominant Topics',\n",
    "             labels={'Topic': 'Topic', 'Count': 'Number of Debates'},\n",
    "             text='Count',\n",
    "             color='Topic',\n",
    "             color_continuous_scale=px.colors.qualitative.Plotly)  # Use Plotly's qualitative color scale\n",
    "\n",
    "fig.update_traces(texttemplate='%{text}', textposition='outside')\n",
    "\n",
    "fig.update_layout(\n",
    "    title={'text': 'Distribution of Common Topics in Parliamentary Debates', 'x': 0.5, 'xanchor': 'center'},\n",
    "    xaxis_title='Topic',\n",
    "    yaxis_title='Count',\n",
    "    uniformtext_minsize=8, uniformtext_mode='hide',\n",
    "    plot_bgcolor='white',\n",
    "    paper_bgcolor='white',\n",
    "    font=dict(size=12),\n",
    "    yaxis=dict(showgrid=True, zeroline=False, range=[0, 45]),  # Set the y-axis range to 0-45\n",
    "    xaxis_tickangle=-45,  # Rotate x-axis labels for better readability\n",
    "    bargap=0.4,  # Gap between bars\n",
    "    margin=dict(l=50, r=50, b=100, t=100),  # Adjust margins for better layout\n",
    "    showlegend=False  # Remove the legend\n",
    ")\n",
    "\n",
    "# Save the plot as an HTML file\n",
    "fig.write_html(os.path.join(save_dir, \"distribution_of_common_topics.html\"))\n",
    "\n",
    "fig.show()"
   ]
  },
  {
   "cell_type": "code",
   "execution_count": 13,
   "metadata": {},
   "outputs": [
    {
     "data": {
      "text/html": [
       "<div>\n",
       "<style scoped>\n",
       "    .dataframe tbody tr th:only-of-type {\n",
       "        vertical-align: middle;\n",
       "    }\n",
       "\n",
       "    .dataframe tbody tr th {\n",
       "        vertical-align: top;\n",
       "    }\n",
       "\n",
       "    .dataframe thead th {\n",
       "        text-align: right;\n",
       "    }\n",
       "</style>\n",
       "<table border=\"1\" class=\"dataframe\">\n",
       "  <thead>\n",
       "    <tr style=\"text-align: right;\">\n",
       "      <th></th>\n",
       "      <th>Section Name</th>\n",
       "      <th>Title</th>\n",
       "      <th>Text</th>\n",
       "      <th>Speakers</th>\n",
       "      <th>Lemmatized Text</th>\n",
       "      <th>Topic</th>\n",
       "    </tr>\n",
       "  </thead>\n",
       "  <tbody>\n",
       "    <tr>\n",
       "      <th>0</th>\n",
       "      <td>Oral Answers to Questions</td>\n",
       "      <td>Fair Process for Termination Due to Poor Perfo...</td>\n",
       "      <td>1 Dr Tan Wu Meng asked\\tthe Minister for Manpo...</td>\n",
       "      <td>Er Dr Lee Bee Wah (Nee Soon),Mr Zainal Sapari ...</td>\n",
       "      <td>1 dr tan wu meng asked manpower provide update...</td>\n",
       "      <td>Workforce Support and Employment</td>\n",
       "    </tr>\n",
       "    <tr>\n",
       "      <th>1</th>\n",
       "      <td>Written Answers to Questions for Oral Answer N...</td>\n",
       "      <td>Details and Framework of Workings of The Speci...</td>\n",
       "      <td>22 Assoc Prof Fatimah Lateef asked the Ministe...</td>\n",
       "      <td>[Prof Fatimah Lateef, Mr Desmond Lee]</td>\n",
       "      <td>22 assoc prof fatimah lateef asked social fami...</td>\n",
       "      <td>Community Care and Services</td>\n",
       "    </tr>\n",
       "    <tr>\n",
       "      <th>3</th>\n",
       "      <td>Oral Answers to Questions</td>\n",
       "      <td>Female Representation in Statutory Boards</td>\n",
       "      <td>The following question stood in the name of Ms...</td>\n",
       "      <td>[The Senior Parliamentary Secretary to the Min...</td>\n",
       "      <td>following question stood m anthea ong –1 ask s...</td>\n",
       "      <td>Community Care and Services</td>\n",
       "    </tr>\n",
       "    <tr>\n",
       "      <th>13</th>\n",
       "      <td>Oral Answers to Questions</td>\n",
       "      <td>Wage Growth Moving in Tandem with Productivity...</td>\n",
       "      <td>1 Mr Saktiandi Supaat asked the Minister for T...</td>\n",
       "      <td>Mr Saktiandi Supaat,The Senior Minister of Sta...</td>\n",
       "      <td>1 saktiandi supaat asked trade industry ( ) wa...</td>\n",
       "      <td>Digital Transformation in Industry</td>\n",
       "    </tr>\n",
       "    <tr>\n",
       "      <th>14</th>\n",
       "      <td>Oral Answers to Questions</td>\n",
       "      <td>Impact of Recent Fires in Australia on Singapo...</td>\n",
       "      <td>29 Mr Seah Kian Peng asked the Minister for th...</td>\n",
       "      <td>[The Minister for the Environment and Water Re...</td>\n",
       "      <td>29 seah kian peng asked environment water reso...</td>\n",
       "      <td>Public Transport and Waste Management</td>\n",
       "    </tr>\n",
       "    <tr>\n",
       "      <th>15</th>\n",
       "      <td>Oral Answers to Questions</td>\n",
       "      <td>Capital Reserve in PUB's Accounts</td>\n",
       "      <td>8 Mr Liang Eng Hwa asked the Minister for Fina...</td>\n",
       "      <td>[Mr Pritam Singh, Mr Liang Eng Hwa, Mr Low Thi...</td>\n",
       "      <td>8 liang eng hwa asked finance clarify $ 5.3 bi...</td>\n",
       "      <td>Workforce Support and Employment</td>\n",
       "    </tr>\n",
       "    <tr>\n",
       "      <th>24</th>\n",
       "      <td>Written Answers to Questions for Oral Answer N...</td>\n",
       "      <td>Challenges in Applying for Assistance under Le...</td>\n",
       "      <td>41 Mr Thomas Chua Kee Seng asked the Minister ...</td>\n",
       "      <td>Mr Thomas Chua Kee Seng,Mr Lim Swee Say</td>\n",
       "      <td>41 thomas chua kee seng asked manpower ( ) key...</td>\n",
       "      <td>Digital Transformation in Industry</td>\n",
       "    </tr>\n",
       "    <tr>\n",
       "      <th>30</th>\n",
       "      <td>Oral Answers to Questions</td>\n",
       "      <td>Waiting Time for Childcare Centre Places</td>\n",
       "      <td>5 Er Dr Lee Bee Wah asked\\tthe Minister for So...</td>\n",
       "      <td>[The Minister for Social and Family Developmen...</td>\n",
       "      <td>5 er dr lee bee wah asked social family develo...</td>\n",
       "      <td>Community Care and Services</td>\n",
       "    </tr>\n",
       "    <tr>\n",
       "      <th>32</th>\n",
       "      <td>Written Answers to Questions for Oral Answer N...</td>\n",
       "      <td>Update on Local Enterprise and Association Dev...</td>\n",
       "      <td>40 Mr Thomas Chua Kee Seng asked the Minister ...</td>\n",
       "      <td>[Mr Thomas Chua Kee Seng, Mr Chan Chun Sing]</td>\n",
       "      <td>40 thomas chua kee seng asked trade industry p...</td>\n",
       "      <td>Digital Transformation in Industry</td>\n",
       "    </tr>\n",
       "    <tr>\n",
       "      <th>34</th>\n",
       "      <td>Oral Answers to Questions</td>\n",
       "      <td>Measures to Mitigate Increasing Cost of Living</td>\n",
       "      <td>2 Mr Liang Eng Hwa asked the Minister for Trad...</td>\n",
       "      <td>[The Minister for Trade and Industry (Mr Chan ...</td>\n",
       "      <td>2 liang eng hwa asked trade industry ( ) gener...</td>\n",
       "      <td>Workforce Support and Employment</td>\n",
       "    </tr>\n",
       "    <tr>\n",
       "      <th>40</th>\n",
       "      <td>Oral Answers to Questions</td>\n",
       "      <td>Companies with Measures to Deal with Workplace...</td>\n",
       "      <td>8 Assoc Prof Walter Theseira asked the Ministe...</td>\n",
       "      <td>[The Senior Parliamentary Secretary to the Min...</td>\n",
       "      <td>8 assoc prof walter theseira asked manpower st...</td>\n",
       "      <td>Workforce Support and Employment</td>\n",
       "    </tr>\n",
       "    <tr>\n",
       "      <th>41</th>\n",
       "      <td>Oral Answers to Questions</td>\n",
       "      <td>Subject-banding in Accordance with Students’ A...</td>\n",
       "      <td>1 Ms Irene Quay Siew Ching asked the Minister ...</td>\n",
       "      <td>[The Second Minister for Education (Ms Indrane...</td>\n",
       "      <td>1 m irene quay siew ching asked education rega...</td>\n",
       "      <td>Education and Support Programmes</td>\n",
       "    </tr>\n",
       "    <tr>\n",
       "      <th>52</th>\n",
       "      <td>Oral Answers to Questions</td>\n",
       "      <td>Review Polytechnic Courses to Ensure They Stay...</td>\n",
       "      <td>1 Dr Lim Wee Kiak asked the Minister for Educa...</td>\n",
       "      <td>[The Senior Parliamentary Secretary to the Min...</td>\n",
       "      <td>1 dr lim wee kiak asked education ( higher edu...</td>\n",
       "      <td>Education and Support Programmes</td>\n",
       "    </tr>\n",
       "    <tr>\n",
       "      <th>53</th>\n",
       "      <td>Oral Answers to Questions</td>\n",
       "      <td>Salary Components of Prime Minister and Ministers</td>\n",
       "      <td>1 Mr Alex Yam asked the Prime Minister whether...</td>\n",
       "      <td>[The Deputy Prime Minister and Coordinating Mi...</td>\n",
       "      <td>1 alex yam asked ( ) list component salary min...</td>\n",
       "      <td>Law Enforcement and Rehabilitation</td>\n",
       "    </tr>\n",
       "    <tr>\n",
       "      <th>54</th>\n",
       "      <td>Oral Answers to Questions</td>\n",
       "      <td>Profile of Jobs and Industries on Fair Conside...</td>\n",
       "      <td>30 Mr Chong Kee Hiong asked the Minister for M...</td>\n",
       "      <td>[The Minister for Manpower (Mrs Josephine Teo)...</td>\n",
       "      <td>30 chong kee hiong asked manpower regard fair ...</td>\n",
       "      <td>Workforce Support and Employment</td>\n",
       "    </tr>\n",
       "    <tr>\n",
       "      <th>56</th>\n",
       "      <td>Oral Answers to Questions</td>\n",
       "      <td>Clarification on Withdrawal of CPF Savings at ...</td>\n",
       "      <td>1 Mr Lim Biow Chuan asked the Minister for Man...</td>\n",
       "      <td>Mr Chong Kee Hiong,Mr Liang Eng Hwa,Mr Patrick...</td>\n",
       "      <td>1 lim biow chuan asked manpower cpf board ( ) ...</td>\n",
       "      <td>Legislative Matters and Amendments</td>\n",
       "    </tr>\n",
       "    <tr>\n",
       "      <th>59</th>\n",
       "      <td>Oral Answers to Questions</td>\n",
       "      <td>Singaporeans' Perception of Local Brands and P...</td>\n",
       "      <td>1 Dr Lim Wee Kiak asked the Minister for Trade...</td>\n",
       "      <td>[Dr Lim Wee Kiak (Sembawang), The Senior Minis...</td>\n",
       "      <td>1 dr lim wee kiak asked trade industry ( indus...</td>\n",
       "      <td>Digital Transformation in Industry</td>\n",
       "    </tr>\n",
       "    <tr>\n",
       "      <th>64</th>\n",
       "      <td>Oral Answers to Questions</td>\n",
       "      <td>Percentage of Singaporean Mother Tongue Teache...</td>\n",
       "      <td>21 Mr Darryl David asked the Minister for Soci...</td>\n",
       "      <td>[The Minister for Social and Family Developmen...</td>\n",
       "      <td>21 darryl david asked social family developmen...</td>\n",
       "      <td>Education and Support Programmes</td>\n",
       "    </tr>\n",
       "    <tr>\n",
       "      <th>73</th>\n",
       "      <td>Oral Answers to Questions</td>\n",
       "      <td>Analysis that Supported Development of SecureM...</td>\n",
       "      <td>11 Assoc Prof Walter Theseira asked the Minist...</td>\n",
       "      <td>[The Minister for Transport (Mr Khaw Boon Wan)...</td>\n",
       "      <td>11 assoc prof walter theseira asked transport ...</td>\n",
       "      <td>Public Transport and Waste Management</td>\n",
       "    </tr>\n",
       "    <tr>\n",
       "      <th>74</th>\n",
       "      <td>Oral Answers to Questions</td>\n",
       "      <td>Top Five Industries where Freelancers Venture ...</td>\n",
       "      <td>4 Dr Lim Wee Kiak asked the Minister for Manpo...</td>\n",
       "      <td>[Dr Lim Wee Kiak (Sembawang), The Second Minis...</td>\n",
       "      <td>4 dr lim wee kiak asked manpower ( ) industry ...</td>\n",
       "      <td>Education and Support Programmes</td>\n",
       "    </tr>\n",
       "    <tr>\n",
       "      <th>89</th>\n",
       "      <td>Written Answers to Questions for Oral Answer N...</td>\n",
       "      <td>Impact of COVID-19 Situation on Singapore’s Cl...</td>\n",
       "      <td>26 Mr Kwek Hian Chuan Henry asked the Minister...</td>\n",
       "      <td>[Mr Kwek Hian Chuan Henry, Mr Masagos Zulkifli...</td>\n",
       "      <td>26 kwek hian chuan henry asked environment wat...</td>\n",
       "      <td>Digital Transformation in Industry</td>\n",
       "    </tr>\n",
       "    <tr>\n",
       "      <th>90</th>\n",
       "      <td>Oral Answers to Questions</td>\n",
       "      <td>Plans for Allied Educators in Schools for Lear...</td>\n",
       "      <td>1 Mr Leon Perera asked the Minister for Educat...</td>\n",
       "      <td>[The Senior Parliamentary Secretary to the Min...</td>\n",
       "      <td>1 leon perera asked education change planned r...</td>\n",
       "      <td>Education and Support Programmes</td>\n",
       "    </tr>\n",
       "    <tr>\n",
       "      <th>100</th>\n",
       "      <td>Oral Answers to Questions</td>\n",
       "      <td>More Financial Incentives and Charging Points ...</td>\n",
       "      <td>20 Er Dr Lee Bee Wah asked\\t the Minister for ...</td>\n",
       "      <td>[The Minister for Transport (Mr Khaw Boon Wan)...</td>\n",
       "      <td>20 er dr lee bee wah asked transport ( ) 's po...</td>\n",
       "      <td>Public Transport and Waste Management</td>\n",
       "    </tr>\n",
       "    <tr>\n",
       "      <th>107</th>\n",
       "      <td>Oral Answers to Questions</td>\n",
       "      <td>Effectiveness of Support Schemes in Helping PM...</td>\n",
       "      <td>9 Ms Foo Mee Har asked\\tthe Minister for Manpo...</td>\n",
       "      <td>Ms Foo Mee Har,The Minister for Manpower (Mr L...</td>\n",
       "      <td>9 m foo mee har asked manpower light job layof...</td>\n",
       "      <td>Workforce Support and Employment</td>\n",
       "    </tr>\n",
       "    <tr>\n",
       "      <th>108</th>\n",
       "      <td>Oral Answers to Questions</td>\n",
       "      <td>Extending Mandatory Time-frame for When Govern...</td>\n",
       "      <td>3 Mr Louis Ng Kok Kwang asked the Prime Minist...</td>\n",
       "      <td>[The Minister for Manpower and Second Minister...</td>\n",
       "      <td>3 louis ng kok kwang asked consider increasing...</td>\n",
       "      <td>National Defence and Security</td>\n",
       "    </tr>\n",
       "    <tr>\n",
       "      <th>109</th>\n",
       "      <td>Oral Answers to Questions</td>\n",
       "      <td>Impact of Home-Based Learning and School Closu...</td>\n",
       "      <td>5 Mr Darryl David asked the Minister for Educa...</td>\n",
       "      <td>[The Minister for Education (Mr Ong Ye Kung), ...</td>\n",
       "      <td>5 darryl david asked education period home-bas...</td>\n",
       "      <td>Education and Support Programmes</td>\n",
       "    </tr>\n",
       "    <tr>\n",
       "      <th>116</th>\n",
       "      <td>Oral Answers to Questions</td>\n",
       "      <td>Foreign Worker Representation in Tech and IT S...</td>\n",
       "      <td>5 Mr Desmond Choo asked\\t the Minister for Man...</td>\n",
       "      <td>Mr Desmond Choo,Mr Desmond Choo (Tampines),Mr ...</td>\n",
       "      <td>5 desmond choo asked manpower ( ) current brea...</td>\n",
       "      <td>Workforce Support and Employment</td>\n",
       "    </tr>\n",
       "    <tr>\n",
       "      <th>122</th>\n",
       "      <td>Oral Answers to Questions</td>\n",
       "      <td>Effectiveness of Matching and Retraining under...</td>\n",
       "      <td>19 Mr Zaqy Mohamad asked\\tthe Minister for Man...</td>\n",
       "      <td>Mr Desmond Choo (Tampines),Mr Zaqy Mohamad,The...</td>\n",
       "      <td>19 zaqy mohamad asked manpower ( ) 's assessme...</td>\n",
       "      <td>Workforce Support and Employment</td>\n",
       "    </tr>\n",
       "    <tr>\n",
       "      <th>131</th>\n",
       "      <td>Oral Answers to Questions</td>\n",
       "      <td>Demand and Supply of Heavy Vehicle Parking Lots</td>\n",
       "      <td>2 Assoc Prof Fatimah Lateef asked\\tthe Ministe...</td>\n",
       "      <td>Assoc Prof Fatimah Lateef,The Senior Minister ...</td>\n",
       "      <td>2 assoc prof fatimah lateef asked national dev...</td>\n",
       "      <td>Public Transport and Waste Management</td>\n",
       "    </tr>\n",
       "    <tr>\n",
       "      <th>132</th>\n",
       "      <td>Oral Answers to Questions</td>\n",
       "      <td>Dealing with Higher Unemployment Rate</td>\n",
       "      <td>10 Mr Patrick Tay Teck Guan asked\\tthe Ministe...</td>\n",
       "      <td>Mr Liang Eng Hwa,Dr Tan Wu Meng (Jurong),Mr Pa...</td>\n",
       "      <td>10 patrick tay teck guan asked manpower light ...</td>\n",
       "      <td>Workforce Support and Employment</td>\n",
       "    </tr>\n",
       "    <tr>\n",
       "      <th>143</th>\n",
       "      <td>Oral Answers to Questions</td>\n",
       "      <td>Measuring Quality of Healthcare Delivery and A...</td>\n",
       "      <td>13 Ms Joan Pereira asked\\tthe Minister for Hea...</td>\n",
       "      <td>[The Minister for Health (Mr Gan Kim Yong), Ms...</td>\n",
       "      <td>13 m joan pereira asked health ( ) benchmark u...</td>\n",
       "      <td>Community Care and Services</td>\n",
       "    </tr>\n",
       "    <tr>\n",
       "      <th>146</th>\n",
       "      <td>Written Answers to Questions for Oral Answer N...</td>\n",
       "      <td>Progress of EntrePass Scheme</td>\n",
       "      <td>54 Mr Saktiandi Supaat asked the Minister for ...</td>\n",
       "      <td>[Mr Saktiandi Supaat, Mr S Iswaran]</td>\n",
       "      <td>54 saktiandi supaat asked trade industry ( ind...</td>\n",
       "      <td>Digital Transformation in Industry</td>\n",
       "    </tr>\n",
       "    <tr>\n",
       "      <th>158</th>\n",
       "      <td>Oral Answers to Questions</td>\n",
       "      <td>Sustainability of Rail Reliability Levels</td>\n",
       "      <td>3 Mr Sitoh Yih Pin asked the Minister for Tran...</td>\n",
       "      <td>[The Minister for Transport (Mr Khaw Boon Wan)...</td>\n",
       "      <td>3 sitoh yih pin asked transport provide update...</td>\n",
       "      <td>Public Transport and Waste Management</td>\n",
       "    </tr>\n",
       "    <tr>\n",
       "      <th>159</th>\n",
       "      <td>Oral Answers to Questions</td>\n",
       "      <td>Complaints on Lapses in Real-time Updates for ...</td>\n",
       "      <td>1 Er Dr Lee Bee Wah asked\\tthe Minister for Tr...</td>\n",
       "      <td>Er Dr Lee Bee Wah (Nee Soon),Er Dr Lee Bee Wah...</td>\n",
       "      <td>1 er dr lee bee wah asked transport ( ) lta aw...</td>\n",
       "      <td>Public Transport and Waste Management</td>\n",
       "    </tr>\n",
       "  </tbody>\n",
       "</table>\n",
       "</div>"
      ],
      "text/plain": [
       "                                          Section Name  \\\n",
       "0                            Oral Answers to Questions   \n",
       "1    Written Answers to Questions for Oral Answer N...   \n",
       "3                            Oral Answers to Questions   \n",
       "13                           Oral Answers to Questions   \n",
       "14                           Oral Answers to Questions   \n",
       "15                           Oral Answers to Questions   \n",
       "24   Written Answers to Questions for Oral Answer N...   \n",
       "30                           Oral Answers to Questions   \n",
       "32   Written Answers to Questions for Oral Answer N...   \n",
       "34                           Oral Answers to Questions   \n",
       "40                           Oral Answers to Questions   \n",
       "41                           Oral Answers to Questions   \n",
       "52                           Oral Answers to Questions   \n",
       "53                           Oral Answers to Questions   \n",
       "54                           Oral Answers to Questions   \n",
       "56                           Oral Answers to Questions   \n",
       "59                           Oral Answers to Questions   \n",
       "64                           Oral Answers to Questions   \n",
       "73                           Oral Answers to Questions   \n",
       "74                           Oral Answers to Questions   \n",
       "89   Written Answers to Questions for Oral Answer N...   \n",
       "90                           Oral Answers to Questions   \n",
       "100                          Oral Answers to Questions   \n",
       "107                          Oral Answers to Questions   \n",
       "108                          Oral Answers to Questions   \n",
       "109                          Oral Answers to Questions   \n",
       "116                          Oral Answers to Questions   \n",
       "122                          Oral Answers to Questions   \n",
       "131                          Oral Answers to Questions   \n",
       "132                          Oral Answers to Questions   \n",
       "143                          Oral Answers to Questions   \n",
       "146  Written Answers to Questions for Oral Answer N...   \n",
       "158                          Oral Answers to Questions   \n",
       "159                          Oral Answers to Questions   \n",
       "\n",
       "                                                 Title  \\\n",
       "0    Fair Process for Termination Due to Poor Perfo...   \n",
       "1    Details and Framework of Workings of The Speci...   \n",
       "3            Female Representation in Statutory Boards   \n",
       "13   Wage Growth Moving in Tandem with Productivity...   \n",
       "14   Impact of Recent Fires in Australia on Singapo...   \n",
       "15                   Capital Reserve in PUB's Accounts   \n",
       "24   Challenges in Applying for Assistance under Le...   \n",
       "30            Waiting Time for Childcare Centre Places   \n",
       "32   Update on Local Enterprise and Association Dev...   \n",
       "34      Measures to Mitigate Increasing Cost of Living   \n",
       "40   Companies with Measures to Deal with Workplace...   \n",
       "41   Subject-banding in Accordance with Students’ A...   \n",
       "52   Review Polytechnic Courses to Ensure They Stay...   \n",
       "53   Salary Components of Prime Minister and Ministers   \n",
       "54   Profile of Jobs and Industries on Fair Conside...   \n",
       "56   Clarification on Withdrawal of CPF Savings at ...   \n",
       "59   Singaporeans' Perception of Local Brands and P...   \n",
       "64   Percentage of Singaporean Mother Tongue Teache...   \n",
       "73   Analysis that Supported Development of SecureM...   \n",
       "74   Top Five Industries where Freelancers Venture ...   \n",
       "89   Impact of COVID-19 Situation on Singapore’s Cl...   \n",
       "90   Plans for Allied Educators in Schools for Lear...   \n",
       "100  More Financial Incentives and Charging Points ...   \n",
       "107  Effectiveness of Support Schemes in Helping PM...   \n",
       "108  Extending Mandatory Time-frame for When Govern...   \n",
       "109  Impact of Home-Based Learning and School Closu...   \n",
       "116  Foreign Worker Representation in Tech and IT S...   \n",
       "122  Effectiveness of Matching and Retraining under...   \n",
       "131    Demand and Supply of Heavy Vehicle Parking Lots   \n",
       "132              Dealing with Higher Unemployment Rate   \n",
       "143  Measuring Quality of Healthcare Delivery and A...   \n",
       "146                       Progress of EntrePass Scheme   \n",
       "158          Sustainability of Rail Reliability Levels   \n",
       "159  Complaints on Lapses in Real-time Updates for ...   \n",
       "\n",
       "                                                  Text  \\\n",
       "0    1 Dr Tan Wu Meng asked\\tthe Minister for Manpo...   \n",
       "1    22 Assoc Prof Fatimah Lateef asked the Ministe...   \n",
       "3    The following question stood in the name of Ms...   \n",
       "13   1 Mr Saktiandi Supaat asked the Minister for T...   \n",
       "14   29 Mr Seah Kian Peng asked the Minister for th...   \n",
       "15   8 Mr Liang Eng Hwa asked the Minister for Fina...   \n",
       "24   41 Mr Thomas Chua Kee Seng asked the Minister ...   \n",
       "30   5 Er Dr Lee Bee Wah asked\\tthe Minister for So...   \n",
       "32   40 Mr Thomas Chua Kee Seng asked the Minister ...   \n",
       "34   2 Mr Liang Eng Hwa asked the Minister for Trad...   \n",
       "40   8 Assoc Prof Walter Theseira asked the Ministe...   \n",
       "41   1 Ms Irene Quay Siew Ching asked the Minister ...   \n",
       "52   1 Dr Lim Wee Kiak asked the Minister for Educa...   \n",
       "53   1 Mr Alex Yam asked the Prime Minister whether...   \n",
       "54   30 Mr Chong Kee Hiong asked the Minister for M...   \n",
       "56   1 Mr Lim Biow Chuan asked the Minister for Man...   \n",
       "59   1 Dr Lim Wee Kiak asked the Minister for Trade...   \n",
       "64   21 Mr Darryl David asked the Minister for Soci...   \n",
       "73   11 Assoc Prof Walter Theseira asked the Minist...   \n",
       "74   4 Dr Lim Wee Kiak asked the Minister for Manpo...   \n",
       "89   26 Mr Kwek Hian Chuan Henry asked the Minister...   \n",
       "90   1 Mr Leon Perera asked the Minister for Educat...   \n",
       "100  20 Er Dr Lee Bee Wah asked\\t the Minister for ...   \n",
       "107  9 Ms Foo Mee Har asked\\tthe Minister for Manpo...   \n",
       "108  3 Mr Louis Ng Kok Kwang asked the Prime Minist...   \n",
       "109  5 Mr Darryl David asked the Minister for Educa...   \n",
       "116  5 Mr Desmond Choo asked\\t the Minister for Man...   \n",
       "122  19 Mr Zaqy Mohamad asked\\tthe Minister for Man...   \n",
       "131  2 Assoc Prof Fatimah Lateef asked\\tthe Ministe...   \n",
       "132  10 Mr Patrick Tay Teck Guan asked\\tthe Ministe...   \n",
       "143  13 Ms Joan Pereira asked\\tthe Minister for Hea...   \n",
       "146  54 Mr Saktiandi Supaat asked the Minister for ...   \n",
       "158  3 Mr Sitoh Yih Pin asked the Minister for Tran...   \n",
       "159  1 Er Dr Lee Bee Wah asked\\tthe Minister for Tr...   \n",
       "\n",
       "                                              Speakers  \\\n",
       "0    Er Dr Lee Bee Wah (Nee Soon),Mr Zainal Sapari ...   \n",
       "1                [Prof Fatimah Lateef, Mr Desmond Lee]   \n",
       "3    [The Senior Parliamentary Secretary to the Min...   \n",
       "13   Mr Saktiandi Supaat,The Senior Minister of Sta...   \n",
       "14   [The Minister for the Environment and Water Re...   \n",
       "15   [Mr Pritam Singh, Mr Liang Eng Hwa, Mr Low Thi...   \n",
       "24             Mr Thomas Chua Kee Seng,Mr Lim Swee Say   \n",
       "30   [The Minister for Social and Family Developmen...   \n",
       "32        [Mr Thomas Chua Kee Seng, Mr Chan Chun Sing]   \n",
       "34   [The Minister for Trade and Industry (Mr Chan ...   \n",
       "40   [The Senior Parliamentary Secretary to the Min...   \n",
       "41   [The Second Minister for Education (Ms Indrane...   \n",
       "52   [The Senior Parliamentary Secretary to the Min...   \n",
       "53   [The Deputy Prime Minister and Coordinating Mi...   \n",
       "54   [The Minister for Manpower (Mrs Josephine Teo)...   \n",
       "56   Mr Chong Kee Hiong,Mr Liang Eng Hwa,Mr Patrick...   \n",
       "59   [Dr Lim Wee Kiak (Sembawang), The Senior Minis...   \n",
       "64   [The Minister for Social and Family Developmen...   \n",
       "73   [The Minister for Transport (Mr Khaw Boon Wan)...   \n",
       "74   [Dr Lim Wee Kiak (Sembawang), The Second Minis...   \n",
       "89   [Mr Kwek Hian Chuan Henry, Mr Masagos Zulkifli...   \n",
       "90   [The Senior Parliamentary Secretary to the Min...   \n",
       "100  [The Minister for Transport (Mr Khaw Boon Wan)...   \n",
       "107  Ms Foo Mee Har,The Minister for Manpower (Mr L...   \n",
       "108  [The Minister for Manpower and Second Minister...   \n",
       "109  [The Minister for Education (Mr Ong Ye Kung), ...   \n",
       "116  Mr Desmond Choo,Mr Desmond Choo (Tampines),Mr ...   \n",
       "122  Mr Desmond Choo (Tampines),Mr Zaqy Mohamad,The...   \n",
       "131  Assoc Prof Fatimah Lateef,The Senior Minister ...   \n",
       "132  Mr Liang Eng Hwa,Dr Tan Wu Meng (Jurong),Mr Pa...   \n",
       "143  [The Minister for Health (Mr Gan Kim Yong), Ms...   \n",
       "146                [Mr Saktiandi Supaat, Mr S Iswaran]   \n",
       "158  [The Minister for Transport (Mr Khaw Boon Wan)...   \n",
       "159  Er Dr Lee Bee Wah (Nee Soon),Er Dr Lee Bee Wah...   \n",
       "\n",
       "                                       Lemmatized Text  \\\n",
       "0    1 dr tan wu meng asked manpower provide update...   \n",
       "1    22 assoc prof fatimah lateef asked social fami...   \n",
       "3    following question stood m anthea ong –1 ask s...   \n",
       "13   1 saktiandi supaat asked trade industry ( ) wa...   \n",
       "14   29 seah kian peng asked environment water reso...   \n",
       "15   8 liang eng hwa asked finance clarify $ 5.3 bi...   \n",
       "24   41 thomas chua kee seng asked manpower ( ) key...   \n",
       "30   5 er dr lee bee wah asked social family develo...   \n",
       "32   40 thomas chua kee seng asked trade industry p...   \n",
       "34   2 liang eng hwa asked trade industry ( ) gener...   \n",
       "40   8 assoc prof walter theseira asked manpower st...   \n",
       "41   1 m irene quay siew ching asked education rega...   \n",
       "52   1 dr lim wee kiak asked education ( higher edu...   \n",
       "53   1 alex yam asked ( ) list component salary min...   \n",
       "54   30 chong kee hiong asked manpower regard fair ...   \n",
       "56   1 lim biow chuan asked manpower cpf board ( ) ...   \n",
       "59   1 dr lim wee kiak asked trade industry ( indus...   \n",
       "64   21 darryl david asked social family developmen...   \n",
       "73   11 assoc prof walter theseira asked transport ...   \n",
       "74   4 dr lim wee kiak asked manpower ( ) industry ...   \n",
       "89   26 kwek hian chuan henry asked environment wat...   \n",
       "90   1 leon perera asked education change planned r...   \n",
       "100  20 er dr lee bee wah asked transport ( ) 's po...   \n",
       "107  9 m foo mee har asked manpower light job layof...   \n",
       "108  3 louis ng kok kwang asked consider increasing...   \n",
       "109  5 darryl david asked education period home-bas...   \n",
       "116  5 desmond choo asked manpower ( ) current brea...   \n",
       "122  19 zaqy mohamad asked manpower ( ) 's assessme...   \n",
       "131  2 assoc prof fatimah lateef asked national dev...   \n",
       "132  10 patrick tay teck guan asked manpower light ...   \n",
       "143  13 m joan pereira asked health ( ) benchmark u...   \n",
       "146  54 saktiandi supaat asked trade industry ( ind...   \n",
       "158  3 sitoh yih pin asked transport provide update...   \n",
       "159  1 er dr lee bee wah asked transport ( ) lta aw...   \n",
       "\n",
       "                                     Topic  \n",
       "0         Workforce Support and Employment  \n",
       "1              Community Care and Services  \n",
       "3              Community Care and Services  \n",
       "13      Digital Transformation in Industry  \n",
       "14   Public Transport and Waste Management  \n",
       "15        Workforce Support and Employment  \n",
       "24      Digital Transformation in Industry  \n",
       "30             Community Care and Services  \n",
       "32      Digital Transformation in Industry  \n",
       "34        Workforce Support and Employment  \n",
       "40        Workforce Support and Employment  \n",
       "41        Education and Support Programmes  \n",
       "52        Education and Support Programmes  \n",
       "53      Law Enforcement and Rehabilitation  \n",
       "54        Workforce Support and Employment  \n",
       "56      Legislative Matters and Amendments  \n",
       "59      Digital Transformation in Industry  \n",
       "64        Education and Support Programmes  \n",
       "73   Public Transport and Waste Management  \n",
       "74        Education and Support Programmes  \n",
       "89      Digital Transformation in Industry  \n",
       "90        Education and Support Programmes  \n",
       "100  Public Transport and Waste Management  \n",
       "107       Workforce Support and Employment  \n",
       "108          National Defence and Security  \n",
       "109       Education and Support Programmes  \n",
       "116       Workforce Support and Employment  \n",
       "122       Workforce Support and Employment  \n",
       "131  Public Transport and Waste Management  \n",
       "132       Workforce Support and Employment  \n",
       "143            Community Care and Services  \n",
       "146     Digital Transformation in Industry  \n",
       "158  Public Transport and Waste Management  \n",
       "159  Public Transport and Waste Management  "
      ]
     },
     "execution_count": 13,
     "metadata": {},
     "output_type": "execute_result"
    }
   ],
   "source": [
    "df_questions = df[df[\"Section Name\"].str.contains(\"Questions\")]\n",
    "df_questions"
   ]
  },
  {
   "cell_type": "code",
   "execution_count": 14,
   "metadata": {},
   "outputs": [
    {
     "data": {
      "text/plain": [
       "34"
      ]
     },
     "execution_count": 14,
     "metadata": {},
     "output_type": "execute_result"
    }
   ],
   "source": [
    "len(df_questions)"
   ]
  },
  {
   "cell_type": "code",
   "execution_count": 15,
   "metadata": {},
   "outputs": [
    {
     "name": "stderr",
     "output_type": "stream",
     "text": [
      "<>:2: SyntaxWarning:\n",
      "\n",
      "invalid escape sequence '\\['\n",
      "\n",
      "<>:2: SyntaxWarning:\n",
      "\n",
      "invalid escape sequence '\\['\n",
      "\n",
      "/var/folders/3f/xhw3kd5d62v0s4_2fvl3_7480000gn/T/ipykernel_84122/2027961319.py:2: SyntaxWarning:\n",
      "\n",
      "invalid escape sequence '\\['\n",
      "\n",
      "/var/folders/3f/xhw3kd5d62v0s4_2fvl3_7480000gn/T/ipykernel_84122/2027961319.py:2: SettingWithCopyWarning:\n",
      "\n",
      "\n",
      "A value is trying to be set on a copy of a slice from a DataFrame.\n",
      "Try using .loc[row_indexer,col_indexer] = value instead\n",
      "\n",
      "See the caveats in the documentation: https://pandas.pydata.org/pandas-docs/stable/user_guide/indexing.html#returning-a-view-versus-a-copy\n",
      "\n",
      "/var/folders/3f/xhw3kd5d62v0s4_2fvl3_7480000gn/T/ipykernel_84122/2027961319.py:30: SettingWithCopyWarning:\n",
      "\n",
      "\n",
      "A value is trying to be set on a copy of a slice from a DataFrame.\n",
      "Try using .loc[row_indexer,col_indexer] = value instead\n",
      "\n",
      "See the caveats in the documentation: https://pandas.pydata.org/pandas-docs/stable/user_guide/indexing.html#returning-a-view-versus-a-copy\n",
      "\n"
     ]
    }
   ],
   "source": [
    "# Remove the square brackets from the Speakers column\n",
    "df_questions['Speakers'] = df_questions['Speakers'].str.replace('[\\[\\]]', '', regex=True)\n",
    "\n",
    "# Function to check if the speaker asked a question\n",
    "def asked_question(text, speaker):\n",
    "    parts = speaker.split()\n",
    "    for part in parts:\n",
    "        # Regex pattern to capture name after \"The following question stood in the name of\"\n",
    "        pattern1 = re.compile(r'The\\s+following\\s+question\\s+stood\\s+in\\s+the\\s+name\\s+of\\s+([\\w\\s\\-]+)[^\\w\\s]*')\n",
    "\n",
    "        # Regex pattern to capture name before \"asked\"\n",
    "        pattern2 = re.compile(r'([\\w\\s\\-]+)\\s+asked', re.IGNORECASE)\n",
    "\n",
    "        # Find all matches for both patterns\n",
    "        matches1 = pattern1.findall(text)\n",
    "        matches2 = pattern2.findall(text)\n",
    "\n",
    "        # Check if any part of the speaker's name matches\n",
    "        if any(re.search(r'\\b{}\\b'.format(re.escape(part)), match, re.IGNORECASE) for match in matches1 + matches2):\n",
    "            return True\n",
    "\n",
    "    return False\n",
    "\n",
    "# Apply the function to determine if each speaker asked a question\n",
    "def get_mps_who_asked_questions(row):\n",
    "    speakers = [s.strip() for s in row['Speakers'].split(',')]\n",
    "    mps_asked = [s for s in speakers if asked_question(row['Text'], s)]\n",
    "    return mps_asked\n",
    "\n",
    "df_questions['MPs_Asked'] = df_questions.apply(get_mps_who_asked_questions, axis=1)"
   ]
  },
  {
   "cell_type": "code",
   "execution_count": 16,
   "metadata": {},
   "outputs": [
    {
     "data": {
      "text/plain": [
       "\"The following question stood in the name of Ms Anthea Ong\\xa0\\t–1 To ask\\xa0the Minister for Social and Family Development (a) how we are doing with our target for 20% female representation in Statutory Boards and listed companies by 2020; (b) what steps are being taken to close the gender salary gap of about 20%; and (c) in view of the upcoming International Women's Day theme of #BalanceforBetter, what are existing imbalances in our gender equality pursuit that we must balance for a better Singapore.\\xa0 \\tAssoc Prof Walter Theseira (Nominated Member): Question No 1, Sir.The Senior Parliamentary Secretary to the Minister for Social and Family Development (Assoc Prof Dr Muhammad Faishal Ibrahim) (for the Minister for Social and Family Development): Mr Speaker, a few of the issues being asked in this Parliamentary Question (PQ) are similar to the issues being raised by Members Prof Fatimah Lateef and Ms Rahayu Mahzam in the COS cuts for MSF. May I have your permission to address the issues together when I make my reply during the MSF COS? I have spoken to the Member Ms Anthea Ong and she is agreeable to this arrangement.\\tMr Speaker: I am agreeable also. Assoc Prof Dr Muhammad Faishal Ibrahim: Thank you, Sir.\""
      ]
     },
     "execution_count": 16,
     "metadata": {},
     "output_type": "execute_result"
    }
   ],
   "source": [
    "df_questions.loc[3][\"Text\"]"
   ]
  },
  {
   "cell_type": "code",
   "execution_count": 17,
   "metadata": {},
   "outputs": [
    {
     "data": {
      "text/html": [
       "<div>\n",
       "<style scoped>\n",
       "    .dataframe tbody tr th:only-of-type {\n",
       "        vertical-align: middle;\n",
       "    }\n",
       "\n",
       "    .dataframe tbody tr th {\n",
       "        vertical-align: top;\n",
       "    }\n",
       "\n",
       "    .dataframe thead th {\n",
       "        text-align: right;\n",
       "    }\n",
       "</style>\n",
       "<table border=\"1\" class=\"dataframe\">\n",
       "  <thead>\n",
       "    <tr style=\"text-align: right;\">\n",
       "      <th></th>\n",
       "      <th>Section Name</th>\n",
       "      <th>Title</th>\n",
       "      <th>Text</th>\n",
       "      <th>Speakers</th>\n",
       "      <th>Lemmatized Text</th>\n",
       "      <th>Topic</th>\n",
       "      <th>MPs_Asked</th>\n",
       "    </tr>\n",
       "  </thead>\n",
       "  <tbody>\n",
       "    <tr>\n",
       "      <th>0</th>\n",
       "      <td>Oral Answers to Questions</td>\n",
       "      <td>Fair Process for Termination Due to Poor Perfo...</td>\n",
       "      <td>1 Dr Tan Wu Meng asked\\tthe Minister for Manpo...</td>\n",
       "      <td>Er Dr Lee Bee Wah (Nee Soon),Mr Zainal Sapari ...</td>\n",
       "      <td>1 dr tan wu meng asked manpower provide update...</td>\n",
       "      <td>Workforce Support and Employment</td>\n",
       "      <td>[Er Dr Lee Bee Wah (Nee Soon), Dr Tan Wu Meng ...</td>\n",
       "    </tr>\n",
       "    <tr>\n",
       "      <th>1</th>\n",
       "      <td>Written Answers to Questions for Oral Answer N...</td>\n",
       "      <td>Details and Framework of Workings of The Speci...</td>\n",
       "      <td>22 Assoc Prof Fatimah Lateef asked the Ministe...</td>\n",
       "      <td>Prof Fatimah Lateef, Mr Desmond Lee</td>\n",
       "      <td>22 assoc prof fatimah lateef asked social fami...</td>\n",
       "      <td>Community Care and Services</td>\n",
       "      <td>[Prof Fatimah Lateef]</td>\n",
       "    </tr>\n",
       "    <tr>\n",
       "      <th>3</th>\n",
       "      <td>Oral Answers to Questions</td>\n",
       "      <td>Female Representation in Statutory Boards</td>\n",
       "      <td>The following question stood in the name of Ms...</td>\n",
       "      <td>The Senior Parliamentary Secretary to the Mini...</td>\n",
       "      <td>following question stood m anthea ong –1 ask s...</td>\n",
       "      <td>Community Care and Services</td>\n",
       "      <td>[The Senior Parliamentary Secretary to the Min...</td>\n",
       "    </tr>\n",
       "    <tr>\n",
       "      <th>13</th>\n",
       "      <td>Oral Answers to Questions</td>\n",
       "      <td>Wage Growth Moving in Tandem with Productivity...</td>\n",
       "      <td>1 Mr Saktiandi Supaat asked the Minister for T...</td>\n",
       "      <td>Mr Saktiandi Supaat,The Senior Minister of Sta...</td>\n",
       "      <td>1 saktiandi supaat asked trade industry ( ) wa...</td>\n",
       "      <td>Digital Transformation in Industry</td>\n",
       "      <td>[Mr Saktiandi Supaat, Saktiandi Supaat, Mr Sak...</td>\n",
       "    </tr>\n",
       "    <tr>\n",
       "      <th>14</th>\n",
       "      <td>Oral Answers to Questions</td>\n",
       "      <td>Impact of Recent Fires in Australia on Singapo...</td>\n",
       "      <td>29 Mr Seah Kian Peng asked the Minister for th...</td>\n",
       "      <td>The Minister for the Environment and Water Res...</td>\n",
       "      <td>29 seah kian peng asked environment water reso...</td>\n",
       "      <td>Public Transport and Waste Management</td>\n",
       "      <td>[Mr Seah Kian Peng, Mr Seah Kian Peng (Marine ...</td>\n",
       "    </tr>\n",
       "    <tr>\n",
       "      <th>15</th>\n",
       "      <td>Oral Answers to Questions</td>\n",
       "      <td>Capital Reserve in PUB's Accounts</td>\n",
       "      <td>8 Mr Liang Eng Hwa asked the Minister for Fina...</td>\n",
       "      <td>Mr Pritam Singh, Mr Liang Eng Hwa, Mr Low Thia...</td>\n",
       "      <td>8 liang eng hwa asked finance clarify $ 5.3 bi...</td>\n",
       "      <td>Workforce Support and Employment</td>\n",
       "      <td>[Mr Pritam Singh, Mr Liang Eng Hwa, Mr Low Thi...</td>\n",
       "    </tr>\n",
       "    <tr>\n",
       "      <th>24</th>\n",
       "      <td>Written Answers to Questions for Oral Answer N...</td>\n",
       "      <td>Challenges in Applying for Assistance under Le...</td>\n",
       "      <td>41 Mr Thomas Chua Kee Seng asked the Minister ...</td>\n",
       "      <td>Mr Thomas Chua Kee Seng,Mr Lim Swee Say</td>\n",
       "      <td>41 thomas chua kee seng asked manpower ( ) key...</td>\n",
       "      <td>Digital Transformation in Industry</td>\n",
       "      <td>[Mr Thomas Chua Kee Seng, Mr Lim Swee Say]</td>\n",
       "    </tr>\n",
       "    <tr>\n",
       "      <th>30</th>\n",
       "      <td>Oral Answers to Questions</td>\n",
       "      <td>Waiting Time for Childcare Centre Places</td>\n",
       "      <td>5 Er Dr Lee Bee Wah asked\\tthe Minister for So...</td>\n",
       "      <td>The Minister for Social and Family Development...</td>\n",
       "      <td>5 er dr lee bee wah asked social family develo...</td>\n",
       "      <td>Community Care and Services</td>\n",
       "      <td>[Er Dr Lee Bee Wah, Er Dr Lee Bee Wah (Nee Soo...</td>\n",
       "    </tr>\n",
       "    <tr>\n",
       "      <th>32</th>\n",
       "      <td>Written Answers to Questions for Oral Answer N...</td>\n",
       "      <td>Update on Local Enterprise and Association Dev...</td>\n",
       "      <td>40 Mr Thomas Chua Kee Seng asked the Minister ...</td>\n",
       "      <td>Mr Thomas Chua Kee Seng, Mr Chan Chun Sing</td>\n",
       "      <td>40 thomas chua kee seng asked trade industry p...</td>\n",
       "      <td>Digital Transformation in Industry</td>\n",
       "      <td>[Mr Thomas Chua Kee Seng, Mr Chan Chun Sing]</td>\n",
       "    </tr>\n",
       "    <tr>\n",
       "      <th>34</th>\n",
       "      <td>Oral Answers to Questions</td>\n",
       "      <td>Measures to Mitigate Increasing Cost of Living</td>\n",
       "      <td>2 Mr Liang Eng Hwa asked the Minister for Trad...</td>\n",
       "      <td>The Minister for Trade and Industry (Mr Chan C...</td>\n",
       "      <td>2 liang eng hwa asked trade industry ( ) gener...</td>\n",
       "      <td>Workforce Support and Employment</td>\n",
       "      <td>[The Minister for Trade and Industry (Mr Chan ...</td>\n",
       "    </tr>\n",
       "    <tr>\n",
       "      <th>40</th>\n",
       "      <td>Oral Answers to Questions</td>\n",
       "      <td>Companies with Measures to Deal with Workplace...</td>\n",
       "      <td>8 Assoc Prof Walter Theseira asked the Ministe...</td>\n",
       "      <td>The Senior Parliamentary Secretary to the Mini...</td>\n",
       "      <td>8 assoc prof walter theseira asked manpower st...</td>\n",
       "      <td>Workforce Support and Employment</td>\n",
       "      <td>[Assoc Prof Walter Theseira, Assoc Prof Walter...</td>\n",
       "    </tr>\n",
       "    <tr>\n",
       "      <th>41</th>\n",
       "      <td>Oral Answers to Questions</td>\n",
       "      <td>Subject-banding in Accordance with Students’ A...</td>\n",
       "      <td>1 Ms Irene Quay Siew Ching asked the Minister ...</td>\n",
       "      <td>The Second Minister for Education (Ms Indranee...</td>\n",
       "      <td>1 m irene quay siew ching asked education rega...</td>\n",
       "      <td>Education and Support Programmes</td>\n",
       "      <td>[Ms Irene Quay Siew Ching]</td>\n",
       "    </tr>\n",
       "    <tr>\n",
       "      <th>52</th>\n",
       "      <td>Oral Answers to Questions</td>\n",
       "      <td>Review Polytechnic Courses to Ensure They Stay...</td>\n",
       "      <td>1 Dr Lim Wee Kiak asked the Minister for Educa...</td>\n",
       "      <td>The Senior Parliamentary Secretary to the Mini...</td>\n",
       "      <td>1 dr lim wee kiak asked education ( higher edu...</td>\n",
       "      <td>Education and Support Programmes</td>\n",
       "      <td>[Dr Lim Wee Kiak]</td>\n",
       "    </tr>\n",
       "    <tr>\n",
       "      <th>53</th>\n",
       "      <td>Oral Answers to Questions</td>\n",
       "      <td>Salary Components of Prime Minister and Ministers</td>\n",
       "      <td>1 Mr Alex Yam asked the Prime Minister whether...</td>\n",
       "      <td>The Deputy Prime Minister and Coordinating Min...</td>\n",
       "      <td>1 alex yam asked ( ) list component salary min...</td>\n",
       "      <td>Law Enforcement and Rehabilitation</td>\n",
       "      <td>[The Deputy Prime Minister and Coordinating Mi...</td>\n",
       "    </tr>\n",
       "    <tr>\n",
       "      <th>54</th>\n",
       "      <td>Oral Answers to Questions</td>\n",
       "      <td>Profile of Jobs and Industries on Fair Conside...</td>\n",
       "      <td>30 Mr Chong Kee Hiong asked the Minister for M...</td>\n",
       "      <td>The Minister for Manpower (Mrs Josephine Teo),...</td>\n",
       "      <td>30 chong kee hiong asked manpower regard fair ...</td>\n",
       "      <td>Workforce Support and Employment</td>\n",
       "      <td>[The Minister for Manpower (Mrs Josephine Teo)...</td>\n",
       "    </tr>\n",
       "    <tr>\n",
       "      <th>56</th>\n",
       "      <td>Oral Answers to Questions</td>\n",
       "      <td>Clarification on Withdrawal of CPF Savings at ...</td>\n",
       "      <td>1 Mr Lim Biow Chuan asked the Minister for Man...</td>\n",
       "      <td>Mr Chong Kee Hiong,Mr Liang Eng Hwa,Mr Patrick...</td>\n",
       "      <td>1 lim biow chuan asked manpower cpf board ( ) ...</td>\n",
       "      <td>Legislative Matters and Amendments</td>\n",
       "      <td>[Mr Chong Kee Hiong, Mr Liang Eng Hwa, Mr Patr...</td>\n",
       "    </tr>\n",
       "    <tr>\n",
       "      <th>59</th>\n",
       "      <td>Oral Answers to Questions</td>\n",
       "      <td>Singaporeans' Perception of Local Brands and P...</td>\n",
       "      <td>1 Dr Lim Wee Kiak asked the Minister for Trade...</td>\n",
       "      <td>Dr Lim Wee Kiak (Sembawang), The Senior Minist...</td>\n",
       "      <td>1 dr lim wee kiak asked trade industry ( indus...</td>\n",
       "      <td>Digital Transformation in Industry</td>\n",
       "      <td>[Dr Lim Wee Kiak (Sembawang), Dr Lim Wee Kiak]</td>\n",
       "    </tr>\n",
       "    <tr>\n",
       "      <th>64</th>\n",
       "      <td>Oral Answers to Questions</td>\n",
       "      <td>Percentage of Singaporean Mother Tongue Teache...</td>\n",
       "      <td>21 Mr Darryl David asked the Minister for Soci...</td>\n",
       "      <td>The Minister for Social and Family Development...</td>\n",
       "      <td>21 darryl david asked social family developmen...</td>\n",
       "      <td>Education and Support Programmes</td>\n",
       "      <td>[Mr Speaker, Mr Darryl David (Ang Mo Kio), Mr ...</td>\n",
       "    </tr>\n",
       "    <tr>\n",
       "      <th>73</th>\n",
       "      <td>Oral Answers to Questions</td>\n",
       "      <td>Analysis that Supported Development of SecureM...</td>\n",
       "      <td>11 Assoc Prof Walter Theseira asked the Minist...</td>\n",
       "      <td>The Minister for Transport (Mr Khaw Boon Wan),...</td>\n",
       "      <td>11 assoc prof walter theseira asked transport ...</td>\n",
       "      <td>Public Transport and Waste Management</td>\n",
       "      <td>[Assoc Prof Walter Theseira, Assoc Prof Walter...</td>\n",
       "    </tr>\n",
       "    <tr>\n",
       "      <th>74</th>\n",
       "      <td>Oral Answers to Questions</td>\n",
       "      <td>Top Five Industries where Freelancers Venture ...</td>\n",
       "      <td>4 Dr Lim Wee Kiak asked the Minister for Manpo...</td>\n",
       "      <td>Dr Lim Wee Kiak (Sembawang), The Second Minist...</td>\n",
       "      <td>4 dr lim wee kiak asked manpower ( ) industry ...</td>\n",
       "      <td>Education and Support Programmes</td>\n",
       "      <td>[Dr Lim Wee Kiak (Sembawang), Dr Lim Wee Kiak]</td>\n",
       "    </tr>\n",
       "    <tr>\n",
       "      <th>89</th>\n",
       "      <td>Written Answers to Questions for Oral Answer N...</td>\n",
       "      <td>Impact of COVID-19 Situation on Singapore’s Cl...</td>\n",
       "      <td>26 Mr Kwek Hian Chuan Henry asked the Minister...</td>\n",
       "      <td>Mr Kwek Hian Chuan Henry, Mr Masagos Zulkifli ...</td>\n",
       "      <td>26 kwek hian chuan henry asked environment wat...</td>\n",
       "      <td>Digital Transformation in Industry</td>\n",
       "      <td>[Mr Kwek Hian Chuan Henry, Mr Masagos Zulkifli...</td>\n",
       "    </tr>\n",
       "    <tr>\n",
       "      <th>90</th>\n",
       "      <td>Oral Answers to Questions</td>\n",
       "      <td>Plans for Allied Educators in Schools for Lear...</td>\n",
       "      <td>1 Mr Leon Perera asked the Minister for Educat...</td>\n",
       "      <td>The Senior Parliamentary Secretary to the Mini...</td>\n",
       "      <td>1 leon perera asked education change planned r...</td>\n",
       "      <td>Education and Support Programmes</td>\n",
       "      <td>[Mr Leon Perera, Mr Leon Perera, Mr Leon Perer...</td>\n",
       "    </tr>\n",
       "    <tr>\n",
       "      <th>100</th>\n",
       "      <td>Oral Answers to Questions</td>\n",
       "      <td>More Financial Incentives and Charging Points ...</td>\n",
       "      <td>20 Er Dr Lee Bee Wah asked\\t the Minister for ...</td>\n",
       "      <td>The Minister for Transport (Mr Khaw Boon Wan),...</td>\n",
       "      <td>20 er dr lee bee wah asked transport ( ) 's po...</td>\n",
       "      <td>Public Transport and Waste Management</td>\n",
       "      <td>[Er Dr Lee Bee Wah, Er Dr Lee Bee Wah]</td>\n",
       "    </tr>\n",
       "    <tr>\n",
       "      <th>107</th>\n",
       "      <td>Oral Answers to Questions</td>\n",
       "      <td>Effectiveness of Support Schemes in Helping PM...</td>\n",
       "      <td>9 Ms Foo Mee Har asked\\tthe Minister for Manpo...</td>\n",
       "      <td>Ms Foo Mee Har,The Minister for Manpower (Mr L...</td>\n",
       "      <td>9 m foo mee har asked manpower light job layof...</td>\n",
       "      <td>Workforce Support and Employment</td>\n",
       "      <td>[Ms Foo Mee Har, Ms Foo Mee Har (West Coast)]</td>\n",
       "    </tr>\n",
       "    <tr>\n",
       "      <th>108</th>\n",
       "      <td>Oral Answers to Questions</td>\n",
       "      <td>Extending Mandatory Time-frame for When Govern...</td>\n",
       "      <td>3 Mr Louis Ng Kok Kwang asked the Prime Minist...</td>\n",
       "      <td>The Minister for Manpower and Second Minister ...</td>\n",
       "      <td>3 louis ng kok kwang asked consider increasing...</td>\n",
       "      <td>National Defence and Security</td>\n",
       "      <td>[The Minister for Manpower and Second Minister...</td>\n",
       "    </tr>\n",
       "    <tr>\n",
       "      <th>109</th>\n",
       "      <td>Oral Answers to Questions</td>\n",
       "      <td>Impact of Home-Based Learning and School Closu...</td>\n",
       "      <td>5 Mr Darryl David asked the Minister for Educa...</td>\n",
       "      <td>The Minister for Education (Mr Ong Ye Kung), M...</td>\n",
       "      <td>5 darryl david asked education period home-bas...</td>\n",
       "      <td>Education and Support Programmes</td>\n",
       "      <td>[Mr Darryl David, Mr Darryl David (Ang Mo Kio)...</td>\n",
       "    </tr>\n",
       "    <tr>\n",
       "      <th>116</th>\n",
       "      <td>Oral Answers to Questions</td>\n",
       "      <td>Foreign Worker Representation in Tech and IT S...</td>\n",
       "      <td>5 Mr Desmond Choo asked\\t the Minister for Man...</td>\n",
       "      <td>Mr Desmond Choo,Mr Desmond Choo (Tampines),Mr ...</td>\n",
       "      <td>5 desmond choo asked manpower ( ) current brea...</td>\n",
       "      <td>Workforce Support and Employment</td>\n",
       "      <td>[Mr Desmond Choo, Mr Desmond Choo (Tampines), ...</td>\n",
       "    </tr>\n",
       "    <tr>\n",
       "      <th>122</th>\n",
       "      <td>Oral Answers to Questions</td>\n",
       "      <td>Effectiveness of Matching and Retraining under...</td>\n",
       "      <td>19 Mr Zaqy Mohamad asked\\tthe Minister for Man...</td>\n",
       "      <td>Mr Desmond Choo (Tampines),Mr Zaqy Mohamad,The...</td>\n",
       "      <td>19 zaqy mohamad asked manpower ( ) 's assessme...</td>\n",
       "      <td>Workforce Support and Employment</td>\n",
       "      <td>[Mr Desmond Choo (Tampines), Mr Zaqy Mohamad, ...</td>\n",
       "    </tr>\n",
       "    <tr>\n",
       "      <th>131</th>\n",
       "      <td>Oral Answers to Questions</td>\n",
       "      <td>Demand and Supply of Heavy Vehicle Parking Lots</td>\n",
       "      <td>2 Assoc Prof Fatimah Lateef asked\\tthe Ministe...</td>\n",
       "      <td>Assoc Prof Fatimah Lateef,The Senior Minister ...</td>\n",
       "      <td>2 assoc prof fatimah lateef asked national dev...</td>\n",
       "      <td>Public Transport and Waste Management</td>\n",
       "      <td>[Assoc Prof Fatimah Lateef, Assoc Prof Fatimah...</td>\n",
       "    </tr>\n",
       "    <tr>\n",
       "      <th>132</th>\n",
       "      <td>Oral Answers to Questions</td>\n",
       "      <td>Dealing with Higher Unemployment Rate</td>\n",
       "      <td>10 Mr Patrick Tay Teck Guan asked\\tthe Ministe...</td>\n",
       "      <td>Mr Liang Eng Hwa,Dr Tan Wu Meng (Jurong),Mr Pa...</td>\n",
       "      <td>10 patrick tay teck guan asked manpower light ...</td>\n",
       "      <td>Workforce Support and Employment</td>\n",
       "      <td>[Mr Liang Eng Hwa, Dr Tan Wu Meng (Jurong), Mr...</td>\n",
       "    </tr>\n",
       "    <tr>\n",
       "      <th>143</th>\n",
       "      <td>Oral Answers to Questions</td>\n",
       "      <td>Measuring Quality of Healthcare Delivery and A...</td>\n",
       "      <td>13 Ms Joan Pereira asked\\tthe Minister for Hea...</td>\n",
       "      <td>The Minister for Health (Mr Gan Kim Yong), Ms ...</td>\n",
       "      <td>13 m joan pereira asked health ( ) benchmark u...</td>\n",
       "      <td>Community Care and Services</td>\n",
       "      <td>[Ms Joan Pereira (Tanjong Pagar), Ms Joan Pere...</td>\n",
       "    </tr>\n",
       "    <tr>\n",
       "      <th>146</th>\n",
       "      <td>Written Answers to Questions for Oral Answer N...</td>\n",
       "      <td>Progress of EntrePass Scheme</td>\n",
       "      <td>54 Mr Saktiandi Supaat asked the Minister for ...</td>\n",
       "      <td>Mr Saktiandi Supaat, Mr S Iswaran</td>\n",
       "      <td>54 saktiandi supaat asked trade industry ( ind...</td>\n",
       "      <td>Digital Transformation in Industry</td>\n",
       "      <td>[Mr Saktiandi Supaat, Mr S Iswaran]</td>\n",
       "    </tr>\n",
       "    <tr>\n",
       "      <th>158</th>\n",
       "      <td>Oral Answers to Questions</td>\n",
       "      <td>Sustainability of Rail Reliability Levels</td>\n",
       "      <td>3 Mr Sitoh Yih Pin asked the Minister for Tran...</td>\n",
       "      <td>The Minister for Transport (Mr Khaw Boon Wan),...</td>\n",
       "      <td>3 sitoh yih pin asked transport provide update...</td>\n",
       "      <td>Public Transport and Waste Management</td>\n",
       "      <td>[Mr Sitoh Yih Pin, Mr Dennis Tan Lip Fong (Non...</td>\n",
       "    </tr>\n",
       "    <tr>\n",
       "      <th>159</th>\n",
       "      <td>Oral Answers to Questions</td>\n",
       "      <td>Complaints on Lapses in Real-time Updates for ...</td>\n",
       "      <td>1 Er Dr Lee Bee Wah asked\\tthe Minister for Tr...</td>\n",
       "      <td>Er Dr Lee Bee Wah (Nee Soon),Er Dr Lee Bee Wah...</td>\n",
       "      <td>1 er dr lee bee wah asked transport ( ) lta aw...</td>\n",
       "      <td>Public Transport and Waste Management</td>\n",
       "      <td>[Er Dr Lee Bee Wah (Nee Soon), Er Dr Lee Bee W...</td>\n",
       "    </tr>\n",
       "  </tbody>\n",
       "</table>\n",
       "</div>"
      ],
      "text/plain": [
       "                                          Section Name  \\\n",
       "0                            Oral Answers to Questions   \n",
       "1    Written Answers to Questions for Oral Answer N...   \n",
       "3                            Oral Answers to Questions   \n",
       "13                           Oral Answers to Questions   \n",
       "14                           Oral Answers to Questions   \n",
       "15                           Oral Answers to Questions   \n",
       "24   Written Answers to Questions for Oral Answer N...   \n",
       "30                           Oral Answers to Questions   \n",
       "32   Written Answers to Questions for Oral Answer N...   \n",
       "34                           Oral Answers to Questions   \n",
       "40                           Oral Answers to Questions   \n",
       "41                           Oral Answers to Questions   \n",
       "52                           Oral Answers to Questions   \n",
       "53                           Oral Answers to Questions   \n",
       "54                           Oral Answers to Questions   \n",
       "56                           Oral Answers to Questions   \n",
       "59                           Oral Answers to Questions   \n",
       "64                           Oral Answers to Questions   \n",
       "73                           Oral Answers to Questions   \n",
       "74                           Oral Answers to Questions   \n",
       "89   Written Answers to Questions for Oral Answer N...   \n",
       "90                           Oral Answers to Questions   \n",
       "100                          Oral Answers to Questions   \n",
       "107                          Oral Answers to Questions   \n",
       "108                          Oral Answers to Questions   \n",
       "109                          Oral Answers to Questions   \n",
       "116                          Oral Answers to Questions   \n",
       "122                          Oral Answers to Questions   \n",
       "131                          Oral Answers to Questions   \n",
       "132                          Oral Answers to Questions   \n",
       "143                          Oral Answers to Questions   \n",
       "146  Written Answers to Questions for Oral Answer N...   \n",
       "158                          Oral Answers to Questions   \n",
       "159                          Oral Answers to Questions   \n",
       "\n",
       "                                                 Title  \\\n",
       "0    Fair Process for Termination Due to Poor Perfo...   \n",
       "1    Details and Framework of Workings of The Speci...   \n",
       "3            Female Representation in Statutory Boards   \n",
       "13   Wage Growth Moving in Tandem with Productivity...   \n",
       "14   Impact of Recent Fires in Australia on Singapo...   \n",
       "15                   Capital Reserve in PUB's Accounts   \n",
       "24   Challenges in Applying for Assistance under Le...   \n",
       "30            Waiting Time for Childcare Centre Places   \n",
       "32   Update on Local Enterprise and Association Dev...   \n",
       "34      Measures to Mitigate Increasing Cost of Living   \n",
       "40   Companies with Measures to Deal with Workplace...   \n",
       "41   Subject-banding in Accordance with Students’ A...   \n",
       "52   Review Polytechnic Courses to Ensure They Stay...   \n",
       "53   Salary Components of Prime Minister and Ministers   \n",
       "54   Profile of Jobs and Industries on Fair Conside...   \n",
       "56   Clarification on Withdrawal of CPF Savings at ...   \n",
       "59   Singaporeans' Perception of Local Brands and P...   \n",
       "64   Percentage of Singaporean Mother Tongue Teache...   \n",
       "73   Analysis that Supported Development of SecureM...   \n",
       "74   Top Five Industries where Freelancers Venture ...   \n",
       "89   Impact of COVID-19 Situation on Singapore’s Cl...   \n",
       "90   Plans for Allied Educators in Schools for Lear...   \n",
       "100  More Financial Incentives and Charging Points ...   \n",
       "107  Effectiveness of Support Schemes in Helping PM...   \n",
       "108  Extending Mandatory Time-frame for When Govern...   \n",
       "109  Impact of Home-Based Learning and School Closu...   \n",
       "116  Foreign Worker Representation in Tech and IT S...   \n",
       "122  Effectiveness of Matching and Retraining under...   \n",
       "131    Demand and Supply of Heavy Vehicle Parking Lots   \n",
       "132              Dealing with Higher Unemployment Rate   \n",
       "143  Measuring Quality of Healthcare Delivery and A...   \n",
       "146                       Progress of EntrePass Scheme   \n",
       "158          Sustainability of Rail Reliability Levels   \n",
       "159  Complaints on Lapses in Real-time Updates for ...   \n",
       "\n",
       "                                                  Text  \\\n",
       "0    1 Dr Tan Wu Meng asked\\tthe Minister for Manpo...   \n",
       "1    22 Assoc Prof Fatimah Lateef asked the Ministe...   \n",
       "3    The following question stood in the name of Ms...   \n",
       "13   1 Mr Saktiandi Supaat asked the Minister for T...   \n",
       "14   29 Mr Seah Kian Peng asked the Minister for th...   \n",
       "15   8 Mr Liang Eng Hwa asked the Minister for Fina...   \n",
       "24   41 Mr Thomas Chua Kee Seng asked the Minister ...   \n",
       "30   5 Er Dr Lee Bee Wah asked\\tthe Minister for So...   \n",
       "32   40 Mr Thomas Chua Kee Seng asked the Minister ...   \n",
       "34   2 Mr Liang Eng Hwa asked the Minister for Trad...   \n",
       "40   8 Assoc Prof Walter Theseira asked the Ministe...   \n",
       "41   1 Ms Irene Quay Siew Ching asked the Minister ...   \n",
       "52   1 Dr Lim Wee Kiak asked the Minister for Educa...   \n",
       "53   1 Mr Alex Yam asked the Prime Minister whether...   \n",
       "54   30 Mr Chong Kee Hiong asked the Minister for M...   \n",
       "56   1 Mr Lim Biow Chuan asked the Minister for Man...   \n",
       "59   1 Dr Lim Wee Kiak asked the Minister for Trade...   \n",
       "64   21 Mr Darryl David asked the Minister for Soci...   \n",
       "73   11 Assoc Prof Walter Theseira asked the Minist...   \n",
       "74   4 Dr Lim Wee Kiak asked the Minister for Manpo...   \n",
       "89   26 Mr Kwek Hian Chuan Henry asked the Minister...   \n",
       "90   1 Mr Leon Perera asked the Minister for Educat...   \n",
       "100  20 Er Dr Lee Bee Wah asked\\t the Minister for ...   \n",
       "107  9 Ms Foo Mee Har asked\\tthe Minister for Manpo...   \n",
       "108  3 Mr Louis Ng Kok Kwang asked the Prime Minist...   \n",
       "109  5 Mr Darryl David asked the Minister for Educa...   \n",
       "116  5 Mr Desmond Choo asked\\t the Minister for Man...   \n",
       "122  19 Mr Zaqy Mohamad asked\\tthe Minister for Man...   \n",
       "131  2 Assoc Prof Fatimah Lateef asked\\tthe Ministe...   \n",
       "132  10 Mr Patrick Tay Teck Guan asked\\tthe Ministe...   \n",
       "143  13 Ms Joan Pereira asked\\tthe Minister for Hea...   \n",
       "146  54 Mr Saktiandi Supaat asked the Minister for ...   \n",
       "158  3 Mr Sitoh Yih Pin asked the Minister for Tran...   \n",
       "159  1 Er Dr Lee Bee Wah asked\\tthe Minister for Tr...   \n",
       "\n",
       "                                              Speakers  \\\n",
       "0    Er Dr Lee Bee Wah (Nee Soon),Mr Zainal Sapari ...   \n",
       "1                  Prof Fatimah Lateef, Mr Desmond Lee   \n",
       "3    The Senior Parliamentary Secretary to the Mini...   \n",
       "13   Mr Saktiandi Supaat,The Senior Minister of Sta...   \n",
       "14   The Minister for the Environment and Water Res...   \n",
       "15   Mr Pritam Singh, Mr Liang Eng Hwa, Mr Low Thia...   \n",
       "24             Mr Thomas Chua Kee Seng,Mr Lim Swee Say   \n",
       "30   The Minister for Social and Family Development...   \n",
       "32          Mr Thomas Chua Kee Seng, Mr Chan Chun Sing   \n",
       "34   The Minister for Trade and Industry (Mr Chan C...   \n",
       "40   The Senior Parliamentary Secretary to the Mini...   \n",
       "41   The Second Minister for Education (Ms Indranee...   \n",
       "52   The Senior Parliamentary Secretary to the Mini...   \n",
       "53   The Deputy Prime Minister and Coordinating Min...   \n",
       "54   The Minister for Manpower (Mrs Josephine Teo),...   \n",
       "56   Mr Chong Kee Hiong,Mr Liang Eng Hwa,Mr Patrick...   \n",
       "59   Dr Lim Wee Kiak (Sembawang), The Senior Minist...   \n",
       "64   The Minister for Social and Family Development...   \n",
       "73   The Minister for Transport (Mr Khaw Boon Wan),...   \n",
       "74   Dr Lim Wee Kiak (Sembawang), The Second Minist...   \n",
       "89   Mr Kwek Hian Chuan Henry, Mr Masagos Zulkifli ...   \n",
       "90   The Senior Parliamentary Secretary to the Mini...   \n",
       "100  The Minister for Transport (Mr Khaw Boon Wan),...   \n",
       "107  Ms Foo Mee Har,The Minister for Manpower (Mr L...   \n",
       "108  The Minister for Manpower and Second Minister ...   \n",
       "109  The Minister for Education (Mr Ong Ye Kung), M...   \n",
       "116  Mr Desmond Choo,Mr Desmond Choo (Tampines),Mr ...   \n",
       "122  Mr Desmond Choo (Tampines),Mr Zaqy Mohamad,The...   \n",
       "131  Assoc Prof Fatimah Lateef,The Senior Minister ...   \n",
       "132  Mr Liang Eng Hwa,Dr Tan Wu Meng (Jurong),Mr Pa...   \n",
       "143  The Minister for Health (Mr Gan Kim Yong), Ms ...   \n",
       "146                  Mr Saktiandi Supaat, Mr S Iswaran   \n",
       "158  The Minister for Transport (Mr Khaw Boon Wan),...   \n",
       "159  Er Dr Lee Bee Wah (Nee Soon),Er Dr Lee Bee Wah...   \n",
       "\n",
       "                                       Lemmatized Text  \\\n",
       "0    1 dr tan wu meng asked manpower provide update...   \n",
       "1    22 assoc prof fatimah lateef asked social fami...   \n",
       "3    following question stood m anthea ong –1 ask s...   \n",
       "13   1 saktiandi supaat asked trade industry ( ) wa...   \n",
       "14   29 seah kian peng asked environment water reso...   \n",
       "15   8 liang eng hwa asked finance clarify $ 5.3 bi...   \n",
       "24   41 thomas chua kee seng asked manpower ( ) key...   \n",
       "30   5 er dr lee bee wah asked social family develo...   \n",
       "32   40 thomas chua kee seng asked trade industry p...   \n",
       "34   2 liang eng hwa asked trade industry ( ) gener...   \n",
       "40   8 assoc prof walter theseira asked manpower st...   \n",
       "41   1 m irene quay siew ching asked education rega...   \n",
       "52   1 dr lim wee kiak asked education ( higher edu...   \n",
       "53   1 alex yam asked ( ) list component salary min...   \n",
       "54   30 chong kee hiong asked manpower regard fair ...   \n",
       "56   1 lim biow chuan asked manpower cpf board ( ) ...   \n",
       "59   1 dr lim wee kiak asked trade industry ( indus...   \n",
       "64   21 darryl david asked social family developmen...   \n",
       "73   11 assoc prof walter theseira asked transport ...   \n",
       "74   4 dr lim wee kiak asked manpower ( ) industry ...   \n",
       "89   26 kwek hian chuan henry asked environment wat...   \n",
       "90   1 leon perera asked education change planned r...   \n",
       "100  20 er dr lee bee wah asked transport ( ) 's po...   \n",
       "107  9 m foo mee har asked manpower light job layof...   \n",
       "108  3 louis ng kok kwang asked consider increasing...   \n",
       "109  5 darryl david asked education period home-bas...   \n",
       "116  5 desmond choo asked manpower ( ) current brea...   \n",
       "122  19 zaqy mohamad asked manpower ( ) 's assessme...   \n",
       "131  2 assoc prof fatimah lateef asked national dev...   \n",
       "132  10 patrick tay teck guan asked manpower light ...   \n",
       "143  13 m joan pereira asked health ( ) benchmark u...   \n",
       "146  54 saktiandi supaat asked trade industry ( ind...   \n",
       "158  3 sitoh yih pin asked transport provide update...   \n",
       "159  1 er dr lee bee wah asked transport ( ) lta aw...   \n",
       "\n",
       "                                     Topic  \\\n",
       "0         Workforce Support and Employment   \n",
       "1              Community Care and Services   \n",
       "3              Community Care and Services   \n",
       "13      Digital Transformation in Industry   \n",
       "14   Public Transport and Waste Management   \n",
       "15        Workforce Support and Employment   \n",
       "24      Digital Transformation in Industry   \n",
       "30             Community Care and Services   \n",
       "32      Digital Transformation in Industry   \n",
       "34        Workforce Support and Employment   \n",
       "40        Workforce Support and Employment   \n",
       "41        Education and Support Programmes   \n",
       "52        Education and Support Programmes   \n",
       "53      Law Enforcement and Rehabilitation   \n",
       "54        Workforce Support and Employment   \n",
       "56      Legislative Matters and Amendments   \n",
       "59      Digital Transformation in Industry   \n",
       "64        Education and Support Programmes   \n",
       "73   Public Transport and Waste Management   \n",
       "74        Education and Support Programmes   \n",
       "89      Digital Transformation in Industry   \n",
       "90        Education and Support Programmes   \n",
       "100  Public Transport and Waste Management   \n",
       "107       Workforce Support and Employment   \n",
       "108          National Defence and Security   \n",
       "109       Education and Support Programmes   \n",
       "116       Workforce Support and Employment   \n",
       "122       Workforce Support and Employment   \n",
       "131  Public Transport and Waste Management   \n",
       "132       Workforce Support and Employment   \n",
       "143            Community Care and Services   \n",
       "146     Digital Transformation in Industry   \n",
       "158  Public Transport and Waste Management   \n",
       "159  Public Transport and Waste Management   \n",
       "\n",
       "                                             MPs_Asked  \n",
       "0    [Er Dr Lee Bee Wah (Nee Soon), Dr Tan Wu Meng ...  \n",
       "1                                [Prof Fatimah Lateef]  \n",
       "3    [The Senior Parliamentary Secretary to the Min...  \n",
       "13   [Mr Saktiandi Supaat, Saktiandi Supaat, Mr Sak...  \n",
       "14   [Mr Seah Kian Peng, Mr Seah Kian Peng (Marine ...  \n",
       "15   [Mr Pritam Singh, Mr Liang Eng Hwa, Mr Low Thi...  \n",
       "24          [Mr Thomas Chua Kee Seng, Mr Lim Swee Say]  \n",
       "30   [Er Dr Lee Bee Wah, Er Dr Lee Bee Wah (Nee Soo...  \n",
       "32        [Mr Thomas Chua Kee Seng, Mr Chan Chun Sing]  \n",
       "34   [The Minister for Trade and Industry (Mr Chan ...  \n",
       "40   [Assoc Prof Walter Theseira, Assoc Prof Walter...  \n",
       "41                          [Ms Irene Quay Siew Ching]  \n",
       "52                                   [Dr Lim Wee Kiak]  \n",
       "53   [The Deputy Prime Minister and Coordinating Mi...  \n",
       "54   [The Minister for Manpower (Mrs Josephine Teo)...  \n",
       "56   [Mr Chong Kee Hiong, Mr Liang Eng Hwa, Mr Patr...  \n",
       "59      [Dr Lim Wee Kiak (Sembawang), Dr Lim Wee Kiak]  \n",
       "64   [Mr Speaker, Mr Darryl David (Ang Mo Kio), Mr ...  \n",
       "73   [Assoc Prof Walter Theseira, Assoc Prof Walter...  \n",
       "74      [Dr Lim Wee Kiak (Sembawang), Dr Lim Wee Kiak]  \n",
       "89   [Mr Kwek Hian Chuan Henry, Mr Masagos Zulkifli...  \n",
       "90   [Mr Leon Perera, Mr Leon Perera, Mr Leon Perer...  \n",
       "100             [Er Dr Lee Bee Wah, Er Dr Lee Bee Wah]  \n",
       "107      [Ms Foo Mee Har, Ms Foo Mee Har (West Coast)]  \n",
       "108  [The Minister for Manpower and Second Minister...  \n",
       "109  [Mr Darryl David, Mr Darryl David (Ang Mo Kio)...  \n",
       "116  [Mr Desmond Choo, Mr Desmond Choo (Tampines), ...  \n",
       "122  [Mr Desmond Choo (Tampines), Mr Zaqy Mohamad, ...  \n",
       "131  [Assoc Prof Fatimah Lateef, Assoc Prof Fatimah...  \n",
       "132  [Mr Liang Eng Hwa, Dr Tan Wu Meng (Jurong), Mr...  \n",
       "143  [Ms Joan Pereira (Tanjong Pagar), Ms Joan Pere...  \n",
       "146                [Mr Saktiandi Supaat, Mr S Iswaran]  \n",
       "158  [Mr Sitoh Yih Pin, Mr Dennis Tan Lip Fong (Non...  \n",
       "159  [Er Dr Lee Bee Wah (Nee Soon), Er Dr Lee Bee W...  "
      ]
     },
     "execution_count": 17,
     "metadata": {},
     "output_type": "execute_result"
    }
   ],
   "source": [
    "df_questions"
   ]
  },
  {
   "cell_type": "code",
   "execution_count": 18,
   "metadata": {},
   "outputs": [
    {
     "data": {
      "text/plain": [
       "MPs_Asked\n",
       "[Dr Lim Wee Kiak (Sembawang), Dr Lim Wee Kiak]                                                                                                                                                                                                                                                                                                                                                                                                                                                                                                              2\n",
       "[Assoc Prof Walter Theseira, Assoc Prof Walter Theseira (Nominated Member)]                                                                                                                                                                                                                                                                                                                                                                                                                                                                                 2\n",
       "[Mr Speaker, Mr Darryl David (Ang Mo Kio), Mr Darryl David]                                                                                                                                                                                                                                                                                                                                                                                                                                                                                                 1\n",
       "[Mr Sitoh Yih Pin, Mr Dennis Tan Lip Fong (Non-Constituency Member), Mr Pritam Singh (Aljunied), Mr Pritam Singh, Mr Sitoh Yih Pin (Potong Pasir), Mr Yee Chia Hsing (Chua Chu Kang), Mr Sitoh Yih Pin, Mr Khaw Boon Wan, Mr Khaw Boon Wan, Mr Khaw Boon Wan, Mr Khaw Boon Wan, Mr Khaw Boon Wan, Mr Khaw Boon Wan, Mr Khaw Boon Wan, Mr Khaw Boon Wan]                                                                                                                                                                                                     1\n",
       "[Mr Saktiandi Supaat, Mr S Iswaran]                                                                                                                                                                                                                                                                                                                                                                                                                                                                                                                         1\n",
       "[Ms Joan Pereira (Tanjong Pagar), Ms Joan Pereira]                                                                                                                                                                                                                                                                                                                                                                                                                                                                                                          1\n",
       "[Mr Liang Eng Hwa, Dr Tan Wu Meng (Jurong), Mr Patrick Tay Teck Guan, Ms Foo Mee Har, Mr Melvin Yong Yik Chye, Mr Ang Hin Kee (Ang Mo Kio), Mr Liang Eng Hwa (Holland-Bukit Timah), Mr Ang Hin Kee, Dr Tan Wu Meng, Mr Patrick Tay Teck Guan (West Coast), Mr Desmond Choo, Assoc Prof Daniel Goh Pei Siong (Non-Constituency Member), Mr Christopher de Souza, Ms Jessica Tan Soon Neo, Mr Ang Wei Neng, Ms Foo Mee Har (West Coast), Mr Lim Swee Say, Assoc Prof Daniel Goh Pei Siong]                                                                    1\n",
       "[Assoc Prof Fatimah Lateef, Assoc Prof Fatimah Lateef (Marine Parade)]                                                                                                                                                                                                                                                                                                                                                                                                                                                                                      1\n",
       "[Mr Desmond Choo (Tampines), Mr Zaqy Mohamad, Mr Lim Swee Say, Mr Zaqy Mohamad (Chua Chu Kang)]                                                                                                                                                                                                                                                                                                                                                                                                                                                             1\n",
       "[Mr Desmond Choo, Mr Desmond Choo (Tampines), Mr Seah Kian Peng (Marine Parade), Mr Lim Swee Say, Mr Patrick Tay Teck Guan (West Coast)]                                                                                                                                                                                                                                                                                                                                                                                                                    1\n",
       "[Mr Darryl David, Mr Darryl David (Ang Mo Kio), Mr Ong Ye Kung]                                                                                                                                                                                                                                                                                                                                                                                                                                                                                             1\n",
       "[The Minister for Manpower and Second Minister for Home Affairs (Mrs Josephine Teo), Mr Louis Ng Kok Kwang, Mr Louis Ng Kok Kwang (Nee Soon)]                                                                                                                                                                                                                                                                                                                                                                                                               1\n",
       "[Ms Foo Mee Har, Ms Foo Mee Har (West Coast)]                                                                                                                                                                                                                                                                                                                                                                                                                                                                                                               1\n",
       "[Er Dr Lee Bee Wah, Er Dr Lee Bee Wah]                                                                                                                                                                                                                                                                                                                                                                                                                                                                                                                      1\n",
       "[Mr Leon Perera, Mr Leon Perera, Mr Leon Perera (Non-Constituency Member)]                                                                                                                                                                                                                                                                                                                                                                                                                                                                                  1\n",
       "[Mr Kwek Hian Chuan Henry, Mr Masagos Zulkifli B M M]                                                                                                                                                                                                                                                                                                                                                                                                                                                                                                       1\n",
       "[Er Dr Lee Bee Wah (Nee Soon), Dr Tan Wu Meng (Jurong), Assoc Prof Daniel Goh Pei Siong (Non-Constituency Member), Dr Tan Wu Meng, Assoc Prof Daniel Goh Pei Siong]                                                                                                                                                                                                                                                                                                                                                                                         1\n",
       "[Prof Fatimah Lateef]                                                                                                                                                                                                                                                                                                                                                                                                                                                                                                                                       1\n",
       "[Mr Chong Kee Hiong, Mr Liang Eng Hwa, Mr Patrick Tay Teck Guan, Ms Foo Mee Har, Mr Png Eng Huat (Hougang), Mr Liang Eng Hwa (Holland-Bukit Timah), Mr Lim Biow Chuan (Mountbatten), Mr Saktiandi Supaat (Bishan-Toa Payoh), The Minister for Manpower (Mrs Josephine Teo), Assoc Prof Walter Theseira, Mr Chong Kee Hiong (Bishan-Toa Payoh), Ms Jessica Tan Soon Neo (East Coast), Ms Jessica Tan Soon Neo, Mr Lim Biow Chuan, Mr Png Eng Huat, Ms Foo Mee Har (West Coast), Miss Cheryl Chan Wei Ling, Assoc Prof Walter Theseira (Nominated Member)]    1\n",
       "[The Minister for Manpower (Mrs Josephine Teo), Mr Chong Kee Hiong, Mr Patrick Tay Teck Guan (West Coast)]                                                                                                                                                                                                                                                                                                                                                                                                                                                  1\n",
       "[The Deputy Prime Minister and Coordinating Minister for National Security (Mr Teo Chee Hean), Mr Leon Perera, Mr Alex Yam, Mr Pritam Singh (Aljunied), Mr Leon Perera (Non-Constituency Member), Mr Leon Perera, Mr Alex Yam (Marsiling-Yew Tee), Mr Leon Perera, Mr Pritam Singh, Mr Teo Chee Hean, Mr Teo Chee Hean, Mr Teo Chee Hean, Mr Teo Chee Hean, Mr Teo Chee Hean, Mr Teo Chee Hean]                                                                                                                                                             1\n",
       "[Dr Lim Wee Kiak]                                                                                                                                                                                                                                                                                                                                                                                                                                                                                                                                           1\n",
       "[Ms Irene Quay Siew Ching]                                                                                                                                                                                                                                                                                                                                                                                                                                                                                                                                  1\n",
       "[The Minister for Trade and Industry (Mr Chan Chun Sing), Mr Liang Eng Hwa, Mr Saktiandi Supaat, Mr Seah Kian Peng, Mr Lim Biow Chuan, Mr Yee Chia Hsing, Mr Leon Perera, Liang Eng Hwa, Mr Chan Chun Sing]                                                                                                                                                                                                                                                                                                                                                 1\n",
       "[Mr Thomas Chua Kee Seng, Mr Chan Chun Sing]                                                                                                                                                                                                                                                                                                                                                                                                                                                                                                                1\n",
       "[Er Dr Lee Bee Wah, Er Dr Lee Bee Wah (Nee Soon), Er Dr Lee Bee Wah]                                                                                                                                                                                                                                                                                                                                                                                                                                                                                        1\n",
       "[Mr Thomas Chua Kee Seng, Mr Lim Swee Say]                                                                                                                                                                                                                                                                                                                                                                                                                                                                                                                  1\n",
       "[Mr Pritam Singh, Mr Liang Eng Hwa, Mr Low Thia Khiang (Aljunied), Mr Speaker, Liang Eng Hwa]                                                                                                                                                                                                                                                                                                                                                                                                                                                               1\n",
       "[Mr Seah Kian Peng, Mr Seah Kian Peng (Marine Parade), Mr Masagos Zulkifli B M M]                                                                                                                                                                                                                                                                                                                                                                                                                                                                           1\n",
       "[Mr Saktiandi Supaat, Saktiandi Supaat, Mr Saktiandi Supaat (Bishan-Toa Payoh)]                                                                                                                                                                                                                                                                                                                                                                                                                                                                             1\n",
       "[The Senior Parliamentary Secretary to the Minister for Social and Family Development (Assoc Prof Dr Muhammad Faishal Ibrahim), Ms Anthea Ong]                                                                                                                                                                                                                                                                                                                                                                                                              1\n",
       "[Er Dr Lee Bee Wah (Nee Soon), Er Dr Lee Bee Wah, Mr Low Thia Khiang (Aljunied), Mr Melvin Yong Yik Chye (Tanjong Pagar), Mr Khaw Boon Wan]                                                                                                                                                                                                                                                                                                                                                                                                                 1\n",
       "Name: count, dtype: int64"
      ]
     },
     "execution_count": 18,
     "metadata": {},
     "output_type": "execute_result"
    }
   ],
   "source": [
    "df_questions[\"MPs_Asked\"].value_counts()"
   ]
  },
  {
   "cell_type": "code",
   "execution_count": 19,
   "metadata": {},
   "outputs": [
    {
     "name": "stderr",
     "output_type": "stream",
     "text": [
      "/var/folders/3f/xhw3kd5d62v0s4_2fvl3_7480000gn/T/ipykernel_84122/2832508116.py:37: SettingWithCopyWarning:\n",
      "\n",
      "\n",
      "A value is trying to be set on a copy of a slice from a DataFrame.\n",
      "Try using .loc[row_indexer,col_indexer] = value instead\n",
      "\n",
      "See the caveats in the documentation: https://pandas.pydata.org/pandas-docs/stable/user_guide/indexing.html#returning-a-view-versus-a-copy\n",
      "\n"
     ]
    }
   ],
   "source": [
    "# Function to clean and standardize names\n",
    "def clean_names(names):\n",
    "    # Convert list of names to a single string for processing\n",
    "    names_str = \", \".join(names)\n",
    "    \n",
    "    # Define terms to replace and their replacements\n",
    "    replacements = {\n",
    "        'The Minister for Manpower (Mrs Josephine Teo)': 'Mrs Josephine Teo',\n",
    "        'The Minister for Manpower and Second Minister for Home Affairs (Mrs Josephine Teo)': 'Mrs Josephine Teo',\n",
    "        'The Deputy Prime Minister and Coordinating Minister for National Security (Mr Teo Chee Hean)': 'Mr Teo Chee Hean',\n",
    "        'The Minister for Trade and Industry (Mr Chan Chun Sing)': 'Mr Chan Chun Sing',\n",
    "        'The Senior Parliamentary Secretary to the Minister for Social and Family Development (Assoc Prof Dr Muhammad Faishal Ibrahim)': 'Assoc Prof Dr Muhammad Faishal Ibrahim',\n",
    "        'Liang Eng Hwa': 'Mr Liang Eng Hwa',\n",
    "        'Saktiandi Supaat': 'Mr Saktiandi Supaat'\n",
    "    }\n",
    "    \n",
    "    # Replace specified terms in each name\n",
    "    cleaned_names = []\n",
    "    for name in names:\n",
    "        for term, replacement in replacements.items():\n",
    "            if term in name:\n",
    "                name = replacement\n",
    "        cleaned_names.append(name.strip())\n",
    "    \n",
    "    # Remove content in parentheses for each cleaned name\n",
    "    names_cleaned = []\n",
    "    for name in cleaned_names:\n",
    "        cleaned_name = re.sub(r'\\s*\\([^()]*\\)', '', name).strip()\n",
    "        names_cleaned.append(cleaned_name)\n",
    "\n",
    "    # Remove duplicate names while preserving order\n",
    "    names_cleaned = list(dict.fromkeys(names_cleaned))\n",
    "    \n",
    "    return names_cleaned\n",
    "    \n",
    "# Apply the cleaning function to the 'MPs_Asked' column\n",
    "df_questions['MPs_Asked'] = df_questions['MPs_Asked'].apply(clean_names)"
   ]
  },
  {
   "cell_type": "code",
   "execution_count": 20,
   "metadata": {},
   "outputs": [
    {
     "data": {
      "text/plain": [
       "0      [Er Dr Lee Bee Wah, Dr Tan Wu Meng, Assoc Prof...\n",
       "1                                  [Prof Fatimah Lateef]\n",
       "3      [Assoc Prof Dr Muhammad Faishal Ibrahim, Ms An...\n",
       "13                                 [Mr Saktiandi Supaat]\n",
       "14        [Mr Seah Kian Peng, Mr Masagos Zulkifli B M M]\n",
       "15     [Mr Pritam Singh, Mr Liang Eng Hwa, Mr Low Thi...\n",
       "24            [Mr Thomas Chua Kee Seng, Mr Lim Swee Say]\n",
       "30                                   [Er Dr Lee Bee Wah]\n",
       "32          [Mr Thomas Chua Kee Seng, Mr Chan Chun Sing]\n",
       "34     [Mr Chan Chun Sing, Mr Liang Eng Hwa, Mr Sakti...\n",
       "40                          [Assoc Prof Walter Theseira]\n",
       "41                            [Ms Irene Quay Siew Ching]\n",
       "52                                     [Dr Lim Wee Kiak]\n",
       "53     [Mr Teo Chee Hean, Mr Leon Perera, Mr Alex Yam...\n",
       "54     [Mrs Josephine Teo, Mr Chong Kee Hiong, Mr Pat...\n",
       "56     [Mr Chong Kee Hiong, Mr Liang Eng Hwa, Mr Patr...\n",
       "59                                     [Dr Lim Wee Kiak]\n",
       "64                         [Mr Speaker, Mr Darryl David]\n",
       "73                          [Assoc Prof Walter Theseira]\n",
       "74                                     [Dr Lim Wee Kiak]\n",
       "89     [Mr Kwek Hian Chuan Henry, Mr Masagos Zulkifli...\n",
       "90                                      [Mr Leon Perera]\n",
       "100                                  [Er Dr Lee Bee Wah]\n",
       "107                                     [Ms Foo Mee Har]\n",
       "108           [Mrs Josephine Teo, Mr Louis Ng Kok Kwang]\n",
       "109                    [Mr Darryl David, Mr Ong Ye Kung]\n",
       "116    [Mr Desmond Choo, Mr Seah Kian Peng, Mr Lim Sw...\n",
       "122    [Mr Desmond Choo, Mr Zaqy Mohamad, Mr Lim Swee...\n",
       "131                          [Assoc Prof Fatimah Lateef]\n",
       "132    [Mr Liang Eng Hwa, Dr Tan Wu Meng, Mr Patrick ...\n",
       "143                                    [Ms Joan Pereira]\n",
       "146                  [Mr Saktiandi Supaat, Mr S Iswaran]\n",
       "158    [Mr Sitoh Yih Pin, Mr Dennis Tan Lip Fong, Mr ...\n",
       "159    [Er Dr Lee Bee Wah, Mr Low Thia Khiang, Mr Mel...\n",
       "Name: MPs_Asked, dtype: object"
      ]
     },
     "execution_count": 20,
     "metadata": {},
     "output_type": "execute_result"
    }
   ],
   "source": [
    "df_questions[\"MPs_Asked\"]"
   ]
  },
  {
   "cell_type": "code",
   "execution_count": 21,
   "metadata": {},
   "outputs": [
    {
     "name": "stdout",
     "output_type": "stream",
     "text": [
      "Topic: Community Care and Services\n",
      "- Prof Fatimah Lateef: 1 question\n",
      "- Assoc Prof Dr Muhammad Faishal Ibrahim: 1 question\n",
      "- Ms Anthea Ong: 1 question\n",
      "- Er Dr Lee Bee Wah: 1 question\n",
      "- Ms Joan Pereira: 1 question\n",
      "\n",
      "Topic: Digital Transformation in Industry\n",
      "- Mr Saktiandi Supaat: 2 questions\n",
      "- Mr Thomas Chua Kee Seng: 2 questions\n",
      "- Mr Lim Swee Say: 1 question\n",
      "- Mr Chan Chun Sing: 1 question\n",
      "- Dr Lim Wee Kiak: 1 question\n",
      "- Mr Kwek Hian Chuan Henry: 1 question\n",
      "- Mr Masagos Zulkifli B M M: 1 question\n",
      "- Mr S Iswaran: 1 question\n",
      "\n",
      "Topic: Education and Support Programmes\n",
      "- Dr Lim Wee Kiak: 2 questions\n",
      "- Mr Darryl David: 2 questions\n",
      "- Ms Irene Quay Siew Ching: 1 question\n",
      "- Mr Speaker: 1 question\n",
      "- Mr Leon Perera: 1 question\n",
      "- Mr Ong Ye Kung: 1 question\n",
      "\n",
      "Topic: Law Enforcement and Rehabilitation\n",
      "- Mr Teo Chee Hean: 1 question\n",
      "- Mr Leon Perera: 1 question\n",
      "- Mr Alex Yam: 1 question\n",
      "- Mr Pritam Singh: 1 question\n",
      "\n",
      "Topic: Legislative Matters and Amendments\n",
      "- Mr Chong Kee Hiong: 1 question\n",
      "- Mr Liang Eng Hwa: 1 question\n",
      "- Mr Patrick Tay Teck Guan: 1 question\n",
      "- Ms Foo Mee Har: 1 question\n",
      "- Mr Png Eng Huat: 1 question\n",
      "- Mr Lim Biow Chuan: 1 question\n",
      "- Mr Saktiandi Supaat: 1 question\n",
      "- Mrs Josephine Teo: 1 question\n",
      "- Assoc Prof Walter Theseira: 1 question\n",
      "- Ms Jessica Tan Soon Neo: 1 question\n",
      "- Miss Cheryl Chan Wei Ling: 1 question\n",
      "\n",
      "Topic: National Defence and Security\n",
      "- Mrs Josephine Teo: 1 question\n",
      "- Mr Louis Ng Kok Kwang: 1 question\n",
      "\n",
      "Topic: Public Transport and Waste Management\n",
      "- Er Dr Lee Bee Wah: 2 questions\n",
      "- Mr Khaw Boon Wan: 2 questions\n",
      "- Mr Seah Kian Peng: 1 question\n",
      "- Mr Masagos Zulkifli B M M: 1 question\n",
      "- Assoc Prof Walter Theseira: 1 question\n",
      "- Assoc Prof Fatimah Lateef: 1 question\n",
      "- Mr Sitoh Yih Pin: 1 question\n",
      "- Mr Dennis Tan Lip Fong: 1 question\n",
      "- Mr Pritam Singh: 1 question\n",
      "- Mr Yee Chia Hsing: 1 question\n",
      "- Mr Low Thia Khiang: 1 question\n",
      "- Mr Melvin Yong Yik Chye: 1 question\n",
      "\n",
      "Topic: Workforce Support and Employment\n",
      "- Mr Liang Eng Hwa: 3 questions\n",
      "- Mr Patrick Tay Teck Guan: 3 questions\n",
      "- Mr Desmond Choo: 3 questions\n",
      "- Mr Lim Swee Say: 3 questions\n",
      "- Dr Tan Wu Meng: 2 questions\n",
      "- Assoc Prof Daniel Goh Pei Siong: 2 questions\n",
      "- Mr Seah Kian Peng: 2 questions\n",
      "- Ms Foo Mee Har: 2 questions\n",
      "- Er Dr Lee Bee Wah: 1 question\n",
      "- Mr Pritam Singh: 1 question\n",
      "- Mr Low Thia Khiang: 1 question\n",
      "- Mr Speaker: 1 question\n",
      "- Mr Chan Chun Sing: 1 question\n",
      "- Mr Saktiandi Supaat: 1 question\n",
      "- Mr Lim Biow Chuan: 1 question\n",
      "- Mr Yee Chia Hsing: 1 question\n",
      "- Mr Leon Perera: 1 question\n",
      "- Assoc Prof Walter Theseira: 1 question\n",
      "- Mrs Josephine Teo: 1 question\n",
      "- Mr Chong Kee Hiong: 1 question\n",
      "- Mr Zaqy Mohamad: 1 question\n",
      "- Mr Melvin Yong Yik Chye: 1 question\n",
      "- Mr Ang Hin Kee: 1 question\n",
      "- Mr Christopher de Souza: 1 question\n",
      "- Ms Jessica Tan Soon Neo: 1 question\n",
      "- Mr Ang Wei Neng: 1 question\n",
      "\n"
     ]
    }
   ],
   "source": [
    "# Initialize a dictionary to store MP counts for each topic\n",
    "topic_mp_counts = {}\n",
    "\n",
    "# Iterate through each topic\n",
    "for topic, group in df_questions.groupby('Topic'):\n",
    "    # Initialize Counter to count MPs\n",
    "    mp_counts = Counter()\n",
    "    \n",
    "    # Count MPs for the current topic\n",
    "    for _, row in group.iterrows():\n",
    "        mp_counts += Counter(row['MPs_Asked'])\n",
    "    \n",
    "    # Sort MPs by number of questions in descending order\n",
    "    sorted_mp_counts = dict(sorted(mp_counts.items(), key=lambda item: item[1], reverse=True))\n",
    "    \n",
    "    # Include all MPs who asked one question or more\n",
    "    ranked_mps = []\n",
    "    for mp, count in sorted_mp_counts.items():\n",
    "        ranked_mps.append(f\"{mp}: {count} question{'s' if count > 1 else ''}\")\n",
    "    \n",
    "    # Store results in topic_mp_counts\n",
    "    topic_mp_counts[topic] = ranked_mps\n",
    "\n",
    "# Print results for each topic\n",
    "for topic, mp_counts in topic_mp_counts.items():\n",
    "    print(f\"Topic: {topic}\")\n",
    "    for mp_count in mp_counts:\n",
    "        print(f\"- {mp_count}\")\n",
    "    print()"
   ]
  },
  {
   "cell_type": "code",
   "execution_count": 22,
   "metadata": {},
   "outputs": [
    {
     "data": {
      "application/vnd.plotly.v1+json": {
       "config": {
        "plotlyServerURL": "https://plot.ly"
       },
       "data": [
        {
         "name": "Mr Speaker",
         "type": "bar",
         "x": [
          "Community Care and Services",
          "Digital Transformation in Industry",
          "Education and Support Programmes",
          "Law Enforcement and Rehabilitation",
          "Legislative Matters and Amendments",
          "National Defence and Security",
          "Public Transport and Waste Management",
          "Workforce Support and Employment"
         ],
         "y": [
          0,
          0,
          1,
          0,
          0,
          0,
          0,
          1
         ]
        },
        {
         "name": "Mr Ang Hin Kee",
         "type": "bar",
         "x": [
          "Community Care and Services",
          "Digital Transformation in Industry",
          "Education and Support Programmes",
          "Law Enforcement and Rehabilitation",
          "Legislative Matters and Amendments",
          "National Defence and Security",
          "Public Transport and Waste Management",
          "Workforce Support and Employment"
         ],
         "y": [
          0,
          0,
          0,
          0,
          0,
          0,
          0,
          1
         ]
        },
        {
         "name": "Assoc Prof Walter Theseira",
         "type": "bar",
         "x": [
          "Community Care and Services",
          "Digital Transformation in Industry",
          "Education and Support Programmes",
          "Law Enforcement and Rehabilitation",
          "Legislative Matters and Amendments",
          "National Defence and Security",
          "Public Transport and Waste Management",
          "Workforce Support and Employment"
         ],
         "y": [
          0,
          0,
          0,
          0,
          1,
          0,
          1,
          1
         ]
        },
        {
         "name": "Mr Leon Perera",
         "type": "bar",
         "x": [
          "Community Care and Services",
          "Digital Transformation in Industry",
          "Education and Support Programmes",
          "Law Enforcement and Rehabilitation",
          "Legislative Matters and Amendments",
          "National Defence and Security",
          "Public Transport and Waste Management",
          "Workforce Support and Employment"
         ],
         "y": [
          0,
          0,
          1,
          1,
          0,
          0,
          0,
          1
         ]
        },
        {
         "name": "Mr Teo Chee Hean",
         "type": "bar",
         "x": [
          "Community Care and Services",
          "Digital Transformation in Industry",
          "Education and Support Programmes",
          "Law Enforcement and Rehabilitation",
          "Legislative Matters and Amendments",
          "National Defence and Security",
          "Public Transport and Waste Management",
          "Workforce Support and Employment"
         ],
         "y": [
          0,
          0,
          0,
          1,
          0,
          0,
          0,
          0
         ]
        },
        {
         "name": "Er Dr Lee Bee Wah",
         "type": "bar",
         "x": [
          "Community Care and Services",
          "Digital Transformation in Industry",
          "Education and Support Programmes",
          "Law Enforcement and Rehabilitation",
          "Legislative Matters and Amendments",
          "National Defence and Security",
          "Public Transport and Waste Management",
          "Workforce Support and Employment"
         ],
         "y": [
          1,
          0,
          0,
          0,
          0,
          0,
          2,
          1
         ]
        },
        {
         "name": "Mr Lim Swee Say",
         "type": "bar",
         "x": [
          "Community Care and Services",
          "Digital Transformation in Industry",
          "Education and Support Programmes",
          "Law Enforcement and Rehabilitation",
          "Legislative Matters and Amendments",
          "National Defence and Security",
          "Public Transport and Waste Management",
          "Workforce Support and Employment"
         ],
         "y": [
          0,
          1,
          0,
          0,
          0,
          0,
          0,
          3
         ]
        },
        {
         "name": "Mr Seah Kian Peng",
         "type": "bar",
         "x": [
          "Community Care and Services",
          "Digital Transformation in Industry",
          "Education and Support Programmes",
          "Law Enforcement and Rehabilitation",
          "Legislative Matters and Amendments",
          "National Defence and Security",
          "Public Transport and Waste Management",
          "Workforce Support and Employment"
         ],
         "y": [
          0,
          0,
          0,
          0,
          0,
          0,
          1,
          2
         ]
        },
        {
         "name": "Mr Chong Kee Hiong",
         "type": "bar",
         "x": [
          "Community Care and Services",
          "Digital Transformation in Industry",
          "Education and Support Programmes",
          "Law Enforcement and Rehabilitation",
          "Legislative Matters and Amendments",
          "National Defence and Security",
          "Public Transport and Waste Management",
          "Workforce Support and Employment"
         ],
         "y": [
          0,
          0,
          0,
          0,
          1,
          0,
          0,
          1
         ]
        },
        {
         "name": "Mr Patrick Tay Teck Guan",
         "type": "bar",
         "x": [
          "Community Care and Services",
          "Digital Transformation in Industry",
          "Education and Support Programmes",
          "Law Enforcement and Rehabilitation",
          "Legislative Matters and Amendments",
          "National Defence and Security",
          "Public Transport and Waste Management",
          "Workforce Support and Employment"
         ],
         "y": [
          0,
          0,
          0,
          0,
          1,
          0,
          0,
          3
         ]
        },
        {
         "name": "Mr Thomas Chua Kee Seng",
         "type": "bar",
         "x": [
          "Community Care and Services",
          "Digital Transformation in Industry",
          "Education and Support Programmes",
          "Law Enforcement and Rehabilitation",
          "Legislative Matters and Amendments",
          "National Defence and Security",
          "Public Transport and Waste Management",
          "Workforce Support and Employment"
         ],
         "y": [
          0,
          2,
          0,
          0,
          0,
          0,
          0,
          0
         ]
        },
        {
         "name": "Mr Louis Ng Kok Kwang",
         "type": "bar",
         "x": [
          "Community Care and Services",
          "Digital Transformation in Industry",
          "Education and Support Programmes",
          "Law Enforcement and Rehabilitation",
          "Legislative Matters and Amendments",
          "National Defence and Security",
          "Public Transport and Waste Management",
          "Workforce Support and Employment"
         ],
         "y": [
          0,
          0,
          0,
          0,
          0,
          1,
          0,
          0
         ]
        },
        {
         "name": "Mr Lim Biow Chuan",
         "type": "bar",
         "x": [
          "Community Care and Services",
          "Digital Transformation in Industry",
          "Education and Support Programmes",
          "Law Enforcement and Rehabilitation",
          "Legislative Matters and Amendments",
          "National Defence and Security",
          "Public Transport and Waste Management",
          "Workforce Support and Employment"
         ],
         "y": [
          0,
          0,
          0,
          0,
          1,
          0,
          0,
          1
         ]
        },
        {
         "name": "Assoc Prof Dr Muhammad Faishal Ibrahim",
         "type": "bar",
         "x": [
          "Community Care and Services",
          "Digital Transformation in Industry",
          "Education and Support Programmes",
          "Law Enforcement and Rehabilitation",
          "Legislative Matters and Amendments",
          "National Defence and Security",
          "Public Transport and Waste Management",
          "Workforce Support and Employment"
         ],
         "y": [
          1,
          0,
          0,
          0,
          0,
          0,
          0,
          0
         ]
        },
        {
         "name": "Mr Png Eng Huat",
         "type": "bar",
         "x": [
          "Community Care and Services",
          "Digital Transformation in Industry",
          "Education and Support Programmes",
          "Law Enforcement and Rehabilitation",
          "Legislative Matters and Amendments",
          "National Defence and Security",
          "Public Transport and Waste Management",
          "Workforce Support and Employment"
         ],
         "y": [
          0,
          0,
          0,
          0,
          1,
          0,
          0,
          0
         ]
        },
        {
         "name": "Assoc Prof Daniel Goh Pei Siong",
         "type": "bar",
         "x": [
          "Community Care and Services",
          "Digital Transformation in Industry",
          "Education and Support Programmes",
          "Law Enforcement and Rehabilitation",
          "Legislative Matters and Amendments",
          "National Defence and Security",
          "Public Transport and Waste Management",
          "Workforce Support and Employment"
         ],
         "y": [
          0,
          0,
          0,
          0,
          0,
          0,
          0,
          2
         ]
        },
        {
         "name": "Assoc Prof Fatimah Lateef",
         "type": "bar",
         "x": [
          "Community Care and Services",
          "Digital Transformation in Industry",
          "Education and Support Programmes",
          "Law Enforcement and Rehabilitation",
          "Legislative Matters and Amendments",
          "National Defence and Security",
          "Public Transport and Waste Management",
          "Workforce Support and Employment"
         ],
         "y": [
          0,
          0,
          0,
          0,
          0,
          0,
          1,
          0
         ]
        },
        {
         "name": "Mr Yee Chia Hsing",
         "type": "bar",
         "x": [
          "Community Care and Services",
          "Digital Transformation in Industry",
          "Education and Support Programmes",
          "Law Enforcement and Rehabilitation",
          "Legislative Matters and Amendments",
          "National Defence and Security",
          "Public Transport and Waste Management",
          "Workforce Support and Employment"
         ],
         "y": [
          0,
          0,
          0,
          0,
          0,
          0,
          1,
          1
         ]
        },
        {
         "name": "Mrs Josephine Teo",
         "type": "bar",
         "x": [
          "Community Care and Services",
          "Digital Transformation in Industry",
          "Education and Support Programmes",
          "Law Enforcement and Rehabilitation",
          "Legislative Matters and Amendments",
          "National Defence and Security",
          "Public Transport and Waste Management",
          "Workforce Support and Employment"
         ],
         "y": [
          0,
          0,
          0,
          0,
          1,
          1,
          0,
          1
         ]
        },
        {
         "name": "Mr Sitoh Yih Pin",
         "type": "bar",
         "x": [
          "Community Care and Services",
          "Digital Transformation in Industry",
          "Education and Support Programmes",
          "Law Enforcement and Rehabilitation",
          "Legislative Matters and Amendments",
          "National Defence and Security",
          "Public Transport and Waste Management",
          "Workforce Support and Employment"
         ],
         "y": [
          0,
          0,
          0,
          0,
          0,
          0,
          1,
          0
         ]
        },
        {
         "name": "Mr Liang Eng Hwa",
         "type": "bar",
         "x": [
          "Community Care and Services",
          "Digital Transformation in Industry",
          "Education and Support Programmes",
          "Law Enforcement and Rehabilitation",
          "Legislative Matters and Amendments",
          "National Defence and Security",
          "Public Transport and Waste Management",
          "Workforce Support and Employment"
         ],
         "y": [
          0,
          0,
          0,
          0,
          1,
          0,
          0,
          3
         ]
        },
        {
         "name": "Ms Foo Mee Har",
         "type": "bar",
         "x": [
          "Community Care and Services",
          "Digital Transformation in Industry",
          "Education and Support Programmes",
          "Law Enforcement and Rehabilitation",
          "Legislative Matters and Amendments",
          "National Defence and Security",
          "Public Transport and Waste Management",
          "Workforce Support and Employment"
         ],
         "y": [
          0,
          0,
          0,
          0,
          1,
          0,
          0,
          2
         ]
        },
        {
         "name": "Ms Joan Pereira",
         "type": "bar",
         "x": [
          "Community Care and Services",
          "Digital Transformation in Industry",
          "Education and Support Programmes",
          "Law Enforcement and Rehabilitation",
          "Legislative Matters and Amendments",
          "National Defence and Security",
          "Public Transport and Waste Management",
          "Workforce Support and Employment"
         ],
         "y": [
          1,
          0,
          0,
          0,
          0,
          0,
          0,
          0
         ]
        },
        {
         "name": "Dr Lim Wee Kiak",
         "type": "bar",
         "x": [
          "Community Care and Services",
          "Digital Transformation in Industry",
          "Education and Support Programmes",
          "Law Enforcement and Rehabilitation",
          "Legislative Matters and Amendments",
          "National Defence and Security",
          "Public Transport and Waste Management",
          "Workforce Support and Employment"
         ],
         "y": [
          0,
          1,
          2,
          0,
          0,
          0,
          0,
          0
         ]
        },
        {
         "name": "Ms Anthea Ong",
         "type": "bar",
         "x": [
          "Community Care and Services",
          "Digital Transformation in Industry",
          "Education and Support Programmes",
          "Law Enforcement and Rehabilitation",
          "Legislative Matters and Amendments",
          "National Defence and Security",
          "Public Transport and Waste Management",
          "Workforce Support and Employment"
         ],
         "y": [
          1,
          0,
          0,
          0,
          0,
          0,
          0,
          0
         ]
        },
        {
         "name": "Ms Irene Quay Siew Ching",
         "type": "bar",
         "x": [
          "Community Care and Services",
          "Digital Transformation in Industry",
          "Education and Support Programmes",
          "Law Enforcement and Rehabilitation",
          "Legislative Matters and Amendments",
          "National Defence and Security",
          "Public Transport and Waste Management",
          "Workforce Support and Employment"
         ],
         "y": [
          0,
          0,
          1,
          0,
          0,
          0,
          0,
          0
         ]
        },
        {
         "name": "Prof Fatimah Lateef",
         "type": "bar",
         "x": [
          "Community Care and Services",
          "Digital Transformation in Industry",
          "Education and Support Programmes",
          "Law Enforcement and Rehabilitation",
          "Legislative Matters and Amendments",
          "National Defence and Security",
          "Public Transport and Waste Management",
          "Workforce Support and Employment"
         ],
         "y": [
          1,
          0,
          0,
          0,
          0,
          0,
          0,
          0
         ]
        },
        {
         "name": "Mr Alex Yam",
         "type": "bar",
         "x": [
          "Community Care and Services",
          "Digital Transformation in Industry",
          "Education and Support Programmes",
          "Law Enforcement and Rehabilitation",
          "Legislative Matters and Amendments",
          "National Defence and Security",
          "Public Transport and Waste Management",
          "Workforce Support and Employment"
         ],
         "y": [
          0,
          0,
          0,
          1,
          0,
          0,
          0,
          0
         ]
        },
        {
         "name": "Ms Jessica Tan Soon Neo",
         "type": "bar",
         "x": [
          "Community Care and Services",
          "Digital Transformation in Industry",
          "Education and Support Programmes",
          "Law Enforcement and Rehabilitation",
          "Legislative Matters and Amendments",
          "National Defence and Security",
          "Public Transport and Waste Management",
          "Workforce Support and Employment"
         ],
         "y": [
          0,
          0,
          0,
          0,
          1,
          0,
          0,
          1
         ]
        },
        {
         "name": "Mr Low Thia Khiang",
         "type": "bar",
         "x": [
          "Community Care and Services",
          "Digital Transformation in Industry",
          "Education and Support Programmes",
          "Law Enforcement and Rehabilitation",
          "Legislative Matters and Amendments",
          "National Defence and Security",
          "Public Transport and Waste Management",
          "Workforce Support and Employment"
         ],
         "y": [
          0,
          0,
          0,
          0,
          0,
          0,
          1,
          1
         ]
        },
        {
         "name": "Mr Saktiandi Supaat",
         "type": "bar",
         "x": [
          "Community Care and Services",
          "Digital Transformation in Industry",
          "Education and Support Programmes",
          "Law Enforcement and Rehabilitation",
          "Legislative Matters and Amendments",
          "National Defence and Security",
          "Public Transport and Waste Management",
          "Workforce Support and Employment"
         ],
         "y": [
          0,
          2,
          0,
          0,
          1,
          0,
          0,
          1
         ]
        },
        {
         "name": "Dr Tan Wu Meng",
         "type": "bar",
         "x": [
          "Community Care and Services",
          "Digital Transformation in Industry",
          "Education and Support Programmes",
          "Law Enforcement and Rehabilitation",
          "Legislative Matters and Amendments",
          "National Defence and Security",
          "Public Transport and Waste Management",
          "Workforce Support and Employment"
         ],
         "y": [
          0,
          0,
          0,
          0,
          0,
          0,
          0,
          2
         ]
        },
        {
         "name": "Mr Melvin Yong Yik Chye",
         "type": "bar",
         "x": [
          "Community Care and Services",
          "Digital Transformation in Industry",
          "Education and Support Programmes",
          "Law Enforcement and Rehabilitation",
          "Legislative Matters and Amendments",
          "National Defence and Security",
          "Public Transport and Waste Management",
          "Workforce Support and Employment"
         ],
         "y": [
          0,
          0,
          0,
          0,
          0,
          0,
          1,
          1
         ]
        },
        {
         "name": "Mr Darryl David",
         "type": "bar",
         "x": [
          "Community Care and Services",
          "Digital Transformation in Industry",
          "Education and Support Programmes",
          "Law Enforcement and Rehabilitation",
          "Legislative Matters and Amendments",
          "National Defence and Security",
          "Public Transport and Waste Management",
          "Workforce Support and Employment"
         ],
         "y": [
          0,
          0,
          2,
          0,
          0,
          0,
          0,
          0
         ]
        },
        {
         "name": "Mr Desmond Choo",
         "type": "bar",
         "x": [
          "Community Care and Services",
          "Digital Transformation in Industry",
          "Education and Support Programmes",
          "Law Enforcement and Rehabilitation",
          "Legislative Matters and Amendments",
          "National Defence and Security",
          "Public Transport and Waste Management",
          "Workforce Support and Employment"
         ],
         "y": [
          0,
          0,
          0,
          0,
          0,
          0,
          0,
          3
         ]
        },
        {
         "name": "Mr Dennis Tan Lip Fong",
         "type": "bar",
         "x": [
          "Community Care and Services",
          "Digital Transformation in Industry",
          "Education and Support Programmes",
          "Law Enforcement and Rehabilitation",
          "Legislative Matters and Amendments",
          "National Defence and Security",
          "Public Transport and Waste Management",
          "Workforce Support and Employment"
         ],
         "y": [
          0,
          0,
          0,
          0,
          0,
          0,
          1,
          0
         ]
        },
        {
         "name": "Mr Masagos Zulkifli B M M",
         "type": "bar",
         "x": [
          "Community Care and Services",
          "Digital Transformation in Industry",
          "Education and Support Programmes",
          "Law Enforcement and Rehabilitation",
          "Legislative Matters and Amendments",
          "National Defence and Security",
          "Public Transport and Waste Management",
          "Workforce Support and Employment"
         ],
         "y": [
          0,
          1,
          0,
          0,
          0,
          0,
          1,
          0
         ]
        },
        {
         "name": "Mr Khaw Boon Wan",
         "type": "bar",
         "x": [
          "Community Care and Services",
          "Digital Transformation in Industry",
          "Education and Support Programmes",
          "Law Enforcement and Rehabilitation",
          "Legislative Matters and Amendments",
          "National Defence and Security",
          "Public Transport and Waste Management",
          "Workforce Support and Employment"
         ],
         "y": [
          0,
          0,
          0,
          0,
          0,
          0,
          2,
          0
         ]
        },
        {
         "name": "Mr Chan Chun Sing",
         "type": "bar",
         "x": [
          "Community Care and Services",
          "Digital Transformation in Industry",
          "Education and Support Programmes",
          "Law Enforcement and Rehabilitation",
          "Legislative Matters and Amendments",
          "National Defence and Security",
          "Public Transport and Waste Management",
          "Workforce Support and Employment"
         ],
         "y": [
          0,
          1,
          0,
          0,
          0,
          0,
          0,
          1
         ]
        },
        {
         "name": "Mr Ang Wei Neng",
         "type": "bar",
         "x": [
          "Community Care and Services",
          "Digital Transformation in Industry",
          "Education and Support Programmes",
          "Law Enforcement and Rehabilitation",
          "Legislative Matters and Amendments",
          "National Defence and Security",
          "Public Transport and Waste Management",
          "Workforce Support and Employment"
         ],
         "y": [
          0,
          0,
          0,
          0,
          0,
          0,
          0,
          1
         ]
        },
        {
         "name": "Miss Cheryl Chan Wei Ling",
         "type": "bar",
         "x": [
          "Community Care and Services",
          "Digital Transformation in Industry",
          "Education and Support Programmes",
          "Law Enforcement and Rehabilitation",
          "Legislative Matters and Amendments",
          "National Defence and Security",
          "Public Transport and Waste Management",
          "Workforce Support and Employment"
         ],
         "y": [
          0,
          0,
          0,
          0,
          1,
          0,
          0,
          0
         ]
        },
        {
         "name": "Mr Pritam Singh",
         "type": "bar",
         "x": [
          "Community Care and Services",
          "Digital Transformation in Industry",
          "Education and Support Programmes",
          "Law Enforcement and Rehabilitation",
          "Legislative Matters and Amendments",
          "National Defence and Security",
          "Public Transport and Waste Management",
          "Workforce Support and Employment"
         ],
         "y": [
          0,
          0,
          0,
          1,
          0,
          0,
          1,
          1
         ]
        },
        {
         "name": "Mr Kwek Hian Chuan Henry",
         "type": "bar",
         "x": [
          "Community Care and Services",
          "Digital Transformation in Industry",
          "Education and Support Programmes",
          "Law Enforcement and Rehabilitation",
          "Legislative Matters and Amendments",
          "National Defence and Security",
          "Public Transport and Waste Management",
          "Workforce Support and Employment"
         ],
         "y": [
          0,
          1,
          0,
          0,
          0,
          0,
          0,
          0
         ]
        },
        {
         "name": "Mr Ong Ye Kung",
         "type": "bar",
         "x": [
          "Community Care and Services",
          "Digital Transformation in Industry",
          "Education and Support Programmes",
          "Law Enforcement and Rehabilitation",
          "Legislative Matters and Amendments",
          "National Defence and Security",
          "Public Transport and Waste Management",
          "Workforce Support and Employment"
         ],
         "y": [
          0,
          0,
          1,
          0,
          0,
          0,
          0,
          0
         ]
        },
        {
         "name": "Mr Christopher de Souza",
         "type": "bar",
         "x": [
          "Community Care and Services",
          "Digital Transformation in Industry",
          "Education and Support Programmes",
          "Law Enforcement and Rehabilitation",
          "Legislative Matters and Amendments",
          "National Defence and Security",
          "Public Transport and Waste Management",
          "Workforce Support and Employment"
         ],
         "y": [
          0,
          0,
          0,
          0,
          0,
          0,
          0,
          1
         ]
        },
        {
         "name": "Mr Zaqy Mohamad",
         "type": "bar",
         "x": [
          "Community Care and Services",
          "Digital Transformation in Industry",
          "Education and Support Programmes",
          "Law Enforcement and Rehabilitation",
          "Legislative Matters and Amendments",
          "National Defence and Security",
          "Public Transport and Waste Management",
          "Workforce Support and Employment"
         ],
         "y": [
          0,
          0,
          0,
          0,
          0,
          0,
          0,
          1
         ]
        },
        {
         "name": "Mr S Iswaran",
         "type": "bar",
         "x": [
          "Community Care and Services",
          "Digital Transformation in Industry",
          "Education and Support Programmes",
          "Law Enforcement and Rehabilitation",
          "Legislative Matters and Amendments",
          "National Defence and Security",
          "Public Transport and Waste Management",
          "Workforce Support and Employment"
         ],
         "y": [
          0,
          1,
          0,
          0,
          0,
          0,
          0,
          0
         ]
        }
       ],
       "layout": {
        "barmode": "stack",
        "legend": {
         "title": {
          "text": "MPs"
         }
        },
        "template": {
         "data": {
          "bar": [
           {
            "error_x": {
             "color": "#2a3f5f"
            },
            "error_y": {
             "color": "#2a3f5f"
            },
            "marker": {
             "line": {
              "color": "#E5ECF6",
              "width": 0.5
             },
             "pattern": {
              "fillmode": "overlay",
              "size": 10,
              "solidity": 0.2
             }
            },
            "type": "bar"
           }
          ],
          "barpolar": [
           {
            "marker": {
             "line": {
              "color": "#E5ECF6",
              "width": 0.5
             },
             "pattern": {
              "fillmode": "overlay",
              "size": 10,
              "solidity": 0.2
             }
            },
            "type": "barpolar"
           }
          ],
          "carpet": [
           {
            "aaxis": {
             "endlinecolor": "#2a3f5f",
             "gridcolor": "white",
             "linecolor": "white",
             "minorgridcolor": "white",
             "startlinecolor": "#2a3f5f"
            },
            "baxis": {
             "endlinecolor": "#2a3f5f",
             "gridcolor": "white",
             "linecolor": "white",
             "minorgridcolor": "white",
             "startlinecolor": "#2a3f5f"
            },
            "type": "carpet"
           }
          ],
          "choropleth": [
           {
            "colorbar": {
             "outlinewidth": 0,
             "ticks": ""
            },
            "type": "choropleth"
           }
          ],
          "contour": [
           {
            "colorbar": {
             "outlinewidth": 0,
             "ticks": ""
            },
            "colorscale": [
             [
              0,
              "#0d0887"
             ],
             [
              0.1111111111111111,
              "#46039f"
             ],
             [
              0.2222222222222222,
              "#7201a8"
             ],
             [
              0.3333333333333333,
              "#9c179e"
             ],
             [
              0.4444444444444444,
              "#bd3786"
             ],
             [
              0.5555555555555556,
              "#d8576b"
             ],
             [
              0.6666666666666666,
              "#ed7953"
             ],
             [
              0.7777777777777778,
              "#fb9f3a"
             ],
             [
              0.8888888888888888,
              "#fdca26"
             ],
             [
              1,
              "#f0f921"
             ]
            ],
            "type": "contour"
           }
          ],
          "contourcarpet": [
           {
            "colorbar": {
             "outlinewidth": 0,
             "ticks": ""
            },
            "type": "contourcarpet"
           }
          ],
          "heatmap": [
           {
            "colorbar": {
             "outlinewidth": 0,
             "ticks": ""
            },
            "colorscale": [
             [
              0,
              "#0d0887"
             ],
             [
              0.1111111111111111,
              "#46039f"
             ],
             [
              0.2222222222222222,
              "#7201a8"
             ],
             [
              0.3333333333333333,
              "#9c179e"
             ],
             [
              0.4444444444444444,
              "#bd3786"
             ],
             [
              0.5555555555555556,
              "#d8576b"
             ],
             [
              0.6666666666666666,
              "#ed7953"
             ],
             [
              0.7777777777777778,
              "#fb9f3a"
             ],
             [
              0.8888888888888888,
              "#fdca26"
             ],
             [
              1,
              "#f0f921"
             ]
            ],
            "type": "heatmap"
           }
          ],
          "heatmapgl": [
           {
            "colorbar": {
             "outlinewidth": 0,
             "ticks": ""
            },
            "colorscale": [
             [
              0,
              "#0d0887"
             ],
             [
              0.1111111111111111,
              "#46039f"
             ],
             [
              0.2222222222222222,
              "#7201a8"
             ],
             [
              0.3333333333333333,
              "#9c179e"
             ],
             [
              0.4444444444444444,
              "#bd3786"
             ],
             [
              0.5555555555555556,
              "#d8576b"
             ],
             [
              0.6666666666666666,
              "#ed7953"
             ],
             [
              0.7777777777777778,
              "#fb9f3a"
             ],
             [
              0.8888888888888888,
              "#fdca26"
             ],
             [
              1,
              "#f0f921"
             ]
            ],
            "type": "heatmapgl"
           }
          ],
          "histogram": [
           {
            "marker": {
             "pattern": {
              "fillmode": "overlay",
              "size": 10,
              "solidity": 0.2
             }
            },
            "type": "histogram"
           }
          ],
          "histogram2d": [
           {
            "colorbar": {
             "outlinewidth": 0,
             "ticks": ""
            },
            "colorscale": [
             [
              0,
              "#0d0887"
             ],
             [
              0.1111111111111111,
              "#46039f"
             ],
             [
              0.2222222222222222,
              "#7201a8"
             ],
             [
              0.3333333333333333,
              "#9c179e"
             ],
             [
              0.4444444444444444,
              "#bd3786"
             ],
             [
              0.5555555555555556,
              "#d8576b"
             ],
             [
              0.6666666666666666,
              "#ed7953"
             ],
             [
              0.7777777777777778,
              "#fb9f3a"
             ],
             [
              0.8888888888888888,
              "#fdca26"
             ],
             [
              1,
              "#f0f921"
             ]
            ],
            "type": "histogram2d"
           }
          ],
          "histogram2dcontour": [
           {
            "colorbar": {
             "outlinewidth": 0,
             "ticks": ""
            },
            "colorscale": [
             [
              0,
              "#0d0887"
             ],
             [
              0.1111111111111111,
              "#46039f"
             ],
             [
              0.2222222222222222,
              "#7201a8"
             ],
             [
              0.3333333333333333,
              "#9c179e"
             ],
             [
              0.4444444444444444,
              "#bd3786"
             ],
             [
              0.5555555555555556,
              "#d8576b"
             ],
             [
              0.6666666666666666,
              "#ed7953"
             ],
             [
              0.7777777777777778,
              "#fb9f3a"
             ],
             [
              0.8888888888888888,
              "#fdca26"
             ],
             [
              1,
              "#f0f921"
             ]
            ],
            "type": "histogram2dcontour"
           }
          ],
          "mesh3d": [
           {
            "colorbar": {
             "outlinewidth": 0,
             "ticks": ""
            },
            "type": "mesh3d"
           }
          ],
          "parcoords": [
           {
            "line": {
             "colorbar": {
              "outlinewidth": 0,
              "ticks": ""
             }
            },
            "type": "parcoords"
           }
          ],
          "pie": [
           {
            "automargin": true,
            "type": "pie"
           }
          ],
          "scatter": [
           {
            "fillpattern": {
             "fillmode": "overlay",
             "size": 10,
             "solidity": 0.2
            },
            "type": "scatter"
           }
          ],
          "scatter3d": [
           {
            "line": {
             "colorbar": {
              "outlinewidth": 0,
              "ticks": ""
             }
            },
            "marker": {
             "colorbar": {
              "outlinewidth": 0,
              "ticks": ""
             }
            },
            "type": "scatter3d"
           }
          ],
          "scattercarpet": [
           {
            "marker": {
             "colorbar": {
              "outlinewidth": 0,
              "ticks": ""
             }
            },
            "type": "scattercarpet"
           }
          ],
          "scattergeo": [
           {
            "marker": {
             "colorbar": {
              "outlinewidth": 0,
              "ticks": ""
             }
            },
            "type": "scattergeo"
           }
          ],
          "scattergl": [
           {
            "marker": {
             "colorbar": {
              "outlinewidth": 0,
              "ticks": ""
             }
            },
            "type": "scattergl"
           }
          ],
          "scattermapbox": [
           {
            "marker": {
             "colorbar": {
              "outlinewidth": 0,
              "ticks": ""
             }
            },
            "type": "scattermapbox"
           }
          ],
          "scatterpolar": [
           {
            "marker": {
             "colorbar": {
              "outlinewidth": 0,
              "ticks": ""
             }
            },
            "type": "scatterpolar"
           }
          ],
          "scatterpolargl": [
           {
            "marker": {
             "colorbar": {
              "outlinewidth": 0,
              "ticks": ""
             }
            },
            "type": "scatterpolargl"
           }
          ],
          "scatterternary": [
           {
            "marker": {
             "colorbar": {
              "outlinewidth": 0,
              "ticks": ""
             }
            },
            "type": "scatterternary"
           }
          ],
          "surface": [
           {
            "colorbar": {
             "outlinewidth": 0,
             "ticks": ""
            },
            "colorscale": [
             [
              0,
              "#0d0887"
             ],
             [
              0.1111111111111111,
              "#46039f"
             ],
             [
              0.2222222222222222,
              "#7201a8"
             ],
             [
              0.3333333333333333,
              "#9c179e"
             ],
             [
              0.4444444444444444,
              "#bd3786"
             ],
             [
              0.5555555555555556,
              "#d8576b"
             ],
             [
              0.6666666666666666,
              "#ed7953"
             ],
             [
              0.7777777777777778,
              "#fb9f3a"
             ],
             [
              0.8888888888888888,
              "#fdca26"
             ],
             [
              1,
              "#f0f921"
             ]
            ],
            "type": "surface"
           }
          ],
          "table": [
           {
            "cells": {
             "fill": {
              "color": "#EBF0F8"
             },
             "line": {
              "color": "white"
             }
            },
            "header": {
             "fill": {
              "color": "#C8D4E3"
             },
             "line": {
              "color": "white"
             }
            },
            "type": "table"
           }
          ]
         },
         "layout": {
          "annotationdefaults": {
           "arrowcolor": "#2a3f5f",
           "arrowhead": 0,
           "arrowwidth": 1
          },
          "autotypenumbers": "strict",
          "coloraxis": {
           "colorbar": {
            "outlinewidth": 0,
            "ticks": ""
           }
          },
          "colorscale": {
           "diverging": [
            [
             0,
             "#8e0152"
            ],
            [
             0.1,
             "#c51b7d"
            ],
            [
             0.2,
             "#de77ae"
            ],
            [
             0.3,
             "#f1b6da"
            ],
            [
             0.4,
             "#fde0ef"
            ],
            [
             0.5,
             "#f7f7f7"
            ],
            [
             0.6,
             "#e6f5d0"
            ],
            [
             0.7,
             "#b8e186"
            ],
            [
             0.8,
             "#7fbc41"
            ],
            [
             0.9,
             "#4d9221"
            ],
            [
             1,
             "#276419"
            ]
           ],
           "sequential": [
            [
             0,
             "#0d0887"
            ],
            [
             0.1111111111111111,
             "#46039f"
            ],
            [
             0.2222222222222222,
             "#7201a8"
            ],
            [
             0.3333333333333333,
             "#9c179e"
            ],
            [
             0.4444444444444444,
             "#bd3786"
            ],
            [
             0.5555555555555556,
             "#d8576b"
            ],
            [
             0.6666666666666666,
             "#ed7953"
            ],
            [
             0.7777777777777778,
             "#fb9f3a"
            ],
            [
             0.8888888888888888,
             "#fdca26"
            ],
            [
             1,
             "#f0f921"
            ]
           ],
           "sequentialminus": [
            [
             0,
             "#0d0887"
            ],
            [
             0.1111111111111111,
             "#46039f"
            ],
            [
             0.2222222222222222,
             "#7201a8"
            ],
            [
             0.3333333333333333,
             "#9c179e"
            ],
            [
             0.4444444444444444,
             "#bd3786"
            ],
            [
             0.5555555555555556,
             "#d8576b"
            ],
            [
             0.6666666666666666,
             "#ed7953"
            ],
            [
             0.7777777777777778,
             "#fb9f3a"
            ],
            [
             0.8888888888888888,
             "#fdca26"
            ],
            [
             1,
             "#f0f921"
            ]
           ]
          },
          "colorway": [
           "#636efa",
           "#EF553B",
           "#00cc96",
           "#ab63fa",
           "#FFA15A",
           "#19d3f3",
           "#FF6692",
           "#B6E880",
           "#FF97FF",
           "#FECB52"
          ],
          "font": {
           "color": "#2a3f5f"
          },
          "geo": {
           "bgcolor": "white",
           "lakecolor": "white",
           "landcolor": "#E5ECF6",
           "showlakes": true,
           "showland": true,
           "subunitcolor": "white"
          },
          "hoverlabel": {
           "align": "left"
          },
          "hovermode": "closest",
          "mapbox": {
           "style": "light"
          },
          "paper_bgcolor": "white",
          "plot_bgcolor": "#E5ECF6",
          "polar": {
           "angularaxis": {
            "gridcolor": "white",
            "linecolor": "white",
            "ticks": ""
           },
           "bgcolor": "#E5ECF6",
           "radialaxis": {
            "gridcolor": "white",
            "linecolor": "white",
            "ticks": ""
           }
          },
          "scene": {
           "xaxis": {
            "backgroundcolor": "#E5ECF6",
            "gridcolor": "white",
            "gridwidth": 2,
            "linecolor": "white",
            "showbackground": true,
            "ticks": "",
            "zerolinecolor": "white"
           },
           "yaxis": {
            "backgroundcolor": "#E5ECF6",
            "gridcolor": "white",
            "gridwidth": 2,
            "linecolor": "white",
            "showbackground": true,
            "ticks": "",
            "zerolinecolor": "white"
           },
           "zaxis": {
            "backgroundcolor": "#E5ECF6",
            "gridcolor": "white",
            "gridwidth": 2,
            "linecolor": "white",
            "showbackground": true,
            "ticks": "",
            "zerolinecolor": "white"
           }
          },
          "shapedefaults": {
           "line": {
            "color": "#2a3f5f"
           }
          },
          "ternary": {
           "aaxis": {
            "gridcolor": "white",
            "linecolor": "white",
            "ticks": ""
           },
           "baxis": {
            "gridcolor": "white",
            "linecolor": "white",
            "ticks": ""
           },
           "bgcolor": "#E5ECF6",
           "caxis": {
            "gridcolor": "white",
            "linecolor": "white",
            "ticks": ""
           }
          },
          "title": {
           "x": 0.05
          },
          "xaxis": {
           "automargin": true,
           "gridcolor": "white",
           "linecolor": "white",
           "ticks": "",
           "title": {
            "standoff": 15
           },
           "zerolinecolor": "white",
           "zerolinewidth": 2
          },
          "yaxis": {
           "automargin": true,
           "gridcolor": "white",
           "linecolor": "white",
           "ticks": "",
           "title": {
            "standoff": 15
           },
           "zerolinecolor": "white",
           "zerolinewidth": 2
          }
         }
        },
        "title": {
         "text": "Number of Questions Asked by MPs per Topic"
        },
        "xaxis": {
         "title": {
          "text": "Topics"
         }
        },
        "yaxis": {
         "title": {
          "text": "Number of Questions"
         }
        }
       }
      }
     },
     "metadata": {},
     "output_type": "display_data"
    }
   ],
   "source": [
    "# Prepare data for plotting\n",
    "topics = list(topic_mp_counts.keys())\n",
    "mp_names = list(set(mp.split(':')[0] for counts in topic_mp_counts.values() for mp in counts))\n",
    "mp_data = {mp: [] for mp in mp_names}\n",
    "\n",
    "for topic in topics:\n",
    "    counts = Counter({mp.split(':')[0]: int(mp.split(':')[1].split()[0]) for mp in topic_mp_counts[topic]})\n",
    "    for mp in mp_names:\n",
    "        mp_data[mp].append(counts.get(mp, 0))\n",
    "\n",
    "# Plotting with Plotly\n",
    "fig = go.Figure()\n",
    "\n",
    "for mp, counts in mp_data.items():\n",
    "    fig.add_trace(go.Bar(\n",
    "        x=topics,\n",
    "        y=counts,\n",
    "        name=mp\n",
    "    ))\n",
    "\n",
    "fig.update_layout(\n",
    "    barmode='stack',\n",
    "    title='Number of Questions Asked by MPs per Topic',\n",
    "    xaxis_title='Topics',\n",
    "    yaxis_title='Number of Questions',\n",
    "    legend_title='MPs'\n",
    ")\n",
    "\n",
    "fig.show()"
   ]
  },
  {
   "cell_type": "code",
   "execution_count": 23,
   "metadata": {},
   "outputs": [
    {
     "data": {
      "application/vnd.plotly.v1+json": {
       "config": {
        "plotlyServerURL": "https://plot.ly"
       },
       "data": [
        {
         "coloraxis": "coloraxis",
         "histfunc": "sum",
         "hovertemplate": "Topic=%{x}<br>MP=%{y}<br>sum of Questions=%{z}<extra></extra>",
         "name": "",
         "texttemplate": "%{z}",
         "type": "histogram2d",
         "x": [
          "Community Care and Services",
          "Community Care and Services",
          "Community Care and Services",
          "Community Care and Services",
          "Community Care and Services",
          "Digital Transformation in Industry",
          "Digital Transformation in Industry",
          "Digital Transformation in Industry",
          "Digital Transformation in Industry",
          "Digital Transformation in Industry",
          "Digital Transformation in Industry",
          "Digital Transformation in Industry",
          "Digital Transformation in Industry",
          "Education and Support Programmes",
          "Education and Support Programmes",
          "Education and Support Programmes",
          "Education and Support Programmes",
          "Education and Support Programmes",
          "Education and Support Programmes",
          "Law Enforcement and Rehabilitation",
          "Law Enforcement and Rehabilitation",
          "Law Enforcement and Rehabilitation",
          "Law Enforcement and Rehabilitation",
          "Legislative Matters and Amendments",
          "Legislative Matters and Amendments",
          "Legislative Matters and Amendments",
          "Legislative Matters and Amendments",
          "Legislative Matters and Amendments",
          "Legislative Matters and Amendments",
          "Legislative Matters and Amendments",
          "Legislative Matters and Amendments",
          "Legislative Matters and Amendments",
          "Legislative Matters and Amendments",
          "Legislative Matters and Amendments",
          "National Defence and Security",
          "National Defence and Security",
          "Public Transport and Waste Management",
          "Public Transport and Waste Management",
          "Public Transport and Waste Management",
          "Public Transport and Waste Management",
          "Public Transport and Waste Management",
          "Public Transport and Waste Management",
          "Public Transport and Waste Management",
          "Public Transport and Waste Management",
          "Public Transport and Waste Management",
          "Public Transport and Waste Management",
          "Public Transport and Waste Management",
          "Public Transport and Waste Management",
          "Workforce Support and Employment",
          "Workforce Support and Employment",
          "Workforce Support and Employment",
          "Workforce Support and Employment",
          "Workforce Support and Employment",
          "Workforce Support and Employment",
          "Workforce Support and Employment",
          "Workforce Support and Employment",
          "Workforce Support and Employment",
          "Workforce Support and Employment",
          "Workforce Support and Employment",
          "Workforce Support and Employment",
          "Workforce Support and Employment",
          "Workforce Support and Employment",
          "Workforce Support and Employment",
          "Workforce Support and Employment",
          "Workforce Support and Employment",
          "Workforce Support and Employment",
          "Workforce Support and Employment",
          "Workforce Support and Employment",
          "Workforce Support and Employment",
          "Workforce Support and Employment",
          "Workforce Support and Employment",
          "Workforce Support and Employment",
          "Workforce Support and Employment",
          "Workforce Support and Employment"
         ],
         "xaxis": "x",
         "xbingroup": "x",
         "y": [
          "Prof Fatimah Lateef",
          "Assoc Prof Dr Muhammad Faishal Ibrahim",
          "Ms Anthea Ong",
          "Er Dr Lee Bee Wah",
          "Ms Joan Pereira",
          "Mr Saktiandi Supaat",
          "Mr Thomas Chua Kee Seng",
          "Mr Lim Swee Say",
          "Mr Chan Chun Sing",
          "Dr Lim Wee Kiak",
          "Mr Kwek Hian Chuan Henry",
          "Mr Masagos Zulkifli B M M",
          "Mr S Iswaran",
          "Dr Lim Wee Kiak",
          "Mr Darryl David",
          "Ms Irene Quay Siew Ching",
          "Mr Speaker",
          "Mr Leon Perera",
          "Mr Ong Ye Kung",
          "Mr Teo Chee Hean",
          "Mr Leon Perera",
          "Mr Alex Yam",
          "Mr Pritam Singh",
          "Mr Chong Kee Hiong",
          "Mr Liang Eng Hwa",
          "Mr Patrick Tay Teck Guan",
          "Ms Foo Mee Har",
          "Mr Png Eng Huat",
          "Mr Lim Biow Chuan",
          "Mr Saktiandi Supaat",
          "Mrs Josephine Teo",
          "Assoc Prof Walter Theseira",
          "Ms Jessica Tan Soon Neo",
          "Miss Cheryl Chan Wei Ling",
          "Mrs Josephine Teo",
          "Mr Louis Ng Kok Kwang",
          "Er Dr Lee Bee Wah",
          "Mr Khaw Boon Wan",
          "Mr Seah Kian Peng",
          "Mr Masagos Zulkifli B M M",
          "Assoc Prof Walter Theseira",
          "Assoc Prof Fatimah Lateef",
          "Mr Sitoh Yih Pin",
          "Mr Dennis Tan Lip Fong",
          "Mr Pritam Singh",
          "Mr Yee Chia Hsing",
          "Mr Low Thia Khiang",
          "Mr Melvin Yong Yik Chye",
          "Mr Liang Eng Hwa",
          "Mr Patrick Tay Teck Guan",
          "Mr Desmond Choo",
          "Mr Lim Swee Say",
          "Dr Tan Wu Meng",
          "Assoc Prof Daniel Goh Pei Siong",
          "Mr Seah Kian Peng",
          "Ms Foo Mee Har",
          "Er Dr Lee Bee Wah",
          "Mr Pritam Singh",
          "Mr Low Thia Khiang",
          "Mr Speaker",
          "Mr Chan Chun Sing",
          "Mr Saktiandi Supaat",
          "Mr Lim Biow Chuan",
          "Mr Yee Chia Hsing",
          "Mr Leon Perera",
          "Assoc Prof Walter Theseira",
          "Mrs Josephine Teo",
          "Mr Chong Kee Hiong",
          "Mr Zaqy Mohamad",
          "Mr Melvin Yong Yik Chye",
          "Mr Ang Hin Kee",
          "Mr Christopher de Souza",
          "Ms Jessica Tan Soon Neo",
          "Mr Ang Wei Neng"
         ],
         "yaxis": "y",
         "ybingroup": "y",
         "z": [
          1,
          1,
          1,
          1,
          1,
          2,
          2,
          1,
          1,
          1,
          1,
          1,
          1,
          2,
          2,
          1,
          1,
          1,
          1,
          1,
          1,
          1,
          1,
          1,
          1,
          1,
          1,
          1,
          1,
          1,
          1,
          1,
          1,
          1,
          1,
          1,
          2,
          2,
          1,
          1,
          1,
          1,
          1,
          1,
          1,
          1,
          1,
          1,
          3,
          3,
          3,
          3,
          2,
          2,
          2,
          2,
          1,
          1,
          1,
          1,
          1,
          1,
          1,
          1,
          1,
          1,
          1,
          1,
          1,
          1,
          1,
          1,
          1,
          1
         ]
        }
       ],
       "layout": {
        "coloraxis": {
         "colorbar": {
          "title": {
           "text": "Number of Questions"
          }
         },
         "colorscale": [
          [
           0,
           "#0d0887"
          ],
          [
           0.1111111111111111,
           "#46039f"
          ],
          [
           0.2222222222222222,
           "#7201a8"
          ],
          [
           0.3333333333333333,
           "#9c179e"
          ],
          [
           0.4444444444444444,
           "#bd3786"
          ],
          [
           0.5555555555555556,
           "#d8576b"
          ],
          [
           0.6666666666666666,
           "#ed7953"
          ],
          [
           0.7777777777777778,
           "#fb9f3a"
          ],
          [
           0.8888888888888888,
           "#fdca26"
          ],
          [
           1,
           "#f0f921"
          ]
         ]
        },
        "legend": {
         "tracegroupgap": 0
        },
        "template": {
         "data": {
          "bar": [
           {
            "error_x": {
             "color": "#2a3f5f"
            },
            "error_y": {
             "color": "#2a3f5f"
            },
            "marker": {
             "line": {
              "color": "#E5ECF6",
              "width": 0.5
             },
             "pattern": {
              "fillmode": "overlay",
              "size": 10,
              "solidity": 0.2
             }
            },
            "type": "bar"
           }
          ],
          "barpolar": [
           {
            "marker": {
             "line": {
              "color": "#E5ECF6",
              "width": 0.5
             },
             "pattern": {
              "fillmode": "overlay",
              "size": 10,
              "solidity": 0.2
             }
            },
            "type": "barpolar"
           }
          ],
          "carpet": [
           {
            "aaxis": {
             "endlinecolor": "#2a3f5f",
             "gridcolor": "white",
             "linecolor": "white",
             "minorgridcolor": "white",
             "startlinecolor": "#2a3f5f"
            },
            "baxis": {
             "endlinecolor": "#2a3f5f",
             "gridcolor": "white",
             "linecolor": "white",
             "minorgridcolor": "white",
             "startlinecolor": "#2a3f5f"
            },
            "type": "carpet"
           }
          ],
          "choropleth": [
           {
            "colorbar": {
             "outlinewidth": 0,
             "ticks": ""
            },
            "type": "choropleth"
           }
          ],
          "contour": [
           {
            "colorbar": {
             "outlinewidth": 0,
             "ticks": ""
            },
            "colorscale": [
             [
              0,
              "#0d0887"
             ],
             [
              0.1111111111111111,
              "#46039f"
             ],
             [
              0.2222222222222222,
              "#7201a8"
             ],
             [
              0.3333333333333333,
              "#9c179e"
             ],
             [
              0.4444444444444444,
              "#bd3786"
             ],
             [
              0.5555555555555556,
              "#d8576b"
             ],
             [
              0.6666666666666666,
              "#ed7953"
             ],
             [
              0.7777777777777778,
              "#fb9f3a"
             ],
             [
              0.8888888888888888,
              "#fdca26"
             ],
             [
              1,
              "#f0f921"
             ]
            ],
            "type": "contour"
           }
          ],
          "contourcarpet": [
           {
            "colorbar": {
             "outlinewidth": 0,
             "ticks": ""
            },
            "type": "contourcarpet"
           }
          ],
          "heatmap": [
           {
            "colorbar": {
             "outlinewidth": 0,
             "ticks": ""
            },
            "colorscale": [
             [
              0,
              "#0d0887"
             ],
             [
              0.1111111111111111,
              "#46039f"
             ],
             [
              0.2222222222222222,
              "#7201a8"
             ],
             [
              0.3333333333333333,
              "#9c179e"
             ],
             [
              0.4444444444444444,
              "#bd3786"
             ],
             [
              0.5555555555555556,
              "#d8576b"
             ],
             [
              0.6666666666666666,
              "#ed7953"
             ],
             [
              0.7777777777777778,
              "#fb9f3a"
             ],
             [
              0.8888888888888888,
              "#fdca26"
             ],
             [
              1,
              "#f0f921"
             ]
            ],
            "type": "heatmap"
           }
          ],
          "heatmapgl": [
           {
            "colorbar": {
             "outlinewidth": 0,
             "ticks": ""
            },
            "colorscale": [
             [
              0,
              "#0d0887"
             ],
             [
              0.1111111111111111,
              "#46039f"
             ],
             [
              0.2222222222222222,
              "#7201a8"
             ],
             [
              0.3333333333333333,
              "#9c179e"
             ],
             [
              0.4444444444444444,
              "#bd3786"
             ],
             [
              0.5555555555555556,
              "#d8576b"
             ],
             [
              0.6666666666666666,
              "#ed7953"
             ],
             [
              0.7777777777777778,
              "#fb9f3a"
             ],
             [
              0.8888888888888888,
              "#fdca26"
             ],
             [
              1,
              "#f0f921"
             ]
            ],
            "type": "heatmapgl"
           }
          ],
          "histogram": [
           {
            "marker": {
             "pattern": {
              "fillmode": "overlay",
              "size": 10,
              "solidity": 0.2
             }
            },
            "type": "histogram"
           }
          ],
          "histogram2d": [
           {
            "colorbar": {
             "outlinewidth": 0,
             "ticks": ""
            },
            "colorscale": [
             [
              0,
              "#0d0887"
             ],
             [
              0.1111111111111111,
              "#46039f"
             ],
             [
              0.2222222222222222,
              "#7201a8"
             ],
             [
              0.3333333333333333,
              "#9c179e"
             ],
             [
              0.4444444444444444,
              "#bd3786"
             ],
             [
              0.5555555555555556,
              "#d8576b"
             ],
             [
              0.6666666666666666,
              "#ed7953"
             ],
             [
              0.7777777777777778,
              "#fb9f3a"
             ],
             [
              0.8888888888888888,
              "#fdca26"
             ],
             [
              1,
              "#f0f921"
             ]
            ],
            "type": "histogram2d"
           }
          ],
          "histogram2dcontour": [
           {
            "colorbar": {
             "outlinewidth": 0,
             "ticks": ""
            },
            "colorscale": [
             [
              0,
              "#0d0887"
             ],
             [
              0.1111111111111111,
              "#46039f"
             ],
             [
              0.2222222222222222,
              "#7201a8"
             ],
             [
              0.3333333333333333,
              "#9c179e"
             ],
             [
              0.4444444444444444,
              "#bd3786"
             ],
             [
              0.5555555555555556,
              "#d8576b"
             ],
             [
              0.6666666666666666,
              "#ed7953"
             ],
             [
              0.7777777777777778,
              "#fb9f3a"
             ],
             [
              0.8888888888888888,
              "#fdca26"
             ],
             [
              1,
              "#f0f921"
             ]
            ],
            "type": "histogram2dcontour"
           }
          ],
          "mesh3d": [
           {
            "colorbar": {
             "outlinewidth": 0,
             "ticks": ""
            },
            "type": "mesh3d"
           }
          ],
          "parcoords": [
           {
            "line": {
             "colorbar": {
              "outlinewidth": 0,
              "ticks": ""
             }
            },
            "type": "parcoords"
           }
          ],
          "pie": [
           {
            "automargin": true,
            "type": "pie"
           }
          ],
          "scatter": [
           {
            "fillpattern": {
             "fillmode": "overlay",
             "size": 10,
             "solidity": 0.2
            },
            "type": "scatter"
           }
          ],
          "scatter3d": [
           {
            "line": {
             "colorbar": {
              "outlinewidth": 0,
              "ticks": ""
             }
            },
            "marker": {
             "colorbar": {
              "outlinewidth": 0,
              "ticks": ""
             }
            },
            "type": "scatter3d"
           }
          ],
          "scattercarpet": [
           {
            "marker": {
             "colorbar": {
              "outlinewidth": 0,
              "ticks": ""
             }
            },
            "type": "scattercarpet"
           }
          ],
          "scattergeo": [
           {
            "marker": {
             "colorbar": {
              "outlinewidth": 0,
              "ticks": ""
             }
            },
            "type": "scattergeo"
           }
          ],
          "scattergl": [
           {
            "marker": {
             "colorbar": {
              "outlinewidth": 0,
              "ticks": ""
             }
            },
            "type": "scattergl"
           }
          ],
          "scattermapbox": [
           {
            "marker": {
             "colorbar": {
              "outlinewidth": 0,
              "ticks": ""
             }
            },
            "type": "scattermapbox"
           }
          ],
          "scatterpolar": [
           {
            "marker": {
             "colorbar": {
              "outlinewidth": 0,
              "ticks": ""
             }
            },
            "type": "scatterpolar"
           }
          ],
          "scatterpolargl": [
           {
            "marker": {
             "colorbar": {
              "outlinewidth": 0,
              "ticks": ""
             }
            },
            "type": "scatterpolargl"
           }
          ],
          "scatterternary": [
           {
            "marker": {
             "colorbar": {
              "outlinewidth": 0,
              "ticks": ""
             }
            },
            "type": "scatterternary"
           }
          ],
          "surface": [
           {
            "colorbar": {
             "outlinewidth": 0,
             "ticks": ""
            },
            "colorscale": [
             [
              0,
              "#0d0887"
             ],
             [
              0.1111111111111111,
              "#46039f"
             ],
             [
              0.2222222222222222,
              "#7201a8"
             ],
             [
              0.3333333333333333,
              "#9c179e"
             ],
             [
              0.4444444444444444,
              "#bd3786"
             ],
             [
              0.5555555555555556,
              "#d8576b"
             ],
             [
              0.6666666666666666,
              "#ed7953"
             ],
             [
              0.7777777777777778,
              "#fb9f3a"
             ],
             [
              0.8888888888888888,
              "#fdca26"
             ],
             [
              1,
              "#f0f921"
             ]
            ],
            "type": "surface"
           }
          ],
          "table": [
           {
            "cells": {
             "fill": {
              "color": "#EBF0F8"
             },
             "line": {
              "color": "white"
             }
            },
            "header": {
             "fill": {
              "color": "#C8D4E3"
             },
             "line": {
              "color": "white"
             }
            },
            "type": "table"
           }
          ]
         },
         "layout": {
          "annotationdefaults": {
           "arrowcolor": "#2a3f5f",
           "arrowhead": 0,
           "arrowwidth": 1
          },
          "autotypenumbers": "strict",
          "coloraxis": {
           "colorbar": {
            "outlinewidth": 0,
            "ticks": ""
           }
          },
          "colorscale": {
           "diverging": [
            [
             0,
             "#8e0152"
            ],
            [
             0.1,
             "#c51b7d"
            ],
            [
             0.2,
             "#de77ae"
            ],
            [
             0.3,
             "#f1b6da"
            ],
            [
             0.4,
             "#fde0ef"
            ],
            [
             0.5,
             "#f7f7f7"
            ],
            [
             0.6,
             "#e6f5d0"
            ],
            [
             0.7,
             "#b8e186"
            ],
            [
             0.8,
             "#7fbc41"
            ],
            [
             0.9,
             "#4d9221"
            ],
            [
             1,
             "#276419"
            ]
           ],
           "sequential": [
            [
             0,
             "#0d0887"
            ],
            [
             0.1111111111111111,
             "#46039f"
            ],
            [
             0.2222222222222222,
             "#7201a8"
            ],
            [
             0.3333333333333333,
             "#9c179e"
            ],
            [
             0.4444444444444444,
             "#bd3786"
            ],
            [
             0.5555555555555556,
             "#d8576b"
            ],
            [
             0.6666666666666666,
             "#ed7953"
            ],
            [
             0.7777777777777778,
             "#fb9f3a"
            ],
            [
             0.8888888888888888,
             "#fdca26"
            ],
            [
             1,
             "#f0f921"
            ]
           ],
           "sequentialminus": [
            [
             0,
             "#0d0887"
            ],
            [
             0.1111111111111111,
             "#46039f"
            ],
            [
             0.2222222222222222,
             "#7201a8"
            ],
            [
             0.3333333333333333,
             "#9c179e"
            ],
            [
             0.4444444444444444,
             "#bd3786"
            ],
            [
             0.5555555555555556,
             "#d8576b"
            ],
            [
             0.6666666666666666,
             "#ed7953"
            ],
            [
             0.7777777777777778,
             "#fb9f3a"
            ],
            [
             0.8888888888888888,
             "#fdca26"
            ],
            [
             1,
             "#f0f921"
            ]
           ]
          },
          "colorway": [
           "#636efa",
           "#EF553B",
           "#00cc96",
           "#ab63fa",
           "#FFA15A",
           "#19d3f3",
           "#FF6692",
           "#B6E880",
           "#FF97FF",
           "#FECB52"
          ],
          "font": {
           "color": "#2a3f5f"
          },
          "geo": {
           "bgcolor": "white",
           "lakecolor": "white",
           "landcolor": "#E5ECF6",
           "showlakes": true,
           "showland": true,
           "subunitcolor": "white"
          },
          "hoverlabel": {
           "align": "left"
          },
          "hovermode": "closest",
          "mapbox": {
           "style": "light"
          },
          "paper_bgcolor": "white",
          "plot_bgcolor": "#E5ECF6",
          "polar": {
           "angularaxis": {
            "gridcolor": "white",
            "linecolor": "white",
            "ticks": ""
           },
           "bgcolor": "#E5ECF6",
           "radialaxis": {
            "gridcolor": "white",
            "linecolor": "white",
            "ticks": ""
           }
          },
          "scene": {
           "xaxis": {
            "backgroundcolor": "#E5ECF6",
            "gridcolor": "white",
            "gridwidth": 2,
            "linecolor": "white",
            "showbackground": true,
            "ticks": "",
            "zerolinecolor": "white"
           },
           "yaxis": {
            "backgroundcolor": "#E5ECF6",
            "gridcolor": "white",
            "gridwidth": 2,
            "linecolor": "white",
            "showbackground": true,
            "ticks": "",
            "zerolinecolor": "white"
           },
           "zaxis": {
            "backgroundcolor": "#E5ECF6",
            "gridcolor": "white",
            "gridwidth": 2,
            "linecolor": "white",
            "showbackground": true,
            "ticks": "",
            "zerolinecolor": "white"
           }
          },
          "shapedefaults": {
           "line": {
            "color": "#2a3f5f"
           }
          },
          "ternary": {
           "aaxis": {
            "gridcolor": "white",
            "linecolor": "white",
            "ticks": ""
           },
           "baxis": {
            "gridcolor": "white",
            "linecolor": "white",
            "ticks": ""
           },
           "bgcolor": "#E5ECF6",
           "caxis": {
            "gridcolor": "white",
            "linecolor": "white",
            "ticks": ""
           }
          },
          "title": {
           "x": 0.05
          },
          "xaxis": {
           "automargin": true,
           "gridcolor": "white",
           "linecolor": "white",
           "ticks": "",
           "title": {
            "standoff": 15
           },
           "zerolinecolor": "white",
           "zerolinewidth": 2
          },
          "yaxis": {
           "automargin": true,
           "gridcolor": "white",
           "linecolor": "white",
           "ticks": "",
           "title": {
            "standoff": 15
           },
           "zerolinecolor": "white",
           "zerolinewidth": 2
          }
         }
        },
        "title": {
         "text": "Number of Questions Asked by MPs per Topic"
        },
        "xaxis": {
         "anchor": "y",
         "domain": [
          0,
          1
         ],
         "title": {
          "text": "Topics"
         }
        },
        "yaxis": {
         "anchor": "x",
         "domain": [
          0,
          1
         ],
         "title": {
          "text": "MPs"
         }
        }
       }
      }
     },
     "metadata": {},
     "output_type": "display_data"
    }
   ],
   "source": [
    "# Prepare data for the heatmap\n",
    "heatmap_data = []\n",
    "for topic, counts in topic_mp_counts.items():\n",
    "    for mp_count in counts:\n",
    "        mp, count = mp_count.split(': ')\n",
    "        count = int(count.split()[0])\n",
    "        heatmap_data.append({'Topic': topic, 'MP': mp, 'Questions': count})\n",
    "\n",
    "# Create DataFrame for the heatmap\n",
    "df_heatmap = pd.DataFrame(heatmap_data)\n",
    "\n",
    "# Plotting Heatmap with Plotly Express\n",
    "fig = px.density_heatmap(df_heatmap, x='Topic', y='MP', z='Questions', text_auto=True,\n",
    "                         title='Number of Questions Asked by MPs per Topic')\n",
    "fig.update_layout(xaxis_title='Topics', yaxis_title='MPs', coloraxis_colorbar_title='Number of Questions')\n",
    "\n",
    "# Save the plot as an HTML file\n",
    "# fig.write_html(os.path.join(save_dir, \"number_of_questions_asked.html\"))\n",
    "\n",
    "fig.show()"
   ]
  },
  {
   "cell_type": "code",
   "execution_count": 24,
   "metadata": {},
   "outputs": [
    {
     "data": {
      "application/vnd.plotly.v1+json": {
       "config": {
        "plotlyServerURL": "https://plot.ly"
       },
       "data": [
        {
         "hovertemplate": "Topic=Community Care and Services<br>MP=%{x}<br>Questions=%{y}<extra></extra>",
         "legendgroup": "Community Care and Services",
         "marker": {
          "color": "#636efa",
          "symbol": "circle"
         },
         "mode": "markers",
         "name": "Community Care and Services",
         "orientation": "v",
         "showlegend": true,
         "type": "scatter",
         "x": [
          "Prof Fatimah Lateef",
          "Assoc Prof Dr Muhammad Faishal Ibrahim",
          "Ms Anthea Ong",
          "Er Dr Lee Bee Wah",
          "Ms Joan Pereira"
         ],
         "xaxis": "x",
         "y": [
          1,
          1,
          1,
          1,
          1
         ],
         "yaxis": "y"
        },
        {
         "hovertemplate": "Topic=Digital Transformation in Industry<br>MP=%{x}<br>Questions=%{y}<extra></extra>",
         "legendgroup": "Digital Transformation in Industry",
         "marker": {
          "color": "#EF553B",
          "symbol": "circle"
         },
         "mode": "markers",
         "name": "Digital Transformation in Industry",
         "orientation": "v",
         "showlegend": true,
         "type": "scatter",
         "x": [
          "Mr Saktiandi Supaat",
          "Mr Thomas Chua Kee Seng",
          "Mr Lim Swee Say",
          "Mr Chan Chun Sing",
          "Dr Lim Wee Kiak",
          "Mr Kwek Hian Chuan Henry",
          "Mr Masagos Zulkifli B M M",
          "Mr S Iswaran"
         ],
         "xaxis": "x",
         "y": [
          2,
          2,
          1,
          1,
          1,
          1,
          1,
          1
         ],
         "yaxis": "y"
        },
        {
         "hovertemplate": "Topic=Education and Support Programmes<br>MP=%{x}<br>Questions=%{y}<extra></extra>",
         "legendgroup": "Education and Support Programmes",
         "marker": {
          "color": "#00cc96",
          "symbol": "circle"
         },
         "mode": "markers",
         "name": "Education and Support Programmes",
         "orientation": "v",
         "showlegend": true,
         "type": "scatter",
         "x": [
          "Dr Lim Wee Kiak",
          "Mr Darryl David",
          "Ms Irene Quay Siew Ching",
          "Mr Speaker",
          "Mr Leon Perera",
          "Mr Ong Ye Kung"
         ],
         "xaxis": "x",
         "y": [
          2,
          2,
          1,
          1,
          1,
          1
         ],
         "yaxis": "y"
        },
        {
         "hovertemplate": "Topic=Law Enforcement and Rehabilitation<br>MP=%{x}<br>Questions=%{y}<extra></extra>",
         "legendgroup": "Law Enforcement and Rehabilitation",
         "marker": {
          "color": "#ab63fa",
          "symbol": "circle"
         },
         "mode": "markers",
         "name": "Law Enforcement and Rehabilitation",
         "orientation": "v",
         "showlegend": true,
         "type": "scatter",
         "x": [
          "Mr Teo Chee Hean",
          "Mr Leon Perera",
          "Mr Alex Yam",
          "Mr Pritam Singh"
         ],
         "xaxis": "x",
         "y": [
          1,
          1,
          1,
          1
         ],
         "yaxis": "y"
        },
        {
         "hovertemplate": "Topic=Legislative Matters and Amendments<br>MP=%{x}<br>Questions=%{y}<extra></extra>",
         "legendgroup": "Legislative Matters and Amendments",
         "marker": {
          "color": "#FFA15A",
          "symbol": "circle"
         },
         "mode": "markers",
         "name": "Legislative Matters and Amendments",
         "orientation": "v",
         "showlegend": true,
         "type": "scatter",
         "x": [
          "Mr Chong Kee Hiong",
          "Mr Liang Eng Hwa",
          "Mr Patrick Tay Teck Guan",
          "Ms Foo Mee Har",
          "Mr Png Eng Huat",
          "Mr Lim Biow Chuan",
          "Mr Saktiandi Supaat",
          "Mrs Josephine Teo",
          "Assoc Prof Walter Theseira",
          "Ms Jessica Tan Soon Neo",
          "Miss Cheryl Chan Wei Ling"
         ],
         "xaxis": "x",
         "y": [
          1,
          1,
          1,
          1,
          1,
          1,
          1,
          1,
          1,
          1,
          1
         ],
         "yaxis": "y"
        },
        {
         "hovertemplate": "Topic=National Defence and Security<br>MP=%{x}<br>Questions=%{y}<extra></extra>",
         "legendgroup": "National Defence and Security",
         "marker": {
          "color": "#19d3f3",
          "symbol": "circle"
         },
         "mode": "markers",
         "name": "National Defence and Security",
         "orientation": "v",
         "showlegend": true,
         "type": "scatter",
         "x": [
          "Mrs Josephine Teo",
          "Mr Louis Ng Kok Kwang"
         ],
         "xaxis": "x",
         "y": [
          1,
          1
         ],
         "yaxis": "y"
        },
        {
         "hovertemplate": "Topic=Public Transport and Waste Management<br>MP=%{x}<br>Questions=%{y}<extra></extra>",
         "legendgroup": "Public Transport and Waste Management",
         "marker": {
          "color": "#FF6692",
          "symbol": "circle"
         },
         "mode": "markers",
         "name": "Public Transport and Waste Management",
         "orientation": "v",
         "showlegend": true,
         "type": "scatter",
         "x": [
          "Er Dr Lee Bee Wah",
          "Mr Khaw Boon Wan",
          "Mr Seah Kian Peng",
          "Mr Masagos Zulkifli B M M",
          "Assoc Prof Walter Theseira",
          "Assoc Prof Fatimah Lateef",
          "Mr Sitoh Yih Pin",
          "Mr Dennis Tan Lip Fong",
          "Mr Pritam Singh",
          "Mr Yee Chia Hsing",
          "Mr Low Thia Khiang",
          "Mr Melvin Yong Yik Chye"
         ],
         "xaxis": "x",
         "y": [
          2,
          2,
          1,
          1,
          1,
          1,
          1,
          1,
          1,
          1,
          1,
          1
         ],
         "yaxis": "y"
        },
        {
         "hovertemplate": "Topic=Workforce Support and Employment<br>MP=%{x}<br>Questions=%{y}<extra></extra>",
         "legendgroup": "Workforce Support and Employment",
         "marker": {
          "color": "#B6E880",
          "symbol": "circle"
         },
         "mode": "markers",
         "name": "Workforce Support and Employment",
         "orientation": "v",
         "showlegend": true,
         "type": "scatter",
         "x": [
          "Mr Liang Eng Hwa",
          "Mr Patrick Tay Teck Guan",
          "Mr Desmond Choo",
          "Mr Lim Swee Say",
          "Dr Tan Wu Meng",
          "Assoc Prof Daniel Goh Pei Siong",
          "Mr Seah Kian Peng",
          "Ms Foo Mee Har",
          "Er Dr Lee Bee Wah",
          "Mr Pritam Singh",
          "Mr Low Thia Khiang",
          "Mr Speaker",
          "Mr Chan Chun Sing",
          "Mr Saktiandi Supaat",
          "Mr Lim Biow Chuan",
          "Mr Yee Chia Hsing",
          "Mr Leon Perera",
          "Assoc Prof Walter Theseira",
          "Mrs Josephine Teo",
          "Mr Chong Kee Hiong",
          "Mr Zaqy Mohamad",
          "Mr Melvin Yong Yik Chye",
          "Mr Ang Hin Kee",
          "Mr Christopher de Souza",
          "Ms Jessica Tan Soon Neo",
          "Mr Ang Wei Neng"
         ],
         "xaxis": "x",
         "y": [
          3,
          3,
          3,
          3,
          2,
          2,
          2,
          2,
          1,
          1,
          1,
          1,
          1,
          1,
          1,
          1,
          1,
          1,
          1,
          1,
          1,
          1,
          1,
          1,
          1,
          1
         ],
         "yaxis": "y"
        }
       ],
       "layout": {
        "legend": {
         "title": {
          "text": "Topic"
         },
         "tracegroupgap": 0
        },
        "template": {
         "data": {
          "bar": [
           {
            "error_x": {
             "color": "#2a3f5f"
            },
            "error_y": {
             "color": "#2a3f5f"
            },
            "marker": {
             "line": {
              "color": "#E5ECF6",
              "width": 0.5
             },
             "pattern": {
              "fillmode": "overlay",
              "size": 10,
              "solidity": 0.2
             }
            },
            "type": "bar"
           }
          ],
          "barpolar": [
           {
            "marker": {
             "line": {
              "color": "#E5ECF6",
              "width": 0.5
             },
             "pattern": {
              "fillmode": "overlay",
              "size": 10,
              "solidity": 0.2
             }
            },
            "type": "barpolar"
           }
          ],
          "carpet": [
           {
            "aaxis": {
             "endlinecolor": "#2a3f5f",
             "gridcolor": "white",
             "linecolor": "white",
             "minorgridcolor": "white",
             "startlinecolor": "#2a3f5f"
            },
            "baxis": {
             "endlinecolor": "#2a3f5f",
             "gridcolor": "white",
             "linecolor": "white",
             "minorgridcolor": "white",
             "startlinecolor": "#2a3f5f"
            },
            "type": "carpet"
           }
          ],
          "choropleth": [
           {
            "colorbar": {
             "outlinewidth": 0,
             "ticks": ""
            },
            "type": "choropleth"
           }
          ],
          "contour": [
           {
            "colorbar": {
             "outlinewidth": 0,
             "ticks": ""
            },
            "colorscale": [
             [
              0,
              "#0d0887"
             ],
             [
              0.1111111111111111,
              "#46039f"
             ],
             [
              0.2222222222222222,
              "#7201a8"
             ],
             [
              0.3333333333333333,
              "#9c179e"
             ],
             [
              0.4444444444444444,
              "#bd3786"
             ],
             [
              0.5555555555555556,
              "#d8576b"
             ],
             [
              0.6666666666666666,
              "#ed7953"
             ],
             [
              0.7777777777777778,
              "#fb9f3a"
             ],
             [
              0.8888888888888888,
              "#fdca26"
             ],
             [
              1,
              "#f0f921"
             ]
            ],
            "type": "contour"
           }
          ],
          "contourcarpet": [
           {
            "colorbar": {
             "outlinewidth": 0,
             "ticks": ""
            },
            "type": "contourcarpet"
           }
          ],
          "heatmap": [
           {
            "colorbar": {
             "outlinewidth": 0,
             "ticks": ""
            },
            "colorscale": [
             [
              0,
              "#0d0887"
             ],
             [
              0.1111111111111111,
              "#46039f"
             ],
             [
              0.2222222222222222,
              "#7201a8"
             ],
             [
              0.3333333333333333,
              "#9c179e"
             ],
             [
              0.4444444444444444,
              "#bd3786"
             ],
             [
              0.5555555555555556,
              "#d8576b"
             ],
             [
              0.6666666666666666,
              "#ed7953"
             ],
             [
              0.7777777777777778,
              "#fb9f3a"
             ],
             [
              0.8888888888888888,
              "#fdca26"
             ],
             [
              1,
              "#f0f921"
             ]
            ],
            "type": "heatmap"
           }
          ],
          "heatmapgl": [
           {
            "colorbar": {
             "outlinewidth": 0,
             "ticks": ""
            },
            "colorscale": [
             [
              0,
              "#0d0887"
             ],
             [
              0.1111111111111111,
              "#46039f"
             ],
             [
              0.2222222222222222,
              "#7201a8"
             ],
             [
              0.3333333333333333,
              "#9c179e"
             ],
             [
              0.4444444444444444,
              "#bd3786"
             ],
             [
              0.5555555555555556,
              "#d8576b"
             ],
             [
              0.6666666666666666,
              "#ed7953"
             ],
             [
              0.7777777777777778,
              "#fb9f3a"
             ],
             [
              0.8888888888888888,
              "#fdca26"
             ],
             [
              1,
              "#f0f921"
             ]
            ],
            "type": "heatmapgl"
           }
          ],
          "histogram": [
           {
            "marker": {
             "pattern": {
              "fillmode": "overlay",
              "size": 10,
              "solidity": 0.2
             }
            },
            "type": "histogram"
           }
          ],
          "histogram2d": [
           {
            "colorbar": {
             "outlinewidth": 0,
             "ticks": ""
            },
            "colorscale": [
             [
              0,
              "#0d0887"
             ],
             [
              0.1111111111111111,
              "#46039f"
             ],
             [
              0.2222222222222222,
              "#7201a8"
             ],
             [
              0.3333333333333333,
              "#9c179e"
             ],
             [
              0.4444444444444444,
              "#bd3786"
             ],
             [
              0.5555555555555556,
              "#d8576b"
             ],
             [
              0.6666666666666666,
              "#ed7953"
             ],
             [
              0.7777777777777778,
              "#fb9f3a"
             ],
             [
              0.8888888888888888,
              "#fdca26"
             ],
             [
              1,
              "#f0f921"
             ]
            ],
            "type": "histogram2d"
           }
          ],
          "histogram2dcontour": [
           {
            "colorbar": {
             "outlinewidth": 0,
             "ticks": ""
            },
            "colorscale": [
             [
              0,
              "#0d0887"
             ],
             [
              0.1111111111111111,
              "#46039f"
             ],
             [
              0.2222222222222222,
              "#7201a8"
             ],
             [
              0.3333333333333333,
              "#9c179e"
             ],
             [
              0.4444444444444444,
              "#bd3786"
             ],
             [
              0.5555555555555556,
              "#d8576b"
             ],
             [
              0.6666666666666666,
              "#ed7953"
             ],
             [
              0.7777777777777778,
              "#fb9f3a"
             ],
             [
              0.8888888888888888,
              "#fdca26"
             ],
             [
              1,
              "#f0f921"
             ]
            ],
            "type": "histogram2dcontour"
           }
          ],
          "mesh3d": [
           {
            "colorbar": {
             "outlinewidth": 0,
             "ticks": ""
            },
            "type": "mesh3d"
           }
          ],
          "parcoords": [
           {
            "line": {
             "colorbar": {
              "outlinewidth": 0,
              "ticks": ""
             }
            },
            "type": "parcoords"
           }
          ],
          "pie": [
           {
            "automargin": true,
            "type": "pie"
           }
          ],
          "scatter": [
           {
            "fillpattern": {
             "fillmode": "overlay",
             "size": 10,
             "solidity": 0.2
            },
            "type": "scatter"
           }
          ],
          "scatter3d": [
           {
            "line": {
             "colorbar": {
              "outlinewidth": 0,
              "ticks": ""
             }
            },
            "marker": {
             "colorbar": {
              "outlinewidth": 0,
              "ticks": ""
             }
            },
            "type": "scatter3d"
           }
          ],
          "scattercarpet": [
           {
            "marker": {
             "colorbar": {
              "outlinewidth": 0,
              "ticks": ""
             }
            },
            "type": "scattercarpet"
           }
          ],
          "scattergeo": [
           {
            "marker": {
             "colorbar": {
              "outlinewidth": 0,
              "ticks": ""
             }
            },
            "type": "scattergeo"
           }
          ],
          "scattergl": [
           {
            "marker": {
             "colorbar": {
              "outlinewidth": 0,
              "ticks": ""
             }
            },
            "type": "scattergl"
           }
          ],
          "scattermapbox": [
           {
            "marker": {
             "colorbar": {
              "outlinewidth": 0,
              "ticks": ""
             }
            },
            "type": "scattermapbox"
           }
          ],
          "scatterpolar": [
           {
            "marker": {
             "colorbar": {
              "outlinewidth": 0,
              "ticks": ""
             }
            },
            "type": "scatterpolar"
           }
          ],
          "scatterpolargl": [
           {
            "marker": {
             "colorbar": {
              "outlinewidth": 0,
              "ticks": ""
             }
            },
            "type": "scatterpolargl"
           }
          ],
          "scatterternary": [
           {
            "marker": {
             "colorbar": {
              "outlinewidth": 0,
              "ticks": ""
             }
            },
            "type": "scatterternary"
           }
          ],
          "surface": [
           {
            "colorbar": {
             "outlinewidth": 0,
             "ticks": ""
            },
            "colorscale": [
             [
              0,
              "#0d0887"
             ],
             [
              0.1111111111111111,
              "#46039f"
             ],
             [
              0.2222222222222222,
              "#7201a8"
             ],
             [
              0.3333333333333333,
              "#9c179e"
             ],
             [
              0.4444444444444444,
              "#bd3786"
             ],
             [
              0.5555555555555556,
              "#d8576b"
             ],
             [
              0.6666666666666666,
              "#ed7953"
             ],
             [
              0.7777777777777778,
              "#fb9f3a"
             ],
             [
              0.8888888888888888,
              "#fdca26"
             ],
             [
              1,
              "#f0f921"
             ]
            ],
            "type": "surface"
           }
          ],
          "table": [
           {
            "cells": {
             "fill": {
              "color": "#EBF0F8"
             },
             "line": {
              "color": "white"
             }
            },
            "header": {
             "fill": {
              "color": "#C8D4E3"
             },
             "line": {
              "color": "white"
             }
            },
            "type": "table"
           }
          ]
         },
         "layout": {
          "annotationdefaults": {
           "arrowcolor": "#2a3f5f",
           "arrowhead": 0,
           "arrowwidth": 1
          },
          "autotypenumbers": "strict",
          "coloraxis": {
           "colorbar": {
            "outlinewidth": 0,
            "ticks": ""
           }
          },
          "colorscale": {
           "diverging": [
            [
             0,
             "#8e0152"
            ],
            [
             0.1,
             "#c51b7d"
            ],
            [
             0.2,
             "#de77ae"
            ],
            [
             0.3,
             "#f1b6da"
            ],
            [
             0.4,
             "#fde0ef"
            ],
            [
             0.5,
             "#f7f7f7"
            ],
            [
             0.6,
             "#e6f5d0"
            ],
            [
             0.7,
             "#b8e186"
            ],
            [
             0.8,
             "#7fbc41"
            ],
            [
             0.9,
             "#4d9221"
            ],
            [
             1,
             "#276419"
            ]
           ],
           "sequential": [
            [
             0,
             "#0d0887"
            ],
            [
             0.1111111111111111,
             "#46039f"
            ],
            [
             0.2222222222222222,
             "#7201a8"
            ],
            [
             0.3333333333333333,
             "#9c179e"
            ],
            [
             0.4444444444444444,
             "#bd3786"
            ],
            [
             0.5555555555555556,
             "#d8576b"
            ],
            [
             0.6666666666666666,
             "#ed7953"
            ],
            [
             0.7777777777777778,
             "#fb9f3a"
            ],
            [
             0.8888888888888888,
             "#fdca26"
            ],
            [
             1,
             "#f0f921"
            ]
           ],
           "sequentialminus": [
            [
             0,
             "#0d0887"
            ],
            [
             0.1111111111111111,
             "#46039f"
            ],
            [
             0.2222222222222222,
             "#7201a8"
            ],
            [
             0.3333333333333333,
             "#9c179e"
            ],
            [
             0.4444444444444444,
             "#bd3786"
            ],
            [
             0.5555555555555556,
             "#d8576b"
            ],
            [
             0.6666666666666666,
             "#ed7953"
            ],
            [
             0.7777777777777778,
             "#fb9f3a"
            ],
            [
             0.8888888888888888,
             "#fdca26"
            ],
            [
             1,
             "#f0f921"
            ]
           ]
          },
          "colorway": [
           "#636efa",
           "#EF553B",
           "#00cc96",
           "#ab63fa",
           "#FFA15A",
           "#19d3f3",
           "#FF6692",
           "#B6E880",
           "#FF97FF",
           "#FECB52"
          ],
          "font": {
           "color": "#2a3f5f"
          },
          "geo": {
           "bgcolor": "white",
           "lakecolor": "white",
           "landcolor": "#E5ECF6",
           "showlakes": true,
           "showland": true,
           "subunitcolor": "white"
          },
          "hoverlabel": {
           "align": "left"
          },
          "hovermode": "closest",
          "mapbox": {
           "style": "light"
          },
          "paper_bgcolor": "white",
          "plot_bgcolor": "#E5ECF6",
          "polar": {
           "angularaxis": {
            "gridcolor": "white",
            "linecolor": "white",
            "ticks": ""
           },
           "bgcolor": "#E5ECF6",
           "radialaxis": {
            "gridcolor": "white",
            "linecolor": "white",
            "ticks": ""
           }
          },
          "scene": {
           "xaxis": {
            "backgroundcolor": "#E5ECF6",
            "gridcolor": "white",
            "gridwidth": 2,
            "linecolor": "white",
            "showbackground": true,
            "ticks": "",
            "zerolinecolor": "white"
           },
           "yaxis": {
            "backgroundcolor": "#E5ECF6",
            "gridcolor": "white",
            "gridwidth": 2,
            "linecolor": "white",
            "showbackground": true,
            "ticks": "",
            "zerolinecolor": "white"
           },
           "zaxis": {
            "backgroundcolor": "#E5ECF6",
            "gridcolor": "white",
            "gridwidth": 2,
            "linecolor": "white",
            "showbackground": true,
            "ticks": "",
            "zerolinecolor": "white"
           }
          },
          "shapedefaults": {
           "line": {
            "color": "#2a3f5f"
           }
          },
          "ternary": {
           "aaxis": {
            "gridcolor": "white",
            "linecolor": "white",
            "ticks": ""
           },
           "baxis": {
            "gridcolor": "white",
            "linecolor": "white",
            "ticks": ""
           },
           "bgcolor": "#E5ECF6",
           "caxis": {
            "gridcolor": "white",
            "linecolor": "white",
            "ticks": ""
           }
          },
          "title": {
           "x": 0.05
          },
          "xaxis": {
           "automargin": true,
           "gridcolor": "white",
           "linecolor": "white",
           "ticks": "",
           "title": {
            "standoff": 15
           },
           "zerolinecolor": "white",
           "zerolinewidth": 2
          },
          "yaxis": {
           "automargin": true,
           "gridcolor": "white",
           "linecolor": "white",
           "ticks": "",
           "title": {
            "standoff": 15
           },
           "zerolinecolor": "white",
           "zerolinewidth": 2
          }
         }
        },
        "title": {
         "text": "Number of Questions Asked by MPs per Topic"
        },
        "xaxis": {
         "anchor": "y",
         "domain": [
          0,
          1
         ],
         "title": {
          "text": "MPs"
         }
        },
        "yaxis": {
         "anchor": "x",
         "domain": [
          0,
          1
         ],
         "title": {
          "text": "Number of Questions"
         }
        }
       }
      }
     },
     "metadata": {},
     "output_type": "display_data"
    }
   ],
   "source": [
    "# Prepare data for the dot plot\n",
    "dot_plot_data = []\n",
    "for topic, counts in topic_mp_counts.items():\n",
    "    for mp_count in counts:\n",
    "        mp, count = mp_count.split(': ')\n",
    "        count = int(count.split()[0])\n",
    "        dot_plot_data.append({'Topic': topic, 'MP': mp, 'Questions': count})\n",
    "\n",
    "# Create DataFrame for the dot plot\n",
    "df_dot_plot = pd.DataFrame(dot_plot_data)\n",
    "\n",
    "# Plotting Dot Plot with Plotly Express\n",
    "fig = px.scatter(df_dot_plot, x='MP', y='Questions', color='Topic',\n",
    "                 title='Number of Questions Asked by MPs per Topic')\n",
    "fig.update_layout(xaxis_title='MPs', yaxis_title='Number of Questions')\n",
    "\n",
    "# Save the plot as an HTML file\n",
    "fig.write_html(os.path.join(save_dir, \"number_of_questions_asked_per_topic.html\"))\n",
    "\n",
    "fig.show()"
   ]
  }
 ],
 "metadata": {
  "kernelspec": {
   "display_name": "parliament_new",
   "language": "python",
   "name": "python3"
  },
  "language_info": {
   "codemirror_mode": {
    "name": "ipython",
    "version": 3
   },
   "file_extension": ".py",
   "mimetype": "text/x-python",
   "name": "python",
   "nbconvert_exporter": "python",
   "pygments_lexer": "ipython3",
   "version": "3.12.4"
  }
 },
 "nbformat": 4,
 "nbformat_minor": 2
}
