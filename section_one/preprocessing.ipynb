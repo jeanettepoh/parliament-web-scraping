{
 "cells": [
  {
   "cell_type": "code",
   "execution_count": 1,
   "metadata": {},
   "outputs": [],
   "source": [
    "import os\n",
    "import glob\n",
    "import nltk\n",
    "import sklearn\n",
    "import pandas as pd\n",
    "import plotly.express as px\n",
    "from bs4 import BeautifulSoup\n",
    "from wordcloud import WordCloud\n",
    "from nltk.corpus import stopwords\n",
    "from nltk.tokenize import word_tokenize\n",
    "from nltk.stem import WordNetLemmatizer\n",
    "from sklearn.feature_extraction.text import CountVectorizer\n",
    "from sklearn.decomposition import LatentDirichletAllocation"
   ]
  },
  {
   "cell_type": "code",
   "execution_count": 2,
   "metadata": {},
   "outputs": [
    {
     "name": "stderr",
     "output_type": "stream",
     "text": [
      "[nltk_data] Downloading package stopwords to\n",
      "[nltk_data]     /Users/jeanettepoh/nltk_data...\n",
      "[nltk_data]   Package stopwords is already up-to-date!\n",
      "[nltk_data] Downloading package punkt to\n",
      "[nltk_data]     /Users/jeanettepoh/nltk_data...\n",
      "[nltk_data]   Package punkt is already up-to-date!\n",
      "[nltk_data] Downloading package wordnet to\n",
      "[nltk_data]     /Users/jeanettepoh/nltk_data...\n",
      "[nltk_data]   Package wordnet is already up-to-date!\n",
      "[nltk_data] Downloading package omw-1.4 to\n",
      "[nltk_data]     /Users/jeanettepoh/nltk_data...\n",
      "[nltk_data]   Package omw-1.4 is already up-to-date!\n"
     ]
    },
    {
     "data": {
      "text/plain": [
       "True"
      ]
     },
     "execution_count": 2,
     "metadata": {},
     "output_type": "execute_result"
    }
   ],
   "source": [
    "nltk.download('stopwords')\n",
    "nltk.download('punkt')\n",
    "nltk.download('wordnet')\n",
    "nltk.download('omw-1.4')"
   ]
  },
  {
   "cell_type": "code",
   "execution_count": 3,
   "metadata": {},
   "outputs": [
    {
     "name": "stdout",
     "output_type": "stream",
     "text": [
      "\n",
      "Files with no matching elements:\n",
      "scraped_data/sprs3topic_reportid=budget-1314.txt\n",
      "scraped_data/sprs3topic_reportid=president-address-27.txt\n",
      "scraped_data/sprs3topic_reportid=budget-1277.txt\n",
      "scraped_data/sprs3topic_reportid=budget-820.txt\n",
      "scraped_data/sprs3topic_reportid=budget-1099.txt\n",
      "scraped_data/sprs3topic_reportid=budget-1338.txt\n",
      "scraped_data/sprs3topic_reportid=budget-840.txt\n",
      "scraped_data/sprs3topic_reportid=budget-1160.txt\n",
      "scraped_data/sprs3topic_reportid=budget-688.txt\n",
      "scraped_data/sprs3topic_reportid=budget-1142.txt\n",
      "scraped_data/sprs3topic_reportid=budget-867.txt\n",
      "scraped_data/sprs3topic_reportid=budget-696.txt\n",
      "scraped_data/sprs3topic_reportid=budget-938.txt\n",
      "scraped_data/sprs3topic_reportid=motion-902.txt\n",
      "scraped_data/sprs3topic_reportid=budget-870.txt\n",
      "scraped_data/sprs3topic_reportid=budget-1081.txt\n",
      "scraped_data/sprs3topic_reportid=budget-1279.txt\n"
     ]
    }
   ],
   "source": [
    "file_pattern = 'scraped_data/*.txt'\n",
    "data = []\n",
    "files_with_no_elements = []\n",
    "\n",
    "for file in glob.glob(file_pattern):\n",
    "    try:\n",
    "        with open(file, 'r', encoding='utf-8') as f:\n",
    "            # Read the entire content of the file\n",
    "            content = f.read()\n",
    "\n",
    "            # Parse the HTML content\n",
    "            soup = BeautifulSoup(content, 'html.parser')\n",
    "\n",
    "            # Extract data from specified CSS selectors\n",
    "            sitting_date = soup.select_one('#right1-1 > div > table > tr:nth-child(5) > td:nth-child(2) > span')\n",
    "            section_name = soup.select_one('#right1-1 > div > table > tr:nth-child(6) > td:nth-child(2) > span')\n",
    "            title = soup.select_one('#right1-1 > div > table > tr:nth-child(7) > td:nth-child(2) > span')\n",
    "            text = soup.select_one('#showTopic > div.hansardContent > div')\n",
    "\n",
    "            # Check if any element is missing\n",
    "            if not (sitting_date and section_name and title and text):\n",
    "                files_with_no_elements.append(file)\n",
    "                continue\n",
    "\n",
    "            # Initialize a dictionary to store data for this file\n",
    "            file_data = {\n",
    "                'Sitting Date': sitting_date.text.strip() if sitting_date else None,\n",
    "                'Section Name': section_name.text.strip() if section_name else None,\n",
    "                'Title': title.text.strip() if title else None,\n",
    "                'Text': text.text.strip() if text else None\n",
    "            }\n",
    "\n",
    "            # Append the dictionary to the list of data\n",
    "            data.append(file_data)\n",
    "\n",
    "    except Exception as e:\n",
    "        print(f\"Error processing file '{file}': {str(e)}\")\n",
    "\n",
    "# Create a DataFrame from the collected data\n",
    "df = pd.DataFrame(data)\n",
    "\n",
    "# Drop rows with any missing values\n",
    "df.dropna(inplace=True)\n",
    "\n",
    "# Print files with no matching elements\n",
    "if files_with_no_elements:\n",
    "    print(\"\\nFiles with no matching elements:\")\n",
    "    for file in files_with_no_elements:\n",
    "        print(file)\n",
    "else:\n",
    "    print(\"\\nAll files had matching elements.\")"
   ]
  },
  {
   "cell_type": "code",
   "execution_count": 4,
   "metadata": {},
   "outputs": [
    {
     "data": {
      "text/html": [
       "<div>\n",
       "<style scoped>\n",
       "    .dataframe tbody tr th:only-of-type {\n",
       "        vertical-align: middle;\n",
       "    }\n",
       "\n",
       "    .dataframe tbody tr th {\n",
       "        vertical-align: top;\n",
       "    }\n",
       "\n",
       "    .dataframe thead th {\n",
       "        text-align: right;\n",
       "    }\n",
       "</style>\n",
       "<table border=\"1\" class=\"dataframe\">\n",
       "  <thead>\n",
       "    <tr style=\"text-align: right;\">\n",
       "      <th></th>\n",
       "      <th>Sitting Date</th>\n",
       "      <th>Section Name</th>\n",
       "      <th>Title</th>\n",
       "      <th>Text</th>\n",
       "    </tr>\n",
       "  </thead>\n",
       "  <tbody>\n",
       "    <tr>\n",
       "      <th>0</th>\n",
       "      <td>7-2-2017</td>\n",
       "      <td>Oral Answers to Questions</td>\n",
       "      <td>Fair Process for Termination Due to Poor Perfo...</td>\n",
       "      <td>1 Dr Tan Wu Meng asked\\tthe Minister for Manpo...</td>\n",
       "    </tr>\n",
       "    <tr>\n",
       "      <th>1</th>\n",
       "      <td>9-7-2018</td>\n",
       "      <td>Written Answers to Questions for Oral Answer N...</td>\n",
       "      <td>Details and Framework of Workings of The Speci...</td>\n",
       "      <td>22 Assoc Prof Fatimah Lateef asked the Ministe...</td>\n",
       "    </tr>\n",
       "    <tr>\n",
       "      <th>2</th>\n",
       "      <td>28-2-2020</td>\n",
       "      <td>Budget</td>\n",
       "      <td>Committee of Supply – Head R (Ministry of Law)</td>\n",
       "      <td>The Chairman: Head R, Ministry of Law. Mr Chri...</td>\n",
       "    </tr>\n",
       "    <tr>\n",
       "      <th>3</th>\n",
       "      <td>6-3-2019</td>\n",
       "      <td>Oral Answers to Questions</td>\n",
       "      <td>Female Representation in Statutory Boards</td>\n",
       "      <td>The following question stood in the name of Ms...</td>\n",
       "    </tr>\n",
       "    <tr>\n",
       "      <th>4</th>\n",
       "      <td>6-3-2018</td>\n",
       "      <td>Budget</td>\n",
       "      <td>Committee of Supply – Head W (Ministry of Tran...</td>\n",
       "      <td>Growing Pains in TransportMr Sitoh Yih Pin (Po...</td>\n",
       "    </tr>\n",
       "    <tr>\n",
       "      <th>...</th>\n",
       "      <td>...</td>\n",
       "      <td>...</td>\n",
       "      <td>...</td>\n",
       "      <td>...</td>\n",
       "    </tr>\n",
       "    <tr>\n",
       "      <th>159</th>\n",
       "      <td>11-9-2017</td>\n",
       "      <td>Oral Answers to Questions</td>\n",
       "      <td>Complaints on Lapses in Real-time Updates for ...</td>\n",
       "      <td>1 Er Dr Lee Bee Wah asked\\tthe Minister for Tr...</td>\n",
       "    </tr>\n",
       "    <tr>\n",
       "      <th>160</th>\n",
       "      <td>4-11-2019</td>\n",
       "      <td>Second Reading Bills</td>\n",
       "      <td>Central Provident Fund (Amendment) Bill</td>\n",
       "      <td>Order for Second Reading read.4.51 pmThe Minis...</td>\n",
       "    </tr>\n",
       "    <tr>\n",
       "      <th>161</th>\n",
       "      <td>5-3-2020</td>\n",
       "      <td>Budget</td>\n",
       "      <td>Committee of Supply – Head I (Ministry of Soci...</td>\n",
       "      <td>The Chairman: Head I, Ministry of Social and F...</td>\n",
       "    </tr>\n",
       "    <tr>\n",
       "      <th>162</th>\n",
       "      <td>4-6-2020</td>\n",
       "      <td>Ministerial Statements</td>\n",
       "      <td>Government's Plans in our Continued Fight agai...</td>\n",
       "      <td>Debate resumed.Mr Deputy Speaker: Minister Isw...</td>\n",
       "    </tr>\n",
       "    <tr>\n",
       "      <th>163</th>\n",
       "      <td>13-4-2016</td>\n",
       "      <td>Budget</td>\n",
       "      <td>Committee of Supply – Head X (Ministry of Cult...</td>\n",
       "      <td>Rallying SingaporeansDr Lim Wee Kiak (Sembawan...</td>\n",
       "    </tr>\n",
       "  </tbody>\n",
       "</table>\n",
       "<p>164 rows × 4 columns</p>\n",
       "</div>"
      ],
      "text/plain": [
       "    Sitting Date                                       Section Name  \\\n",
       "0       7-2-2017                          Oral Answers to Questions   \n",
       "1       9-7-2018  Written Answers to Questions for Oral Answer N...   \n",
       "2      28-2-2020                                             Budget   \n",
       "3       6-3-2019                          Oral Answers to Questions   \n",
       "4       6-3-2018                                             Budget   \n",
       "..           ...                                                ...   \n",
       "159    11-9-2017                          Oral Answers to Questions   \n",
       "160    4-11-2019                               Second Reading Bills   \n",
       "161     5-3-2020                                             Budget   \n",
       "162     4-6-2020                             Ministerial Statements   \n",
       "163    13-4-2016                                             Budget   \n",
       "\n",
       "                                                 Title  \\\n",
       "0    Fair Process for Termination Due to Poor Perfo...   \n",
       "1    Details and Framework of Workings of The Speci...   \n",
       "2       Committee of Supply – Head R (Ministry of Law)   \n",
       "3            Female Representation in Statutory Boards   \n",
       "4    Committee of Supply – Head W (Ministry of Tran...   \n",
       "..                                                 ...   \n",
       "159  Complaints on Lapses in Real-time Updates for ...   \n",
       "160            Central Provident Fund (Amendment) Bill   \n",
       "161  Committee of Supply – Head I (Ministry of Soci...   \n",
       "162  Government's Plans in our Continued Fight agai...   \n",
       "163  Committee of Supply – Head X (Ministry of Cult...   \n",
       "\n",
       "                                                  Text  \n",
       "0    1 Dr Tan Wu Meng asked\\tthe Minister for Manpo...  \n",
       "1    22 Assoc Prof Fatimah Lateef asked the Ministe...  \n",
       "2    The Chairman: Head R, Ministry of Law. Mr Chri...  \n",
       "3    The following question stood in the name of Ms...  \n",
       "4    Growing Pains in TransportMr Sitoh Yih Pin (Po...  \n",
       "..                                                 ...  \n",
       "159  1 Er Dr Lee Bee Wah asked\\tthe Minister for Tr...  \n",
       "160  Order for Second Reading read.4.51 pmThe Minis...  \n",
       "161  The Chairman: Head I, Ministry of Social and F...  \n",
       "162  Debate resumed.Mr Deputy Speaker: Minister Isw...  \n",
       "163  Rallying SingaporeansDr Lim Wee Kiak (Sembawan...  \n",
       "\n",
       "[164 rows x 4 columns]"
      ]
     },
     "execution_count": 4,
     "metadata": {},
     "output_type": "execute_result"
    }
   ],
   "source": [
    "df"
   ]
  },
  {
   "cell_type": "code",
   "execution_count": 5,
   "metadata": {},
   "outputs": [
    {
     "data": {
      "application/vnd.plotly.v1+json": {
       "config": {
        "plotlyServerURL": "https://plot.ly"
       },
       "data": [
        {
         "alignmentgroup": "True",
         "hovertemplate": "Section Name=%{x}<br>Frequency=%{text}<extra></extra>",
         "legendgroup": "",
         "marker": {
          "color": "#636efa",
          "pattern": {
           "shape": ""
          }
         },
         "name": "",
         "offsetgroup": "",
         "orientation": "v",
         "showlegend": false,
         "text": [
          88,
          29,
          24,
          6,
          5,
          4,
          4,
          3,
          1
         ],
         "textposition": "outside",
         "texttemplate": "%{text}",
         "type": "bar",
         "x": [
          "Budget",
          "Oral Answers to Questions",
          "Second Reading Bills",
          "Ministerial Statements",
          "Written Answers to Questions for Oral Answer Not Answered by End of Question Time",
          "Speaker",
          "Motions",
          "Matter Raised On Adjournment Motion",
          "President's Address"
         ],
         "xaxis": "x",
         "y": [
          88,
          29,
          24,
          6,
          5,
          4,
          4,
          3,
          1
         ],
         "yaxis": "y"
        }
       ],
       "layout": {
        "barmode": "relative",
        "height": 600,
        "legend": {
         "tracegroupgap": 0
        },
        "margin": {
         "b": 100,
         "l": 50,
         "r": 50,
         "t": 100
        },
        "plot_bgcolor": "rgba(0,0,0,0)",
        "template": {
         "data": {
          "bar": [
           {
            "error_x": {
             "color": "#2a3f5f"
            },
            "error_y": {
             "color": "#2a3f5f"
            },
            "marker": {
             "line": {
              "color": "#E5ECF6",
              "width": 0.5
             },
             "pattern": {
              "fillmode": "overlay",
              "size": 10,
              "solidity": 0.2
             }
            },
            "type": "bar"
           }
          ],
          "barpolar": [
           {
            "marker": {
             "line": {
              "color": "#E5ECF6",
              "width": 0.5
             },
             "pattern": {
              "fillmode": "overlay",
              "size": 10,
              "solidity": 0.2
             }
            },
            "type": "barpolar"
           }
          ],
          "carpet": [
           {
            "aaxis": {
             "endlinecolor": "#2a3f5f",
             "gridcolor": "white",
             "linecolor": "white",
             "minorgridcolor": "white",
             "startlinecolor": "#2a3f5f"
            },
            "baxis": {
             "endlinecolor": "#2a3f5f",
             "gridcolor": "white",
             "linecolor": "white",
             "minorgridcolor": "white",
             "startlinecolor": "#2a3f5f"
            },
            "type": "carpet"
           }
          ],
          "choropleth": [
           {
            "colorbar": {
             "outlinewidth": 0,
             "ticks": ""
            },
            "type": "choropleth"
           }
          ],
          "contour": [
           {
            "colorbar": {
             "outlinewidth": 0,
             "ticks": ""
            },
            "colorscale": [
             [
              0,
              "#0d0887"
             ],
             [
              0.1111111111111111,
              "#46039f"
             ],
             [
              0.2222222222222222,
              "#7201a8"
             ],
             [
              0.3333333333333333,
              "#9c179e"
             ],
             [
              0.4444444444444444,
              "#bd3786"
             ],
             [
              0.5555555555555556,
              "#d8576b"
             ],
             [
              0.6666666666666666,
              "#ed7953"
             ],
             [
              0.7777777777777778,
              "#fb9f3a"
             ],
             [
              0.8888888888888888,
              "#fdca26"
             ],
             [
              1,
              "#f0f921"
             ]
            ],
            "type": "contour"
           }
          ],
          "contourcarpet": [
           {
            "colorbar": {
             "outlinewidth": 0,
             "ticks": ""
            },
            "type": "contourcarpet"
           }
          ],
          "heatmap": [
           {
            "colorbar": {
             "outlinewidth": 0,
             "ticks": ""
            },
            "colorscale": [
             [
              0,
              "#0d0887"
             ],
             [
              0.1111111111111111,
              "#46039f"
             ],
             [
              0.2222222222222222,
              "#7201a8"
             ],
             [
              0.3333333333333333,
              "#9c179e"
             ],
             [
              0.4444444444444444,
              "#bd3786"
             ],
             [
              0.5555555555555556,
              "#d8576b"
             ],
             [
              0.6666666666666666,
              "#ed7953"
             ],
             [
              0.7777777777777778,
              "#fb9f3a"
             ],
             [
              0.8888888888888888,
              "#fdca26"
             ],
             [
              1,
              "#f0f921"
             ]
            ],
            "type": "heatmap"
           }
          ],
          "heatmapgl": [
           {
            "colorbar": {
             "outlinewidth": 0,
             "ticks": ""
            },
            "colorscale": [
             [
              0,
              "#0d0887"
             ],
             [
              0.1111111111111111,
              "#46039f"
             ],
             [
              0.2222222222222222,
              "#7201a8"
             ],
             [
              0.3333333333333333,
              "#9c179e"
             ],
             [
              0.4444444444444444,
              "#bd3786"
             ],
             [
              0.5555555555555556,
              "#d8576b"
             ],
             [
              0.6666666666666666,
              "#ed7953"
             ],
             [
              0.7777777777777778,
              "#fb9f3a"
             ],
             [
              0.8888888888888888,
              "#fdca26"
             ],
             [
              1,
              "#f0f921"
             ]
            ],
            "type": "heatmapgl"
           }
          ],
          "histogram": [
           {
            "marker": {
             "pattern": {
              "fillmode": "overlay",
              "size": 10,
              "solidity": 0.2
             }
            },
            "type": "histogram"
           }
          ],
          "histogram2d": [
           {
            "colorbar": {
             "outlinewidth": 0,
             "ticks": ""
            },
            "colorscale": [
             [
              0,
              "#0d0887"
             ],
             [
              0.1111111111111111,
              "#46039f"
             ],
             [
              0.2222222222222222,
              "#7201a8"
             ],
             [
              0.3333333333333333,
              "#9c179e"
             ],
             [
              0.4444444444444444,
              "#bd3786"
             ],
             [
              0.5555555555555556,
              "#d8576b"
             ],
             [
              0.6666666666666666,
              "#ed7953"
             ],
             [
              0.7777777777777778,
              "#fb9f3a"
             ],
             [
              0.8888888888888888,
              "#fdca26"
             ],
             [
              1,
              "#f0f921"
             ]
            ],
            "type": "histogram2d"
           }
          ],
          "histogram2dcontour": [
           {
            "colorbar": {
             "outlinewidth": 0,
             "ticks": ""
            },
            "colorscale": [
             [
              0,
              "#0d0887"
             ],
             [
              0.1111111111111111,
              "#46039f"
             ],
             [
              0.2222222222222222,
              "#7201a8"
             ],
             [
              0.3333333333333333,
              "#9c179e"
             ],
             [
              0.4444444444444444,
              "#bd3786"
             ],
             [
              0.5555555555555556,
              "#d8576b"
             ],
             [
              0.6666666666666666,
              "#ed7953"
             ],
             [
              0.7777777777777778,
              "#fb9f3a"
             ],
             [
              0.8888888888888888,
              "#fdca26"
             ],
             [
              1,
              "#f0f921"
             ]
            ],
            "type": "histogram2dcontour"
           }
          ],
          "mesh3d": [
           {
            "colorbar": {
             "outlinewidth": 0,
             "ticks": ""
            },
            "type": "mesh3d"
           }
          ],
          "parcoords": [
           {
            "line": {
             "colorbar": {
              "outlinewidth": 0,
              "ticks": ""
             }
            },
            "type": "parcoords"
           }
          ],
          "pie": [
           {
            "automargin": true,
            "type": "pie"
           }
          ],
          "scatter": [
           {
            "fillpattern": {
             "fillmode": "overlay",
             "size": 10,
             "solidity": 0.2
            },
            "type": "scatter"
           }
          ],
          "scatter3d": [
           {
            "line": {
             "colorbar": {
              "outlinewidth": 0,
              "ticks": ""
             }
            },
            "marker": {
             "colorbar": {
              "outlinewidth": 0,
              "ticks": ""
             }
            },
            "type": "scatter3d"
           }
          ],
          "scattercarpet": [
           {
            "marker": {
             "colorbar": {
              "outlinewidth": 0,
              "ticks": ""
             }
            },
            "type": "scattercarpet"
           }
          ],
          "scattergeo": [
           {
            "marker": {
             "colorbar": {
              "outlinewidth": 0,
              "ticks": ""
             }
            },
            "type": "scattergeo"
           }
          ],
          "scattergl": [
           {
            "marker": {
             "colorbar": {
              "outlinewidth": 0,
              "ticks": ""
             }
            },
            "type": "scattergl"
           }
          ],
          "scattermapbox": [
           {
            "marker": {
             "colorbar": {
              "outlinewidth": 0,
              "ticks": ""
             }
            },
            "type": "scattermapbox"
           }
          ],
          "scatterpolar": [
           {
            "marker": {
             "colorbar": {
              "outlinewidth": 0,
              "ticks": ""
             }
            },
            "type": "scatterpolar"
           }
          ],
          "scatterpolargl": [
           {
            "marker": {
             "colorbar": {
              "outlinewidth": 0,
              "ticks": ""
             }
            },
            "type": "scatterpolargl"
           }
          ],
          "scatterternary": [
           {
            "marker": {
             "colorbar": {
              "outlinewidth": 0,
              "ticks": ""
             }
            },
            "type": "scatterternary"
           }
          ],
          "surface": [
           {
            "colorbar": {
             "outlinewidth": 0,
             "ticks": ""
            },
            "colorscale": [
             [
              0,
              "#0d0887"
             ],
             [
              0.1111111111111111,
              "#46039f"
             ],
             [
              0.2222222222222222,
              "#7201a8"
             ],
             [
              0.3333333333333333,
              "#9c179e"
             ],
             [
              0.4444444444444444,
              "#bd3786"
             ],
             [
              0.5555555555555556,
              "#d8576b"
             ],
             [
              0.6666666666666666,
              "#ed7953"
             ],
             [
              0.7777777777777778,
              "#fb9f3a"
             ],
             [
              0.8888888888888888,
              "#fdca26"
             ],
             [
              1,
              "#f0f921"
             ]
            ],
            "type": "surface"
           }
          ],
          "table": [
           {
            "cells": {
             "fill": {
              "color": "#EBF0F8"
             },
             "line": {
              "color": "white"
             }
            },
            "header": {
             "fill": {
              "color": "#C8D4E3"
             },
             "line": {
              "color": "white"
             }
            },
            "type": "table"
           }
          ]
         },
         "layout": {
          "annotationdefaults": {
           "arrowcolor": "#2a3f5f",
           "arrowhead": 0,
           "arrowwidth": 1
          },
          "autotypenumbers": "strict",
          "coloraxis": {
           "colorbar": {
            "outlinewidth": 0,
            "ticks": ""
           }
          },
          "colorscale": {
           "diverging": [
            [
             0,
             "#8e0152"
            ],
            [
             0.1,
             "#c51b7d"
            ],
            [
             0.2,
             "#de77ae"
            ],
            [
             0.3,
             "#f1b6da"
            ],
            [
             0.4,
             "#fde0ef"
            ],
            [
             0.5,
             "#f7f7f7"
            ],
            [
             0.6,
             "#e6f5d0"
            ],
            [
             0.7,
             "#b8e186"
            ],
            [
             0.8,
             "#7fbc41"
            ],
            [
             0.9,
             "#4d9221"
            ],
            [
             1,
             "#276419"
            ]
           ],
           "sequential": [
            [
             0,
             "#0d0887"
            ],
            [
             0.1111111111111111,
             "#46039f"
            ],
            [
             0.2222222222222222,
             "#7201a8"
            ],
            [
             0.3333333333333333,
             "#9c179e"
            ],
            [
             0.4444444444444444,
             "#bd3786"
            ],
            [
             0.5555555555555556,
             "#d8576b"
            ],
            [
             0.6666666666666666,
             "#ed7953"
            ],
            [
             0.7777777777777778,
             "#fb9f3a"
            ],
            [
             0.8888888888888888,
             "#fdca26"
            ],
            [
             1,
             "#f0f921"
            ]
           ],
           "sequentialminus": [
            [
             0,
             "#0d0887"
            ],
            [
             0.1111111111111111,
             "#46039f"
            ],
            [
             0.2222222222222222,
             "#7201a8"
            ],
            [
             0.3333333333333333,
             "#9c179e"
            ],
            [
             0.4444444444444444,
             "#bd3786"
            ],
            [
             0.5555555555555556,
             "#d8576b"
            ],
            [
             0.6666666666666666,
             "#ed7953"
            ],
            [
             0.7777777777777778,
             "#fb9f3a"
            ],
            [
             0.8888888888888888,
             "#fdca26"
            ],
            [
             1,
             "#f0f921"
            ]
           ]
          },
          "colorway": [
           "#636efa",
           "#EF553B",
           "#00cc96",
           "#ab63fa",
           "#FFA15A",
           "#19d3f3",
           "#FF6692",
           "#B6E880",
           "#FF97FF",
           "#FECB52"
          ],
          "font": {
           "color": "#2a3f5f"
          },
          "geo": {
           "bgcolor": "white",
           "lakecolor": "white",
           "landcolor": "#E5ECF6",
           "showlakes": true,
           "showland": true,
           "subunitcolor": "white"
          },
          "hoverlabel": {
           "align": "left"
          },
          "hovermode": "closest",
          "mapbox": {
           "style": "light"
          },
          "paper_bgcolor": "white",
          "plot_bgcolor": "#E5ECF6",
          "polar": {
           "angularaxis": {
            "gridcolor": "white",
            "linecolor": "white",
            "ticks": ""
           },
           "bgcolor": "#E5ECF6",
           "radialaxis": {
            "gridcolor": "white",
            "linecolor": "white",
            "ticks": ""
           }
          },
          "scene": {
           "xaxis": {
            "backgroundcolor": "#E5ECF6",
            "gridcolor": "white",
            "gridwidth": 2,
            "linecolor": "white",
            "showbackground": true,
            "ticks": "",
            "zerolinecolor": "white"
           },
           "yaxis": {
            "backgroundcolor": "#E5ECF6",
            "gridcolor": "white",
            "gridwidth": 2,
            "linecolor": "white",
            "showbackground": true,
            "ticks": "",
            "zerolinecolor": "white"
           },
           "zaxis": {
            "backgroundcolor": "#E5ECF6",
            "gridcolor": "white",
            "gridwidth": 2,
            "linecolor": "white",
            "showbackground": true,
            "ticks": "",
            "zerolinecolor": "white"
           }
          },
          "shapedefaults": {
           "line": {
            "color": "#2a3f5f"
           }
          },
          "ternary": {
           "aaxis": {
            "gridcolor": "white",
            "linecolor": "white",
            "ticks": ""
           },
           "baxis": {
            "gridcolor": "white",
            "linecolor": "white",
            "ticks": ""
           },
           "bgcolor": "#E5ECF6",
           "caxis": {
            "gridcolor": "white",
            "linecolor": "white",
            "ticks": ""
           }
          },
          "title": {
           "x": 0.05
          },
          "xaxis": {
           "automargin": true,
           "gridcolor": "white",
           "linecolor": "white",
           "ticks": "",
           "title": {
            "standoff": 15
           },
           "zerolinecolor": "white",
           "zerolinewidth": 2
          },
          "yaxis": {
           "automargin": true,
           "gridcolor": "white",
           "linecolor": "white",
           "ticks": "",
           "title": {
            "standoff": 15
           },
           "zerolinecolor": "white",
           "zerolinewidth": 2
          }
         }
        },
        "title": {
         "text": "Distribution of Section Name"
        },
        "uniformtext": {
         "minsize": 8,
         "mode": "hide"
        },
        "width": 1000,
        "xaxis": {
         "anchor": "y",
         "domain": [
          0,
          1
         ],
         "tickangle": -45,
         "tickfont": {
          "size": 12
         },
         "title": {
          "text": "Section Name"
         }
        },
        "yaxis": {
         "anchor": "x",
         "domain": [
          0,
          1
         ],
         "range": [
          0,
          120
         ],
         "tickfont": {
          "size": 12
         },
         "title": {
          "text": "Frequency"
         }
        }
       }
      }
     },
     "metadata": {},
     "output_type": "display_data"
    }
   ],
   "source": [
    "# Group by Section Name and count occurrences\n",
    "section_name_counts = df['Section Name'].value_counts().reset_index()\n",
    "section_name_counts.columns = ['Section Name', 'Count']\n",
    "\n",
    "# Plotting the distribution with Plotly\n",
    "fig = px.bar(section_name_counts, x='Section Name', y='Count', text='Count', \n",
    "             title='Distribution of Section Name', labels={'Count': 'Frequency'})\n",
    "fig.update_traces(texttemplate='%{text}', textposition='outside')  # Display count above each bar\n",
    "fig.update_layout(xaxis_title='Section Name', yaxis_title='Frequency', xaxis_tickangle=-45,\n",
    "                  uniformtext_minsize=8, uniformtext_mode='hide',  # Adjust text size and visibility\n",
    "                  height=600, width=1000,  # Adjust plot size\n",
    "                  margin=dict(l=50, r=50, b=100, t=100),  # Adjust margins for better layout\n",
    "                  plot_bgcolor='rgba(0,0,0,0)')  # Set plot background color to transparent\n",
    "\n",
    "fig.update_xaxes(tickfont=dict(size=12))  # Adjust x-axis tick font size\n",
    "fig.update_yaxes(tickfont=dict(size=12), range=[0, 120])  # Adjust y-axis tick font size and range\n",
    "\n",
    "fig.show()"
   ]
  },
  {
   "cell_type": "code",
   "execution_count": 6,
   "metadata": {},
   "outputs": [
    {
     "data": {
      "application/vnd.plotly.v1+json": {
       "config": {
        "plotlyServerURL": "https://plot.ly"
       },
       "data": [
        {
         "hovertemplate": "x: %{x}<br>y: %{y}<br>color: [%{z[0]}, %{z[1]}, %{z[2]}]<extra></extra>",
         "name": "0",
         "source": "data:image/png;base64,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",
         "type": "image",
         "xaxis": "x",
         "yaxis": "y"
        }
       ],
       "layout": {
        "coloraxis": {
         "showscale": false
        },
        "template": {
         "data": {
          "bar": [
           {
            "error_x": {
             "color": "#2a3f5f"
            },
            "error_y": {
             "color": "#2a3f5f"
            },
            "marker": {
             "line": {
              "color": "#E5ECF6",
              "width": 0.5
             },
             "pattern": {
              "fillmode": "overlay",
              "size": 10,
              "solidity": 0.2
             }
            },
            "type": "bar"
           }
          ],
          "barpolar": [
           {
            "marker": {
             "line": {
              "color": "#E5ECF6",
              "width": 0.5
             },
             "pattern": {
              "fillmode": "overlay",
              "size": 10,
              "solidity": 0.2
             }
            },
            "type": "barpolar"
           }
          ],
          "carpet": [
           {
            "aaxis": {
             "endlinecolor": "#2a3f5f",
             "gridcolor": "white",
             "linecolor": "white",
             "minorgridcolor": "white",
             "startlinecolor": "#2a3f5f"
            },
            "baxis": {
             "endlinecolor": "#2a3f5f",
             "gridcolor": "white",
             "linecolor": "white",
             "minorgridcolor": "white",
             "startlinecolor": "#2a3f5f"
            },
            "type": "carpet"
           }
          ],
          "choropleth": [
           {
            "colorbar": {
             "outlinewidth": 0,
             "ticks": ""
            },
            "type": "choropleth"
           }
          ],
          "contour": [
           {
            "colorbar": {
             "outlinewidth": 0,
             "ticks": ""
            },
            "colorscale": [
             [
              0,
              "#0d0887"
             ],
             [
              0.1111111111111111,
              "#46039f"
             ],
             [
              0.2222222222222222,
              "#7201a8"
             ],
             [
              0.3333333333333333,
              "#9c179e"
             ],
             [
              0.4444444444444444,
              "#bd3786"
             ],
             [
              0.5555555555555556,
              "#d8576b"
             ],
             [
              0.6666666666666666,
              "#ed7953"
             ],
             [
              0.7777777777777778,
              "#fb9f3a"
             ],
             [
              0.8888888888888888,
              "#fdca26"
             ],
             [
              1,
              "#f0f921"
             ]
            ],
            "type": "contour"
           }
          ],
          "contourcarpet": [
           {
            "colorbar": {
             "outlinewidth": 0,
             "ticks": ""
            },
            "type": "contourcarpet"
           }
          ],
          "heatmap": [
           {
            "colorbar": {
             "outlinewidth": 0,
             "ticks": ""
            },
            "colorscale": [
             [
              0,
              "#0d0887"
             ],
             [
              0.1111111111111111,
              "#46039f"
             ],
             [
              0.2222222222222222,
              "#7201a8"
             ],
             [
              0.3333333333333333,
              "#9c179e"
             ],
             [
              0.4444444444444444,
              "#bd3786"
             ],
             [
              0.5555555555555556,
              "#d8576b"
             ],
             [
              0.6666666666666666,
              "#ed7953"
             ],
             [
              0.7777777777777778,
              "#fb9f3a"
             ],
             [
              0.8888888888888888,
              "#fdca26"
             ],
             [
              1,
              "#f0f921"
             ]
            ],
            "type": "heatmap"
           }
          ],
          "heatmapgl": [
           {
            "colorbar": {
             "outlinewidth": 0,
             "ticks": ""
            },
            "colorscale": [
             [
              0,
              "#0d0887"
             ],
             [
              0.1111111111111111,
              "#46039f"
             ],
             [
              0.2222222222222222,
              "#7201a8"
             ],
             [
              0.3333333333333333,
              "#9c179e"
             ],
             [
              0.4444444444444444,
              "#bd3786"
             ],
             [
              0.5555555555555556,
              "#d8576b"
             ],
             [
              0.6666666666666666,
              "#ed7953"
             ],
             [
              0.7777777777777778,
              "#fb9f3a"
             ],
             [
              0.8888888888888888,
              "#fdca26"
             ],
             [
              1,
              "#f0f921"
             ]
            ],
            "type": "heatmapgl"
           }
          ],
          "histogram": [
           {
            "marker": {
             "pattern": {
              "fillmode": "overlay",
              "size": 10,
              "solidity": 0.2
             }
            },
            "type": "histogram"
           }
          ],
          "histogram2d": [
           {
            "colorbar": {
             "outlinewidth": 0,
             "ticks": ""
            },
            "colorscale": [
             [
              0,
              "#0d0887"
             ],
             [
              0.1111111111111111,
              "#46039f"
             ],
             [
              0.2222222222222222,
              "#7201a8"
             ],
             [
              0.3333333333333333,
              "#9c179e"
             ],
             [
              0.4444444444444444,
              "#bd3786"
             ],
             [
              0.5555555555555556,
              "#d8576b"
             ],
             [
              0.6666666666666666,
              "#ed7953"
             ],
             [
              0.7777777777777778,
              "#fb9f3a"
             ],
             [
              0.8888888888888888,
              "#fdca26"
             ],
             [
              1,
              "#f0f921"
             ]
            ],
            "type": "histogram2d"
           }
          ],
          "histogram2dcontour": [
           {
            "colorbar": {
             "outlinewidth": 0,
             "ticks": ""
            },
            "colorscale": [
             [
              0,
              "#0d0887"
             ],
             [
              0.1111111111111111,
              "#46039f"
             ],
             [
              0.2222222222222222,
              "#7201a8"
             ],
             [
              0.3333333333333333,
              "#9c179e"
             ],
             [
              0.4444444444444444,
              "#bd3786"
             ],
             [
              0.5555555555555556,
              "#d8576b"
             ],
             [
              0.6666666666666666,
              "#ed7953"
             ],
             [
              0.7777777777777778,
              "#fb9f3a"
             ],
             [
              0.8888888888888888,
              "#fdca26"
             ],
             [
              1,
              "#f0f921"
             ]
            ],
            "type": "histogram2dcontour"
           }
          ],
          "mesh3d": [
           {
            "colorbar": {
             "outlinewidth": 0,
             "ticks": ""
            },
            "type": "mesh3d"
           }
          ],
          "parcoords": [
           {
            "line": {
             "colorbar": {
              "outlinewidth": 0,
              "ticks": ""
             }
            },
            "type": "parcoords"
           }
          ],
          "pie": [
           {
            "automargin": true,
            "type": "pie"
           }
          ],
          "scatter": [
           {
            "fillpattern": {
             "fillmode": "overlay",
             "size": 10,
             "solidity": 0.2
            },
            "type": "scatter"
           }
          ],
          "scatter3d": [
           {
            "line": {
             "colorbar": {
              "outlinewidth": 0,
              "ticks": ""
             }
            },
            "marker": {
             "colorbar": {
              "outlinewidth": 0,
              "ticks": ""
             }
            },
            "type": "scatter3d"
           }
          ],
          "scattercarpet": [
           {
            "marker": {
             "colorbar": {
              "outlinewidth": 0,
              "ticks": ""
             }
            },
            "type": "scattercarpet"
           }
          ],
          "scattergeo": [
           {
            "marker": {
             "colorbar": {
              "outlinewidth": 0,
              "ticks": ""
             }
            },
            "type": "scattergeo"
           }
          ],
          "scattergl": [
           {
            "marker": {
             "colorbar": {
              "outlinewidth": 0,
              "ticks": ""
             }
            },
            "type": "scattergl"
           }
          ],
          "scattermapbox": [
           {
            "marker": {
             "colorbar": {
              "outlinewidth": 0,
              "ticks": ""
             }
            },
            "type": "scattermapbox"
           }
          ],
          "scatterpolar": [
           {
            "marker": {
             "colorbar": {
              "outlinewidth": 0,
              "ticks": ""
             }
            },
            "type": "scatterpolar"
           }
          ],
          "scatterpolargl": [
           {
            "marker": {
             "colorbar": {
              "outlinewidth": 0,
              "ticks": ""
             }
            },
            "type": "scatterpolargl"
           }
          ],
          "scatterternary": [
           {
            "marker": {
             "colorbar": {
              "outlinewidth": 0,
              "ticks": ""
             }
            },
            "type": "scatterternary"
           }
          ],
          "surface": [
           {
            "colorbar": {
             "outlinewidth": 0,
             "ticks": ""
            },
            "colorscale": [
             [
              0,
              "#0d0887"
             ],
             [
              0.1111111111111111,
              "#46039f"
             ],
             [
              0.2222222222222222,
              "#7201a8"
             ],
             [
              0.3333333333333333,
              "#9c179e"
             ],
             [
              0.4444444444444444,
              "#bd3786"
             ],
             [
              0.5555555555555556,
              "#d8576b"
             ],
             [
              0.6666666666666666,
              "#ed7953"
             ],
             [
              0.7777777777777778,
              "#fb9f3a"
             ],
             [
              0.8888888888888888,
              "#fdca26"
             ],
             [
              1,
              "#f0f921"
             ]
            ],
            "type": "surface"
           }
          ],
          "table": [
           {
            "cells": {
             "fill": {
              "color": "#EBF0F8"
             },
             "line": {
              "color": "white"
             }
            },
            "header": {
             "fill": {
              "color": "#C8D4E3"
             },
             "line": {
              "color": "white"
             }
            },
            "type": "table"
           }
          ]
         },
         "layout": {
          "annotationdefaults": {
           "arrowcolor": "#2a3f5f",
           "arrowhead": 0,
           "arrowwidth": 1
          },
          "autotypenumbers": "strict",
          "coloraxis": {
           "colorbar": {
            "outlinewidth": 0,
            "ticks": ""
           }
          },
          "colorscale": {
           "diverging": [
            [
             0,
             "#8e0152"
            ],
            [
             0.1,
             "#c51b7d"
            ],
            [
             0.2,
             "#de77ae"
            ],
            [
             0.3,
             "#f1b6da"
            ],
            [
             0.4,
             "#fde0ef"
            ],
            [
             0.5,
             "#f7f7f7"
            ],
            [
             0.6,
             "#e6f5d0"
            ],
            [
             0.7,
             "#b8e186"
            ],
            [
             0.8,
             "#7fbc41"
            ],
            [
             0.9,
             "#4d9221"
            ],
            [
             1,
             "#276419"
            ]
           ],
           "sequential": [
            [
             0,
             "#0d0887"
            ],
            [
             0.1111111111111111,
             "#46039f"
            ],
            [
             0.2222222222222222,
             "#7201a8"
            ],
            [
             0.3333333333333333,
             "#9c179e"
            ],
            [
             0.4444444444444444,
             "#bd3786"
            ],
            [
             0.5555555555555556,
             "#d8576b"
            ],
            [
             0.6666666666666666,
             "#ed7953"
            ],
            [
             0.7777777777777778,
             "#fb9f3a"
            ],
            [
             0.8888888888888888,
             "#fdca26"
            ],
            [
             1,
             "#f0f921"
            ]
           ],
           "sequentialminus": [
            [
             0,
             "#0d0887"
            ],
            [
             0.1111111111111111,
             "#46039f"
            ],
            [
             0.2222222222222222,
             "#7201a8"
            ],
            [
             0.3333333333333333,
             "#9c179e"
            ],
            [
             0.4444444444444444,
             "#bd3786"
            ],
            [
             0.5555555555555556,
             "#d8576b"
            ],
            [
             0.6666666666666666,
             "#ed7953"
            ],
            [
             0.7777777777777778,
             "#fb9f3a"
            ],
            [
             0.8888888888888888,
             "#fdca26"
            ],
            [
             1,
             "#f0f921"
            ]
           ]
          },
          "colorway": [
           "#636efa",
           "#EF553B",
           "#00cc96",
           "#ab63fa",
           "#FFA15A",
           "#19d3f3",
           "#FF6692",
           "#B6E880",
           "#FF97FF",
           "#FECB52"
          ],
          "font": {
           "color": "#2a3f5f"
          },
          "geo": {
           "bgcolor": "white",
           "lakecolor": "white",
           "landcolor": "#E5ECF6",
           "showlakes": true,
           "showland": true,
           "subunitcolor": "white"
          },
          "hoverlabel": {
           "align": "left"
          },
          "hovermode": "closest",
          "mapbox": {
           "style": "light"
          },
          "paper_bgcolor": "white",
          "plot_bgcolor": "#E5ECF6",
          "polar": {
           "angularaxis": {
            "gridcolor": "white",
            "linecolor": "white",
            "ticks": ""
           },
           "bgcolor": "#E5ECF6",
           "radialaxis": {
            "gridcolor": "white",
            "linecolor": "white",
            "ticks": ""
           }
          },
          "scene": {
           "xaxis": {
            "backgroundcolor": "#E5ECF6",
            "gridcolor": "white",
            "gridwidth": 2,
            "linecolor": "white",
            "showbackground": true,
            "ticks": "",
            "zerolinecolor": "white"
           },
           "yaxis": {
            "backgroundcolor": "#E5ECF6",
            "gridcolor": "white",
            "gridwidth": 2,
            "linecolor": "white",
            "showbackground": true,
            "ticks": "",
            "zerolinecolor": "white"
           },
           "zaxis": {
            "backgroundcolor": "#E5ECF6",
            "gridcolor": "white",
            "gridwidth": 2,
            "linecolor": "white",
            "showbackground": true,
            "ticks": "",
            "zerolinecolor": "white"
           }
          },
          "shapedefaults": {
           "line": {
            "color": "#2a3f5f"
           }
          },
          "ternary": {
           "aaxis": {
            "gridcolor": "white",
            "linecolor": "white",
            "ticks": ""
           },
           "baxis": {
            "gridcolor": "white",
            "linecolor": "white",
            "ticks": ""
           },
           "bgcolor": "#E5ECF6",
           "caxis": {
            "gridcolor": "white",
            "linecolor": "white",
            "ticks": ""
           }
          },
          "title": {
           "x": 0.05
          },
          "xaxis": {
           "automargin": true,
           "gridcolor": "white",
           "linecolor": "white",
           "ticks": "",
           "title": {
            "standoff": 15
           },
           "zerolinecolor": "white",
           "zerolinewidth": 2
          },
          "yaxis": {
           "automargin": true,
           "gridcolor": "white",
           "linecolor": "white",
           "ticks": "",
           "title": {
            "standoff": 15
           },
           "zerolinecolor": "white",
           "zerolinewidth": 2
          }
         }
        },
        "title": {
         "text": "Word Cloud for Titles"
        },
        "xaxis": {
         "anchor": "y",
         "domain": [
          0,
          1
         ]
        },
        "yaxis": {
         "anchor": "x",
         "domain": [
          0,
          1
         ]
        }
       }
      }
     },
     "metadata": {},
     "output_type": "display_data"
    }
   ],
   "source": [
    "# Assuming df['Title'] contains the titles\n",
    "titles_text = ' '.join(df['Title'].dropna().astype(str))\n",
    "\n",
    "# Set NLTK English stopwords\n",
    "stop_words = set(stopwords.words('english'))\n",
    "\n",
    "# Add custom stopwords\n",
    "custom_stopwords = {'head', 'committee', 'ministry', 'debate', 'supply', 'annual', 'statement', 'singapore', 'measures', 'chair', 'prime', 'minister'}\n",
    "stop_words.update(custom_stopwords)\n",
    "\n",
    "# Generate the word cloud excluding stopwords\n",
    "wordcloud = WordCloud(width=800, height=400, background_color='white', stopwords=stop_words).generate(titles_text)\n",
    "\n",
    "# Plotting the word cloud using Plotly\n",
    "fig = px.imshow(wordcloud, title='Word Cloud for Titles')\n",
    "fig.update_layout(coloraxis_showscale=False)  # Hide the color axis for cleaner display\n",
    "fig.show()"
   ]
  },
  {
   "cell_type": "code",
   "execution_count": 7,
   "metadata": {},
   "outputs": [
    {
     "name": "stdout",
     "output_type": "stream",
     "text": [
      "Topic #0:\n",
      "school student education need child learning support programme moe skill\n",
      "Topic #1:\n",
      "business company industry sector new digital help technology need smes\n",
      "Topic #2:\n",
      "drug lift police team people family offender building home work\n",
      "Topic #3:\n",
      "public defence service time saf people family need country threat\n",
      "Topic #4:\n",
      "energy smoking smoker product tobacco water carbon cigarettes cigarette emission\n",
      "Topic #5:\n",
      "covid 19 support need community people help time art budget\n",
      "Topic #6:\n",
      "transport public new bus waste food like vehicle lta need\n",
      "Topic #7:\n",
      "worker job need budget support work company time help employer\n",
      "Topic #8:\n",
      "care need community service health flat family healthcare support senior\n",
      "Topic #9:\n",
      "council town speaker claim cpf law act case amendment time\n",
      "\n"
     ]
    }
   ],
   "source": [
    "# Add custom stopwords\n",
    "custom_stopwords = list(custom_stopwords) + [\"parliament\", \"session\", \"government\", \"mr\", \"year\", \"singaporeans\", \"member\"]\n",
    "\n",
    "# Combine custom stopwords with the default English stopwords\n",
    "combined_stopwords = list(sklearn.feature_extraction.text.ENGLISH_STOP_WORDS.union(custom_stopwords))\n",
    "\n",
    "# Initialize the lemmatizer\n",
    "lemmatizer = WordNetLemmatizer()\n",
    "\n",
    "# Function to lemmatize the text\n",
    "def lemmatize_text(text):\n",
    "    tokens = word_tokenize(text)\n",
    "    lemmatized_tokens = [lemmatizer.lemmatize(token.lower()) for token in tokens if token.lower() not in combined_stopwords]\n",
    "    return ' '.join(lemmatized_tokens)\n",
    "\n",
    "# Apply lemmatization to each text in the dataframe\n",
    "df['Text'] = df['Text'].apply(lemmatize_text)\n",
    "\n",
    "# Extract all texts for topic modeling\n",
    "texts = df['Text']\n",
    "\n",
    "# Convert texts to a matrix of token counts\n",
    "vectorizer = CountVectorizer(stop_words=combined_stopwords)\n",
    "X = vectorizer.fit_transform(texts)\n",
    "\n",
    "# Fit LDA model\n",
    "lda = LatentDirichletAllocation(n_components=10, random_state=25)  \n",
    "lda.fit(X)\n",
    "\n",
    "# Display the most important words for each topic identified by the LDA model\n",
    "def print_top_words(model, feature_names, n_top_words):\n",
    "    for topic_idx, topic in enumerate(model.components_):\n",
    "        print(f\"Topic #{topic_idx}:\")\n",
    "        # Extract and print the top words for a given topic in an LDA model\n",
    "        print(\" \".join([feature_names[i] for i in topic.argsort()[:-n_top_words - 1:-1]]))\n",
    "    print()\n",
    "\n",
    "n_top_words = 10\n",
    "print_top_words(lda, vectorizer.get_feature_names_out(), n_top_words)\n",
    "\n",
    "# Assign topics to the debates\n",
    "df['Topic'] = lda.transform(X).argmax(axis=1)"
   ]
  },
  {
   "cell_type": "code",
   "execution_count": 8,
   "metadata": {},
   "outputs": [],
   "source": [
    "topics = {\n",
    "    0: \"Education and Support Programmes\",\n",
    "    1: \"Digital Transformation in Industry\",\n",
    "    2: \"Law Enforcement and Rehabilitation\",\n",
    "    3: \"National Defence and Security\",\n",
    "    4: \"Smoking and Environmental Impact\",\n",
    "    5: \"Community Support during COVID-19\",\n",
    "    6: \"Punlic Transport and Waste Management\",\n",
    "    7: \"Workforce Support and Employment\",\n",
    "    8: \"Community Care and Services\",\n",
    "    9: \"Legislative Matters and Amendments\"\n",
    "}\n",
    "\n",
    "df[\"Topic\"] = df[\"Topic\"].map(topics)"
   ]
  },
  {
   "cell_type": "code",
   "execution_count": 9,
   "metadata": {},
   "outputs": [
    {
     "data": {
      "text/html": [
       "<div>\n",
       "<style scoped>\n",
       "    .dataframe tbody tr th:only-of-type {\n",
       "        vertical-align: middle;\n",
       "    }\n",
       "\n",
       "    .dataframe tbody tr th {\n",
       "        vertical-align: top;\n",
       "    }\n",
       "\n",
       "    .dataframe thead th {\n",
       "        text-align: right;\n",
       "    }\n",
       "</style>\n",
       "<table border=\"1\" class=\"dataframe\">\n",
       "  <thead>\n",
       "    <tr style=\"text-align: right;\">\n",
       "      <th></th>\n",
       "      <th>Sitting Date</th>\n",
       "      <th>Section Name</th>\n",
       "      <th>Title</th>\n",
       "      <th>Text</th>\n",
       "      <th>Topic</th>\n",
       "    </tr>\n",
       "  </thead>\n",
       "  <tbody>\n",
       "    <tr>\n",
       "      <th>0</th>\n",
       "      <td>7-2-2017</td>\n",
       "      <td>Oral Answers to Questions</td>\n",
       "      <td>Fair Process for Termination Due to Poor Perfo...</td>\n",
       "      <td>1 dr tan wu meng asked manpower provide update...</td>\n",
       "      <td>Workforce Support and Employment</td>\n",
       "    </tr>\n",
       "    <tr>\n",
       "      <th>1</th>\n",
       "      <td>9-7-2018</td>\n",
       "      <td>Written Answers to Questions for Oral Answer N...</td>\n",
       "      <td>Details and Framework of Workings of The Speci...</td>\n",
       "      <td>22 assoc prof fatimah lateef asked social fami...</td>\n",
       "      <td>Community Care and Services</td>\n",
       "    </tr>\n",
       "    <tr>\n",
       "      <th>2</th>\n",
       "      <td>28-2-2020</td>\n",
       "      <td>Budget</td>\n",
       "      <td>Committee of Supply – Head R (Ministry of Law)</td>\n",
       "      <td>chairman : r , law . christopher souza , cut ....</td>\n",
       "      <td>Legislative Matters and Amendments</td>\n",
       "    </tr>\n",
       "    <tr>\n",
       "      <th>3</th>\n",
       "      <td>6-3-2019</td>\n",
       "      <td>Oral Answers to Questions</td>\n",
       "      <td>Female Representation in Statutory Boards</td>\n",
       "      <td>following question stood m anthea ong –1 ask s...</td>\n",
       "      <td>Community Care and Services</td>\n",
       "    </tr>\n",
       "    <tr>\n",
       "      <th>4</th>\n",
       "      <td>6-3-2018</td>\n",
       "      <td>Budget</td>\n",
       "      <td>Committee of Supply – Head W (Ministry of Tran...</td>\n",
       "      <td>growing pain transportmr sitoh yih pin ( poton...</td>\n",
       "      <td>Punlic Transport and Waste Management</td>\n",
       "    </tr>\n",
       "    <tr>\n",
       "      <th>...</th>\n",
       "      <td>...</td>\n",
       "      <td>...</td>\n",
       "      <td>...</td>\n",
       "      <td>...</td>\n",
       "      <td>...</td>\n",
       "    </tr>\n",
       "    <tr>\n",
       "      <th>159</th>\n",
       "      <td>11-9-2017</td>\n",
       "      <td>Oral Answers to Questions</td>\n",
       "      <td>Complaints on Lapses in Real-time Updates for ...</td>\n",
       "      <td>1 er dr lee bee wah asked transport ( ) lta aw...</td>\n",
       "      <td>Punlic Transport and Waste Management</td>\n",
       "    </tr>\n",
       "    <tr>\n",
       "      <th>160</th>\n",
       "      <td>4-11-2019</td>\n",
       "      <td>Second Reading Bills</td>\n",
       "      <td>Central Provident Fund (Amendment) Bill</td>\n",
       "      <td>order second reading read.4.51 pmthe manpower ...</td>\n",
       "      <td>Legislative Matters and Amendments</td>\n",
       "    </tr>\n",
       "    <tr>\n",
       "      <th>161</th>\n",
       "      <td>5-3-2020</td>\n",
       "      <td>Budget</td>\n",
       "      <td>Committee of Supply – Head I (Ministry of Soci...</td>\n",
       "      <td>chairman : , social family development . seah ...</td>\n",
       "      <td>Community Care and Services</td>\n",
       "    </tr>\n",
       "    <tr>\n",
       "      <th>162</th>\n",
       "      <td>4-6-2020</td>\n",
       "      <td>Ministerial Statements</td>\n",
       "      <td>Government's Plans in our Continued Fight agai...</td>\n",
       "      <td>resumed.mr deputy speaker : iswaran.6.49 pmthe...</td>\n",
       "      <td>Digital Transformation in Industry</td>\n",
       "    </tr>\n",
       "    <tr>\n",
       "      <th>163</th>\n",
       "      <td>13-4-2016</td>\n",
       "      <td>Budget</td>\n",
       "      <td>Committee of Supply – Head X (Ministry of Cult...</td>\n",
       "      <td>rallying singaporeansdr lim wee kiak ( sembawa...</td>\n",
       "      <td>Community Support during COVID-19</td>\n",
       "    </tr>\n",
       "  </tbody>\n",
       "</table>\n",
       "<p>164 rows × 5 columns</p>\n",
       "</div>"
      ],
      "text/plain": [
       "    Sitting Date                                       Section Name  \\\n",
       "0       7-2-2017                          Oral Answers to Questions   \n",
       "1       9-7-2018  Written Answers to Questions for Oral Answer N...   \n",
       "2      28-2-2020                                             Budget   \n",
       "3       6-3-2019                          Oral Answers to Questions   \n",
       "4       6-3-2018                                             Budget   \n",
       "..           ...                                                ...   \n",
       "159    11-9-2017                          Oral Answers to Questions   \n",
       "160    4-11-2019                               Second Reading Bills   \n",
       "161     5-3-2020                                             Budget   \n",
       "162     4-6-2020                             Ministerial Statements   \n",
       "163    13-4-2016                                             Budget   \n",
       "\n",
       "                                                 Title  \\\n",
       "0    Fair Process for Termination Due to Poor Perfo...   \n",
       "1    Details and Framework of Workings of The Speci...   \n",
       "2       Committee of Supply – Head R (Ministry of Law)   \n",
       "3            Female Representation in Statutory Boards   \n",
       "4    Committee of Supply – Head W (Ministry of Tran...   \n",
       "..                                                 ...   \n",
       "159  Complaints on Lapses in Real-time Updates for ...   \n",
       "160            Central Provident Fund (Amendment) Bill   \n",
       "161  Committee of Supply – Head I (Ministry of Soci...   \n",
       "162  Government's Plans in our Continued Fight agai...   \n",
       "163  Committee of Supply – Head X (Ministry of Cult...   \n",
       "\n",
       "                                                  Text  \\\n",
       "0    1 dr tan wu meng asked manpower provide update...   \n",
       "1    22 assoc prof fatimah lateef asked social fami...   \n",
       "2    chairman : r , law . christopher souza , cut ....   \n",
       "3    following question stood m anthea ong –1 ask s...   \n",
       "4    growing pain transportmr sitoh yih pin ( poton...   \n",
       "..                                                 ...   \n",
       "159  1 er dr lee bee wah asked transport ( ) lta aw...   \n",
       "160  order second reading read.4.51 pmthe manpower ...   \n",
       "161  chairman : , social family development . seah ...   \n",
       "162  resumed.mr deputy speaker : iswaran.6.49 pmthe...   \n",
       "163  rallying singaporeansdr lim wee kiak ( sembawa...   \n",
       "\n",
       "                                     Topic  \n",
       "0         Workforce Support and Employment  \n",
       "1              Community Care and Services  \n",
       "2       Legislative Matters and Amendments  \n",
       "3              Community Care and Services  \n",
       "4    Punlic Transport and Waste Management  \n",
       "..                                     ...  \n",
       "159  Punlic Transport and Waste Management  \n",
       "160     Legislative Matters and Amendments  \n",
       "161            Community Care and Services  \n",
       "162     Digital Transformation in Industry  \n",
       "163      Community Support during COVID-19  \n",
       "\n",
       "[164 rows x 5 columns]"
      ]
     },
     "execution_count": 9,
     "metadata": {},
     "output_type": "execute_result"
    }
   ],
   "source": [
    "df"
   ]
  },
  {
   "cell_type": "code",
   "execution_count": 10,
   "metadata": {},
   "outputs": [
    {
     "data": {
      "text/plain": [
       "Topic\n",
       "Workforce Support and Employment         27\n",
       "Digital Transformation in Industry       26\n",
       "Community Care and Services              22\n",
       "Punlic Transport and Waste Management    20\n",
       "Legislative Matters and Amendments       18\n",
       "Education and Support Programmes         16\n",
       "National Defence and Security            14\n",
       "Community Support during COVID-19        13\n",
       "Law Enforcement and Rehabilitation        6\n",
       "Smoking and Environmental Impact          2\n",
       "Name: count, dtype: int64"
      ]
     },
     "execution_count": 10,
     "metadata": {},
     "output_type": "execute_result"
    }
   ],
   "source": [
    "df[\"Topic\"].value_counts()"
   ]
  },
  {
   "cell_type": "code",
   "execution_count": 16,
   "metadata": {},
   "outputs": [
    {
     "data": {
      "application/vnd.plotly.v1+json": {
       "config": {
        "plotlyServerURL": "https://plot.ly"
       },
       "data": [
        {
         "alignmentgroup": "True",
         "hovertemplate": "Topic=%{x}<br>Number of Debates=%{text}<extra></extra>",
         "legendgroup": "Workforce Support and Employment",
         "marker": {
          "color": "#636efa",
          "pattern": {
           "shape": ""
          }
         },
         "name": "Workforce Support and Employment",
         "offsetgroup": "Workforce Support and Employment",
         "orientation": "v",
         "showlegend": true,
         "text": [
          27
         ],
         "textposition": "outside",
         "texttemplate": "%{text}",
         "type": "bar",
         "x": [
          "Workforce Support and Employment"
         ],
         "xaxis": "x",
         "y": [
          27
         ],
         "yaxis": "y"
        },
        {
         "alignmentgroup": "True",
         "hovertemplate": "Topic=%{x}<br>Number of Debates=%{text}<extra></extra>",
         "legendgroup": "Digital Transformation in Industry",
         "marker": {
          "color": "#EF553B",
          "pattern": {
           "shape": ""
          }
         },
         "name": "Digital Transformation in Industry",
         "offsetgroup": "Digital Transformation in Industry",
         "orientation": "v",
         "showlegend": true,
         "text": [
          26
         ],
         "textposition": "outside",
         "texttemplate": "%{text}",
         "type": "bar",
         "x": [
          "Digital Transformation in Industry"
         ],
         "xaxis": "x",
         "y": [
          26
         ],
         "yaxis": "y"
        },
        {
         "alignmentgroup": "True",
         "hovertemplate": "Topic=%{x}<br>Number of Debates=%{text}<extra></extra>",
         "legendgroup": "Community Care and Services",
         "marker": {
          "color": "#00cc96",
          "pattern": {
           "shape": ""
          }
         },
         "name": "Community Care and Services",
         "offsetgroup": "Community Care and Services",
         "orientation": "v",
         "showlegend": true,
         "text": [
          22
         ],
         "textposition": "outside",
         "texttemplate": "%{text}",
         "type": "bar",
         "x": [
          "Community Care and Services"
         ],
         "xaxis": "x",
         "y": [
          22
         ],
         "yaxis": "y"
        },
        {
         "alignmentgroup": "True",
         "hovertemplate": "Topic=%{x}<br>Number of Debates=%{text}<extra></extra>",
         "legendgroup": "Punlic Transport and Waste Management",
         "marker": {
          "color": "#ab63fa",
          "pattern": {
           "shape": ""
          }
         },
         "name": "Punlic Transport and Waste Management",
         "offsetgroup": "Punlic Transport and Waste Management",
         "orientation": "v",
         "showlegend": true,
         "text": [
          20
         ],
         "textposition": "outside",
         "texttemplate": "%{text}",
         "type": "bar",
         "x": [
          "Punlic Transport and Waste Management"
         ],
         "xaxis": "x",
         "y": [
          20
         ],
         "yaxis": "y"
        },
        {
         "alignmentgroup": "True",
         "hovertemplate": "Topic=%{x}<br>Number of Debates=%{text}<extra></extra>",
         "legendgroup": "Legislative Matters and Amendments",
         "marker": {
          "color": "#FFA15A",
          "pattern": {
           "shape": ""
          }
         },
         "name": "Legislative Matters and Amendments",
         "offsetgroup": "Legislative Matters and Amendments",
         "orientation": "v",
         "showlegend": true,
         "text": [
          18
         ],
         "textposition": "outside",
         "texttemplate": "%{text}",
         "type": "bar",
         "x": [
          "Legislative Matters and Amendments"
         ],
         "xaxis": "x",
         "y": [
          18
         ],
         "yaxis": "y"
        },
        {
         "alignmentgroup": "True",
         "hovertemplate": "Topic=%{x}<br>Number of Debates=%{text}<extra></extra>",
         "legendgroup": "Education and Support Programmes",
         "marker": {
          "color": "#19d3f3",
          "pattern": {
           "shape": ""
          }
         },
         "name": "Education and Support Programmes",
         "offsetgroup": "Education and Support Programmes",
         "orientation": "v",
         "showlegend": true,
         "text": [
          16
         ],
         "textposition": "outside",
         "texttemplate": "%{text}",
         "type": "bar",
         "x": [
          "Education and Support Programmes"
         ],
         "xaxis": "x",
         "y": [
          16
         ],
         "yaxis": "y"
        },
        {
         "alignmentgroup": "True",
         "hovertemplate": "Topic=%{x}<br>Number of Debates=%{text}<extra></extra>",
         "legendgroup": "National Defence and Security",
         "marker": {
          "color": "#FF6692",
          "pattern": {
           "shape": ""
          }
         },
         "name": "National Defence and Security",
         "offsetgroup": "National Defence and Security",
         "orientation": "v",
         "showlegend": true,
         "text": [
          14
         ],
         "textposition": "outside",
         "texttemplate": "%{text}",
         "type": "bar",
         "x": [
          "National Defence and Security"
         ],
         "xaxis": "x",
         "y": [
          14
         ],
         "yaxis": "y"
        },
        {
         "alignmentgroup": "True",
         "hovertemplate": "Topic=%{x}<br>Number of Debates=%{text}<extra></extra>",
         "legendgroup": "Community Support during COVID-19",
         "marker": {
          "color": "#B6E880",
          "pattern": {
           "shape": ""
          }
         },
         "name": "Community Support during COVID-19",
         "offsetgroup": "Community Support during COVID-19",
         "orientation": "v",
         "showlegend": true,
         "text": [
          13
         ],
         "textposition": "outside",
         "texttemplate": "%{text}",
         "type": "bar",
         "x": [
          "Community Support during COVID-19"
         ],
         "xaxis": "x",
         "y": [
          13
         ],
         "yaxis": "y"
        },
        {
         "alignmentgroup": "True",
         "hovertemplate": "Topic=%{x}<br>Number of Debates=%{text}<extra></extra>",
         "legendgroup": "Law Enforcement and Rehabilitation",
         "marker": {
          "color": "#FF97FF",
          "pattern": {
           "shape": ""
          }
         },
         "name": "Law Enforcement and Rehabilitation",
         "offsetgroup": "Law Enforcement and Rehabilitation",
         "orientation": "v",
         "showlegend": true,
         "text": [
          6
         ],
         "textposition": "outside",
         "texttemplate": "%{text}",
         "type": "bar",
         "x": [
          "Law Enforcement and Rehabilitation"
         ],
         "xaxis": "x",
         "y": [
          6
         ],
         "yaxis": "y"
        },
        {
         "alignmentgroup": "True",
         "hovertemplate": "Topic=%{x}<br>Number of Debates=%{text}<extra></extra>",
         "legendgroup": "Smoking and Environmental Impact",
         "marker": {
          "color": "#FECB52",
          "pattern": {
           "shape": ""
          }
         },
         "name": "Smoking and Environmental Impact",
         "offsetgroup": "Smoking and Environmental Impact",
         "orientation": "v",
         "showlegend": true,
         "text": [
          2
         ],
         "textposition": "outside",
         "texttemplate": "%{text}",
         "type": "bar",
         "x": [
          "Smoking and Environmental Impact"
         ],
         "xaxis": "x",
         "y": [
          2
         ],
         "yaxis": "y"
        }
       ],
       "layout": {
        "bargap": 0.4,
        "barmode": "relative",
        "font": {
         "size": 12
        },
        "legend": {
         "title": {
          "text": "Topic"
         },
         "tracegroupgap": 0
        },
        "margin": {
         "b": 100,
         "l": 50,
         "r": 50,
         "t": 100
        },
        "paper_bgcolor": "white",
        "plot_bgcolor": "white",
        "template": {
         "data": {
          "bar": [
           {
            "error_x": {
             "color": "#2a3f5f"
            },
            "error_y": {
             "color": "#2a3f5f"
            },
            "marker": {
             "line": {
              "color": "#E5ECF6",
              "width": 0.5
             },
             "pattern": {
              "fillmode": "overlay",
              "size": 10,
              "solidity": 0.2
             }
            },
            "type": "bar"
           }
          ],
          "barpolar": [
           {
            "marker": {
             "line": {
              "color": "#E5ECF6",
              "width": 0.5
             },
             "pattern": {
              "fillmode": "overlay",
              "size": 10,
              "solidity": 0.2
             }
            },
            "type": "barpolar"
           }
          ],
          "carpet": [
           {
            "aaxis": {
             "endlinecolor": "#2a3f5f",
             "gridcolor": "white",
             "linecolor": "white",
             "minorgridcolor": "white",
             "startlinecolor": "#2a3f5f"
            },
            "baxis": {
             "endlinecolor": "#2a3f5f",
             "gridcolor": "white",
             "linecolor": "white",
             "minorgridcolor": "white",
             "startlinecolor": "#2a3f5f"
            },
            "type": "carpet"
           }
          ],
          "choropleth": [
           {
            "colorbar": {
             "outlinewidth": 0,
             "ticks": ""
            },
            "type": "choropleth"
           }
          ],
          "contour": [
           {
            "colorbar": {
             "outlinewidth": 0,
             "ticks": ""
            },
            "colorscale": [
             [
              0,
              "#0d0887"
             ],
             [
              0.1111111111111111,
              "#46039f"
             ],
             [
              0.2222222222222222,
              "#7201a8"
             ],
             [
              0.3333333333333333,
              "#9c179e"
             ],
             [
              0.4444444444444444,
              "#bd3786"
             ],
             [
              0.5555555555555556,
              "#d8576b"
             ],
             [
              0.6666666666666666,
              "#ed7953"
             ],
             [
              0.7777777777777778,
              "#fb9f3a"
             ],
             [
              0.8888888888888888,
              "#fdca26"
             ],
             [
              1,
              "#f0f921"
             ]
            ],
            "type": "contour"
           }
          ],
          "contourcarpet": [
           {
            "colorbar": {
             "outlinewidth": 0,
             "ticks": ""
            },
            "type": "contourcarpet"
           }
          ],
          "heatmap": [
           {
            "colorbar": {
             "outlinewidth": 0,
             "ticks": ""
            },
            "colorscale": [
             [
              0,
              "#0d0887"
             ],
             [
              0.1111111111111111,
              "#46039f"
             ],
             [
              0.2222222222222222,
              "#7201a8"
             ],
             [
              0.3333333333333333,
              "#9c179e"
             ],
             [
              0.4444444444444444,
              "#bd3786"
             ],
             [
              0.5555555555555556,
              "#d8576b"
             ],
             [
              0.6666666666666666,
              "#ed7953"
             ],
             [
              0.7777777777777778,
              "#fb9f3a"
             ],
             [
              0.8888888888888888,
              "#fdca26"
             ],
             [
              1,
              "#f0f921"
             ]
            ],
            "type": "heatmap"
           }
          ],
          "heatmapgl": [
           {
            "colorbar": {
             "outlinewidth": 0,
             "ticks": ""
            },
            "colorscale": [
             [
              0,
              "#0d0887"
             ],
             [
              0.1111111111111111,
              "#46039f"
             ],
             [
              0.2222222222222222,
              "#7201a8"
             ],
             [
              0.3333333333333333,
              "#9c179e"
             ],
             [
              0.4444444444444444,
              "#bd3786"
             ],
             [
              0.5555555555555556,
              "#d8576b"
             ],
             [
              0.6666666666666666,
              "#ed7953"
             ],
             [
              0.7777777777777778,
              "#fb9f3a"
             ],
             [
              0.8888888888888888,
              "#fdca26"
             ],
             [
              1,
              "#f0f921"
             ]
            ],
            "type": "heatmapgl"
           }
          ],
          "histogram": [
           {
            "marker": {
             "pattern": {
              "fillmode": "overlay",
              "size": 10,
              "solidity": 0.2
             }
            },
            "type": "histogram"
           }
          ],
          "histogram2d": [
           {
            "colorbar": {
             "outlinewidth": 0,
             "ticks": ""
            },
            "colorscale": [
             [
              0,
              "#0d0887"
             ],
             [
              0.1111111111111111,
              "#46039f"
             ],
             [
              0.2222222222222222,
              "#7201a8"
             ],
             [
              0.3333333333333333,
              "#9c179e"
             ],
             [
              0.4444444444444444,
              "#bd3786"
             ],
             [
              0.5555555555555556,
              "#d8576b"
             ],
             [
              0.6666666666666666,
              "#ed7953"
             ],
             [
              0.7777777777777778,
              "#fb9f3a"
             ],
             [
              0.8888888888888888,
              "#fdca26"
             ],
             [
              1,
              "#f0f921"
             ]
            ],
            "type": "histogram2d"
           }
          ],
          "histogram2dcontour": [
           {
            "colorbar": {
             "outlinewidth": 0,
             "ticks": ""
            },
            "colorscale": [
             [
              0,
              "#0d0887"
             ],
             [
              0.1111111111111111,
              "#46039f"
             ],
             [
              0.2222222222222222,
              "#7201a8"
             ],
             [
              0.3333333333333333,
              "#9c179e"
             ],
             [
              0.4444444444444444,
              "#bd3786"
             ],
             [
              0.5555555555555556,
              "#d8576b"
             ],
             [
              0.6666666666666666,
              "#ed7953"
             ],
             [
              0.7777777777777778,
              "#fb9f3a"
             ],
             [
              0.8888888888888888,
              "#fdca26"
             ],
             [
              1,
              "#f0f921"
             ]
            ],
            "type": "histogram2dcontour"
           }
          ],
          "mesh3d": [
           {
            "colorbar": {
             "outlinewidth": 0,
             "ticks": ""
            },
            "type": "mesh3d"
           }
          ],
          "parcoords": [
           {
            "line": {
             "colorbar": {
              "outlinewidth": 0,
              "ticks": ""
             }
            },
            "type": "parcoords"
           }
          ],
          "pie": [
           {
            "automargin": true,
            "type": "pie"
           }
          ],
          "scatter": [
           {
            "fillpattern": {
             "fillmode": "overlay",
             "size": 10,
             "solidity": 0.2
            },
            "type": "scatter"
           }
          ],
          "scatter3d": [
           {
            "line": {
             "colorbar": {
              "outlinewidth": 0,
              "ticks": ""
             }
            },
            "marker": {
             "colorbar": {
              "outlinewidth": 0,
              "ticks": ""
             }
            },
            "type": "scatter3d"
           }
          ],
          "scattercarpet": [
           {
            "marker": {
             "colorbar": {
              "outlinewidth": 0,
              "ticks": ""
             }
            },
            "type": "scattercarpet"
           }
          ],
          "scattergeo": [
           {
            "marker": {
             "colorbar": {
              "outlinewidth": 0,
              "ticks": ""
             }
            },
            "type": "scattergeo"
           }
          ],
          "scattergl": [
           {
            "marker": {
             "colorbar": {
              "outlinewidth": 0,
              "ticks": ""
             }
            },
            "type": "scattergl"
           }
          ],
          "scattermapbox": [
           {
            "marker": {
             "colorbar": {
              "outlinewidth": 0,
              "ticks": ""
             }
            },
            "type": "scattermapbox"
           }
          ],
          "scatterpolar": [
           {
            "marker": {
             "colorbar": {
              "outlinewidth": 0,
              "ticks": ""
             }
            },
            "type": "scatterpolar"
           }
          ],
          "scatterpolargl": [
           {
            "marker": {
             "colorbar": {
              "outlinewidth": 0,
              "ticks": ""
             }
            },
            "type": "scatterpolargl"
           }
          ],
          "scatterternary": [
           {
            "marker": {
             "colorbar": {
              "outlinewidth": 0,
              "ticks": ""
             }
            },
            "type": "scatterternary"
           }
          ],
          "surface": [
           {
            "colorbar": {
             "outlinewidth": 0,
             "ticks": ""
            },
            "colorscale": [
             [
              0,
              "#0d0887"
             ],
             [
              0.1111111111111111,
              "#46039f"
             ],
             [
              0.2222222222222222,
              "#7201a8"
             ],
             [
              0.3333333333333333,
              "#9c179e"
             ],
             [
              0.4444444444444444,
              "#bd3786"
             ],
             [
              0.5555555555555556,
              "#d8576b"
             ],
             [
              0.6666666666666666,
              "#ed7953"
             ],
             [
              0.7777777777777778,
              "#fb9f3a"
             ],
             [
              0.8888888888888888,
              "#fdca26"
             ],
             [
              1,
              "#f0f921"
             ]
            ],
            "type": "surface"
           }
          ],
          "table": [
           {
            "cells": {
             "fill": {
              "color": "#EBF0F8"
             },
             "line": {
              "color": "white"
             }
            },
            "header": {
             "fill": {
              "color": "#C8D4E3"
             },
             "line": {
              "color": "white"
             }
            },
            "type": "table"
           }
          ]
         },
         "layout": {
          "annotationdefaults": {
           "arrowcolor": "#2a3f5f",
           "arrowhead": 0,
           "arrowwidth": 1
          },
          "autotypenumbers": "strict",
          "coloraxis": {
           "colorbar": {
            "outlinewidth": 0,
            "ticks": ""
           }
          },
          "colorscale": {
           "diverging": [
            [
             0,
             "#8e0152"
            ],
            [
             0.1,
             "#c51b7d"
            ],
            [
             0.2,
             "#de77ae"
            ],
            [
             0.3,
             "#f1b6da"
            ],
            [
             0.4,
             "#fde0ef"
            ],
            [
             0.5,
             "#f7f7f7"
            ],
            [
             0.6,
             "#e6f5d0"
            ],
            [
             0.7,
             "#b8e186"
            ],
            [
             0.8,
             "#7fbc41"
            ],
            [
             0.9,
             "#4d9221"
            ],
            [
             1,
             "#276419"
            ]
           ],
           "sequential": [
            [
             0,
             "#0d0887"
            ],
            [
             0.1111111111111111,
             "#46039f"
            ],
            [
             0.2222222222222222,
             "#7201a8"
            ],
            [
             0.3333333333333333,
             "#9c179e"
            ],
            [
             0.4444444444444444,
             "#bd3786"
            ],
            [
             0.5555555555555556,
             "#d8576b"
            ],
            [
             0.6666666666666666,
             "#ed7953"
            ],
            [
             0.7777777777777778,
             "#fb9f3a"
            ],
            [
             0.8888888888888888,
             "#fdca26"
            ],
            [
             1,
             "#f0f921"
            ]
           ],
           "sequentialminus": [
            [
             0,
             "#0d0887"
            ],
            [
             0.1111111111111111,
             "#46039f"
            ],
            [
             0.2222222222222222,
             "#7201a8"
            ],
            [
             0.3333333333333333,
             "#9c179e"
            ],
            [
             0.4444444444444444,
             "#bd3786"
            ],
            [
             0.5555555555555556,
             "#d8576b"
            ],
            [
             0.6666666666666666,
             "#ed7953"
            ],
            [
             0.7777777777777778,
             "#fb9f3a"
            ],
            [
             0.8888888888888888,
             "#fdca26"
            ],
            [
             1,
             "#f0f921"
            ]
           ]
          },
          "colorway": [
           "#636efa",
           "#EF553B",
           "#00cc96",
           "#ab63fa",
           "#FFA15A",
           "#19d3f3",
           "#FF6692",
           "#B6E880",
           "#FF97FF",
           "#FECB52"
          ],
          "font": {
           "color": "#2a3f5f"
          },
          "geo": {
           "bgcolor": "white",
           "lakecolor": "white",
           "landcolor": "#E5ECF6",
           "showlakes": true,
           "showland": true,
           "subunitcolor": "white"
          },
          "hoverlabel": {
           "align": "left"
          },
          "hovermode": "closest",
          "mapbox": {
           "style": "light"
          },
          "paper_bgcolor": "white",
          "plot_bgcolor": "#E5ECF6",
          "polar": {
           "angularaxis": {
            "gridcolor": "white",
            "linecolor": "white",
            "ticks": ""
           },
           "bgcolor": "#E5ECF6",
           "radialaxis": {
            "gridcolor": "white",
            "linecolor": "white",
            "ticks": ""
           }
          },
          "scene": {
           "xaxis": {
            "backgroundcolor": "#E5ECF6",
            "gridcolor": "white",
            "gridwidth": 2,
            "linecolor": "white",
            "showbackground": true,
            "ticks": "",
            "zerolinecolor": "white"
           },
           "yaxis": {
            "backgroundcolor": "#E5ECF6",
            "gridcolor": "white",
            "gridwidth": 2,
            "linecolor": "white",
            "showbackground": true,
            "ticks": "",
            "zerolinecolor": "white"
           },
           "zaxis": {
            "backgroundcolor": "#E5ECF6",
            "gridcolor": "white",
            "gridwidth": 2,
            "linecolor": "white",
            "showbackground": true,
            "ticks": "",
            "zerolinecolor": "white"
           }
          },
          "shapedefaults": {
           "line": {
            "color": "#2a3f5f"
           }
          },
          "ternary": {
           "aaxis": {
            "gridcolor": "white",
            "linecolor": "white",
            "ticks": ""
           },
           "baxis": {
            "gridcolor": "white",
            "linecolor": "white",
            "ticks": ""
           },
           "bgcolor": "#E5ECF6",
           "caxis": {
            "gridcolor": "white",
            "linecolor": "white",
            "ticks": ""
           }
          },
          "title": {
           "x": 0.05
          },
          "xaxis": {
           "automargin": true,
           "gridcolor": "white",
           "linecolor": "white",
           "ticks": "",
           "title": {
            "standoff": 15
           },
           "zerolinecolor": "white",
           "zerolinewidth": 2
          },
          "yaxis": {
           "automargin": true,
           "gridcolor": "white",
           "linecolor": "white",
           "ticks": "",
           "title": {
            "standoff": 15
           },
           "zerolinecolor": "white",
           "zerolinewidth": 2
          }
         }
        },
        "title": {
         "text": "Distribution of Common Topics in Parliamentary Debates",
         "x": 0.5,
         "xanchor": "center"
        },
        "uniformtext": {
         "minsize": 8,
         "mode": "hide"
        },
        "xaxis": {
         "anchor": "y",
         "categoryarray": [
          "Workforce Support and Employment",
          "Digital Transformation in Industry",
          "Community Care and Services",
          "Punlic Transport and Waste Management",
          "Legislative Matters and Amendments",
          "Education and Support Programmes",
          "National Defence and Security",
          "Community Support during COVID-19",
          "Law Enforcement and Rehabilitation",
          "Smoking and Environmental Impact"
         ],
         "categoryorder": "array",
         "domain": [
          0,
          1
         ],
         "tickangle": -45,
         "title": {
          "text": "Topic"
         }
        },
        "yaxis": {
         "anchor": "x",
         "domain": [
          0,
          1
         ],
         "range": [
          0,
          45
         ],
         "showgrid": true,
         "title": {
          "text": "Count"
         },
         "zeroline": false
        }
       }
      }
     },
     "metadata": {},
     "output_type": "display_data"
    }
   ],
   "source": [
    "# Plotting the distribution of dominant topics using Plotly\n",
    "topic_counts = df[\"Topic\"].value_counts().reset_index()\n",
    "topic_counts.columns = ['Topic', 'Count']\n",
    "\n",
    "fig = px.bar(topic_counts, x='Topic', y='Count', title='Distribution of Dominant Topics',\n",
    "             labels={'Topic': 'Topic', 'Count': 'Number of Debates'},\n",
    "             text='Count',\n",
    "             color='Topic',\n",
    "             color_continuous_scale=px.colors.qualitative.Plotly)  # Use Plotly's qualitative color scale\n",
    "\n",
    "fig.update_traces(texttemplate='%{text}', textposition='outside')\n",
    "\n",
    "fig.update_layout(\n",
    "    title={'text': 'Distribution of Common Topics in Parliamentary Debates', 'x': 0.5, 'xanchor': 'center'},\n",
    "    xaxis_title='Topic',\n",
    "    yaxis_title='Count',\n",
    "    uniformtext_minsize=8, uniformtext_mode='hide',\n",
    "    plot_bgcolor='white',\n",
    "    paper_bgcolor='white',\n",
    "    font=dict(size=12),\n",
    "    yaxis=dict(showgrid=True, zeroline=False, range=[0, 45]),  # Set the y-axis range to 0-45\n",
    "    xaxis_tickangle=-45,  # Rotate x-axis labels for better readability\n",
    "    bargap=0.4,  # Gap between bars\n",
    "    margin=dict(l=50, r=50, b=100, t=100),  # Adjust margins for better layout\n",
    ")\n",
    "\n",
    "fig.show()"
   ]
  }
 ],
 "metadata": {
  "kernelspec": {
   "display_name": "parliament_new",
   "language": "python",
   "name": "python3"
  },
  "language_info": {
   "codemirror_mode": {
    "name": "ipython",
    "version": 3
   },
   "file_extension": ".py",
   "mimetype": "text/x-python",
   "name": "python",
   "nbconvert_exporter": "python",
   "pygments_lexer": "ipython3",
   "version": "3.12.4"
  }
 },
 "nbformat": 4,
 "nbformat_minor": 2
}
