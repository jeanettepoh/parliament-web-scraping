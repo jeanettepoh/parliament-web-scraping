{
 "cells": [
  {
   "cell_type": "code",
   "execution_count": 8,
   "metadata": {},
   "outputs": [],
   "source": [
    "import os\n",
    "import re\n",
    "import glob\n",
    "import nltk\n",
    "import sklearn\n",
    "import pandas as pd\n",
    "import plotly.express as px\n",
    "from bs4 import BeautifulSoup\n",
    "from collections import Counter\n",
    "from wordcloud import WordCloud\n",
    "from nltk.corpus import stopwords\n",
    "from nltk.tokenize import word_tokenize\n",
    "from nltk.stem import WordNetLemmatizer\n",
    "from sklearn.feature_extraction.text import CountVectorizer\n",
    "from sklearn.decomposition import LatentDirichletAllocation"
   ]
  },
  {
   "cell_type": "code",
   "execution_count": 9,
   "metadata": {},
   "outputs": [
    {
     "name": "stderr",
     "output_type": "stream",
     "text": [
      "[nltk_data] Downloading package stopwords to\n",
      "[nltk_data]     /Users/jeanettepoh/nltk_data...\n",
      "[nltk_data]   Package stopwords is already up-to-date!\n",
      "[nltk_data] Downloading package punkt to\n",
      "[nltk_data]     /Users/jeanettepoh/nltk_data...\n",
      "[nltk_data]   Package punkt is already up-to-date!\n",
      "[nltk_data] Downloading package wordnet to\n",
      "[nltk_data]     /Users/jeanettepoh/nltk_data...\n",
      "[nltk_data]   Package wordnet is already up-to-date!\n",
      "[nltk_data] Downloading package omw-1.4 to\n",
      "[nltk_data]     /Users/jeanettepoh/nltk_data...\n",
      "[nltk_data]   Package omw-1.4 is already up-to-date!\n"
     ]
    },
    {
     "data": {
      "text/plain": [
       "True"
      ]
     },
     "execution_count": 9,
     "metadata": {},
     "output_type": "execute_result"
    }
   ],
   "source": [
    "nltk.download('stopwords')\n",
    "nltk.download('punkt')\n",
    "nltk.download('wordnet')\n",
    "nltk.download('omw-1.4')"
   ]
  },
  {
   "cell_type": "code",
   "execution_count": 10,
   "metadata": {},
   "outputs": [
    {
     "name": "stdout",
     "output_type": "stream",
     "text": [
      "\n",
      "Files with no matching elements:\n",
      "scraped_data/sprs3topic_reportid=budget-1314.txt\n",
      "scraped_data/sprs3topic_reportid=president-address-27.txt\n",
      "scraped_data/sprs3topic_reportid=budget-1277.txt\n",
      "scraped_data/sprs3topic_reportid=budget-820.txt\n",
      "scraped_data/sprs3topic_reportid=budget-1099.txt\n",
      "scraped_data/sprs3topic_reportid=budget-1338.txt\n",
      "scraped_data/sprs3topic_reportid=budget-840.txt\n",
      "scraped_data/sprs3topic_reportid=budget-1160.txt\n",
      "scraped_data/sprs3topic_reportid=budget-688.txt\n",
      "scraped_data/sprs3topic_reportid=budget-1142.txt\n",
      "scraped_data/sprs3topic_reportid=budget-867.txt\n",
      "scraped_data/sprs3topic_reportid=budget-696.txt\n",
      "scraped_data/sprs3topic_reportid=budget-938.txt\n",
      "scraped_data/sprs3topic_reportid=motion-902.txt\n",
      "scraped_data/sprs3topic_reportid=budget-870.txt\n",
      "scraped_data/sprs3topic_reportid=budget-1081.txt\n",
      "scraped_data/sprs3topic_reportid=budget-1279.txt\n"
     ]
    }
   ],
   "source": [
    "file_pattern = 'scraped_data/*.txt'\n",
    "data = []\n",
    "files_with_no_elements = []\n",
    "\n",
    "for file in glob.glob(file_pattern):\n",
    "    try:\n",
    "        with open(file, 'r', encoding='utf-8') as f:\n",
    "            # Read the entire content of the file\n",
    "            content = f.read()\n",
    "\n",
    "            # Parse the HTML content\n",
    "            soup = BeautifulSoup(content, 'html.parser')\n",
    "\n",
    "            # Extract data from specified CSS selectors\n",
    "            # sitting_date = soup.select_one('#right1-1 > div > table > tr:nth-child(5) > td:nth-child(2) > span')\n",
    "            section_name = soup.select_one('#right1-1 > div > table > tr:nth-child(6) > td:nth-child(2) > span')\n",
    "            title = soup.select_one('#right1-1 > div > table > tr:nth-child(7) > td:nth-child(2) > span')\n",
    "            text = soup.select_one('#showTopic > div.hansardContent > div')\n",
    "            speakers = soup.select_one('#right1-1 > div > table > tr:nth-child(8) > td:nth-child(2) > span')\n",
    "\n",
    "            # Check if any element is missing\n",
    "            if not (section_name and title and text and speakers):\n",
    "                files_with_no_elements.append(file)\n",
    "                continue\n",
    "\n",
    "            # Initialize a dictionary to store data for this file\n",
    "            file_data = {\n",
    "                'Section Name': section_name.text.strip() if section_name else None,\n",
    "                'Title': title.text.strip() if title else None,\n",
    "                'Text': text.text.strip() if text else None,\n",
    "                'Speakers': speakers.text.strip() if speakers else None\n",
    "            }\n",
    "\n",
    "            # Append the dictionary to the list of data\n",
    "            data.append(file_data)\n",
    "\n",
    "    except Exception as e:\n",
    "        print(f\"Error processing file '{file}': {str(e)}\")\n",
    "\n",
    "# Create a DataFrame from the collected data\n",
    "df = pd.DataFrame(data)\n",
    "\n",
    "# Drop rows with any missing values\n",
    "df.dropna(inplace=True)\n",
    "\n",
    "# Print files with no matching elements\n",
    "if files_with_no_elements:\n",
    "    print(\"\\nFiles with no matching elements:\")\n",
    "    for file in files_with_no_elements:\n",
    "        print(file)\n",
    "else:\n",
    "    print(\"\\nAll files had matching elements.\")"
   ]
  },
  {
   "cell_type": "code",
   "execution_count": 11,
   "metadata": {},
   "outputs": [
    {
     "data": {
      "text/html": [
       "<div>\n",
       "<style scoped>\n",
       "    .dataframe tbody tr th:only-of-type {\n",
       "        vertical-align: middle;\n",
       "    }\n",
       "\n",
       "    .dataframe tbody tr th {\n",
       "        vertical-align: top;\n",
       "    }\n",
       "\n",
       "    .dataframe thead th {\n",
       "        text-align: right;\n",
       "    }\n",
       "</style>\n",
       "<table border=\"1\" class=\"dataframe\">\n",
       "  <thead>\n",
       "    <tr style=\"text-align: right;\">\n",
       "      <th></th>\n",
       "      <th>Section Name</th>\n",
       "      <th>Title</th>\n",
       "      <th>Text</th>\n",
       "      <th>Speakers</th>\n",
       "    </tr>\n",
       "  </thead>\n",
       "  <tbody>\n",
       "    <tr>\n",
       "      <th>0</th>\n",
       "      <td>Oral Answers to Questions</td>\n",
       "      <td>Fair Process for Termination Due to Poor Perfo...</td>\n",
       "      <td>1 Dr Tan Wu Meng asked\\tthe Minister for Manpo...</td>\n",
       "      <td>Er Dr Lee Bee Wah (Nee Soon),Mr Zainal Sapari ...</td>\n",
       "    </tr>\n",
       "    <tr>\n",
       "      <th>1</th>\n",
       "      <td>Written Answers to Questions for Oral Answer N...</td>\n",
       "      <td>Details and Framework of Workings of The Speci...</td>\n",
       "      <td>22 Assoc Prof Fatimah Lateef asked the Ministe...</td>\n",
       "      <td>[Prof Fatimah Lateef, Mr Desmond Lee]</td>\n",
       "    </tr>\n",
       "    <tr>\n",
       "      <th>2</th>\n",
       "      <td>Budget</td>\n",
       "      <td>Committee of Supply – Head R (Ministry of Law)</td>\n",
       "      <td>The Chairman: Head R, Ministry of Law. Mr Chri...</td>\n",
       "      <td>[The Senior Minister of State for Law (Mr Edwi...</td>\n",
       "    </tr>\n",
       "    <tr>\n",
       "      <th>3</th>\n",
       "      <td>Oral Answers to Questions</td>\n",
       "      <td>Female Representation in Statutory Boards</td>\n",
       "      <td>The following question stood in the name of Ms...</td>\n",
       "      <td>[The Senior Parliamentary Secretary to the Min...</td>\n",
       "    </tr>\n",
       "    <tr>\n",
       "      <th>4</th>\n",
       "      <td>Budget</td>\n",
       "      <td>Committee of Supply – Head W (Ministry of Tran...</td>\n",
       "      <td>Growing Pains in TransportMr Sitoh Yih Pin (Po...</td>\n",
       "      <td>[Mr Pritam Singh (Aljunied), Mr Melvin Yong Yi...</td>\n",
       "    </tr>\n",
       "    <tr>\n",
       "      <th>...</th>\n",
       "      <td>...</td>\n",
       "      <td>...</td>\n",
       "      <td>...</td>\n",
       "      <td>...</td>\n",
       "    </tr>\n",
       "    <tr>\n",
       "      <th>159</th>\n",
       "      <td>Oral Answers to Questions</td>\n",
       "      <td>Complaints on Lapses in Real-time Updates for ...</td>\n",
       "      <td>1 Er Dr Lee Bee Wah asked\\tthe Minister for Tr...</td>\n",
       "      <td>Er Dr Lee Bee Wah (Nee Soon),Er Dr Lee Bee Wah...</td>\n",
       "    </tr>\n",
       "    <tr>\n",
       "      <th>160</th>\n",
       "      <td>Second Reading Bills</td>\n",
       "      <td>Central Provident Fund (Amendment) Bill</td>\n",
       "      <td>Order for Second Reading read.4.51 pmThe Minis...</td>\n",
       "      <td>[Mrs Josephine Teo, Assoc Prof Daniel Goh Pei ...</td>\n",
       "    </tr>\n",
       "    <tr>\n",
       "      <th>161</th>\n",
       "      <td>Budget</td>\n",
       "      <td>Committee of Supply – Head I (Ministry of Soci...</td>\n",
       "      <td>The Chairman: Head I, Ministry of Social and F...</td>\n",
       "      <td>[The Chairman, Mr Sam Tan Chin Siong, Ms Denis...</td>\n",
       "    </tr>\n",
       "    <tr>\n",
       "      <th>162</th>\n",
       "      <td>Ministerial Statements</td>\n",
       "      <td>Government's Plans in our Continued Fight agai...</td>\n",
       "      <td>Debate resumed.Mr Deputy Speaker: Minister Isw...</td>\n",
       "      <td>[Mr Deputy Speaker, Mr Deputy Speaker, Miss Ch...</td>\n",
       "    </tr>\n",
       "    <tr>\n",
       "      <th>163</th>\n",
       "      <td>Budget</td>\n",
       "      <td>Committee of Supply – Head X (Ministry of Cult...</td>\n",
       "      <td>Rallying SingaporeansDr Lim Wee Kiak (Sembawan...</td>\n",
       "      <td>Er Dr Lee Bee Wah (Nee Soon),Dr Teo Ho Pin (Bu...</td>\n",
       "    </tr>\n",
       "  </tbody>\n",
       "</table>\n",
       "<p>164 rows × 4 columns</p>\n",
       "</div>"
      ],
      "text/plain": [
       "                                          Section Name  \\\n",
       "0                            Oral Answers to Questions   \n",
       "1    Written Answers to Questions for Oral Answer N...   \n",
       "2                                               Budget   \n",
       "3                            Oral Answers to Questions   \n",
       "4                                               Budget   \n",
       "..                                                 ...   \n",
       "159                          Oral Answers to Questions   \n",
       "160                               Second Reading Bills   \n",
       "161                                             Budget   \n",
       "162                             Ministerial Statements   \n",
       "163                                             Budget   \n",
       "\n",
       "                                                 Title  \\\n",
       "0    Fair Process for Termination Due to Poor Perfo...   \n",
       "1    Details and Framework of Workings of The Speci...   \n",
       "2       Committee of Supply – Head R (Ministry of Law)   \n",
       "3            Female Representation in Statutory Boards   \n",
       "4    Committee of Supply – Head W (Ministry of Tran...   \n",
       "..                                                 ...   \n",
       "159  Complaints on Lapses in Real-time Updates for ...   \n",
       "160            Central Provident Fund (Amendment) Bill   \n",
       "161  Committee of Supply – Head I (Ministry of Soci...   \n",
       "162  Government's Plans in our Continued Fight agai...   \n",
       "163  Committee of Supply – Head X (Ministry of Cult...   \n",
       "\n",
       "                                                  Text  \\\n",
       "0    1 Dr Tan Wu Meng asked\\tthe Minister for Manpo...   \n",
       "1    22 Assoc Prof Fatimah Lateef asked the Ministe...   \n",
       "2    The Chairman: Head R, Ministry of Law. Mr Chri...   \n",
       "3    The following question stood in the name of Ms...   \n",
       "4    Growing Pains in TransportMr Sitoh Yih Pin (Po...   \n",
       "..                                                 ...   \n",
       "159  1 Er Dr Lee Bee Wah asked\\tthe Minister for Tr...   \n",
       "160  Order for Second Reading read.4.51 pmThe Minis...   \n",
       "161  The Chairman: Head I, Ministry of Social and F...   \n",
       "162  Debate resumed.Mr Deputy Speaker: Minister Isw...   \n",
       "163  Rallying SingaporeansDr Lim Wee Kiak (Sembawan...   \n",
       "\n",
       "                                              Speakers  \n",
       "0    Er Dr Lee Bee Wah (Nee Soon),Mr Zainal Sapari ...  \n",
       "1                [Prof Fatimah Lateef, Mr Desmond Lee]  \n",
       "2    [The Senior Minister of State for Law (Mr Edwi...  \n",
       "3    [The Senior Parliamentary Secretary to the Min...  \n",
       "4    [Mr Pritam Singh (Aljunied), Mr Melvin Yong Yi...  \n",
       "..                                                 ...  \n",
       "159  Er Dr Lee Bee Wah (Nee Soon),Er Dr Lee Bee Wah...  \n",
       "160  [Mrs Josephine Teo, Assoc Prof Daniel Goh Pei ...  \n",
       "161  [The Chairman, Mr Sam Tan Chin Siong, Ms Denis...  \n",
       "162  [Mr Deputy Speaker, Mr Deputy Speaker, Miss Ch...  \n",
       "163  Er Dr Lee Bee Wah (Nee Soon),Dr Teo Ho Pin (Bu...  \n",
       "\n",
       "[164 rows x 4 columns]"
      ]
     },
     "execution_count": 11,
     "metadata": {},
     "output_type": "execute_result"
    }
   ],
   "source": [
    "df"
   ]
  },
  {
   "cell_type": "code",
   "execution_count": 12,
   "metadata": {},
   "outputs": [],
   "source": [
    "# Directory to save figures\n",
    "save_dir = \"figures\"\n",
    "os.makedirs(save_dir, exist_ok=True)"
   ]
  },
  {
   "cell_type": "code",
   "execution_count": 13,
   "metadata": {},
   "outputs": [
    {
     "data": {
      "application/vnd.plotly.v1+json": {
       "config": {
        "plotlyServerURL": "https://plot.ly"
       },
       "data": [
        {
         "alignmentgroup": "True",
         "hovertemplate": "Section Name=%{x}<br>Frequency=%{text}<extra></extra>",
         "legendgroup": "",
         "marker": {
          "color": "#636efa",
          "pattern": {
           "shape": ""
          }
         },
         "name": "",
         "offsetgroup": "",
         "orientation": "v",
         "showlegend": false,
         "text": [
          88,
          29,
          24,
          6,
          5,
          4,
          4,
          3,
          1
         ],
         "textposition": "outside",
         "texttemplate": "%{text}",
         "type": "bar",
         "x": [
          "Budget",
          "Oral Answers to Questions",
          "Second Reading Bills",
          "Ministerial Statements",
          "Written Answers to Questions for Oral Answer Not Answered by End of Question Time",
          "Speaker",
          "Motions",
          "Matter Raised On Adjournment Motion",
          "President's Address"
         ],
         "xaxis": "x",
         "y": [
          88,
          29,
          24,
          6,
          5,
          4,
          4,
          3,
          1
         ],
         "yaxis": "y"
        }
       ],
       "layout": {
        "barmode": "relative",
        "height": 600,
        "legend": {
         "tracegroupgap": 0
        },
        "margin": {
         "b": 100,
         "l": 50,
         "r": 50,
         "t": 100
        },
        "plot_bgcolor": "rgba(0,0,0,0)",
        "template": {
         "data": {
          "bar": [
           {
            "error_x": {
             "color": "#2a3f5f"
            },
            "error_y": {
             "color": "#2a3f5f"
            },
            "marker": {
             "line": {
              "color": "#E5ECF6",
              "width": 0.5
             },
             "pattern": {
              "fillmode": "overlay",
              "size": 10,
              "solidity": 0.2
             }
            },
            "type": "bar"
           }
          ],
          "barpolar": [
           {
            "marker": {
             "line": {
              "color": "#E5ECF6",
              "width": 0.5
             },
             "pattern": {
              "fillmode": "overlay",
              "size": 10,
              "solidity": 0.2
             }
            },
            "type": "barpolar"
           }
          ],
          "carpet": [
           {
            "aaxis": {
             "endlinecolor": "#2a3f5f",
             "gridcolor": "white",
             "linecolor": "white",
             "minorgridcolor": "white",
             "startlinecolor": "#2a3f5f"
            },
            "baxis": {
             "endlinecolor": "#2a3f5f",
             "gridcolor": "white",
             "linecolor": "white",
             "minorgridcolor": "white",
             "startlinecolor": "#2a3f5f"
            },
            "type": "carpet"
           }
          ],
          "choropleth": [
           {
            "colorbar": {
             "outlinewidth": 0,
             "ticks": ""
            },
            "type": "choropleth"
           }
          ],
          "contour": [
           {
            "colorbar": {
             "outlinewidth": 0,
             "ticks": ""
            },
            "colorscale": [
             [
              0,
              "#0d0887"
             ],
             [
              0.1111111111111111,
              "#46039f"
             ],
             [
              0.2222222222222222,
              "#7201a8"
             ],
             [
              0.3333333333333333,
              "#9c179e"
             ],
             [
              0.4444444444444444,
              "#bd3786"
             ],
             [
              0.5555555555555556,
              "#d8576b"
             ],
             [
              0.6666666666666666,
              "#ed7953"
             ],
             [
              0.7777777777777778,
              "#fb9f3a"
             ],
             [
              0.8888888888888888,
              "#fdca26"
             ],
             [
              1,
              "#f0f921"
             ]
            ],
            "type": "contour"
           }
          ],
          "contourcarpet": [
           {
            "colorbar": {
             "outlinewidth": 0,
             "ticks": ""
            },
            "type": "contourcarpet"
           }
          ],
          "heatmap": [
           {
            "colorbar": {
             "outlinewidth": 0,
             "ticks": ""
            },
            "colorscale": [
             [
              0,
              "#0d0887"
             ],
             [
              0.1111111111111111,
              "#46039f"
             ],
             [
              0.2222222222222222,
              "#7201a8"
             ],
             [
              0.3333333333333333,
              "#9c179e"
             ],
             [
              0.4444444444444444,
              "#bd3786"
             ],
             [
              0.5555555555555556,
              "#d8576b"
             ],
             [
              0.6666666666666666,
              "#ed7953"
             ],
             [
              0.7777777777777778,
              "#fb9f3a"
             ],
             [
              0.8888888888888888,
              "#fdca26"
             ],
             [
              1,
              "#f0f921"
             ]
            ],
            "type": "heatmap"
           }
          ],
          "heatmapgl": [
           {
            "colorbar": {
             "outlinewidth": 0,
             "ticks": ""
            },
            "colorscale": [
             [
              0,
              "#0d0887"
             ],
             [
              0.1111111111111111,
              "#46039f"
             ],
             [
              0.2222222222222222,
              "#7201a8"
             ],
             [
              0.3333333333333333,
              "#9c179e"
             ],
             [
              0.4444444444444444,
              "#bd3786"
             ],
             [
              0.5555555555555556,
              "#d8576b"
             ],
             [
              0.6666666666666666,
              "#ed7953"
             ],
             [
              0.7777777777777778,
              "#fb9f3a"
             ],
             [
              0.8888888888888888,
              "#fdca26"
             ],
             [
              1,
              "#f0f921"
             ]
            ],
            "type": "heatmapgl"
           }
          ],
          "histogram": [
           {
            "marker": {
             "pattern": {
              "fillmode": "overlay",
              "size": 10,
              "solidity": 0.2
             }
            },
            "type": "histogram"
           }
          ],
          "histogram2d": [
           {
            "colorbar": {
             "outlinewidth": 0,
             "ticks": ""
            },
            "colorscale": [
             [
              0,
              "#0d0887"
             ],
             [
              0.1111111111111111,
              "#46039f"
             ],
             [
              0.2222222222222222,
              "#7201a8"
             ],
             [
              0.3333333333333333,
              "#9c179e"
             ],
             [
              0.4444444444444444,
              "#bd3786"
             ],
             [
              0.5555555555555556,
              "#d8576b"
             ],
             [
              0.6666666666666666,
              "#ed7953"
             ],
             [
              0.7777777777777778,
              "#fb9f3a"
             ],
             [
              0.8888888888888888,
              "#fdca26"
             ],
             [
              1,
              "#f0f921"
             ]
            ],
            "type": "histogram2d"
           }
          ],
          "histogram2dcontour": [
           {
            "colorbar": {
             "outlinewidth": 0,
             "ticks": ""
            },
            "colorscale": [
             [
              0,
              "#0d0887"
             ],
             [
              0.1111111111111111,
              "#46039f"
             ],
             [
              0.2222222222222222,
              "#7201a8"
             ],
             [
              0.3333333333333333,
              "#9c179e"
             ],
             [
              0.4444444444444444,
              "#bd3786"
             ],
             [
              0.5555555555555556,
              "#d8576b"
             ],
             [
              0.6666666666666666,
              "#ed7953"
             ],
             [
              0.7777777777777778,
              "#fb9f3a"
             ],
             [
              0.8888888888888888,
              "#fdca26"
             ],
             [
              1,
              "#f0f921"
             ]
            ],
            "type": "histogram2dcontour"
           }
          ],
          "mesh3d": [
           {
            "colorbar": {
             "outlinewidth": 0,
             "ticks": ""
            },
            "type": "mesh3d"
           }
          ],
          "parcoords": [
           {
            "line": {
             "colorbar": {
              "outlinewidth": 0,
              "ticks": ""
             }
            },
            "type": "parcoords"
           }
          ],
          "pie": [
           {
            "automargin": true,
            "type": "pie"
           }
          ],
          "scatter": [
           {
            "fillpattern": {
             "fillmode": "overlay",
             "size": 10,
             "solidity": 0.2
            },
            "type": "scatter"
           }
          ],
          "scatter3d": [
           {
            "line": {
             "colorbar": {
              "outlinewidth": 0,
              "ticks": ""
             }
            },
            "marker": {
             "colorbar": {
              "outlinewidth": 0,
              "ticks": ""
             }
            },
            "type": "scatter3d"
           }
          ],
          "scattercarpet": [
           {
            "marker": {
             "colorbar": {
              "outlinewidth": 0,
              "ticks": ""
             }
            },
            "type": "scattercarpet"
           }
          ],
          "scattergeo": [
           {
            "marker": {
             "colorbar": {
              "outlinewidth": 0,
              "ticks": ""
             }
            },
            "type": "scattergeo"
           }
          ],
          "scattergl": [
           {
            "marker": {
             "colorbar": {
              "outlinewidth": 0,
              "ticks": ""
             }
            },
            "type": "scattergl"
           }
          ],
          "scattermapbox": [
           {
            "marker": {
             "colorbar": {
              "outlinewidth": 0,
              "ticks": ""
             }
            },
            "type": "scattermapbox"
           }
          ],
          "scatterpolar": [
           {
            "marker": {
             "colorbar": {
              "outlinewidth": 0,
              "ticks": ""
             }
            },
            "type": "scatterpolar"
           }
          ],
          "scatterpolargl": [
           {
            "marker": {
             "colorbar": {
              "outlinewidth": 0,
              "ticks": ""
             }
            },
            "type": "scatterpolargl"
           }
          ],
          "scatterternary": [
           {
            "marker": {
             "colorbar": {
              "outlinewidth": 0,
              "ticks": ""
             }
            },
            "type": "scatterternary"
           }
          ],
          "surface": [
           {
            "colorbar": {
             "outlinewidth": 0,
             "ticks": ""
            },
            "colorscale": [
             [
              0,
              "#0d0887"
             ],
             [
              0.1111111111111111,
              "#46039f"
             ],
             [
              0.2222222222222222,
              "#7201a8"
             ],
             [
              0.3333333333333333,
              "#9c179e"
             ],
             [
              0.4444444444444444,
              "#bd3786"
             ],
             [
              0.5555555555555556,
              "#d8576b"
             ],
             [
              0.6666666666666666,
              "#ed7953"
             ],
             [
              0.7777777777777778,
              "#fb9f3a"
             ],
             [
              0.8888888888888888,
              "#fdca26"
             ],
             [
              1,
              "#f0f921"
             ]
            ],
            "type": "surface"
           }
          ],
          "table": [
           {
            "cells": {
             "fill": {
              "color": "#EBF0F8"
             },
             "line": {
              "color": "white"
             }
            },
            "header": {
             "fill": {
              "color": "#C8D4E3"
             },
             "line": {
              "color": "white"
             }
            },
            "type": "table"
           }
          ]
         },
         "layout": {
          "annotationdefaults": {
           "arrowcolor": "#2a3f5f",
           "arrowhead": 0,
           "arrowwidth": 1
          },
          "autotypenumbers": "strict",
          "coloraxis": {
           "colorbar": {
            "outlinewidth": 0,
            "ticks": ""
           }
          },
          "colorscale": {
           "diverging": [
            [
             0,
             "#8e0152"
            ],
            [
             0.1,
             "#c51b7d"
            ],
            [
             0.2,
             "#de77ae"
            ],
            [
             0.3,
             "#f1b6da"
            ],
            [
             0.4,
             "#fde0ef"
            ],
            [
             0.5,
             "#f7f7f7"
            ],
            [
             0.6,
             "#e6f5d0"
            ],
            [
             0.7,
             "#b8e186"
            ],
            [
             0.8,
             "#7fbc41"
            ],
            [
             0.9,
             "#4d9221"
            ],
            [
             1,
             "#276419"
            ]
           ],
           "sequential": [
            [
             0,
             "#0d0887"
            ],
            [
             0.1111111111111111,
             "#46039f"
            ],
            [
             0.2222222222222222,
             "#7201a8"
            ],
            [
             0.3333333333333333,
             "#9c179e"
            ],
            [
             0.4444444444444444,
             "#bd3786"
            ],
            [
             0.5555555555555556,
             "#d8576b"
            ],
            [
             0.6666666666666666,
             "#ed7953"
            ],
            [
             0.7777777777777778,
             "#fb9f3a"
            ],
            [
             0.8888888888888888,
             "#fdca26"
            ],
            [
             1,
             "#f0f921"
            ]
           ],
           "sequentialminus": [
            [
             0,
             "#0d0887"
            ],
            [
             0.1111111111111111,
             "#46039f"
            ],
            [
             0.2222222222222222,
             "#7201a8"
            ],
            [
             0.3333333333333333,
             "#9c179e"
            ],
            [
             0.4444444444444444,
             "#bd3786"
            ],
            [
             0.5555555555555556,
             "#d8576b"
            ],
            [
             0.6666666666666666,
             "#ed7953"
            ],
            [
             0.7777777777777778,
             "#fb9f3a"
            ],
            [
             0.8888888888888888,
             "#fdca26"
            ],
            [
             1,
             "#f0f921"
            ]
           ]
          },
          "colorway": [
           "#636efa",
           "#EF553B",
           "#00cc96",
           "#ab63fa",
           "#FFA15A",
           "#19d3f3",
           "#FF6692",
           "#B6E880",
           "#FF97FF",
           "#FECB52"
          ],
          "font": {
           "color": "#2a3f5f"
          },
          "geo": {
           "bgcolor": "white",
           "lakecolor": "white",
           "landcolor": "#E5ECF6",
           "showlakes": true,
           "showland": true,
           "subunitcolor": "white"
          },
          "hoverlabel": {
           "align": "left"
          },
          "hovermode": "closest",
          "mapbox": {
           "style": "light"
          },
          "paper_bgcolor": "white",
          "plot_bgcolor": "#E5ECF6",
          "polar": {
           "angularaxis": {
            "gridcolor": "white",
            "linecolor": "white",
            "ticks": ""
           },
           "bgcolor": "#E5ECF6",
           "radialaxis": {
            "gridcolor": "white",
            "linecolor": "white",
            "ticks": ""
           }
          },
          "scene": {
           "xaxis": {
            "backgroundcolor": "#E5ECF6",
            "gridcolor": "white",
            "gridwidth": 2,
            "linecolor": "white",
            "showbackground": true,
            "ticks": "",
            "zerolinecolor": "white"
           },
           "yaxis": {
            "backgroundcolor": "#E5ECF6",
            "gridcolor": "white",
            "gridwidth": 2,
            "linecolor": "white",
            "showbackground": true,
            "ticks": "",
            "zerolinecolor": "white"
           },
           "zaxis": {
            "backgroundcolor": "#E5ECF6",
            "gridcolor": "white",
            "gridwidth": 2,
            "linecolor": "white",
            "showbackground": true,
            "ticks": "",
            "zerolinecolor": "white"
           }
          },
          "shapedefaults": {
           "line": {
            "color": "#2a3f5f"
           }
          },
          "ternary": {
           "aaxis": {
            "gridcolor": "white",
            "linecolor": "white",
            "ticks": ""
           },
           "baxis": {
            "gridcolor": "white",
            "linecolor": "white",
            "ticks": ""
           },
           "bgcolor": "#E5ECF6",
           "caxis": {
            "gridcolor": "white",
            "linecolor": "white",
            "ticks": ""
           }
          },
          "title": {
           "x": 0.05
          },
          "xaxis": {
           "automargin": true,
           "gridcolor": "white",
           "linecolor": "white",
           "ticks": "",
           "title": {
            "standoff": 15
           },
           "zerolinecolor": "white",
           "zerolinewidth": 2
          },
          "yaxis": {
           "automargin": true,
           "gridcolor": "white",
           "linecolor": "white",
           "ticks": "",
           "title": {
            "standoff": 15
           },
           "zerolinecolor": "white",
           "zerolinewidth": 2
          }
         }
        },
        "title": {
         "text": "Distribution of Section Name"
        },
        "uniformtext": {
         "minsize": 8,
         "mode": "hide"
        },
        "width": 1000,
        "xaxis": {
         "anchor": "y",
         "domain": [
          0,
          1
         ],
         "tickangle": -45,
         "tickfont": {
          "size": 12
         },
         "title": {
          "text": "Section Name"
         }
        },
        "yaxis": {
         "anchor": "x",
         "domain": [
          0,
          1
         ],
         "range": [
          0,
          120
         ],
         "tickfont": {
          "size": 12
         },
         "title": {
          "text": "Frequency"
         }
        }
       }
      }
     },
     "metadata": {},
     "output_type": "display_data"
    }
   ],
   "source": [
    "# Group by Section Name and count occurrences\n",
    "section_name_counts = df['Section Name'].value_counts().reset_index()\n",
    "section_name_counts.columns = ['Section Name', 'Count']\n",
    "\n",
    "# Plotting the distribution with Plotly\n",
    "fig = px.bar(section_name_counts, x='Section Name', y='Count', text='Count', \n",
    "             title='Distribution of Section Name', labels={'Count': 'Frequency'})\n",
    "fig.update_traces(texttemplate='%{text}', textposition='outside')  # Display count above each bar\n",
    "fig.update_layout(xaxis_title='Section Name', yaxis_title='Frequency', xaxis_tickangle=-45,\n",
    "                  uniformtext_minsize=8, uniformtext_mode='hide',  # Adjust text size and visibility\n",
    "                  height=600, width=1000,  # Adjust plot size\n",
    "                  margin=dict(l=50, r=50, b=100, t=100),  # Adjust margins for better layout\n",
    "                  plot_bgcolor='rgba(0,0,0,0)')  # Set plot background color to transparent\n",
    "\n",
    "fig.update_xaxes(tickfont=dict(size=12))  # Adjust x-axis tick font size\n",
    "fig.update_yaxes(tickfont=dict(size=12), range=[0, 120])  # Adjust y-axis tick font size and range\n",
    "\n",
    "# Save the plot as an HTML file\n",
    "fig.write_html(os.path.join(save_dir, \"distribution_of_section_name.html\"))\n",
    "\n",
    "fig.show()"
   ]
  },
  {
   "cell_type": "code",
   "execution_count": 14,
   "metadata": {},
   "outputs": [
    {
     "data": {
      "application/vnd.plotly.v1+json": {
       "config": {
        "plotlyServerURL": "https://plot.ly"
       },
       "data": [
        {
         "hovertemplate": "x: %{x}<br>y: %{y}<br>color: [%{z[0]}, %{z[1]}, %{z[2]}]<extra></extra>",
         "name": "0",
         "source": "data:image/png;base64,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",
         "type": "image",
         "xaxis": "x",
         "yaxis": "y"
        }
       ],
       "layout": {
        "coloraxis": {
         "showscale": false
        },
        "template": {
         "data": {
          "bar": [
           {
            "error_x": {
             "color": "#2a3f5f"
            },
            "error_y": {
             "color": "#2a3f5f"
            },
            "marker": {
             "line": {
              "color": "#E5ECF6",
              "width": 0.5
             },
             "pattern": {
              "fillmode": "overlay",
              "size": 10,
              "solidity": 0.2
             }
            },
            "type": "bar"
           }
          ],
          "barpolar": [
           {
            "marker": {
             "line": {
              "color": "#E5ECF6",
              "width": 0.5
             },
             "pattern": {
              "fillmode": "overlay",
              "size": 10,
              "solidity": 0.2
             }
            },
            "type": "barpolar"
           }
          ],
          "carpet": [
           {
            "aaxis": {
             "endlinecolor": "#2a3f5f",
             "gridcolor": "white",
             "linecolor": "white",
             "minorgridcolor": "white",
             "startlinecolor": "#2a3f5f"
            },
            "baxis": {
             "endlinecolor": "#2a3f5f",
             "gridcolor": "white",
             "linecolor": "white",
             "minorgridcolor": "white",
             "startlinecolor": "#2a3f5f"
            },
            "type": "carpet"
           }
          ],
          "choropleth": [
           {
            "colorbar": {
             "outlinewidth": 0,
             "ticks": ""
            },
            "type": "choropleth"
           }
          ],
          "contour": [
           {
            "colorbar": {
             "outlinewidth": 0,
             "ticks": ""
            },
            "colorscale": [
             [
              0,
              "#0d0887"
             ],
             [
              0.1111111111111111,
              "#46039f"
             ],
             [
              0.2222222222222222,
              "#7201a8"
             ],
             [
              0.3333333333333333,
              "#9c179e"
             ],
             [
              0.4444444444444444,
              "#bd3786"
             ],
             [
              0.5555555555555556,
              "#d8576b"
             ],
             [
              0.6666666666666666,
              "#ed7953"
             ],
             [
              0.7777777777777778,
              "#fb9f3a"
             ],
             [
              0.8888888888888888,
              "#fdca26"
             ],
             [
              1,
              "#f0f921"
             ]
            ],
            "type": "contour"
           }
          ],
          "contourcarpet": [
           {
            "colorbar": {
             "outlinewidth": 0,
             "ticks": ""
            },
            "type": "contourcarpet"
           }
          ],
          "heatmap": [
           {
            "colorbar": {
             "outlinewidth": 0,
             "ticks": ""
            },
            "colorscale": [
             [
              0,
              "#0d0887"
             ],
             [
              0.1111111111111111,
              "#46039f"
             ],
             [
              0.2222222222222222,
              "#7201a8"
             ],
             [
              0.3333333333333333,
              "#9c179e"
             ],
             [
              0.4444444444444444,
              "#bd3786"
             ],
             [
              0.5555555555555556,
              "#d8576b"
             ],
             [
              0.6666666666666666,
              "#ed7953"
             ],
             [
              0.7777777777777778,
              "#fb9f3a"
             ],
             [
              0.8888888888888888,
              "#fdca26"
             ],
             [
              1,
              "#f0f921"
             ]
            ],
            "type": "heatmap"
           }
          ],
          "heatmapgl": [
           {
            "colorbar": {
             "outlinewidth": 0,
             "ticks": ""
            },
            "colorscale": [
             [
              0,
              "#0d0887"
             ],
             [
              0.1111111111111111,
              "#46039f"
             ],
             [
              0.2222222222222222,
              "#7201a8"
             ],
             [
              0.3333333333333333,
              "#9c179e"
             ],
             [
              0.4444444444444444,
              "#bd3786"
             ],
             [
              0.5555555555555556,
              "#d8576b"
             ],
             [
              0.6666666666666666,
              "#ed7953"
             ],
             [
              0.7777777777777778,
              "#fb9f3a"
             ],
             [
              0.8888888888888888,
              "#fdca26"
             ],
             [
              1,
              "#f0f921"
             ]
            ],
            "type": "heatmapgl"
           }
          ],
          "histogram": [
           {
            "marker": {
             "pattern": {
              "fillmode": "overlay",
              "size": 10,
              "solidity": 0.2
             }
            },
            "type": "histogram"
           }
          ],
          "histogram2d": [
           {
            "colorbar": {
             "outlinewidth": 0,
             "ticks": ""
            },
            "colorscale": [
             [
              0,
              "#0d0887"
             ],
             [
              0.1111111111111111,
              "#46039f"
             ],
             [
              0.2222222222222222,
              "#7201a8"
             ],
             [
              0.3333333333333333,
              "#9c179e"
             ],
             [
              0.4444444444444444,
              "#bd3786"
             ],
             [
              0.5555555555555556,
              "#d8576b"
             ],
             [
              0.6666666666666666,
              "#ed7953"
             ],
             [
              0.7777777777777778,
              "#fb9f3a"
             ],
             [
              0.8888888888888888,
              "#fdca26"
             ],
             [
              1,
              "#f0f921"
             ]
            ],
            "type": "histogram2d"
           }
          ],
          "histogram2dcontour": [
           {
            "colorbar": {
             "outlinewidth": 0,
             "ticks": ""
            },
            "colorscale": [
             [
              0,
              "#0d0887"
             ],
             [
              0.1111111111111111,
              "#46039f"
             ],
             [
              0.2222222222222222,
              "#7201a8"
             ],
             [
              0.3333333333333333,
              "#9c179e"
             ],
             [
              0.4444444444444444,
              "#bd3786"
             ],
             [
              0.5555555555555556,
              "#d8576b"
             ],
             [
              0.6666666666666666,
              "#ed7953"
             ],
             [
              0.7777777777777778,
              "#fb9f3a"
             ],
             [
              0.8888888888888888,
              "#fdca26"
             ],
             [
              1,
              "#f0f921"
             ]
            ],
            "type": "histogram2dcontour"
           }
          ],
          "mesh3d": [
           {
            "colorbar": {
             "outlinewidth": 0,
             "ticks": ""
            },
            "type": "mesh3d"
           }
          ],
          "parcoords": [
           {
            "line": {
             "colorbar": {
              "outlinewidth": 0,
              "ticks": ""
             }
            },
            "type": "parcoords"
           }
          ],
          "pie": [
           {
            "automargin": true,
            "type": "pie"
           }
          ],
          "scatter": [
           {
            "fillpattern": {
             "fillmode": "overlay",
             "size": 10,
             "solidity": 0.2
            },
            "type": "scatter"
           }
          ],
          "scatter3d": [
           {
            "line": {
             "colorbar": {
              "outlinewidth": 0,
              "ticks": ""
             }
            },
            "marker": {
             "colorbar": {
              "outlinewidth": 0,
              "ticks": ""
             }
            },
            "type": "scatter3d"
           }
          ],
          "scattercarpet": [
           {
            "marker": {
             "colorbar": {
              "outlinewidth": 0,
              "ticks": ""
             }
            },
            "type": "scattercarpet"
           }
          ],
          "scattergeo": [
           {
            "marker": {
             "colorbar": {
              "outlinewidth": 0,
              "ticks": ""
             }
            },
            "type": "scattergeo"
           }
          ],
          "scattergl": [
           {
            "marker": {
             "colorbar": {
              "outlinewidth": 0,
              "ticks": ""
             }
            },
            "type": "scattergl"
           }
          ],
          "scattermapbox": [
           {
            "marker": {
             "colorbar": {
              "outlinewidth": 0,
              "ticks": ""
             }
            },
            "type": "scattermapbox"
           }
          ],
          "scatterpolar": [
           {
            "marker": {
             "colorbar": {
              "outlinewidth": 0,
              "ticks": ""
             }
            },
            "type": "scatterpolar"
           }
          ],
          "scatterpolargl": [
           {
            "marker": {
             "colorbar": {
              "outlinewidth": 0,
              "ticks": ""
             }
            },
            "type": "scatterpolargl"
           }
          ],
          "scatterternary": [
           {
            "marker": {
             "colorbar": {
              "outlinewidth": 0,
              "ticks": ""
             }
            },
            "type": "scatterternary"
           }
          ],
          "surface": [
           {
            "colorbar": {
             "outlinewidth": 0,
             "ticks": ""
            },
            "colorscale": [
             [
              0,
              "#0d0887"
             ],
             [
              0.1111111111111111,
              "#46039f"
             ],
             [
              0.2222222222222222,
              "#7201a8"
             ],
             [
              0.3333333333333333,
              "#9c179e"
             ],
             [
              0.4444444444444444,
              "#bd3786"
             ],
             [
              0.5555555555555556,
              "#d8576b"
             ],
             [
              0.6666666666666666,
              "#ed7953"
             ],
             [
              0.7777777777777778,
              "#fb9f3a"
             ],
             [
              0.8888888888888888,
              "#fdca26"
             ],
             [
              1,
              "#f0f921"
             ]
            ],
            "type": "surface"
           }
          ],
          "table": [
           {
            "cells": {
             "fill": {
              "color": "#EBF0F8"
             },
             "line": {
              "color": "white"
             }
            },
            "header": {
             "fill": {
              "color": "#C8D4E3"
             },
             "line": {
              "color": "white"
             }
            },
            "type": "table"
           }
          ]
         },
         "layout": {
          "annotationdefaults": {
           "arrowcolor": "#2a3f5f",
           "arrowhead": 0,
           "arrowwidth": 1
          },
          "autotypenumbers": "strict",
          "coloraxis": {
           "colorbar": {
            "outlinewidth": 0,
            "ticks": ""
           }
          },
          "colorscale": {
           "diverging": [
            [
             0,
             "#8e0152"
            ],
            [
             0.1,
             "#c51b7d"
            ],
            [
             0.2,
             "#de77ae"
            ],
            [
             0.3,
             "#f1b6da"
            ],
            [
             0.4,
             "#fde0ef"
            ],
            [
             0.5,
             "#f7f7f7"
            ],
            [
             0.6,
             "#e6f5d0"
            ],
            [
             0.7,
             "#b8e186"
            ],
            [
             0.8,
             "#7fbc41"
            ],
            [
             0.9,
             "#4d9221"
            ],
            [
             1,
             "#276419"
            ]
           ],
           "sequential": [
            [
             0,
             "#0d0887"
            ],
            [
             0.1111111111111111,
             "#46039f"
            ],
            [
             0.2222222222222222,
             "#7201a8"
            ],
            [
             0.3333333333333333,
             "#9c179e"
            ],
            [
             0.4444444444444444,
             "#bd3786"
            ],
            [
             0.5555555555555556,
             "#d8576b"
            ],
            [
             0.6666666666666666,
             "#ed7953"
            ],
            [
             0.7777777777777778,
             "#fb9f3a"
            ],
            [
             0.8888888888888888,
             "#fdca26"
            ],
            [
             1,
             "#f0f921"
            ]
           ],
           "sequentialminus": [
            [
             0,
             "#0d0887"
            ],
            [
             0.1111111111111111,
             "#46039f"
            ],
            [
             0.2222222222222222,
             "#7201a8"
            ],
            [
             0.3333333333333333,
             "#9c179e"
            ],
            [
             0.4444444444444444,
             "#bd3786"
            ],
            [
             0.5555555555555556,
             "#d8576b"
            ],
            [
             0.6666666666666666,
             "#ed7953"
            ],
            [
             0.7777777777777778,
             "#fb9f3a"
            ],
            [
             0.8888888888888888,
             "#fdca26"
            ],
            [
             1,
             "#f0f921"
            ]
           ]
          },
          "colorway": [
           "#636efa",
           "#EF553B",
           "#00cc96",
           "#ab63fa",
           "#FFA15A",
           "#19d3f3",
           "#FF6692",
           "#B6E880",
           "#FF97FF",
           "#FECB52"
          ],
          "font": {
           "color": "#2a3f5f"
          },
          "geo": {
           "bgcolor": "white",
           "lakecolor": "white",
           "landcolor": "#E5ECF6",
           "showlakes": true,
           "showland": true,
           "subunitcolor": "white"
          },
          "hoverlabel": {
           "align": "left"
          },
          "hovermode": "closest",
          "mapbox": {
           "style": "light"
          },
          "paper_bgcolor": "white",
          "plot_bgcolor": "#E5ECF6",
          "polar": {
           "angularaxis": {
            "gridcolor": "white",
            "linecolor": "white",
            "ticks": ""
           },
           "bgcolor": "#E5ECF6",
           "radialaxis": {
            "gridcolor": "white",
            "linecolor": "white",
            "ticks": ""
           }
          },
          "scene": {
           "xaxis": {
            "backgroundcolor": "#E5ECF6",
            "gridcolor": "white",
            "gridwidth": 2,
            "linecolor": "white",
            "showbackground": true,
            "ticks": "",
            "zerolinecolor": "white"
           },
           "yaxis": {
            "backgroundcolor": "#E5ECF6",
            "gridcolor": "white",
            "gridwidth": 2,
            "linecolor": "white",
            "showbackground": true,
            "ticks": "",
            "zerolinecolor": "white"
           },
           "zaxis": {
            "backgroundcolor": "#E5ECF6",
            "gridcolor": "white",
            "gridwidth": 2,
            "linecolor": "white",
            "showbackground": true,
            "ticks": "",
            "zerolinecolor": "white"
           }
          },
          "shapedefaults": {
           "line": {
            "color": "#2a3f5f"
           }
          },
          "ternary": {
           "aaxis": {
            "gridcolor": "white",
            "linecolor": "white",
            "ticks": ""
           },
           "baxis": {
            "gridcolor": "white",
            "linecolor": "white",
            "ticks": ""
           },
           "bgcolor": "#E5ECF6",
           "caxis": {
            "gridcolor": "white",
            "linecolor": "white",
            "ticks": ""
           }
          },
          "title": {
           "x": 0.05
          },
          "xaxis": {
           "automargin": true,
           "gridcolor": "white",
           "linecolor": "white",
           "ticks": "",
           "title": {
            "standoff": 15
           },
           "zerolinecolor": "white",
           "zerolinewidth": 2
          },
          "yaxis": {
           "automargin": true,
           "gridcolor": "white",
           "linecolor": "white",
           "ticks": "",
           "title": {
            "standoff": 15
           },
           "zerolinecolor": "white",
           "zerolinewidth": 2
          }
         }
        },
        "title": {
         "text": "Word Cloud for Titles"
        },
        "xaxis": {
         "anchor": "y",
         "domain": [
          0,
          1
         ]
        },
        "yaxis": {
         "anchor": "x",
         "domain": [
          0,
          1
         ]
        }
       }
      }
     },
     "metadata": {},
     "output_type": "display_data"
    }
   ],
   "source": [
    "# Assuming df['Title'] contains the titles\n",
    "titles_text = ' '.join(df['Title'].dropna().astype(str))\n",
    "\n",
    "# Set NLTK English stopwords\n",
    "stop_words = set(stopwords.words('english'))\n",
    "\n",
    "# Add custom stopwords\n",
    "custom_stopwords = {'head', 'committee', 'ministry', 'debate', 'supply', 'annual', 'statement', 'singapore', 'measures', 'chair', 'prime', 'minister'}\n",
    "stop_words.update(custom_stopwords)\n",
    "\n",
    "# Generate the word cloud excluding stopwords\n",
    "wordcloud = WordCloud(width=800, height=400, background_color='white', stopwords=stop_words).generate(titles_text)\n",
    "\n",
    "# Plotting the word cloud using Plotly\n",
    "fig = px.imshow(wordcloud, title='Word Cloud for Titles')\n",
    "fig.update_layout(coloraxis_showscale=False)  # Hide the color axis for cleaner display\n",
    "\n",
    "# Save the plot as an HTML file\n",
    "fig.write_html(os.path.join(save_dir, \"distribution_of_section_nameword_cloud_for_titles.html\"))\n",
    "\n",
    "fig.show()"
   ]
  },
  {
   "cell_type": "code",
   "execution_count": 15,
   "metadata": {},
   "outputs": [
    {
     "name": "stdout",
     "output_type": "stream",
     "text": [
      "Topic #0:\n",
      "school student education need child learning support programme moe skill\n",
      "Topic #1:\n",
      "business company industry sector new digital help technology need smes\n",
      "Topic #2:\n",
      "drug lift police team people family offender building home work\n",
      "Topic #3:\n",
      "public defence service time saf people family need country threat\n",
      "Topic #4:\n",
      "energy smoking smoker product tobacco water carbon cigarettes cigarette emission\n",
      "Topic #5:\n",
      "covid 19 support need community people help time art budget\n",
      "Topic #6:\n",
      "transport public new bus waste food like vehicle lta need\n",
      "Topic #7:\n",
      "worker job need budget support work company time help employer\n",
      "Topic #8:\n",
      "care need community service health flat family healthcare support senior\n",
      "Topic #9:\n",
      "council town speaker claim cpf law act case amendment time\n",
      "\n"
     ]
    }
   ],
   "source": [
    "# Add custom stopwords\n",
    "custom_stopwords = list(custom_stopwords) + [\"parliament\", \"session\", \"government\", \"mr\", \"year\", \"singaporeans\", \"member\"]\n",
    "\n",
    "# Combine custom stopwords with the default English stopwords\n",
    "combined_stopwords = list(sklearn.feature_extraction.text.ENGLISH_STOP_WORDS.union(custom_stopwords))\n",
    "\n",
    "# Initialize the lemmatizer\n",
    "lemmatizer = WordNetLemmatizer()\n",
    "\n",
    "# Function to lemmatize the text\n",
    "def lemmatize_text(text):\n",
    "    tokens = word_tokenize(text)\n",
    "    lemmatized_tokens = [lemmatizer.lemmatize(token.lower()) for token in tokens if token.lower() not in combined_stopwords]\n",
    "    return ' '.join(lemmatized_tokens)\n",
    "\n",
    "# Apply lemmatization to each text in the dataframe\n",
    "df['Lemmatized Text'] = df['Text'].apply(lemmatize_text)\n",
    "\n",
    "# Extract all texts for topic modeling\n",
    "texts = df['Lemmatized Text']\n",
    "\n",
    "# Convert texts to a matrix of token counts\n",
    "vectorizer = CountVectorizer(stop_words=combined_stopwords)\n",
    "X = vectorizer.fit_transform(texts)\n",
    "\n",
    "# Fit LDA model\n",
    "lda = LatentDirichletAllocation(n_components=10, random_state=25)  \n",
    "lda.fit(X)\n",
    "\n",
    "# Display the most important words for each topic identified by the LDA model\n",
    "def print_top_words(model, feature_names, n_top_words):\n",
    "    for topic_idx, topic in enumerate(model.components_):\n",
    "        print(f\"Topic #{topic_idx}:\")\n",
    "        # Extract and print the top words for a given topic in an LDA model\n",
    "        print(\" \".join([feature_names[i] for i in topic.argsort()[:-n_top_words - 1:-1]]))\n",
    "    print()\n",
    "\n",
    "n_top_words = 10\n",
    "print_top_words(lda, vectorizer.get_feature_names_out(), n_top_words)\n",
    "\n",
    "# Assign topics to the debates\n",
    "df['Topic'] = lda.transform(X).argmax(axis=1)"
   ]
  },
  {
   "cell_type": "code",
   "execution_count": 16,
   "metadata": {},
   "outputs": [],
   "source": [
    "topics = {\n",
    "    0: \"Education and Support Programmes\",\n",
    "    1: \"Digital Transformation in Industry\",\n",
    "    2: \"Law Enforcement and Rehabilitation\",\n",
    "    3: \"National Defence and Security\",\n",
    "    4: \"Smoking and Environmental Impact\",\n",
    "    5: \"Community Support during COVID-19\",\n",
    "    6: \"Punlic Transport and Waste Management\",\n",
    "    7: \"Workforce Support and Employment\",\n",
    "    8: \"Community Care and Services\",\n",
    "    9: \"Legislative Matters and Amendments\"\n",
    "}\n",
    "\n",
    "df[\"Topic\"] = df[\"Topic\"].map(topics)"
   ]
  },
  {
   "cell_type": "code",
   "execution_count": 17,
   "metadata": {},
   "outputs": [
    {
     "data": {
      "text/html": [
       "<div>\n",
       "<style scoped>\n",
       "    .dataframe tbody tr th:only-of-type {\n",
       "        vertical-align: middle;\n",
       "    }\n",
       "\n",
       "    .dataframe tbody tr th {\n",
       "        vertical-align: top;\n",
       "    }\n",
       "\n",
       "    .dataframe thead th {\n",
       "        text-align: right;\n",
       "    }\n",
       "</style>\n",
       "<table border=\"1\" class=\"dataframe\">\n",
       "  <thead>\n",
       "    <tr style=\"text-align: right;\">\n",
       "      <th></th>\n",
       "      <th>Section Name</th>\n",
       "      <th>Title</th>\n",
       "      <th>Text</th>\n",
       "      <th>Speakers</th>\n",
       "      <th>Lemmatized Text</th>\n",
       "      <th>Topic</th>\n",
       "    </tr>\n",
       "  </thead>\n",
       "  <tbody>\n",
       "    <tr>\n",
       "      <th>0</th>\n",
       "      <td>Oral Answers to Questions</td>\n",
       "      <td>Fair Process for Termination Due to Poor Perfo...</td>\n",
       "      <td>1 Dr Tan Wu Meng asked\\tthe Minister for Manpo...</td>\n",
       "      <td>Er Dr Lee Bee Wah (Nee Soon),Mr Zainal Sapari ...</td>\n",
       "      <td>1 dr tan wu meng asked manpower provide update...</td>\n",
       "      <td>Workforce Support and Employment</td>\n",
       "    </tr>\n",
       "    <tr>\n",
       "      <th>1</th>\n",
       "      <td>Written Answers to Questions for Oral Answer N...</td>\n",
       "      <td>Details and Framework of Workings of The Speci...</td>\n",
       "      <td>22 Assoc Prof Fatimah Lateef asked the Ministe...</td>\n",
       "      <td>[Prof Fatimah Lateef, Mr Desmond Lee]</td>\n",
       "      <td>22 assoc prof fatimah lateef asked social fami...</td>\n",
       "      <td>Community Care and Services</td>\n",
       "    </tr>\n",
       "    <tr>\n",
       "      <th>2</th>\n",
       "      <td>Budget</td>\n",
       "      <td>Committee of Supply – Head R (Ministry of Law)</td>\n",
       "      <td>The Chairman: Head R, Ministry of Law. Mr Chri...</td>\n",
       "      <td>[The Senior Minister of State for Law (Mr Edwi...</td>\n",
       "      <td>chairman : r , law . christopher souza , cut ....</td>\n",
       "      <td>Legislative Matters and Amendments</td>\n",
       "    </tr>\n",
       "    <tr>\n",
       "      <th>3</th>\n",
       "      <td>Oral Answers to Questions</td>\n",
       "      <td>Female Representation in Statutory Boards</td>\n",
       "      <td>The following question stood in the name of Ms...</td>\n",
       "      <td>[The Senior Parliamentary Secretary to the Min...</td>\n",
       "      <td>following question stood m anthea ong –1 ask s...</td>\n",
       "      <td>Community Care and Services</td>\n",
       "    </tr>\n",
       "    <tr>\n",
       "      <th>4</th>\n",
       "      <td>Budget</td>\n",
       "      <td>Committee of Supply – Head W (Ministry of Tran...</td>\n",
       "      <td>Growing Pains in TransportMr Sitoh Yih Pin (Po...</td>\n",
       "      <td>[Mr Pritam Singh (Aljunied), Mr Melvin Yong Yi...</td>\n",
       "      <td>growing pain transportmr sitoh yih pin ( poton...</td>\n",
       "      <td>Punlic Transport and Waste Management</td>\n",
       "    </tr>\n",
       "    <tr>\n",
       "      <th>...</th>\n",
       "      <td>...</td>\n",
       "      <td>...</td>\n",
       "      <td>...</td>\n",
       "      <td>...</td>\n",
       "      <td>...</td>\n",
       "      <td>...</td>\n",
       "    </tr>\n",
       "    <tr>\n",
       "      <th>159</th>\n",
       "      <td>Oral Answers to Questions</td>\n",
       "      <td>Complaints on Lapses in Real-time Updates for ...</td>\n",
       "      <td>1 Er Dr Lee Bee Wah asked\\tthe Minister for Tr...</td>\n",
       "      <td>Er Dr Lee Bee Wah (Nee Soon),Er Dr Lee Bee Wah...</td>\n",
       "      <td>1 er dr lee bee wah asked transport ( ) lta aw...</td>\n",
       "      <td>Punlic Transport and Waste Management</td>\n",
       "    </tr>\n",
       "    <tr>\n",
       "      <th>160</th>\n",
       "      <td>Second Reading Bills</td>\n",
       "      <td>Central Provident Fund (Amendment) Bill</td>\n",
       "      <td>Order for Second Reading read.4.51 pmThe Minis...</td>\n",
       "      <td>[Mrs Josephine Teo, Assoc Prof Daniel Goh Pei ...</td>\n",
       "      <td>order second reading read.4.51 pmthe manpower ...</td>\n",
       "      <td>Legislative Matters and Amendments</td>\n",
       "    </tr>\n",
       "    <tr>\n",
       "      <th>161</th>\n",
       "      <td>Budget</td>\n",
       "      <td>Committee of Supply – Head I (Ministry of Soci...</td>\n",
       "      <td>The Chairman: Head I, Ministry of Social and F...</td>\n",
       "      <td>[The Chairman, Mr Sam Tan Chin Siong, Ms Denis...</td>\n",
       "      <td>chairman : , social family development . seah ...</td>\n",
       "      <td>Community Care and Services</td>\n",
       "    </tr>\n",
       "    <tr>\n",
       "      <th>162</th>\n",
       "      <td>Ministerial Statements</td>\n",
       "      <td>Government's Plans in our Continued Fight agai...</td>\n",
       "      <td>Debate resumed.Mr Deputy Speaker: Minister Isw...</td>\n",
       "      <td>[Mr Deputy Speaker, Mr Deputy Speaker, Miss Ch...</td>\n",
       "      <td>resumed.mr deputy speaker : iswaran.6.49 pmthe...</td>\n",
       "      <td>Digital Transformation in Industry</td>\n",
       "    </tr>\n",
       "    <tr>\n",
       "      <th>163</th>\n",
       "      <td>Budget</td>\n",
       "      <td>Committee of Supply – Head X (Ministry of Cult...</td>\n",
       "      <td>Rallying SingaporeansDr Lim Wee Kiak (Sembawan...</td>\n",
       "      <td>Er Dr Lee Bee Wah (Nee Soon),Dr Teo Ho Pin (Bu...</td>\n",
       "      <td>rallying singaporeansdr lim wee kiak ( sembawa...</td>\n",
       "      <td>Community Support during COVID-19</td>\n",
       "    </tr>\n",
       "  </tbody>\n",
       "</table>\n",
       "<p>164 rows × 6 columns</p>\n",
       "</div>"
      ],
      "text/plain": [
       "                                          Section Name  \\\n",
       "0                            Oral Answers to Questions   \n",
       "1    Written Answers to Questions for Oral Answer N...   \n",
       "2                                               Budget   \n",
       "3                            Oral Answers to Questions   \n",
       "4                                               Budget   \n",
       "..                                                 ...   \n",
       "159                          Oral Answers to Questions   \n",
       "160                               Second Reading Bills   \n",
       "161                                             Budget   \n",
       "162                             Ministerial Statements   \n",
       "163                                             Budget   \n",
       "\n",
       "                                                 Title  \\\n",
       "0    Fair Process for Termination Due to Poor Perfo...   \n",
       "1    Details and Framework of Workings of The Speci...   \n",
       "2       Committee of Supply – Head R (Ministry of Law)   \n",
       "3            Female Representation in Statutory Boards   \n",
       "4    Committee of Supply – Head W (Ministry of Tran...   \n",
       "..                                                 ...   \n",
       "159  Complaints on Lapses in Real-time Updates for ...   \n",
       "160            Central Provident Fund (Amendment) Bill   \n",
       "161  Committee of Supply – Head I (Ministry of Soci...   \n",
       "162  Government's Plans in our Continued Fight agai...   \n",
       "163  Committee of Supply – Head X (Ministry of Cult...   \n",
       "\n",
       "                                                  Text  \\\n",
       "0    1 Dr Tan Wu Meng asked\\tthe Minister for Manpo...   \n",
       "1    22 Assoc Prof Fatimah Lateef asked the Ministe...   \n",
       "2    The Chairman: Head R, Ministry of Law. Mr Chri...   \n",
       "3    The following question stood in the name of Ms...   \n",
       "4    Growing Pains in TransportMr Sitoh Yih Pin (Po...   \n",
       "..                                                 ...   \n",
       "159  1 Er Dr Lee Bee Wah asked\\tthe Minister for Tr...   \n",
       "160  Order for Second Reading read.4.51 pmThe Minis...   \n",
       "161  The Chairman: Head I, Ministry of Social and F...   \n",
       "162  Debate resumed.Mr Deputy Speaker: Minister Isw...   \n",
       "163  Rallying SingaporeansDr Lim Wee Kiak (Sembawan...   \n",
       "\n",
       "                                              Speakers  \\\n",
       "0    Er Dr Lee Bee Wah (Nee Soon),Mr Zainal Sapari ...   \n",
       "1                [Prof Fatimah Lateef, Mr Desmond Lee]   \n",
       "2    [The Senior Minister of State for Law (Mr Edwi...   \n",
       "3    [The Senior Parliamentary Secretary to the Min...   \n",
       "4    [Mr Pritam Singh (Aljunied), Mr Melvin Yong Yi...   \n",
       "..                                                 ...   \n",
       "159  Er Dr Lee Bee Wah (Nee Soon),Er Dr Lee Bee Wah...   \n",
       "160  [Mrs Josephine Teo, Assoc Prof Daniel Goh Pei ...   \n",
       "161  [The Chairman, Mr Sam Tan Chin Siong, Ms Denis...   \n",
       "162  [Mr Deputy Speaker, Mr Deputy Speaker, Miss Ch...   \n",
       "163  Er Dr Lee Bee Wah (Nee Soon),Dr Teo Ho Pin (Bu...   \n",
       "\n",
       "                                       Lemmatized Text  \\\n",
       "0    1 dr tan wu meng asked manpower provide update...   \n",
       "1    22 assoc prof fatimah lateef asked social fami...   \n",
       "2    chairman : r , law . christopher souza , cut ....   \n",
       "3    following question stood m anthea ong –1 ask s...   \n",
       "4    growing pain transportmr sitoh yih pin ( poton...   \n",
       "..                                                 ...   \n",
       "159  1 er dr lee bee wah asked transport ( ) lta aw...   \n",
       "160  order second reading read.4.51 pmthe manpower ...   \n",
       "161  chairman : , social family development . seah ...   \n",
       "162  resumed.mr deputy speaker : iswaran.6.49 pmthe...   \n",
       "163  rallying singaporeansdr lim wee kiak ( sembawa...   \n",
       "\n",
       "                                     Topic  \n",
       "0         Workforce Support and Employment  \n",
       "1              Community Care and Services  \n",
       "2       Legislative Matters and Amendments  \n",
       "3              Community Care and Services  \n",
       "4    Punlic Transport and Waste Management  \n",
       "..                                     ...  \n",
       "159  Punlic Transport and Waste Management  \n",
       "160     Legislative Matters and Amendments  \n",
       "161            Community Care and Services  \n",
       "162     Digital Transformation in Industry  \n",
       "163      Community Support during COVID-19  \n",
       "\n",
       "[164 rows x 6 columns]"
      ]
     },
     "execution_count": 17,
     "metadata": {},
     "output_type": "execute_result"
    }
   ],
   "source": [
    "df"
   ]
  },
  {
   "cell_type": "code",
   "execution_count": 18,
   "metadata": {},
   "outputs": [
    {
     "data": {
      "text/plain": [
       "Topic\n",
       "Workforce Support and Employment         27\n",
       "Digital Transformation in Industry       26\n",
       "Community Care and Services              22\n",
       "Punlic Transport and Waste Management    20\n",
       "Legislative Matters and Amendments       18\n",
       "Education and Support Programmes         16\n",
       "National Defence and Security            14\n",
       "Community Support during COVID-19        13\n",
       "Law Enforcement and Rehabilitation        6\n",
       "Smoking and Environmental Impact          2\n",
       "Name: count, dtype: int64"
      ]
     },
     "execution_count": 18,
     "metadata": {},
     "output_type": "execute_result"
    }
   ],
   "source": [
    "df[\"Topic\"].value_counts()"
   ]
  },
  {
   "cell_type": "code",
   "execution_count": 19,
   "metadata": {},
   "outputs": [
    {
     "data": {
      "application/vnd.plotly.v1+json": {
       "config": {
        "plotlyServerURL": "https://plot.ly"
       },
       "data": [
        {
         "alignmentgroup": "True",
         "hovertemplate": "Topic=%{x}<br>Number of Debates=%{text}<extra></extra>",
         "legendgroup": "Workforce Support and Employment",
         "marker": {
          "color": "#636efa",
          "pattern": {
           "shape": ""
          }
         },
         "name": "Workforce Support and Employment",
         "offsetgroup": "Workforce Support and Employment",
         "orientation": "v",
         "showlegend": true,
         "text": [
          27
         ],
         "textposition": "outside",
         "texttemplate": "%{text}",
         "type": "bar",
         "x": [
          "Workforce Support and Employment"
         ],
         "xaxis": "x",
         "y": [
          27
         ],
         "yaxis": "y"
        },
        {
         "alignmentgroup": "True",
         "hovertemplate": "Topic=%{x}<br>Number of Debates=%{text}<extra></extra>",
         "legendgroup": "Digital Transformation in Industry",
         "marker": {
          "color": "#EF553B",
          "pattern": {
           "shape": ""
          }
         },
         "name": "Digital Transformation in Industry",
         "offsetgroup": "Digital Transformation in Industry",
         "orientation": "v",
         "showlegend": true,
         "text": [
          26
         ],
         "textposition": "outside",
         "texttemplate": "%{text}",
         "type": "bar",
         "x": [
          "Digital Transformation in Industry"
         ],
         "xaxis": "x",
         "y": [
          26
         ],
         "yaxis": "y"
        },
        {
         "alignmentgroup": "True",
         "hovertemplate": "Topic=%{x}<br>Number of Debates=%{text}<extra></extra>",
         "legendgroup": "Community Care and Services",
         "marker": {
          "color": "#00cc96",
          "pattern": {
           "shape": ""
          }
         },
         "name": "Community Care and Services",
         "offsetgroup": "Community Care and Services",
         "orientation": "v",
         "showlegend": true,
         "text": [
          22
         ],
         "textposition": "outside",
         "texttemplate": "%{text}",
         "type": "bar",
         "x": [
          "Community Care and Services"
         ],
         "xaxis": "x",
         "y": [
          22
         ],
         "yaxis": "y"
        },
        {
         "alignmentgroup": "True",
         "hovertemplate": "Topic=%{x}<br>Number of Debates=%{text}<extra></extra>",
         "legendgroup": "Punlic Transport and Waste Management",
         "marker": {
          "color": "#ab63fa",
          "pattern": {
           "shape": ""
          }
         },
         "name": "Punlic Transport and Waste Management",
         "offsetgroup": "Punlic Transport and Waste Management",
         "orientation": "v",
         "showlegend": true,
         "text": [
          20
         ],
         "textposition": "outside",
         "texttemplate": "%{text}",
         "type": "bar",
         "x": [
          "Punlic Transport and Waste Management"
         ],
         "xaxis": "x",
         "y": [
          20
         ],
         "yaxis": "y"
        },
        {
         "alignmentgroup": "True",
         "hovertemplate": "Topic=%{x}<br>Number of Debates=%{text}<extra></extra>",
         "legendgroup": "Legislative Matters and Amendments",
         "marker": {
          "color": "#FFA15A",
          "pattern": {
           "shape": ""
          }
         },
         "name": "Legislative Matters and Amendments",
         "offsetgroup": "Legislative Matters and Amendments",
         "orientation": "v",
         "showlegend": true,
         "text": [
          18
         ],
         "textposition": "outside",
         "texttemplate": "%{text}",
         "type": "bar",
         "x": [
          "Legislative Matters and Amendments"
         ],
         "xaxis": "x",
         "y": [
          18
         ],
         "yaxis": "y"
        },
        {
         "alignmentgroup": "True",
         "hovertemplate": "Topic=%{x}<br>Number of Debates=%{text}<extra></extra>",
         "legendgroup": "Education and Support Programmes",
         "marker": {
          "color": "#19d3f3",
          "pattern": {
           "shape": ""
          }
         },
         "name": "Education and Support Programmes",
         "offsetgroup": "Education and Support Programmes",
         "orientation": "v",
         "showlegend": true,
         "text": [
          16
         ],
         "textposition": "outside",
         "texttemplate": "%{text}",
         "type": "bar",
         "x": [
          "Education and Support Programmes"
         ],
         "xaxis": "x",
         "y": [
          16
         ],
         "yaxis": "y"
        },
        {
         "alignmentgroup": "True",
         "hovertemplate": "Topic=%{x}<br>Number of Debates=%{text}<extra></extra>",
         "legendgroup": "National Defence and Security",
         "marker": {
          "color": "#FF6692",
          "pattern": {
           "shape": ""
          }
         },
         "name": "National Defence and Security",
         "offsetgroup": "National Defence and Security",
         "orientation": "v",
         "showlegend": true,
         "text": [
          14
         ],
         "textposition": "outside",
         "texttemplate": "%{text}",
         "type": "bar",
         "x": [
          "National Defence and Security"
         ],
         "xaxis": "x",
         "y": [
          14
         ],
         "yaxis": "y"
        },
        {
         "alignmentgroup": "True",
         "hovertemplate": "Topic=%{x}<br>Number of Debates=%{text}<extra></extra>",
         "legendgroup": "Community Support during COVID-19",
         "marker": {
          "color": "#B6E880",
          "pattern": {
           "shape": ""
          }
         },
         "name": "Community Support during COVID-19",
         "offsetgroup": "Community Support during COVID-19",
         "orientation": "v",
         "showlegend": true,
         "text": [
          13
         ],
         "textposition": "outside",
         "texttemplate": "%{text}",
         "type": "bar",
         "x": [
          "Community Support during COVID-19"
         ],
         "xaxis": "x",
         "y": [
          13
         ],
         "yaxis": "y"
        },
        {
         "alignmentgroup": "True",
         "hovertemplate": "Topic=%{x}<br>Number of Debates=%{text}<extra></extra>",
         "legendgroup": "Law Enforcement and Rehabilitation",
         "marker": {
          "color": "#FF97FF",
          "pattern": {
           "shape": ""
          }
         },
         "name": "Law Enforcement and Rehabilitation",
         "offsetgroup": "Law Enforcement and Rehabilitation",
         "orientation": "v",
         "showlegend": true,
         "text": [
          6
         ],
         "textposition": "outside",
         "texttemplate": "%{text}",
         "type": "bar",
         "x": [
          "Law Enforcement and Rehabilitation"
         ],
         "xaxis": "x",
         "y": [
          6
         ],
         "yaxis": "y"
        },
        {
         "alignmentgroup": "True",
         "hovertemplate": "Topic=%{x}<br>Number of Debates=%{text}<extra></extra>",
         "legendgroup": "Smoking and Environmental Impact",
         "marker": {
          "color": "#FECB52",
          "pattern": {
           "shape": ""
          }
         },
         "name": "Smoking and Environmental Impact",
         "offsetgroup": "Smoking and Environmental Impact",
         "orientation": "v",
         "showlegend": true,
         "text": [
          2
         ],
         "textposition": "outside",
         "texttemplate": "%{text}",
         "type": "bar",
         "x": [
          "Smoking and Environmental Impact"
         ],
         "xaxis": "x",
         "y": [
          2
         ],
         "yaxis": "y"
        }
       ],
       "layout": {
        "bargap": 0.4,
        "barmode": "relative",
        "font": {
         "size": 12
        },
        "legend": {
         "title": {
          "text": "Topic"
         },
         "tracegroupgap": 0
        },
        "margin": {
         "b": 100,
         "l": 50,
         "r": 50,
         "t": 100
        },
        "paper_bgcolor": "white",
        "plot_bgcolor": "white",
        "template": {
         "data": {
          "bar": [
           {
            "error_x": {
             "color": "#2a3f5f"
            },
            "error_y": {
             "color": "#2a3f5f"
            },
            "marker": {
             "line": {
              "color": "#E5ECF6",
              "width": 0.5
             },
             "pattern": {
              "fillmode": "overlay",
              "size": 10,
              "solidity": 0.2
             }
            },
            "type": "bar"
           }
          ],
          "barpolar": [
           {
            "marker": {
             "line": {
              "color": "#E5ECF6",
              "width": 0.5
             },
             "pattern": {
              "fillmode": "overlay",
              "size": 10,
              "solidity": 0.2
             }
            },
            "type": "barpolar"
           }
          ],
          "carpet": [
           {
            "aaxis": {
             "endlinecolor": "#2a3f5f",
             "gridcolor": "white",
             "linecolor": "white",
             "minorgridcolor": "white",
             "startlinecolor": "#2a3f5f"
            },
            "baxis": {
             "endlinecolor": "#2a3f5f",
             "gridcolor": "white",
             "linecolor": "white",
             "minorgridcolor": "white",
             "startlinecolor": "#2a3f5f"
            },
            "type": "carpet"
           }
          ],
          "choropleth": [
           {
            "colorbar": {
             "outlinewidth": 0,
             "ticks": ""
            },
            "type": "choropleth"
           }
          ],
          "contour": [
           {
            "colorbar": {
             "outlinewidth": 0,
             "ticks": ""
            },
            "colorscale": [
             [
              0,
              "#0d0887"
             ],
             [
              0.1111111111111111,
              "#46039f"
             ],
             [
              0.2222222222222222,
              "#7201a8"
             ],
             [
              0.3333333333333333,
              "#9c179e"
             ],
             [
              0.4444444444444444,
              "#bd3786"
             ],
             [
              0.5555555555555556,
              "#d8576b"
             ],
             [
              0.6666666666666666,
              "#ed7953"
             ],
             [
              0.7777777777777778,
              "#fb9f3a"
             ],
             [
              0.8888888888888888,
              "#fdca26"
             ],
             [
              1,
              "#f0f921"
             ]
            ],
            "type": "contour"
           }
          ],
          "contourcarpet": [
           {
            "colorbar": {
             "outlinewidth": 0,
             "ticks": ""
            },
            "type": "contourcarpet"
           }
          ],
          "heatmap": [
           {
            "colorbar": {
             "outlinewidth": 0,
             "ticks": ""
            },
            "colorscale": [
             [
              0,
              "#0d0887"
             ],
             [
              0.1111111111111111,
              "#46039f"
             ],
             [
              0.2222222222222222,
              "#7201a8"
             ],
             [
              0.3333333333333333,
              "#9c179e"
             ],
             [
              0.4444444444444444,
              "#bd3786"
             ],
             [
              0.5555555555555556,
              "#d8576b"
             ],
             [
              0.6666666666666666,
              "#ed7953"
             ],
             [
              0.7777777777777778,
              "#fb9f3a"
             ],
             [
              0.8888888888888888,
              "#fdca26"
             ],
             [
              1,
              "#f0f921"
             ]
            ],
            "type": "heatmap"
           }
          ],
          "heatmapgl": [
           {
            "colorbar": {
             "outlinewidth": 0,
             "ticks": ""
            },
            "colorscale": [
             [
              0,
              "#0d0887"
             ],
             [
              0.1111111111111111,
              "#46039f"
             ],
             [
              0.2222222222222222,
              "#7201a8"
             ],
             [
              0.3333333333333333,
              "#9c179e"
             ],
             [
              0.4444444444444444,
              "#bd3786"
             ],
             [
              0.5555555555555556,
              "#d8576b"
             ],
             [
              0.6666666666666666,
              "#ed7953"
             ],
             [
              0.7777777777777778,
              "#fb9f3a"
             ],
             [
              0.8888888888888888,
              "#fdca26"
             ],
             [
              1,
              "#f0f921"
             ]
            ],
            "type": "heatmapgl"
           }
          ],
          "histogram": [
           {
            "marker": {
             "pattern": {
              "fillmode": "overlay",
              "size": 10,
              "solidity": 0.2
             }
            },
            "type": "histogram"
           }
          ],
          "histogram2d": [
           {
            "colorbar": {
             "outlinewidth": 0,
             "ticks": ""
            },
            "colorscale": [
             [
              0,
              "#0d0887"
             ],
             [
              0.1111111111111111,
              "#46039f"
             ],
             [
              0.2222222222222222,
              "#7201a8"
             ],
             [
              0.3333333333333333,
              "#9c179e"
             ],
             [
              0.4444444444444444,
              "#bd3786"
             ],
             [
              0.5555555555555556,
              "#d8576b"
             ],
             [
              0.6666666666666666,
              "#ed7953"
             ],
             [
              0.7777777777777778,
              "#fb9f3a"
             ],
             [
              0.8888888888888888,
              "#fdca26"
             ],
             [
              1,
              "#f0f921"
             ]
            ],
            "type": "histogram2d"
           }
          ],
          "histogram2dcontour": [
           {
            "colorbar": {
             "outlinewidth": 0,
             "ticks": ""
            },
            "colorscale": [
             [
              0,
              "#0d0887"
             ],
             [
              0.1111111111111111,
              "#46039f"
             ],
             [
              0.2222222222222222,
              "#7201a8"
             ],
             [
              0.3333333333333333,
              "#9c179e"
             ],
             [
              0.4444444444444444,
              "#bd3786"
             ],
             [
              0.5555555555555556,
              "#d8576b"
             ],
             [
              0.6666666666666666,
              "#ed7953"
             ],
             [
              0.7777777777777778,
              "#fb9f3a"
             ],
             [
              0.8888888888888888,
              "#fdca26"
             ],
             [
              1,
              "#f0f921"
             ]
            ],
            "type": "histogram2dcontour"
           }
          ],
          "mesh3d": [
           {
            "colorbar": {
             "outlinewidth": 0,
             "ticks": ""
            },
            "type": "mesh3d"
           }
          ],
          "parcoords": [
           {
            "line": {
             "colorbar": {
              "outlinewidth": 0,
              "ticks": ""
             }
            },
            "type": "parcoords"
           }
          ],
          "pie": [
           {
            "automargin": true,
            "type": "pie"
           }
          ],
          "scatter": [
           {
            "fillpattern": {
             "fillmode": "overlay",
             "size": 10,
             "solidity": 0.2
            },
            "type": "scatter"
           }
          ],
          "scatter3d": [
           {
            "line": {
             "colorbar": {
              "outlinewidth": 0,
              "ticks": ""
             }
            },
            "marker": {
             "colorbar": {
              "outlinewidth": 0,
              "ticks": ""
             }
            },
            "type": "scatter3d"
           }
          ],
          "scattercarpet": [
           {
            "marker": {
             "colorbar": {
              "outlinewidth": 0,
              "ticks": ""
             }
            },
            "type": "scattercarpet"
           }
          ],
          "scattergeo": [
           {
            "marker": {
             "colorbar": {
              "outlinewidth": 0,
              "ticks": ""
             }
            },
            "type": "scattergeo"
           }
          ],
          "scattergl": [
           {
            "marker": {
             "colorbar": {
              "outlinewidth": 0,
              "ticks": ""
             }
            },
            "type": "scattergl"
           }
          ],
          "scattermapbox": [
           {
            "marker": {
             "colorbar": {
              "outlinewidth": 0,
              "ticks": ""
             }
            },
            "type": "scattermapbox"
           }
          ],
          "scatterpolar": [
           {
            "marker": {
             "colorbar": {
              "outlinewidth": 0,
              "ticks": ""
             }
            },
            "type": "scatterpolar"
           }
          ],
          "scatterpolargl": [
           {
            "marker": {
             "colorbar": {
              "outlinewidth": 0,
              "ticks": ""
             }
            },
            "type": "scatterpolargl"
           }
          ],
          "scatterternary": [
           {
            "marker": {
             "colorbar": {
              "outlinewidth": 0,
              "ticks": ""
             }
            },
            "type": "scatterternary"
           }
          ],
          "surface": [
           {
            "colorbar": {
             "outlinewidth": 0,
             "ticks": ""
            },
            "colorscale": [
             [
              0,
              "#0d0887"
             ],
             [
              0.1111111111111111,
              "#46039f"
             ],
             [
              0.2222222222222222,
              "#7201a8"
             ],
             [
              0.3333333333333333,
              "#9c179e"
             ],
             [
              0.4444444444444444,
              "#bd3786"
             ],
             [
              0.5555555555555556,
              "#d8576b"
             ],
             [
              0.6666666666666666,
              "#ed7953"
             ],
             [
              0.7777777777777778,
              "#fb9f3a"
             ],
             [
              0.8888888888888888,
              "#fdca26"
             ],
             [
              1,
              "#f0f921"
             ]
            ],
            "type": "surface"
           }
          ],
          "table": [
           {
            "cells": {
             "fill": {
              "color": "#EBF0F8"
             },
             "line": {
              "color": "white"
             }
            },
            "header": {
             "fill": {
              "color": "#C8D4E3"
             },
             "line": {
              "color": "white"
             }
            },
            "type": "table"
           }
          ]
         },
         "layout": {
          "annotationdefaults": {
           "arrowcolor": "#2a3f5f",
           "arrowhead": 0,
           "arrowwidth": 1
          },
          "autotypenumbers": "strict",
          "coloraxis": {
           "colorbar": {
            "outlinewidth": 0,
            "ticks": ""
           }
          },
          "colorscale": {
           "diverging": [
            [
             0,
             "#8e0152"
            ],
            [
             0.1,
             "#c51b7d"
            ],
            [
             0.2,
             "#de77ae"
            ],
            [
             0.3,
             "#f1b6da"
            ],
            [
             0.4,
             "#fde0ef"
            ],
            [
             0.5,
             "#f7f7f7"
            ],
            [
             0.6,
             "#e6f5d0"
            ],
            [
             0.7,
             "#b8e186"
            ],
            [
             0.8,
             "#7fbc41"
            ],
            [
             0.9,
             "#4d9221"
            ],
            [
             1,
             "#276419"
            ]
           ],
           "sequential": [
            [
             0,
             "#0d0887"
            ],
            [
             0.1111111111111111,
             "#46039f"
            ],
            [
             0.2222222222222222,
             "#7201a8"
            ],
            [
             0.3333333333333333,
             "#9c179e"
            ],
            [
             0.4444444444444444,
             "#bd3786"
            ],
            [
             0.5555555555555556,
             "#d8576b"
            ],
            [
             0.6666666666666666,
             "#ed7953"
            ],
            [
             0.7777777777777778,
             "#fb9f3a"
            ],
            [
             0.8888888888888888,
             "#fdca26"
            ],
            [
             1,
             "#f0f921"
            ]
           ],
           "sequentialminus": [
            [
             0,
             "#0d0887"
            ],
            [
             0.1111111111111111,
             "#46039f"
            ],
            [
             0.2222222222222222,
             "#7201a8"
            ],
            [
             0.3333333333333333,
             "#9c179e"
            ],
            [
             0.4444444444444444,
             "#bd3786"
            ],
            [
             0.5555555555555556,
             "#d8576b"
            ],
            [
             0.6666666666666666,
             "#ed7953"
            ],
            [
             0.7777777777777778,
             "#fb9f3a"
            ],
            [
             0.8888888888888888,
             "#fdca26"
            ],
            [
             1,
             "#f0f921"
            ]
           ]
          },
          "colorway": [
           "#636efa",
           "#EF553B",
           "#00cc96",
           "#ab63fa",
           "#FFA15A",
           "#19d3f3",
           "#FF6692",
           "#B6E880",
           "#FF97FF",
           "#FECB52"
          ],
          "font": {
           "color": "#2a3f5f"
          },
          "geo": {
           "bgcolor": "white",
           "lakecolor": "white",
           "landcolor": "#E5ECF6",
           "showlakes": true,
           "showland": true,
           "subunitcolor": "white"
          },
          "hoverlabel": {
           "align": "left"
          },
          "hovermode": "closest",
          "mapbox": {
           "style": "light"
          },
          "paper_bgcolor": "white",
          "plot_bgcolor": "#E5ECF6",
          "polar": {
           "angularaxis": {
            "gridcolor": "white",
            "linecolor": "white",
            "ticks": ""
           },
           "bgcolor": "#E5ECF6",
           "radialaxis": {
            "gridcolor": "white",
            "linecolor": "white",
            "ticks": ""
           }
          },
          "scene": {
           "xaxis": {
            "backgroundcolor": "#E5ECF6",
            "gridcolor": "white",
            "gridwidth": 2,
            "linecolor": "white",
            "showbackground": true,
            "ticks": "",
            "zerolinecolor": "white"
           },
           "yaxis": {
            "backgroundcolor": "#E5ECF6",
            "gridcolor": "white",
            "gridwidth": 2,
            "linecolor": "white",
            "showbackground": true,
            "ticks": "",
            "zerolinecolor": "white"
           },
           "zaxis": {
            "backgroundcolor": "#E5ECF6",
            "gridcolor": "white",
            "gridwidth": 2,
            "linecolor": "white",
            "showbackground": true,
            "ticks": "",
            "zerolinecolor": "white"
           }
          },
          "shapedefaults": {
           "line": {
            "color": "#2a3f5f"
           }
          },
          "ternary": {
           "aaxis": {
            "gridcolor": "white",
            "linecolor": "white",
            "ticks": ""
           },
           "baxis": {
            "gridcolor": "white",
            "linecolor": "white",
            "ticks": ""
           },
           "bgcolor": "#E5ECF6",
           "caxis": {
            "gridcolor": "white",
            "linecolor": "white",
            "ticks": ""
           }
          },
          "title": {
           "x": 0.05
          },
          "xaxis": {
           "automargin": true,
           "gridcolor": "white",
           "linecolor": "white",
           "ticks": "",
           "title": {
            "standoff": 15
           },
           "zerolinecolor": "white",
           "zerolinewidth": 2
          },
          "yaxis": {
           "automargin": true,
           "gridcolor": "white",
           "linecolor": "white",
           "ticks": "",
           "title": {
            "standoff": 15
           },
           "zerolinecolor": "white",
           "zerolinewidth": 2
          }
         }
        },
        "title": {
         "text": "Distribution of Common Topics in Parliamentary Debates",
         "x": 0.5,
         "xanchor": "center"
        },
        "uniformtext": {
         "minsize": 8,
         "mode": "hide"
        },
        "xaxis": {
         "anchor": "y",
         "categoryarray": [
          "Workforce Support and Employment",
          "Digital Transformation in Industry",
          "Community Care and Services",
          "Punlic Transport and Waste Management",
          "Legislative Matters and Amendments",
          "Education and Support Programmes",
          "National Defence and Security",
          "Community Support during COVID-19",
          "Law Enforcement and Rehabilitation",
          "Smoking and Environmental Impact"
         ],
         "categoryorder": "array",
         "domain": [
          0,
          1
         ],
         "tickangle": -45,
         "title": {
          "text": "Topic"
         }
        },
        "yaxis": {
         "anchor": "x",
         "domain": [
          0,
          1
         ],
         "range": [
          0,
          45
         ],
         "showgrid": true,
         "title": {
          "text": "Count"
         },
         "zeroline": false
        }
       }
      }
     },
     "metadata": {},
     "output_type": "display_data"
    }
   ],
   "source": [
    "# Plotting the distribution of dominant topics using Plotly\n",
    "topic_counts = df[\"Topic\"].value_counts().reset_index()\n",
    "topic_counts.columns = ['Topic', 'Count']\n",
    "\n",
    "fig = px.bar(topic_counts, x='Topic', y='Count', title='Distribution of Dominant Topics',\n",
    "             labels={'Topic': 'Topic', 'Count': 'Number of Debates'},\n",
    "             text='Count',\n",
    "             color='Topic',\n",
    "             color_continuous_scale=px.colors.qualitative.Plotly)  # Use Plotly's qualitative color scale\n",
    "\n",
    "fig.update_traces(texttemplate='%{text}', textposition='outside')\n",
    "\n",
    "fig.update_layout(\n",
    "    title={'text': 'Distribution of Common Topics in Parliamentary Debates', 'x': 0.5, 'xanchor': 'center'},\n",
    "    xaxis_title='Topic',\n",
    "    yaxis_title='Count',\n",
    "    uniformtext_minsize=8, uniformtext_mode='hide',\n",
    "    plot_bgcolor='white',\n",
    "    paper_bgcolor='white',\n",
    "    font=dict(size=12),\n",
    "    yaxis=dict(showgrid=True, zeroline=False, range=[0, 45]),  # Set the y-axis range to 0-45\n",
    "    xaxis_tickangle=-45,  # Rotate x-axis labels for better readability\n",
    "    bargap=0.4,  # Gap between bars\n",
    "    margin=dict(l=50, r=50, b=100, t=100),  # Adjust margins for better layout\n",
    ")\n",
    "\n",
    "# Save the plot as an HTML file\n",
    "fig.write_html(os.path.join(save_dir, \"distribution_of_common_topics.html\"))\n",
    "\n",
    "fig.show()"
   ]
  },
  {
   "cell_type": "code",
   "execution_count": 20,
   "metadata": {},
   "outputs": [
    {
     "data": {
      "text/html": [
       "<div>\n",
       "<style scoped>\n",
       "    .dataframe tbody tr th:only-of-type {\n",
       "        vertical-align: middle;\n",
       "    }\n",
       "\n",
       "    .dataframe tbody tr th {\n",
       "        vertical-align: top;\n",
       "    }\n",
       "\n",
       "    .dataframe thead th {\n",
       "        text-align: right;\n",
       "    }\n",
       "</style>\n",
       "<table border=\"1\" class=\"dataframe\">\n",
       "  <thead>\n",
       "    <tr style=\"text-align: right;\">\n",
       "      <th></th>\n",
       "      <th>Section Name</th>\n",
       "      <th>Title</th>\n",
       "      <th>Text</th>\n",
       "      <th>Speakers</th>\n",
       "      <th>Lemmatized Text</th>\n",
       "      <th>Topic</th>\n",
       "    </tr>\n",
       "  </thead>\n",
       "  <tbody>\n",
       "    <tr>\n",
       "      <th>0</th>\n",
       "      <td>Oral Answers to Questions</td>\n",
       "      <td>Fair Process for Termination Due to Poor Perfo...</td>\n",
       "      <td>1 Dr Tan Wu Meng asked\\tthe Minister for Manpo...</td>\n",
       "      <td>Er Dr Lee Bee Wah (Nee Soon),Mr Zainal Sapari ...</td>\n",
       "      <td>1 dr tan wu meng asked manpower provide update...</td>\n",
       "      <td>Workforce Support and Employment</td>\n",
       "    </tr>\n",
       "    <tr>\n",
       "      <th>1</th>\n",
       "      <td>Written Answers to Questions for Oral Answer N...</td>\n",
       "      <td>Details and Framework of Workings of The Speci...</td>\n",
       "      <td>22 Assoc Prof Fatimah Lateef asked the Ministe...</td>\n",
       "      <td>[Prof Fatimah Lateef, Mr Desmond Lee]</td>\n",
       "      <td>22 assoc prof fatimah lateef asked social fami...</td>\n",
       "      <td>Community Care and Services</td>\n",
       "    </tr>\n",
       "    <tr>\n",
       "      <th>3</th>\n",
       "      <td>Oral Answers to Questions</td>\n",
       "      <td>Female Representation in Statutory Boards</td>\n",
       "      <td>The following question stood in the name of Ms...</td>\n",
       "      <td>[The Senior Parliamentary Secretary to the Min...</td>\n",
       "      <td>following question stood m anthea ong –1 ask s...</td>\n",
       "      <td>Community Care and Services</td>\n",
       "    </tr>\n",
       "    <tr>\n",
       "      <th>13</th>\n",
       "      <td>Oral Answers to Questions</td>\n",
       "      <td>Wage Growth Moving in Tandem with Productivity...</td>\n",
       "      <td>1 Mr Saktiandi Supaat asked the Minister for T...</td>\n",
       "      <td>Mr Saktiandi Supaat,The Senior Minister of Sta...</td>\n",
       "      <td>1 saktiandi supaat asked trade industry ( ) wa...</td>\n",
       "      <td>Digital Transformation in Industry</td>\n",
       "    </tr>\n",
       "    <tr>\n",
       "      <th>14</th>\n",
       "      <td>Oral Answers to Questions</td>\n",
       "      <td>Impact of Recent Fires in Australia on Singapo...</td>\n",
       "      <td>29 Mr Seah Kian Peng asked the Minister for th...</td>\n",
       "      <td>[The Minister for the Environment and Water Re...</td>\n",
       "      <td>29 seah kian peng asked environment water reso...</td>\n",
       "      <td>Punlic Transport and Waste Management</td>\n",
       "    </tr>\n",
       "    <tr>\n",
       "      <th>15</th>\n",
       "      <td>Oral Answers to Questions</td>\n",
       "      <td>Capital Reserve in PUB's Accounts</td>\n",
       "      <td>8 Mr Liang Eng Hwa asked the Minister for Fina...</td>\n",
       "      <td>[Mr Pritam Singh, Mr Liang Eng Hwa, Mr Low Thi...</td>\n",
       "      <td>8 liang eng hwa asked finance clarify $ 5.3 bi...</td>\n",
       "      <td>Workforce Support and Employment</td>\n",
       "    </tr>\n",
       "    <tr>\n",
       "      <th>24</th>\n",
       "      <td>Written Answers to Questions for Oral Answer N...</td>\n",
       "      <td>Challenges in Applying for Assistance under Le...</td>\n",
       "      <td>41 Mr Thomas Chua Kee Seng asked the Minister ...</td>\n",
       "      <td>Mr Thomas Chua Kee Seng,Mr Lim Swee Say</td>\n",
       "      <td>41 thomas chua kee seng asked manpower ( ) key...</td>\n",
       "      <td>Digital Transformation in Industry</td>\n",
       "    </tr>\n",
       "    <tr>\n",
       "      <th>30</th>\n",
       "      <td>Oral Answers to Questions</td>\n",
       "      <td>Waiting Time for Childcare Centre Places</td>\n",
       "      <td>5 Er Dr Lee Bee Wah asked\\tthe Minister for So...</td>\n",
       "      <td>[The Minister for Social and Family Developmen...</td>\n",
       "      <td>5 er dr lee bee wah asked social family develo...</td>\n",
       "      <td>Community Care and Services</td>\n",
       "    </tr>\n",
       "    <tr>\n",
       "      <th>32</th>\n",
       "      <td>Written Answers to Questions for Oral Answer N...</td>\n",
       "      <td>Update on Local Enterprise and Association Dev...</td>\n",
       "      <td>40 Mr Thomas Chua Kee Seng asked the Minister ...</td>\n",
       "      <td>[Mr Thomas Chua Kee Seng, Mr Chan Chun Sing]</td>\n",
       "      <td>40 thomas chua kee seng asked trade industry p...</td>\n",
       "      <td>Digital Transformation in Industry</td>\n",
       "    </tr>\n",
       "    <tr>\n",
       "      <th>34</th>\n",
       "      <td>Oral Answers to Questions</td>\n",
       "      <td>Measures to Mitigate Increasing Cost of Living</td>\n",
       "      <td>2 Mr Liang Eng Hwa asked the Minister for Trad...</td>\n",
       "      <td>[The Minister for Trade and Industry (Mr Chan ...</td>\n",
       "      <td>2 liang eng hwa asked trade industry ( ) gener...</td>\n",
       "      <td>Workforce Support and Employment</td>\n",
       "    </tr>\n",
       "    <tr>\n",
       "      <th>40</th>\n",
       "      <td>Oral Answers to Questions</td>\n",
       "      <td>Companies with Measures to Deal with Workplace...</td>\n",
       "      <td>8 Assoc Prof Walter Theseira asked the Ministe...</td>\n",
       "      <td>[The Senior Parliamentary Secretary to the Min...</td>\n",
       "      <td>8 assoc prof walter theseira asked manpower st...</td>\n",
       "      <td>Workforce Support and Employment</td>\n",
       "    </tr>\n",
       "    <tr>\n",
       "      <th>41</th>\n",
       "      <td>Oral Answers to Questions</td>\n",
       "      <td>Subject-banding in Accordance with Students’ A...</td>\n",
       "      <td>1 Ms Irene Quay Siew Ching asked the Minister ...</td>\n",
       "      <td>[The Second Minister for Education (Ms Indrane...</td>\n",
       "      <td>1 m irene quay siew ching asked education rega...</td>\n",
       "      <td>Education and Support Programmes</td>\n",
       "    </tr>\n",
       "    <tr>\n",
       "      <th>52</th>\n",
       "      <td>Oral Answers to Questions</td>\n",
       "      <td>Review Polytechnic Courses to Ensure They Stay...</td>\n",
       "      <td>1 Dr Lim Wee Kiak asked the Minister for Educa...</td>\n",
       "      <td>[The Senior Parliamentary Secretary to the Min...</td>\n",
       "      <td>1 dr lim wee kiak asked education ( higher edu...</td>\n",
       "      <td>Education and Support Programmes</td>\n",
       "    </tr>\n",
       "    <tr>\n",
       "      <th>53</th>\n",
       "      <td>Oral Answers to Questions</td>\n",
       "      <td>Salary Components of Prime Minister and Ministers</td>\n",
       "      <td>1 Mr Alex Yam asked the Prime Minister whether...</td>\n",
       "      <td>[The Deputy Prime Minister and Coordinating Mi...</td>\n",
       "      <td>1 alex yam asked ( ) list component salary min...</td>\n",
       "      <td>Law Enforcement and Rehabilitation</td>\n",
       "    </tr>\n",
       "    <tr>\n",
       "      <th>54</th>\n",
       "      <td>Oral Answers to Questions</td>\n",
       "      <td>Profile of Jobs and Industries on Fair Conside...</td>\n",
       "      <td>30 Mr Chong Kee Hiong asked the Minister for M...</td>\n",
       "      <td>[The Minister for Manpower (Mrs Josephine Teo)...</td>\n",
       "      <td>30 chong kee hiong asked manpower regard fair ...</td>\n",
       "      <td>Workforce Support and Employment</td>\n",
       "    </tr>\n",
       "    <tr>\n",
       "      <th>56</th>\n",
       "      <td>Oral Answers to Questions</td>\n",
       "      <td>Clarification on Withdrawal of CPF Savings at ...</td>\n",
       "      <td>1 Mr Lim Biow Chuan asked the Minister for Man...</td>\n",
       "      <td>Mr Chong Kee Hiong,Mr Liang Eng Hwa,Mr Patrick...</td>\n",
       "      <td>1 lim biow chuan asked manpower cpf board ( ) ...</td>\n",
       "      <td>Legislative Matters and Amendments</td>\n",
       "    </tr>\n",
       "    <tr>\n",
       "      <th>59</th>\n",
       "      <td>Oral Answers to Questions</td>\n",
       "      <td>Singaporeans' Perception of Local Brands and P...</td>\n",
       "      <td>1 Dr Lim Wee Kiak asked the Minister for Trade...</td>\n",
       "      <td>[Dr Lim Wee Kiak (Sembawang), The Senior Minis...</td>\n",
       "      <td>1 dr lim wee kiak asked trade industry ( indus...</td>\n",
       "      <td>Digital Transformation in Industry</td>\n",
       "    </tr>\n",
       "    <tr>\n",
       "      <th>64</th>\n",
       "      <td>Oral Answers to Questions</td>\n",
       "      <td>Percentage of Singaporean Mother Tongue Teache...</td>\n",
       "      <td>21 Mr Darryl David asked the Minister for Soci...</td>\n",
       "      <td>[The Minister for Social and Family Developmen...</td>\n",
       "      <td>21 darryl david asked social family developmen...</td>\n",
       "      <td>Education and Support Programmes</td>\n",
       "    </tr>\n",
       "    <tr>\n",
       "      <th>73</th>\n",
       "      <td>Oral Answers to Questions</td>\n",
       "      <td>Analysis that Supported Development of SecureM...</td>\n",
       "      <td>11 Assoc Prof Walter Theseira asked the Minist...</td>\n",
       "      <td>[The Minister for Transport (Mr Khaw Boon Wan)...</td>\n",
       "      <td>11 assoc prof walter theseira asked transport ...</td>\n",
       "      <td>Punlic Transport and Waste Management</td>\n",
       "    </tr>\n",
       "    <tr>\n",
       "      <th>74</th>\n",
       "      <td>Oral Answers to Questions</td>\n",
       "      <td>Top Five Industries where Freelancers Venture ...</td>\n",
       "      <td>4 Dr Lim Wee Kiak asked the Minister for Manpo...</td>\n",
       "      <td>[Dr Lim Wee Kiak (Sembawang), The Second Minis...</td>\n",
       "      <td>4 dr lim wee kiak asked manpower ( ) industry ...</td>\n",
       "      <td>Education and Support Programmes</td>\n",
       "    </tr>\n",
       "    <tr>\n",
       "      <th>89</th>\n",
       "      <td>Written Answers to Questions for Oral Answer N...</td>\n",
       "      <td>Impact of COVID-19 Situation on Singapore’s Cl...</td>\n",
       "      <td>26 Mr Kwek Hian Chuan Henry asked the Minister...</td>\n",
       "      <td>[Mr Kwek Hian Chuan Henry, Mr Masagos Zulkifli...</td>\n",
       "      <td>26 kwek hian chuan henry asked environment wat...</td>\n",
       "      <td>Digital Transformation in Industry</td>\n",
       "    </tr>\n",
       "    <tr>\n",
       "      <th>90</th>\n",
       "      <td>Oral Answers to Questions</td>\n",
       "      <td>Plans for Allied Educators in Schools for Lear...</td>\n",
       "      <td>1 Mr Leon Perera asked the Minister for Educat...</td>\n",
       "      <td>[The Senior Parliamentary Secretary to the Min...</td>\n",
       "      <td>1 leon perera asked education change planned r...</td>\n",
       "      <td>Education and Support Programmes</td>\n",
       "    </tr>\n",
       "    <tr>\n",
       "      <th>100</th>\n",
       "      <td>Oral Answers to Questions</td>\n",
       "      <td>More Financial Incentives and Charging Points ...</td>\n",
       "      <td>20 Er Dr Lee Bee Wah asked\\t the Minister for ...</td>\n",
       "      <td>[The Minister for Transport (Mr Khaw Boon Wan)...</td>\n",
       "      <td>20 er dr lee bee wah asked transport ( ) 's po...</td>\n",
       "      <td>Punlic Transport and Waste Management</td>\n",
       "    </tr>\n",
       "    <tr>\n",
       "      <th>107</th>\n",
       "      <td>Oral Answers to Questions</td>\n",
       "      <td>Effectiveness of Support Schemes in Helping PM...</td>\n",
       "      <td>9 Ms Foo Mee Har asked\\tthe Minister for Manpo...</td>\n",
       "      <td>Ms Foo Mee Har,The Minister for Manpower (Mr L...</td>\n",
       "      <td>9 m foo mee har asked manpower light job layof...</td>\n",
       "      <td>Workforce Support and Employment</td>\n",
       "    </tr>\n",
       "    <tr>\n",
       "      <th>108</th>\n",
       "      <td>Oral Answers to Questions</td>\n",
       "      <td>Extending Mandatory Time-frame for When Govern...</td>\n",
       "      <td>3 Mr Louis Ng Kok Kwang asked the Prime Minist...</td>\n",
       "      <td>[The Minister for Manpower and Second Minister...</td>\n",
       "      <td>3 louis ng kok kwang asked consider increasing...</td>\n",
       "      <td>National Defence and Security</td>\n",
       "    </tr>\n",
       "    <tr>\n",
       "      <th>109</th>\n",
       "      <td>Oral Answers to Questions</td>\n",
       "      <td>Impact of Home-Based Learning and School Closu...</td>\n",
       "      <td>5 Mr Darryl David asked the Minister for Educa...</td>\n",
       "      <td>[The Minister for Education (Mr Ong Ye Kung), ...</td>\n",
       "      <td>5 darryl david asked education period home-bas...</td>\n",
       "      <td>Education and Support Programmes</td>\n",
       "    </tr>\n",
       "    <tr>\n",
       "      <th>116</th>\n",
       "      <td>Oral Answers to Questions</td>\n",
       "      <td>Foreign Worker Representation in Tech and IT S...</td>\n",
       "      <td>5 Mr Desmond Choo asked\\t the Minister for Man...</td>\n",
       "      <td>Mr Desmond Choo,Mr Desmond Choo (Tampines),Mr ...</td>\n",
       "      <td>5 desmond choo asked manpower ( ) current brea...</td>\n",
       "      <td>Workforce Support and Employment</td>\n",
       "    </tr>\n",
       "    <tr>\n",
       "      <th>122</th>\n",
       "      <td>Oral Answers to Questions</td>\n",
       "      <td>Effectiveness of Matching and Retraining under...</td>\n",
       "      <td>19 Mr Zaqy Mohamad asked\\tthe Minister for Man...</td>\n",
       "      <td>Mr Desmond Choo (Tampines),Mr Zaqy Mohamad,The...</td>\n",
       "      <td>19 zaqy mohamad asked manpower ( ) 's assessme...</td>\n",
       "      <td>Workforce Support and Employment</td>\n",
       "    </tr>\n",
       "    <tr>\n",
       "      <th>131</th>\n",
       "      <td>Oral Answers to Questions</td>\n",
       "      <td>Demand and Supply of Heavy Vehicle Parking Lots</td>\n",
       "      <td>2 Assoc Prof Fatimah Lateef asked\\tthe Ministe...</td>\n",
       "      <td>Assoc Prof Fatimah Lateef,The Senior Minister ...</td>\n",
       "      <td>2 assoc prof fatimah lateef asked national dev...</td>\n",
       "      <td>Punlic Transport and Waste Management</td>\n",
       "    </tr>\n",
       "    <tr>\n",
       "      <th>132</th>\n",
       "      <td>Oral Answers to Questions</td>\n",
       "      <td>Dealing with Higher Unemployment Rate</td>\n",
       "      <td>10 Mr Patrick Tay Teck Guan asked\\tthe Ministe...</td>\n",
       "      <td>Mr Liang Eng Hwa,Dr Tan Wu Meng (Jurong),Mr Pa...</td>\n",
       "      <td>10 patrick tay teck guan asked manpower light ...</td>\n",
       "      <td>Workforce Support and Employment</td>\n",
       "    </tr>\n",
       "    <tr>\n",
       "      <th>143</th>\n",
       "      <td>Oral Answers to Questions</td>\n",
       "      <td>Measuring Quality of Healthcare Delivery and A...</td>\n",
       "      <td>13 Ms Joan Pereira asked\\tthe Minister for Hea...</td>\n",
       "      <td>[The Minister for Health (Mr Gan Kim Yong), Ms...</td>\n",
       "      <td>13 m joan pereira asked health ( ) benchmark u...</td>\n",
       "      <td>Community Care and Services</td>\n",
       "    </tr>\n",
       "    <tr>\n",
       "      <th>146</th>\n",
       "      <td>Written Answers to Questions for Oral Answer N...</td>\n",
       "      <td>Progress of EntrePass Scheme</td>\n",
       "      <td>54 Mr Saktiandi Supaat asked the Minister for ...</td>\n",
       "      <td>[Mr Saktiandi Supaat, Mr S Iswaran]</td>\n",
       "      <td>54 saktiandi supaat asked trade industry ( ind...</td>\n",
       "      <td>Digital Transformation in Industry</td>\n",
       "    </tr>\n",
       "    <tr>\n",
       "      <th>158</th>\n",
       "      <td>Oral Answers to Questions</td>\n",
       "      <td>Sustainability of Rail Reliability Levels</td>\n",
       "      <td>3 Mr Sitoh Yih Pin asked the Minister for Tran...</td>\n",
       "      <td>[The Minister for Transport (Mr Khaw Boon Wan)...</td>\n",
       "      <td>3 sitoh yih pin asked transport provide update...</td>\n",
       "      <td>Punlic Transport and Waste Management</td>\n",
       "    </tr>\n",
       "    <tr>\n",
       "      <th>159</th>\n",
       "      <td>Oral Answers to Questions</td>\n",
       "      <td>Complaints on Lapses in Real-time Updates for ...</td>\n",
       "      <td>1 Er Dr Lee Bee Wah asked\\tthe Minister for Tr...</td>\n",
       "      <td>Er Dr Lee Bee Wah (Nee Soon),Er Dr Lee Bee Wah...</td>\n",
       "      <td>1 er dr lee bee wah asked transport ( ) lta aw...</td>\n",
       "      <td>Punlic Transport and Waste Management</td>\n",
       "    </tr>\n",
       "  </tbody>\n",
       "</table>\n",
       "</div>"
      ],
      "text/plain": [
       "                                          Section Name  \\\n",
       "0                            Oral Answers to Questions   \n",
       "1    Written Answers to Questions for Oral Answer N...   \n",
       "3                            Oral Answers to Questions   \n",
       "13                           Oral Answers to Questions   \n",
       "14                           Oral Answers to Questions   \n",
       "15                           Oral Answers to Questions   \n",
       "24   Written Answers to Questions for Oral Answer N...   \n",
       "30                           Oral Answers to Questions   \n",
       "32   Written Answers to Questions for Oral Answer N...   \n",
       "34                           Oral Answers to Questions   \n",
       "40                           Oral Answers to Questions   \n",
       "41                           Oral Answers to Questions   \n",
       "52                           Oral Answers to Questions   \n",
       "53                           Oral Answers to Questions   \n",
       "54                           Oral Answers to Questions   \n",
       "56                           Oral Answers to Questions   \n",
       "59                           Oral Answers to Questions   \n",
       "64                           Oral Answers to Questions   \n",
       "73                           Oral Answers to Questions   \n",
       "74                           Oral Answers to Questions   \n",
       "89   Written Answers to Questions for Oral Answer N...   \n",
       "90                           Oral Answers to Questions   \n",
       "100                          Oral Answers to Questions   \n",
       "107                          Oral Answers to Questions   \n",
       "108                          Oral Answers to Questions   \n",
       "109                          Oral Answers to Questions   \n",
       "116                          Oral Answers to Questions   \n",
       "122                          Oral Answers to Questions   \n",
       "131                          Oral Answers to Questions   \n",
       "132                          Oral Answers to Questions   \n",
       "143                          Oral Answers to Questions   \n",
       "146  Written Answers to Questions for Oral Answer N...   \n",
       "158                          Oral Answers to Questions   \n",
       "159                          Oral Answers to Questions   \n",
       "\n",
       "                                                 Title  \\\n",
       "0    Fair Process for Termination Due to Poor Perfo...   \n",
       "1    Details and Framework of Workings of The Speci...   \n",
       "3            Female Representation in Statutory Boards   \n",
       "13   Wage Growth Moving in Tandem with Productivity...   \n",
       "14   Impact of Recent Fires in Australia on Singapo...   \n",
       "15                   Capital Reserve in PUB's Accounts   \n",
       "24   Challenges in Applying for Assistance under Le...   \n",
       "30            Waiting Time for Childcare Centre Places   \n",
       "32   Update on Local Enterprise and Association Dev...   \n",
       "34      Measures to Mitigate Increasing Cost of Living   \n",
       "40   Companies with Measures to Deal with Workplace...   \n",
       "41   Subject-banding in Accordance with Students’ A...   \n",
       "52   Review Polytechnic Courses to Ensure They Stay...   \n",
       "53   Salary Components of Prime Minister and Ministers   \n",
       "54   Profile of Jobs and Industries on Fair Conside...   \n",
       "56   Clarification on Withdrawal of CPF Savings at ...   \n",
       "59   Singaporeans' Perception of Local Brands and P...   \n",
       "64   Percentage of Singaporean Mother Tongue Teache...   \n",
       "73   Analysis that Supported Development of SecureM...   \n",
       "74   Top Five Industries where Freelancers Venture ...   \n",
       "89   Impact of COVID-19 Situation on Singapore’s Cl...   \n",
       "90   Plans for Allied Educators in Schools for Lear...   \n",
       "100  More Financial Incentives and Charging Points ...   \n",
       "107  Effectiveness of Support Schemes in Helping PM...   \n",
       "108  Extending Mandatory Time-frame for When Govern...   \n",
       "109  Impact of Home-Based Learning and School Closu...   \n",
       "116  Foreign Worker Representation in Tech and IT S...   \n",
       "122  Effectiveness of Matching and Retraining under...   \n",
       "131    Demand and Supply of Heavy Vehicle Parking Lots   \n",
       "132              Dealing with Higher Unemployment Rate   \n",
       "143  Measuring Quality of Healthcare Delivery and A...   \n",
       "146                       Progress of EntrePass Scheme   \n",
       "158          Sustainability of Rail Reliability Levels   \n",
       "159  Complaints on Lapses in Real-time Updates for ...   \n",
       "\n",
       "                                                  Text  \\\n",
       "0    1 Dr Tan Wu Meng asked\\tthe Minister for Manpo...   \n",
       "1    22 Assoc Prof Fatimah Lateef asked the Ministe...   \n",
       "3    The following question stood in the name of Ms...   \n",
       "13   1 Mr Saktiandi Supaat asked the Minister for T...   \n",
       "14   29 Mr Seah Kian Peng asked the Minister for th...   \n",
       "15   8 Mr Liang Eng Hwa asked the Minister for Fina...   \n",
       "24   41 Mr Thomas Chua Kee Seng asked the Minister ...   \n",
       "30   5 Er Dr Lee Bee Wah asked\\tthe Minister for So...   \n",
       "32   40 Mr Thomas Chua Kee Seng asked the Minister ...   \n",
       "34   2 Mr Liang Eng Hwa asked the Minister for Trad...   \n",
       "40   8 Assoc Prof Walter Theseira asked the Ministe...   \n",
       "41   1 Ms Irene Quay Siew Ching asked the Minister ...   \n",
       "52   1 Dr Lim Wee Kiak asked the Minister for Educa...   \n",
       "53   1 Mr Alex Yam asked the Prime Minister whether...   \n",
       "54   30 Mr Chong Kee Hiong asked the Minister for M...   \n",
       "56   1 Mr Lim Biow Chuan asked the Minister for Man...   \n",
       "59   1 Dr Lim Wee Kiak asked the Minister for Trade...   \n",
       "64   21 Mr Darryl David asked the Minister for Soci...   \n",
       "73   11 Assoc Prof Walter Theseira asked the Minist...   \n",
       "74   4 Dr Lim Wee Kiak asked the Minister for Manpo...   \n",
       "89   26 Mr Kwek Hian Chuan Henry asked the Minister...   \n",
       "90   1 Mr Leon Perera asked the Minister for Educat...   \n",
       "100  20 Er Dr Lee Bee Wah asked\\t the Minister for ...   \n",
       "107  9 Ms Foo Mee Har asked\\tthe Minister for Manpo...   \n",
       "108  3 Mr Louis Ng Kok Kwang asked the Prime Minist...   \n",
       "109  5 Mr Darryl David asked the Minister for Educa...   \n",
       "116  5 Mr Desmond Choo asked\\t the Minister for Man...   \n",
       "122  19 Mr Zaqy Mohamad asked\\tthe Minister for Man...   \n",
       "131  2 Assoc Prof Fatimah Lateef asked\\tthe Ministe...   \n",
       "132  10 Mr Patrick Tay Teck Guan asked\\tthe Ministe...   \n",
       "143  13 Ms Joan Pereira asked\\tthe Minister for Hea...   \n",
       "146  54 Mr Saktiandi Supaat asked the Minister for ...   \n",
       "158  3 Mr Sitoh Yih Pin asked the Minister for Tran...   \n",
       "159  1 Er Dr Lee Bee Wah asked\\tthe Minister for Tr...   \n",
       "\n",
       "                                              Speakers  \\\n",
       "0    Er Dr Lee Bee Wah (Nee Soon),Mr Zainal Sapari ...   \n",
       "1                [Prof Fatimah Lateef, Mr Desmond Lee]   \n",
       "3    [The Senior Parliamentary Secretary to the Min...   \n",
       "13   Mr Saktiandi Supaat,The Senior Minister of Sta...   \n",
       "14   [The Minister for the Environment and Water Re...   \n",
       "15   [Mr Pritam Singh, Mr Liang Eng Hwa, Mr Low Thi...   \n",
       "24             Mr Thomas Chua Kee Seng,Mr Lim Swee Say   \n",
       "30   [The Minister for Social and Family Developmen...   \n",
       "32        [Mr Thomas Chua Kee Seng, Mr Chan Chun Sing]   \n",
       "34   [The Minister for Trade and Industry (Mr Chan ...   \n",
       "40   [The Senior Parliamentary Secretary to the Min...   \n",
       "41   [The Second Minister for Education (Ms Indrane...   \n",
       "52   [The Senior Parliamentary Secretary to the Min...   \n",
       "53   [The Deputy Prime Minister and Coordinating Mi...   \n",
       "54   [The Minister for Manpower (Mrs Josephine Teo)...   \n",
       "56   Mr Chong Kee Hiong,Mr Liang Eng Hwa,Mr Patrick...   \n",
       "59   [Dr Lim Wee Kiak (Sembawang), The Senior Minis...   \n",
       "64   [The Minister for Social and Family Developmen...   \n",
       "73   [The Minister for Transport (Mr Khaw Boon Wan)...   \n",
       "74   [Dr Lim Wee Kiak (Sembawang), The Second Minis...   \n",
       "89   [Mr Kwek Hian Chuan Henry, Mr Masagos Zulkifli...   \n",
       "90   [The Senior Parliamentary Secretary to the Min...   \n",
       "100  [The Minister for Transport (Mr Khaw Boon Wan)...   \n",
       "107  Ms Foo Mee Har,The Minister for Manpower (Mr L...   \n",
       "108  [The Minister for Manpower and Second Minister...   \n",
       "109  [The Minister for Education (Mr Ong Ye Kung), ...   \n",
       "116  Mr Desmond Choo,Mr Desmond Choo (Tampines),Mr ...   \n",
       "122  Mr Desmond Choo (Tampines),Mr Zaqy Mohamad,The...   \n",
       "131  Assoc Prof Fatimah Lateef,The Senior Minister ...   \n",
       "132  Mr Liang Eng Hwa,Dr Tan Wu Meng (Jurong),Mr Pa...   \n",
       "143  [The Minister for Health (Mr Gan Kim Yong), Ms...   \n",
       "146                [Mr Saktiandi Supaat, Mr S Iswaran]   \n",
       "158  [The Minister for Transport (Mr Khaw Boon Wan)...   \n",
       "159  Er Dr Lee Bee Wah (Nee Soon),Er Dr Lee Bee Wah...   \n",
       "\n",
       "                                       Lemmatized Text  \\\n",
       "0    1 dr tan wu meng asked manpower provide update...   \n",
       "1    22 assoc prof fatimah lateef asked social fami...   \n",
       "3    following question stood m anthea ong –1 ask s...   \n",
       "13   1 saktiandi supaat asked trade industry ( ) wa...   \n",
       "14   29 seah kian peng asked environment water reso...   \n",
       "15   8 liang eng hwa asked finance clarify $ 5.3 bi...   \n",
       "24   41 thomas chua kee seng asked manpower ( ) key...   \n",
       "30   5 er dr lee bee wah asked social family develo...   \n",
       "32   40 thomas chua kee seng asked trade industry p...   \n",
       "34   2 liang eng hwa asked trade industry ( ) gener...   \n",
       "40   8 assoc prof walter theseira asked manpower st...   \n",
       "41   1 m irene quay siew ching asked education rega...   \n",
       "52   1 dr lim wee kiak asked education ( higher edu...   \n",
       "53   1 alex yam asked ( ) list component salary min...   \n",
       "54   30 chong kee hiong asked manpower regard fair ...   \n",
       "56   1 lim biow chuan asked manpower cpf board ( ) ...   \n",
       "59   1 dr lim wee kiak asked trade industry ( indus...   \n",
       "64   21 darryl david asked social family developmen...   \n",
       "73   11 assoc prof walter theseira asked transport ...   \n",
       "74   4 dr lim wee kiak asked manpower ( ) industry ...   \n",
       "89   26 kwek hian chuan henry asked environment wat...   \n",
       "90   1 leon perera asked education change planned r...   \n",
       "100  20 er dr lee bee wah asked transport ( ) 's po...   \n",
       "107  9 m foo mee har asked manpower light job layof...   \n",
       "108  3 louis ng kok kwang asked consider increasing...   \n",
       "109  5 darryl david asked education period home-bas...   \n",
       "116  5 desmond choo asked manpower ( ) current brea...   \n",
       "122  19 zaqy mohamad asked manpower ( ) 's assessme...   \n",
       "131  2 assoc prof fatimah lateef asked national dev...   \n",
       "132  10 patrick tay teck guan asked manpower light ...   \n",
       "143  13 m joan pereira asked health ( ) benchmark u...   \n",
       "146  54 saktiandi supaat asked trade industry ( ind...   \n",
       "158  3 sitoh yih pin asked transport provide update...   \n",
       "159  1 er dr lee bee wah asked transport ( ) lta aw...   \n",
       "\n",
       "                                     Topic  \n",
       "0         Workforce Support and Employment  \n",
       "1              Community Care and Services  \n",
       "3              Community Care and Services  \n",
       "13      Digital Transformation in Industry  \n",
       "14   Punlic Transport and Waste Management  \n",
       "15        Workforce Support and Employment  \n",
       "24      Digital Transformation in Industry  \n",
       "30             Community Care and Services  \n",
       "32      Digital Transformation in Industry  \n",
       "34        Workforce Support and Employment  \n",
       "40        Workforce Support and Employment  \n",
       "41        Education and Support Programmes  \n",
       "52        Education and Support Programmes  \n",
       "53      Law Enforcement and Rehabilitation  \n",
       "54        Workforce Support and Employment  \n",
       "56      Legislative Matters and Amendments  \n",
       "59      Digital Transformation in Industry  \n",
       "64        Education and Support Programmes  \n",
       "73   Punlic Transport and Waste Management  \n",
       "74        Education and Support Programmes  \n",
       "89      Digital Transformation in Industry  \n",
       "90        Education and Support Programmes  \n",
       "100  Punlic Transport and Waste Management  \n",
       "107       Workforce Support and Employment  \n",
       "108          National Defence and Security  \n",
       "109       Education and Support Programmes  \n",
       "116       Workforce Support and Employment  \n",
       "122       Workforce Support and Employment  \n",
       "131  Punlic Transport and Waste Management  \n",
       "132       Workforce Support and Employment  \n",
       "143            Community Care and Services  \n",
       "146     Digital Transformation in Industry  \n",
       "158  Punlic Transport and Waste Management  \n",
       "159  Punlic Transport and Waste Management  "
      ]
     },
     "execution_count": 20,
     "metadata": {},
     "output_type": "execute_result"
    }
   ],
   "source": [
    "df_questions = df[df[\"Section Name\"].str.contains(\"Questions\")]\n",
    "df_questions"
   ]
  },
  {
   "cell_type": "code",
   "execution_count": 21,
   "metadata": {},
   "outputs": [
    {
     "data": {
      "text/plain": [
       "34"
      ]
     },
     "execution_count": 21,
     "metadata": {},
     "output_type": "execute_result"
    }
   ],
   "source": [
    "len(df_questions)"
   ]
  },
  {
   "cell_type": "code",
   "execution_count": 22,
   "metadata": {},
   "outputs": [
    {
     "name": "stderr",
     "output_type": "stream",
     "text": [
      "<>:2: SyntaxWarning:\n",
      "\n",
      "invalid escape sequence '\\['\n",
      "\n",
      "<>:2: SyntaxWarning:\n",
      "\n",
      "invalid escape sequence '\\['\n",
      "\n",
      "/var/folders/3f/xhw3kd5d62v0s4_2fvl3_7480000gn/T/ipykernel_50984/2027961319.py:2: SyntaxWarning:\n",
      "\n",
      "invalid escape sequence '\\['\n",
      "\n",
      "/var/folders/3f/xhw3kd5d62v0s4_2fvl3_7480000gn/T/ipykernel_50984/2027961319.py:2: SettingWithCopyWarning:\n",
      "\n",
      "\n",
      "A value is trying to be set on a copy of a slice from a DataFrame.\n",
      "Try using .loc[row_indexer,col_indexer] = value instead\n",
      "\n",
      "See the caveats in the documentation: https://pandas.pydata.org/pandas-docs/stable/user_guide/indexing.html#returning-a-view-versus-a-copy\n",
      "\n",
      "/var/folders/3f/xhw3kd5d62v0s4_2fvl3_7480000gn/T/ipykernel_50984/2027961319.py:30: SettingWithCopyWarning:\n",
      "\n",
      "\n",
      "A value is trying to be set on a copy of a slice from a DataFrame.\n",
      "Try using .loc[row_indexer,col_indexer] = value instead\n",
      "\n",
      "See the caveats in the documentation: https://pandas.pydata.org/pandas-docs/stable/user_guide/indexing.html#returning-a-view-versus-a-copy\n",
      "\n"
     ]
    }
   ],
   "source": [
    "# Remove the square brackets from the Speakers column\n",
    "df_questions['Speakers'] = df_questions['Speakers'].str.replace('[\\[\\]]', '', regex=True)\n",
    "\n",
    "# Function to check if the speaker asked a question\n",
    "def asked_question(text, speaker):\n",
    "    parts = speaker.split()\n",
    "    for part in parts:\n",
    "        # Regex pattern to capture name after \"The following question stood in the name of\"\n",
    "        pattern1 = re.compile(r'The\\s+following\\s+question\\s+stood\\s+in\\s+the\\s+name\\s+of\\s+([\\w\\s\\-]+)[^\\w\\s]*')\n",
    "\n",
    "        # Regex pattern to capture name before \"asked\"\n",
    "        pattern2 = re.compile(r'([\\w\\s\\-]+)\\s+asked', re.IGNORECASE)\n",
    "\n",
    "        # Find all matches for both patterns\n",
    "        matches1 = pattern1.findall(text)\n",
    "        matches2 = pattern2.findall(text)\n",
    "\n",
    "        # Check if any part of the speaker's name matches\n",
    "        if any(re.search(r'\\b{}\\b'.format(re.escape(part)), match, re.IGNORECASE) for match in matches1 + matches2):\n",
    "            return True\n",
    "\n",
    "    return False\n",
    "\n",
    "# Apply the function to determine if each speaker asked a question\n",
    "def get_mps_who_asked_questions(row):\n",
    "    speakers = [s.strip() for s in row['Speakers'].split(',')]\n",
    "    mps_asked = [s for s in speakers if asked_question(row['Text'], s)]\n",
    "    return mps_asked\n",
    "\n",
    "df_questions['MPs_Asked'] = df_questions.apply(get_mps_who_asked_questions, axis=1)"
   ]
  },
  {
   "cell_type": "code",
   "execution_count": 23,
   "metadata": {},
   "outputs": [
    {
     "data": {
      "text/plain": [
       "\"The following question stood in the name of Ms Anthea Ong\\xa0\\t–1 To ask\\xa0the Minister for Social and Family Development (a) how we are doing with our target for 20% female representation in Statutory Boards and listed companies by 2020; (b) what steps are being taken to close the gender salary gap of about 20%; and (c) in view of the upcoming International Women's Day theme of #BalanceforBetter, what are existing imbalances in our gender equality pursuit that we must balance for a better Singapore.\\xa0 \\tAssoc Prof Walter Theseira (Nominated Member): Question No 1, Sir.The Senior Parliamentary Secretary to the Minister for Social and Family Development (Assoc Prof Dr Muhammad Faishal Ibrahim) (for the Minister for Social and Family Development): Mr Speaker, a few of the issues being asked in this Parliamentary Question (PQ) are similar to the issues being raised by Members Prof Fatimah Lateef and Ms Rahayu Mahzam in the COS cuts for MSF. May I have your permission to address the issues together when I make my reply during the MSF COS? I have spoken to the Member Ms Anthea Ong and she is agreeable to this arrangement.\\tMr Speaker: I am agreeable also. Assoc Prof Dr Muhammad Faishal Ibrahim: Thank you, Sir.\""
      ]
     },
     "execution_count": 23,
     "metadata": {},
     "output_type": "execute_result"
    }
   ],
   "source": [
    "df_questions.loc[3][\"Text\"]"
   ]
  },
  {
   "cell_type": "code",
   "execution_count": 24,
   "metadata": {},
   "outputs": [
    {
     "data": {
      "text/html": [
       "<div>\n",
       "<style scoped>\n",
       "    .dataframe tbody tr th:only-of-type {\n",
       "        vertical-align: middle;\n",
       "    }\n",
       "\n",
       "    .dataframe tbody tr th {\n",
       "        vertical-align: top;\n",
       "    }\n",
       "\n",
       "    .dataframe thead th {\n",
       "        text-align: right;\n",
       "    }\n",
       "</style>\n",
       "<table border=\"1\" class=\"dataframe\">\n",
       "  <thead>\n",
       "    <tr style=\"text-align: right;\">\n",
       "      <th></th>\n",
       "      <th>Section Name</th>\n",
       "      <th>Title</th>\n",
       "      <th>Text</th>\n",
       "      <th>Speakers</th>\n",
       "      <th>Lemmatized Text</th>\n",
       "      <th>Topic</th>\n",
       "      <th>MPs_Asked</th>\n",
       "    </tr>\n",
       "  </thead>\n",
       "  <tbody>\n",
       "    <tr>\n",
       "      <th>0</th>\n",
       "      <td>Oral Answers to Questions</td>\n",
       "      <td>Fair Process for Termination Due to Poor Perfo...</td>\n",
       "      <td>1 Dr Tan Wu Meng asked\\tthe Minister for Manpo...</td>\n",
       "      <td>Er Dr Lee Bee Wah (Nee Soon),Mr Zainal Sapari ...</td>\n",
       "      <td>1 dr tan wu meng asked manpower provide update...</td>\n",
       "      <td>Workforce Support and Employment</td>\n",
       "      <td>[Er Dr Lee Bee Wah (Nee Soon), Dr Tan Wu Meng ...</td>\n",
       "    </tr>\n",
       "    <tr>\n",
       "      <th>1</th>\n",
       "      <td>Written Answers to Questions for Oral Answer N...</td>\n",
       "      <td>Details and Framework of Workings of The Speci...</td>\n",
       "      <td>22 Assoc Prof Fatimah Lateef asked the Ministe...</td>\n",
       "      <td>Prof Fatimah Lateef, Mr Desmond Lee</td>\n",
       "      <td>22 assoc prof fatimah lateef asked social fami...</td>\n",
       "      <td>Community Care and Services</td>\n",
       "      <td>[Prof Fatimah Lateef]</td>\n",
       "    </tr>\n",
       "    <tr>\n",
       "      <th>3</th>\n",
       "      <td>Oral Answers to Questions</td>\n",
       "      <td>Female Representation in Statutory Boards</td>\n",
       "      <td>The following question stood in the name of Ms...</td>\n",
       "      <td>The Senior Parliamentary Secretary to the Mini...</td>\n",
       "      <td>following question stood m anthea ong –1 ask s...</td>\n",
       "      <td>Community Care and Services</td>\n",
       "      <td>[The Senior Parliamentary Secretary to the Min...</td>\n",
       "    </tr>\n",
       "    <tr>\n",
       "      <th>13</th>\n",
       "      <td>Oral Answers to Questions</td>\n",
       "      <td>Wage Growth Moving in Tandem with Productivity...</td>\n",
       "      <td>1 Mr Saktiandi Supaat asked the Minister for T...</td>\n",
       "      <td>Mr Saktiandi Supaat,The Senior Minister of Sta...</td>\n",
       "      <td>1 saktiandi supaat asked trade industry ( ) wa...</td>\n",
       "      <td>Digital Transformation in Industry</td>\n",
       "      <td>[Mr Saktiandi Supaat, Saktiandi Supaat, Mr Sak...</td>\n",
       "    </tr>\n",
       "    <tr>\n",
       "      <th>14</th>\n",
       "      <td>Oral Answers to Questions</td>\n",
       "      <td>Impact of Recent Fires in Australia on Singapo...</td>\n",
       "      <td>29 Mr Seah Kian Peng asked the Minister for th...</td>\n",
       "      <td>The Minister for the Environment and Water Res...</td>\n",
       "      <td>29 seah kian peng asked environment water reso...</td>\n",
       "      <td>Punlic Transport and Waste Management</td>\n",
       "      <td>[Mr Seah Kian Peng, Mr Seah Kian Peng (Marine ...</td>\n",
       "    </tr>\n",
       "    <tr>\n",
       "      <th>15</th>\n",
       "      <td>Oral Answers to Questions</td>\n",
       "      <td>Capital Reserve in PUB's Accounts</td>\n",
       "      <td>8 Mr Liang Eng Hwa asked the Minister for Fina...</td>\n",
       "      <td>Mr Pritam Singh, Mr Liang Eng Hwa, Mr Low Thia...</td>\n",
       "      <td>8 liang eng hwa asked finance clarify $ 5.3 bi...</td>\n",
       "      <td>Workforce Support and Employment</td>\n",
       "      <td>[Mr Pritam Singh, Mr Liang Eng Hwa, Mr Low Thi...</td>\n",
       "    </tr>\n",
       "    <tr>\n",
       "      <th>24</th>\n",
       "      <td>Written Answers to Questions for Oral Answer N...</td>\n",
       "      <td>Challenges in Applying for Assistance under Le...</td>\n",
       "      <td>41 Mr Thomas Chua Kee Seng asked the Minister ...</td>\n",
       "      <td>Mr Thomas Chua Kee Seng,Mr Lim Swee Say</td>\n",
       "      <td>41 thomas chua kee seng asked manpower ( ) key...</td>\n",
       "      <td>Digital Transformation in Industry</td>\n",
       "      <td>[Mr Thomas Chua Kee Seng, Mr Lim Swee Say]</td>\n",
       "    </tr>\n",
       "    <tr>\n",
       "      <th>30</th>\n",
       "      <td>Oral Answers to Questions</td>\n",
       "      <td>Waiting Time for Childcare Centre Places</td>\n",
       "      <td>5 Er Dr Lee Bee Wah asked\\tthe Minister for So...</td>\n",
       "      <td>The Minister for Social and Family Development...</td>\n",
       "      <td>5 er dr lee bee wah asked social family develo...</td>\n",
       "      <td>Community Care and Services</td>\n",
       "      <td>[Er Dr Lee Bee Wah, Er Dr Lee Bee Wah (Nee Soo...</td>\n",
       "    </tr>\n",
       "    <tr>\n",
       "      <th>32</th>\n",
       "      <td>Written Answers to Questions for Oral Answer N...</td>\n",
       "      <td>Update on Local Enterprise and Association Dev...</td>\n",
       "      <td>40 Mr Thomas Chua Kee Seng asked the Minister ...</td>\n",
       "      <td>Mr Thomas Chua Kee Seng, Mr Chan Chun Sing</td>\n",
       "      <td>40 thomas chua kee seng asked trade industry p...</td>\n",
       "      <td>Digital Transformation in Industry</td>\n",
       "      <td>[Mr Thomas Chua Kee Seng, Mr Chan Chun Sing]</td>\n",
       "    </tr>\n",
       "    <tr>\n",
       "      <th>34</th>\n",
       "      <td>Oral Answers to Questions</td>\n",
       "      <td>Measures to Mitigate Increasing Cost of Living</td>\n",
       "      <td>2 Mr Liang Eng Hwa asked the Minister for Trad...</td>\n",
       "      <td>The Minister for Trade and Industry (Mr Chan C...</td>\n",
       "      <td>2 liang eng hwa asked trade industry ( ) gener...</td>\n",
       "      <td>Workforce Support and Employment</td>\n",
       "      <td>[The Minister for Trade and Industry (Mr Chan ...</td>\n",
       "    </tr>\n",
       "    <tr>\n",
       "      <th>40</th>\n",
       "      <td>Oral Answers to Questions</td>\n",
       "      <td>Companies with Measures to Deal with Workplace...</td>\n",
       "      <td>8 Assoc Prof Walter Theseira asked the Ministe...</td>\n",
       "      <td>The Senior Parliamentary Secretary to the Mini...</td>\n",
       "      <td>8 assoc prof walter theseira asked manpower st...</td>\n",
       "      <td>Workforce Support and Employment</td>\n",
       "      <td>[Assoc Prof Walter Theseira, Assoc Prof Walter...</td>\n",
       "    </tr>\n",
       "    <tr>\n",
       "      <th>41</th>\n",
       "      <td>Oral Answers to Questions</td>\n",
       "      <td>Subject-banding in Accordance with Students’ A...</td>\n",
       "      <td>1 Ms Irene Quay Siew Ching asked the Minister ...</td>\n",
       "      <td>The Second Minister for Education (Ms Indranee...</td>\n",
       "      <td>1 m irene quay siew ching asked education rega...</td>\n",
       "      <td>Education and Support Programmes</td>\n",
       "      <td>[Ms Irene Quay Siew Ching]</td>\n",
       "    </tr>\n",
       "    <tr>\n",
       "      <th>52</th>\n",
       "      <td>Oral Answers to Questions</td>\n",
       "      <td>Review Polytechnic Courses to Ensure They Stay...</td>\n",
       "      <td>1 Dr Lim Wee Kiak asked the Minister for Educa...</td>\n",
       "      <td>The Senior Parliamentary Secretary to the Mini...</td>\n",
       "      <td>1 dr lim wee kiak asked education ( higher edu...</td>\n",
       "      <td>Education and Support Programmes</td>\n",
       "      <td>[Dr Lim Wee Kiak]</td>\n",
       "    </tr>\n",
       "    <tr>\n",
       "      <th>53</th>\n",
       "      <td>Oral Answers to Questions</td>\n",
       "      <td>Salary Components of Prime Minister and Ministers</td>\n",
       "      <td>1 Mr Alex Yam asked the Prime Minister whether...</td>\n",
       "      <td>The Deputy Prime Minister and Coordinating Min...</td>\n",
       "      <td>1 alex yam asked ( ) list component salary min...</td>\n",
       "      <td>Law Enforcement and Rehabilitation</td>\n",
       "      <td>[The Deputy Prime Minister and Coordinating Mi...</td>\n",
       "    </tr>\n",
       "    <tr>\n",
       "      <th>54</th>\n",
       "      <td>Oral Answers to Questions</td>\n",
       "      <td>Profile of Jobs and Industries on Fair Conside...</td>\n",
       "      <td>30 Mr Chong Kee Hiong asked the Minister for M...</td>\n",
       "      <td>The Minister for Manpower (Mrs Josephine Teo),...</td>\n",
       "      <td>30 chong kee hiong asked manpower regard fair ...</td>\n",
       "      <td>Workforce Support and Employment</td>\n",
       "      <td>[The Minister for Manpower (Mrs Josephine Teo)...</td>\n",
       "    </tr>\n",
       "    <tr>\n",
       "      <th>56</th>\n",
       "      <td>Oral Answers to Questions</td>\n",
       "      <td>Clarification on Withdrawal of CPF Savings at ...</td>\n",
       "      <td>1 Mr Lim Biow Chuan asked the Minister for Man...</td>\n",
       "      <td>Mr Chong Kee Hiong,Mr Liang Eng Hwa,Mr Patrick...</td>\n",
       "      <td>1 lim biow chuan asked manpower cpf board ( ) ...</td>\n",
       "      <td>Legislative Matters and Amendments</td>\n",
       "      <td>[Mr Chong Kee Hiong, Mr Liang Eng Hwa, Mr Patr...</td>\n",
       "    </tr>\n",
       "    <tr>\n",
       "      <th>59</th>\n",
       "      <td>Oral Answers to Questions</td>\n",
       "      <td>Singaporeans' Perception of Local Brands and P...</td>\n",
       "      <td>1 Dr Lim Wee Kiak asked the Minister for Trade...</td>\n",
       "      <td>Dr Lim Wee Kiak (Sembawang), The Senior Minist...</td>\n",
       "      <td>1 dr lim wee kiak asked trade industry ( indus...</td>\n",
       "      <td>Digital Transformation in Industry</td>\n",
       "      <td>[Dr Lim Wee Kiak (Sembawang), Dr Lim Wee Kiak]</td>\n",
       "    </tr>\n",
       "    <tr>\n",
       "      <th>64</th>\n",
       "      <td>Oral Answers to Questions</td>\n",
       "      <td>Percentage of Singaporean Mother Tongue Teache...</td>\n",
       "      <td>21 Mr Darryl David asked the Minister for Soci...</td>\n",
       "      <td>The Minister for Social and Family Development...</td>\n",
       "      <td>21 darryl david asked social family developmen...</td>\n",
       "      <td>Education and Support Programmes</td>\n",
       "      <td>[Mr Speaker, Mr Darryl David (Ang Mo Kio), Mr ...</td>\n",
       "    </tr>\n",
       "    <tr>\n",
       "      <th>73</th>\n",
       "      <td>Oral Answers to Questions</td>\n",
       "      <td>Analysis that Supported Development of SecureM...</td>\n",
       "      <td>11 Assoc Prof Walter Theseira asked the Minist...</td>\n",
       "      <td>The Minister for Transport (Mr Khaw Boon Wan),...</td>\n",
       "      <td>11 assoc prof walter theseira asked transport ...</td>\n",
       "      <td>Punlic Transport and Waste Management</td>\n",
       "      <td>[Assoc Prof Walter Theseira, Assoc Prof Walter...</td>\n",
       "    </tr>\n",
       "    <tr>\n",
       "      <th>74</th>\n",
       "      <td>Oral Answers to Questions</td>\n",
       "      <td>Top Five Industries where Freelancers Venture ...</td>\n",
       "      <td>4 Dr Lim Wee Kiak asked the Minister for Manpo...</td>\n",
       "      <td>Dr Lim Wee Kiak (Sembawang), The Second Minist...</td>\n",
       "      <td>4 dr lim wee kiak asked manpower ( ) industry ...</td>\n",
       "      <td>Education and Support Programmes</td>\n",
       "      <td>[Dr Lim Wee Kiak (Sembawang), Dr Lim Wee Kiak]</td>\n",
       "    </tr>\n",
       "    <tr>\n",
       "      <th>89</th>\n",
       "      <td>Written Answers to Questions for Oral Answer N...</td>\n",
       "      <td>Impact of COVID-19 Situation on Singapore’s Cl...</td>\n",
       "      <td>26 Mr Kwek Hian Chuan Henry asked the Minister...</td>\n",
       "      <td>Mr Kwek Hian Chuan Henry, Mr Masagos Zulkifli ...</td>\n",
       "      <td>26 kwek hian chuan henry asked environment wat...</td>\n",
       "      <td>Digital Transformation in Industry</td>\n",
       "      <td>[Mr Kwek Hian Chuan Henry, Mr Masagos Zulkifli...</td>\n",
       "    </tr>\n",
       "    <tr>\n",
       "      <th>90</th>\n",
       "      <td>Oral Answers to Questions</td>\n",
       "      <td>Plans for Allied Educators in Schools for Lear...</td>\n",
       "      <td>1 Mr Leon Perera asked the Minister for Educat...</td>\n",
       "      <td>The Senior Parliamentary Secretary to the Mini...</td>\n",
       "      <td>1 leon perera asked education change planned r...</td>\n",
       "      <td>Education and Support Programmes</td>\n",
       "      <td>[Mr Leon Perera, Mr Leon Perera, Mr Leon Perer...</td>\n",
       "    </tr>\n",
       "    <tr>\n",
       "      <th>100</th>\n",
       "      <td>Oral Answers to Questions</td>\n",
       "      <td>More Financial Incentives and Charging Points ...</td>\n",
       "      <td>20 Er Dr Lee Bee Wah asked\\t the Minister for ...</td>\n",
       "      <td>The Minister for Transport (Mr Khaw Boon Wan),...</td>\n",
       "      <td>20 er dr lee bee wah asked transport ( ) 's po...</td>\n",
       "      <td>Punlic Transport and Waste Management</td>\n",
       "      <td>[Er Dr Lee Bee Wah, Er Dr Lee Bee Wah]</td>\n",
       "    </tr>\n",
       "    <tr>\n",
       "      <th>107</th>\n",
       "      <td>Oral Answers to Questions</td>\n",
       "      <td>Effectiveness of Support Schemes in Helping PM...</td>\n",
       "      <td>9 Ms Foo Mee Har asked\\tthe Minister for Manpo...</td>\n",
       "      <td>Ms Foo Mee Har,The Minister for Manpower (Mr L...</td>\n",
       "      <td>9 m foo mee har asked manpower light job layof...</td>\n",
       "      <td>Workforce Support and Employment</td>\n",
       "      <td>[Ms Foo Mee Har, Ms Foo Mee Har (West Coast)]</td>\n",
       "    </tr>\n",
       "    <tr>\n",
       "      <th>108</th>\n",
       "      <td>Oral Answers to Questions</td>\n",
       "      <td>Extending Mandatory Time-frame for When Govern...</td>\n",
       "      <td>3 Mr Louis Ng Kok Kwang asked the Prime Minist...</td>\n",
       "      <td>The Minister for Manpower and Second Minister ...</td>\n",
       "      <td>3 louis ng kok kwang asked consider increasing...</td>\n",
       "      <td>National Defence and Security</td>\n",
       "      <td>[The Minister for Manpower and Second Minister...</td>\n",
       "    </tr>\n",
       "    <tr>\n",
       "      <th>109</th>\n",
       "      <td>Oral Answers to Questions</td>\n",
       "      <td>Impact of Home-Based Learning and School Closu...</td>\n",
       "      <td>5 Mr Darryl David asked the Minister for Educa...</td>\n",
       "      <td>The Minister for Education (Mr Ong Ye Kung), M...</td>\n",
       "      <td>5 darryl david asked education period home-bas...</td>\n",
       "      <td>Education and Support Programmes</td>\n",
       "      <td>[Mr Darryl David, Mr Darryl David (Ang Mo Kio)...</td>\n",
       "    </tr>\n",
       "    <tr>\n",
       "      <th>116</th>\n",
       "      <td>Oral Answers to Questions</td>\n",
       "      <td>Foreign Worker Representation in Tech and IT S...</td>\n",
       "      <td>5 Mr Desmond Choo asked\\t the Minister for Man...</td>\n",
       "      <td>Mr Desmond Choo,Mr Desmond Choo (Tampines),Mr ...</td>\n",
       "      <td>5 desmond choo asked manpower ( ) current brea...</td>\n",
       "      <td>Workforce Support and Employment</td>\n",
       "      <td>[Mr Desmond Choo, Mr Desmond Choo (Tampines), ...</td>\n",
       "    </tr>\n",
       "    <tr>\n",
       "      <th>122</th>\n",
       "      <td>Oral Answers to Questions</td>\n",
       "      <td>Effectiveness of Matching and Retraining under...</td>\n",
       "      <td>19 Mr Zaqy Mohamad asked\\tthe Minister for Man...</td>\n",
       "      <td>Mr Desmond Choo (Tampines),Mr Zaqy Mohamad,The...</td>\n",
       "      <td>19 zaqy mohamad asked manpower ( ) 's assessme...</td>\n",
       "      <td>Workforce Support and Employment</td>\n",
       "      <td>[Mr Desmond Choo (Tampines), Mr Zaqy Mohamad, ...</td>\n",
       "    </tr>\n",
       "    <tr>\n",
       "      <th>131</th>\n",
       "      <td>Oral Answers to Questions</td>\n",
       "      <td>Demand and Supply of Heavy Vehicle Parking Lots</td>\n",
       "      <td>2 Assoc Prof Fatimah Lateef asked\\tthe Ministe...</td>\n",
       "      <td>Assoc Prof Fatimah Lateef,The Senior Minister ...</td>\n",
       "      <td>2 assoc prof fatimah lateef asked national dev...</td>\n",
       "      <td>Punlic Transport and Waste Management</td>\n",
       "      <td>[Assoc Prof Fatimah Lateef, Assoc Prof Fatimah...</td>\n",
       "    </tr>\n",
       "    <tr>\n",
       "      <th>132</th>\n",
       "      <td>Oral Answers to Questions</td>\n",
       "      <td>Dealing with Higher Unemployment Rate</td>\n",
       "      <td>10 Mr Patrick Tay Teck Guan asked\\tthe Ministe...</td>\n",
       "      <td>Mr Liang Eng Hwa,Dr Tan Wu Meng (Jurong),Mr Pa...</td>\n",
       "      <td>10 patrick tay teck guan asked manpower light ...</td>\n",
       "      <td>Workforce Support and Employment</td>\n",
       "      <td>[Mr Liang Eng Hwa, Dr Tan Wu Meng (Jurong), Mr...</td>\n",
       "    </tr>\n",
       "    <tr>\n",
       "      <th>143</th>\n",
       "      <td>Oral Answers to Questions</td>\n",
       "      <td>Measuring Quality of Healthcare Delivery and A...</td>\n",
       "      <td>13 Ms Joan Pereira asked\\tthe Minister for Hea...</td>\n",
       "      <td>The Minister for Health (Mr Gan Kim Yong), Ms ...</td>\n",
       "      <td>13 m joan pereira asked health ( ) benchmark u...</td>\n",
       "      <td>Community Care and Services</td>\n",
       "      <td>[Ms Joan Pereira (Tanjong Pagar), Ms Joan Pere...</td>\n",
       "    </tr>\n",
       "    <tr>\n",
       "      <th>146</th>\n",
       "      <td>Written Answers to Questions for Oral Answer N...</td>\n",
       "      <td>Progress of EntrePass Scheme</td>\n",
       "      <td>54 Mr Saktiandi Supaat asked the Minister for ...</td>\n",
       "      <td>Mr Saktiandi Supaat, Mr S Iswaran</td>\n",
       "      <td>54 saktiandi supaat asked trade industry ( ind...</td>\n",
       "      <td>Digital Transformation in Industry</td>\n",
       "      <td>[Mr Saktiandi Supaat, Mr S Iswaran]</td>\n",
       "    </tr>\n",
       "    <tr>\n",
       "      <th>158</th>\n",
       "      <td>Oral Answers to Questions</td>\n",
       "      <td>Sustainability of Rail Reliability Levels</td>\n",
       "      <td>3 Mr Sitoh Yih Pin asked the Minister for Tran...</td>\n",
       "      <td>The Minister for Transport (Mr Khaw Boon Wan),...</td>\n",
       "      <td>3 sitoh yih pin asked transport provide update...</td>\n",
       "      <td>Punlic Transport and Waste Management</td>\n",
       "      <td>[Mr Sitoh Yih Pin, Mr Dennis Tan Lip Fong (Non...</td>\n",
       "    </tr>\n",
       "    <tr>\n",
       "      <th>159</th>\n",
       "      <td>Oral Answers to Questions</td>\n",
       "      <td>Complaints on Lapses in Real-time Updates for ...</td>\n",
       "      <td>1 Er Dr Lee Bee Wah asked\\tthe Minister for Tr...</td>\n",
       "      <td>Er Dr Lee Bee Wah (Nee Soon),Er Dr Lee Bee Wah...</td>\n",
       "      <td>1 er dr lee bee wah asked transport ( ) lta aw...</td>\n",
       "      <td>Punlic Transport and Waste Management</td>\n",
       "      <td>[Er Dr Lee Bee Wah (Nee Soon), Er Dr Lee Bee W...</td>\n",
       "    </tr>\n",
       "  </tbody>\n",
       "</table>\n",
       "</div>"
      ],
      "text/plain": [
       "                                          Section Name  \\\n",
       "0                            Oral Answers to Questions   \n",
       "1    Written Answers to Questions for Oral Answer N...   \n",
       "3                            Oral Answers to Questions   \n",
       "13                           Oral Answers to Questions   \n",
       "14                           Oral Answers to Questions   \n",
       "15                           Oral Answers to Questions   \n",
       "24   Written Answers to Questions for Oral Answer N...   \n",
       "30                           Oral Answers to Questions   \n",
       "32   Written Answers to Questions for Oral Answer N...   \n",
       "34                           Oral Answers to Questions   \n",
       "40                           Oral Answers to Questions   \n",
       "41                           Oral Answers to Questions   \n",
       "52                           Oral Answers to Questions   \n",
       "53                           Oral Answers to Questions   \n",
       "54                           Oral Answers to Questions   \n",
       "56                           Oral Answers to Questions   \n",
       "59                           Oral Answers to Questions   \n",
       "64                           Oral Answers to Questions   \n",
       "73                           Oral Answers to Questions   \n",
       "74                           Oral Answers to Questions   \n",
       "89   Written Answers to Questions for Oral Answer N...   \n",
       "90                           Oral Answers to Questions   \n",
       "100                          Oral Answers to Questions   \n",
       "107                          Oral Answers to Questions   \n",
       "108                          Oral Answers to Questions   \n",
       "109                          Oral Answers to Questions   \n",
       "116                          Oral Answers to Questions   \n",
       "122                          Oral Answers to Questions   \n",
       "131                          Oral Answers to Questions   \n",
       "132                          Oral Answers to Questions   \n",
       "143                          Oral Answers to Questions   \n",
       "146  Written Answers to Questions for Oral Answer N...   \n",
       "158                          Oral Answers to Questions   \n",
       "159                          Oral Answers to Questions   \n",
       "\n",
       "                                                 Title  \\\n",
       "0    Fair Process for Termination Due to Poor Perfo...   \n",
       "1    Details and Framework of Workings of The Speci...   \n",
       "3            Female Representation in Statutory Boards   \n",
       "13   Wage Growth Moving in Tandem with Productivity...   \n",
       "14   Impact of Recent Fires in Australia on Singapo...   \n",
       "15                   Capital Reserve in PUB's Accounts   \n",
       "24   Challenges in Applying for Assistance under Le...   \n",
       "30            Waiting Time for Childcare Centre Places   \n",
       "32   Update on Local Enterprise and Association Dev...   \n",
       "34      Measures to Mitigate Increasing Cost of Living   \n",
       "40   Companies with Measures to Deal with Workplace...   \n",
       "41   Subject-banding in Accordance with Students’ A...   \n",
       "52   Review Polytechnic Courses to Ensure They Stay...   \n",
       "53   Salary Components of Prime Minister and Ministers   \n",
       "54   Profile of Jobs and Industries on Fair Conside...   \n",
       "56   Clarification on Withdrawal of CPF Savings at ...   \n",
       "59   Singaporeans' Perception of Local Brands and P...   \n",
       "64   Percentage of Singaporean Mother Tongue Teache...   \n",
       "73   Analysis that Supported Development of SecureM...   \n",
       "74   Top Five Industries where Freelancers Venture ...   \n",
       "89   Impact of COVID-19 Situation on Singapore’s Cl...   \n",
       "90   Plans for Allied Educators in Schools for Lear...   \n",
       "100  More Financial Incentives and Charging Points ...   \n",
       "107  Effectiveness of Support Schemes in Helping PM...   \n",
       "108  Extending Mandatory Time-frame for When Govern...   \n",
       "109  Impact of Home-Based Learning and School Closu...   \n",
       "116  Foreign Worker Representation in Tech and IT S...   \n",
       "122  Effectiveness of Matching and Retraining under...   \n",
       "131    Demand and Supply of Heavy Vehicle Parking Lots   \n",
       "132              Dealing with Higher Unemployment Rate   \n",
       "143  Measuring Quality of Healthcare Delivery and A...   \n",
       "146                       Progress of EntrePass Scheme   \n",
       "158          Sustainability of Rail Reliability Levels   \n",
       "159  Complaints on Lapses in Real-time Updates for ...   \n",
       "\n",
       "                                                  Text  \\\n",
       "0    1 Dr Tan Wu Meng asked\\tthe Minister for Manpo...   \n",
       "1    22 Assoc Prof Fatimah Lateef asked the Ministe...   \n",
       "3    The following question stood in the name of Ms...   \n",
       "13   1 Mr Saktiandi Supaat asked the Minister for T...   \n",
       "14   29 Mr Seah Kian Peng asked the Minister for th...   \n",
       "15   8 Mr Liang Eng Hwa asked the Minister for Fina...   \n",
       "24   41 Mr Thomas Chua Kee Seng asked the Minister ...   \n",
       "30   5 Er Dr Lee Bee Wah asked\\tthe Minister for So...   \n",
       "32   40 Mr Thomas Chua Kee Seng asked the Minister ...   \n",
       "34   2 Mr Liang Eng Hwa asked the Minister for Trad...   \n",
       "40   8 Assoc Prof Walter Theseira asked the Ministe...   \n",
       "41   1 Ms Irene Quay Siew Ching asked the Minister ...   \n",
       "52   1 Dr Lim Wee Kiak asked the Minister for Educa...   \n",
       "53   1 Mr Alex Yam asked the Prime Minister whether...   \n",
       "54   30 Mr Chong Kee Hiong asked the Minister for M...   \n",
       "56   1 Mr Lim Biow Chuan asked the Minister for Man...   \n",
       "59   1 Dr Lim Wee Kiak asked the Minister for Trade...   \n",
       "64   21 Mr Darryl David asked the Minister for Soci...   \n",
       "73   11 Assoc Prof Walter Theseira asked the Minist...   \n",
       "74   4 Dr Lim Wee Kiak asked the Minister for Manpo...   \n",
       "89   26 Mr Kwek Hian Chuan Henry asked the Minister...   \n",
       "90   1 Mr Leon Perera asked the Minister for Educat...   \n",
       "100  20 Er Dr Lee Bee Wah asked\\t the Minister for ...   \n",
       "107  9 Ms Foo Mee Har asked\\tthe Minister for Manpo...   \n",
       "108  3 Mr Louis Ng Kok Kwang asked the Prime Minist...   \n",
       "109  5 Mr Darryl David asked the Minister for Educa...   \n",
       "116  5 Mr Desmond Choo asked\\t the Minister for Man...   \n",
       "122  19 Mr Zaqy Mohamad asked\\tthe Minister for Man...   \n",
       "131  2 Assoc Prof Fatimah Lateef asked\\tthe Ministe...   \n",
       "132  10 Mr Patrick Tay Teck Guan asked\\tthe Ministe...   \n",
       "143  13 Ms Joan Pereira asked\\tthe Minister for Hea...   \n",
       "146  54 Mr Saktiandi Supaat asked the Minister for ...   \n",
       "158  3 Mr Sitoh Yih Pin asked the Minister for Tran...   \n",
       "159  1 Er Dr Lee Bee Wah asked\\tthe Minister for Tr...   \n",
       "\n",
       "                                              Speakers  \\\n",
       "0    Er Dr Lee Bee Wah (Nee Soon),Mr Zainal Sapari ...   \n",
       "1                  Prof Fatimah Lateef, Mr Desmond Lee   \n",
       "3    The Senior Parliamentary Secretary to the Mini...   \n",
       "13   Mr Saktiandi Supaat,The Senior Minister of Sta...   \n",
       "14   The Minister for the Environment and Water Res...   \n",
       "15   Mr Pritam Singh, Mr Liang Eng Hwa, Mr Low Thia...   \n",
       "24             Mr Thomas Chua Kee Seng,Mr Lim Swee Say   \n",
       "30   The Minister for Social and Family Development...   \n",
       "32          Mr Thomas Chua Kee Seng, Mr Chan Chun Sing   \n",
       "34   The Minister for Trade and Industry (Mr Chan C...   \n",
       "40   The Senior Parliamentary Secretary to the Mini...   \n",
       "41   The Second Minister for Education (Ms Indranee...   \n",
       "52   The Senior Parliamentary Secretary to the Mini...   \n",
       "53   The Deputy Prime Minister and Coordinating Min...   \n",
       "54   The Minister for Manpower (Mrs Josephine Teo),...   \n",
       "56   Mr Chong Kee Hiong,Mr Liang Eng Hwa,Mr Patrick...   \n",
       "59   Dr Lim Wee Kiak (Sembawang), The Senior Minist...   \n",
       "64   The Minister for Social and Family Development...   \n",
       "73   The Minister for Transport (Mr Khaw Boon Wan),...   \n",
       "74   Dr Lim Wee Kiak (Sembawang), The Second Minist...   \n",
       "89   Mr Kwek Hian Chuan Henry, Mr Masagos Zulkifli ...   \n",
       "90   The Senior Parliamentary Secretary to the Mini...   \n",
       "100  The Minister for Transport (Mr Khaw Boon Wan),...   \n",
       "107  Ms Foo Mee Har,The Minister for Manpower (Mr L...   \n",
       "108  The Minister for Manpower and Second Minister ...   \n",
       "109  The Minister for Education (Mr Ong Ye Kung), M...   \n",
       "116  Mr Desmond Choo,Mr Desmond Choo (Tampines),Mr ...   \n",
       "122  Mr Desmond Choo (Tampines),Mr Zaqy Mohamad,The...   \n",
       "131  Assoc Prof Fatimah Lateef,The Senior Minister ...   \n",
       "132  Mr Liang Eng Hwa,Dr Tan Wu Meng (Jurong),Mr Pa...   \n",
       "143  The Minister for Health (Mr Gan Kim Yong), Ms ...   \n",
       "146                  Mr Saktiandi Supaat, Mr S Iswaran   \n",
       "158  The Minister for Transport (Mr Khaw Boon Wan),...   \n",
       "159  Er Dr Lee Bee Wah (Nee Soon),Er Dr Lee Bee Wah...   \n",
       "\n",
       "                                       Lemmatized Text  \\\n",
       "0    1 dr tan wu meng asked manpower provide update...   \n",
       "1    22 assoc prof fatimah lateef asked social fami...   \n",
       "3    following question stood m anthea ong –1 ask s...   \n",
       "13   1 saktiandi supaat asked trade industry ( ) wa...   \n",
       "14   29 seah kian peng asked environment water reso...   \n",
       "15   8 liang eng hwa asked finance clarify $ 5.3 bi...   \n",
       "24   41 thomas chua kee seng asked manpower ( ) key...   \n",
       "30   5 er dr lee bee wah asked social family develo...   \n",
       "32   40 thomas chua kee seng asked trade industry p...   \n",
       "34   2 liang eng hwa asked trade industry ( ) gener...   \n",
       "40   8 assoc prof walter theseira asked manpower st...   \n",
       "41   1 m irene quay siew ching asked education rega...   \n",
       "52   1 dr lim wee kiak asked education ( higher edu...   \n",
       "53   1 alex yam asked ( ) list component salary min...   \n",
       "54   30 chong kee hiong asked manpower regard fair ...   \n",
       "56   1 lim biow chuan asked manpower cpf board ( ) ...   \n",
       "59   1 dr lim wee kiak asked trade industry ( indus...   \n",
       "64   21 darryl david asked social family developmen...   \n",
       "73   11 assoc prof walter theseira asked transport ...   \n",
       "74   4 dr lim wee kiak asked manpower ( ) industry ...   \n",
       "89   26 kwek hian chuan henry asked environment wat...   \n",
       "90   1 leon perera asked education change planned r...   \n",
       "100  20 er dr lee bee wah asked transport ( ) 's po...   \n",
       "107  9 m foo mee har asked manpower light job layof...   \n",
       "108  3 louis ng kok kwang asked consider increasing...   \n",
       "109  5 darryl david asked education period home-bas...   \n",
       "116  5 desmond choo asked manpower ( ) current brea...   \n",
       "122  19 zaqy mohamad asked manpower ( ) 's assessme...   \n",
       "131  2 assoc prof fatimah lateef asked national dev...   \n",
       "132  10 patrick tay teck guan asked manpower light ...   \n",
       "143  13 m joan pereira asked health ( ) benchmark u...   \n",
       "146  54 saktiandi supaat asked trade industry ( ind...   \n",
       "158  3 sitoh yih pin asked transport provide update...   \n",
       "159  1 er dr lee bee wah asked transport ( ) lta aw...   \n",
       "\n",
       "                                     Topic  \\\n",
       "0         Workforce Support and Employment   \n",
       "1              Community Care and Services   \n",
       "3              Community Care and Services   \n",
       "13      Digital Transformation in Industry   \n",
       "14   Punlic Transport and Waste Management   \n",
       "15        Workforce Support and Employment   \n",
       "24      Digital Transformation in Industry   \n",
       "30             Community Care and Services   \n",
       "32      Digital Transformation in Industry   \n",
       "34        Workforce Support and Employment   \n",
       "40        Workforce Support and Employment   \n",
       "41        Education and Support Programmes   \n",
       "52        Education and Support Programmes   \n",
       "53      Law Enforcement and Rehabilitation   \n",
       "54        Workforce Support and Employment   \n",
       "56      Legislative Matters and Amendments   \n",
       "59      Digital Transformation in Industry   \n",
       "64        Education and Support Programmes   \n",
       "73   Punlic Transport and Waste Management   \n",
       "74        Education and Support Programmes   \n",
       "89      Digital Transformation in Industry   \n",
       "90        Education and Support Programmes   \n",
       "100  Punlic Transport and Waste Management   \n",
       "107       Workforce Support and Employment   \n",
       "108          National Defence and Security   \n",
       "109       Education and Support Programmes   \n",
       "116       Workforce Support and Employment   \n",
       "122       Workforce Support and Employment   \n",
       "131  Punlic Transport and Waste Management   \n",
       "132       Workforce Support and Employment   \n",
       "143            Community Care and Services   \n",
       "146     Digital Transformation in Industry   \n",
       "158  Punlic Transport and Waste Management   \n",
       "159  Punlic Transport and Waste Management   \n",
       "\n",
       "                                             MPs_Asked  \n",
       "0    [Er Dr Lee Bee Wah (Nee Soon), Dr Tan Wu Meng ...  \n",
       "1                                [Prof Fatimah Lateef]  \n",
       "3    [The Senior Parliamentary Secretary to the Min...  \n",
       "13   [Mr Saktiandi Supaat, Saktiandi Supaat, Mr Sak...  \n",
       "14   [Mr Seah Kian Peng, Mr Seah Kian Peng (Marine ...  \n",
       "15   [Mr Pritam Singh, Mr Liang Eng Hwa, Mr Low Thi...  \n",
       "24          [Mr Thomas Chua Kee Seng, Mr Lim Swee Say]  \n",
       "30   [Er Dr Lee Bee Wah, Er Dr Lee Bee Wah (Nee Soo...  \n",
       "32        [Mr Thomas Chua Kee Seng, Mr Chan Chun Sing]  \n",
       "34   [The Minister for Trade and Industry (Mr Chan ...  \n",
       "40   [Assoc Prof Walter Theseira, Assoc Prof Walter...  \n",
       "41                          [Ms Irene Quay Siew Ching]  \n",
       "52                                   [Dr Lim Wee Kiak]  \n",
       "53   [The Deputy Prime Minister and Coordinating Mi...  \n",
       "54   [The Minister for Manpower (Mrs Josephine Teo)...  \n",
       "56   [Mr Chong Kee Hiong, Mr Liang Eng Hwa, Mr Patr...  \n",
       "59      [Dr Lim Wee Kiak (Sembawang), Dr Lim Wee Kiak]  \n",
       "64   [Mr Speaker, Mr Darryl David (Ang Mo Kio), Mr ...  \n",
       "73   [Assoc Prof Walter Theseira, Assoc Prof Walter...  \n",
       "74      [Dr Lim Wee Kiak (Sembawang), Dr Lim Wee Kiak]  \n",
       "89   [Mr Kwek Hian Chuan Henry, Mr Masagos Zulkifli...  \n",
       "90   [Mr Leon Perera, Mr Leon Perera, Mr Leon Perer...  \n",
       "100             [Er Dr Lee Bee Wah, Er Dr Lee Bee Wah]  \n",
       "107      [Ms Foo Mee Har, Ms Foo Mee Har (West Coast)]  \n",
       "108  [The Minister for Manpower and Second Minister...  \n",
       "109  [Mr Darryl David, Mr Darryl David (Ang Mo Kio)...  \n",
       "116  [Mr Desmond Choo, Mr Desmond Choo (Tampines), ...  \n",
       "122  [Mr Desmond Choo (Tampines), Mr Zaqy Mohamad, ...  \n",
       "131  [Assoc Prof Fatimah Lateef, Assoc Prof Fatimah...  \n",
       "132  [Mr Liang Eng Hwa, Dr Tan Wu Meng (Jurong), Mr...  \n",
       "143  [Ms Joan Pereira (Tanjong Pagar), Ms Joan Pere...  \n",
       "146                [Mr Saktiandi Supaat, Mr S Iswaran]  \n",
       "158  [Mr Sitoh Yih Pin, Mr Dennis Tan Lip Fong (Non...  \n",
       "159  [Er Dr Lee Bee Wah (Nee Soon), Er Dr Lee Bee W...  "
      ]
     },
     "execution_count": 24,
     "metadata": {},
     "output_type": "execute_result"
    }
   ],
   "source": [
    "df_questions"
   ]
  },
  {
   "cell_type": "code",
   "execution_count": 26,
   "metadata": {},
   "outputs": [
    {
     "data": {
      "text/plain": [
       "MPs_Asked\n",
       "[Dr Lim Wee Kiak (Sembawang), Dr Lim Wee Kiak]                                                                                                                                                                                                                                                                                                                                                                                                                                                                                                              2\n",
       "[Assoc Prof Walter Theseira, Assoc Prof Walter Theseira (Nominated Member)]                                                                                                                                                                                                                                                                                                                                                                                                                                                                                 2\n",
       "[Mr Speaker, Mr Darryl David (Ang Mo Kio), Mr Darryl David]                                                                                                                                                                                                                                                                                                                                                                                                                                                                                                 1\n",
       "[Mr Sitoh Yih Pin, Mr Dennis Tan Lip Fong (Non-Constituency Member), Mr Pritam Singh (Aljunied), Mr Pritam Singh, Mr Sitoh Yih Pin (Potong Pasir), Mr Yee Chia Hsing (Chua Chu Kang), Mr Sitoh Yih Pin, Mr Khaw Boon Wan, Mr Khaw Boon Wan, Mr Khaw Boon Wan, Mr Khaw Boon Wan, Mr Khaw Boon Wan, Mr Khaw Boon Wan, Mr Khaw Boon Wan, Mr Khaw Boon Wan]                                                                                                                                                                                                     1\n",
       "[Mr Saktiandi Supaat, Mr S Iswaran]                                                                                                                                                                                                                                                                                                                                                                                                                                                                                                                         1\n",
       "[Ms Joan Pereira (Tanjong Pagar), Ms Joan Pereira]                                                                                                                                                                                                                                                                                                                                                                                                                                                                                                          1\n",
       "[Mr Liang Eng Hwa, Dr Tan Wu Meng (Jurong), Mr Patrick Tay Teck Guan, Ms Foo Mee Har, Mr Melvin Yong Yik Chye, Mr Ang Hin Kee (Ang Mo Kio), Mr Liang Eng Hwa (Holland-Bukit Timah), Mr Ang Hin Kee, Dr Tan Wu Meng, Mr Patrick Tay Teck Guan (West Coast), Mr Desmond Choo, Assoc Prof Daniel Goh Pei Siong (Non-Constituency Member), Mr Christopher de Souza, Ms Jessica Tan Soon Neo, Mr Ang Wei Neng, Ms Foo Mee Har (West Coast), Mr Lim Swee Say, Assoc Prof Daniel Goh Pei Siong]                                                                    1\n",
       "[Assoc Prof Fatimah Lateef, Assoc Prof Fatimah Lateef (Marine Parade)]                                                                                                                                                                                                                                                                                                                                                                                                                                                                                      1\n",
       "[Mr Desmond Choo (Tampines), Mr Zaqy Mohamad, Mr Lim Swee Say, Mr Zaqy Mohamad (Chua Chu Kang)]                                                                                                                                                                                                                                                                                                                                                                                                                                                             1\n",
       "[Mr Desmond Choo, Mr Desmond Choo (Tampines), Mr Seah Kian Peng (Marine Parade), Mr Lim Swee Say, Mr Patrick Tay Teck Guan (West Coast)]                                                                                                                                                                                                                                                                                                                                                                                                                    1\n",
       "[Mr Darryl David, Mr Darryl David (Ang Mo Kio), Mr Ong Ye Kung]                                                                                                                                                                                                                                                                                                                                                                                                                                                                                             1\n",
       "[The Minister for Manpower and Second Minister for Home Affairs (Mrs Josephine Teo), Mr Louis Ng Kok Kwang, Mr Louis Ng Kok Kwang (Nee Soon)]                                                                                                                                                                                                                                                                                                                                                                                                               1\n",
       "[Ms Foo Mee Har, Ms Foo Mee Har (West Coast)]                                                                                                                                                                                                                                                                                                                                                                                                                                                                                                               1\n",
       "[Er Dr Lee Bee Wah, Er Dr Lee Bee Wah]                                                                                                                                                                                                                                                                                                                                                                                                                                                                                                                      1\n",
       "[Mr Leon Perera, Mr Leon Perera, Mr Leon Perera (Non-Constituency Member)]                                                                                                                                                                                                                                                                                                                                                                                                                                                                                  1\n",
       "[Mr Kwek Hian Chuan Henry, Mr Masagos Zulkifli B M M]                                                                                                                                                                                                                                                                                                                                                                                                                                                                                                       1\n",
       "[Er Dr Lee Bee Wah (Nee Soon), Dr Tan Wu Meng (Jurong), Assoc Prof Daniel Goh Pei Siong (Non-Constituency Member), Dr Tan Wu Meng, Assoc Prof Daniel Goh Pei Siong]                                                                                                                                                                                                                                                                                                                                                                                         1\n",
       "[Prof Fatimah Lateef]                                                                                                                                                                                                                                                                                                                                                                                                                                                                                                                                       1\n",
       "[Mr Chong Kee Hiong, Mr Liang Eng Hwa, Mr Patrick Tay Teck Guan, Ms Foo Mee Har, Mr Png Eng Huat (Hougang), Mr Liang Eng Hwa (Holland-Bukit Timah), Mr Lim Biow Chuan (Mountbatten), Mr Saktiandi Supaat (Bishan-Toa Payoh), The Minister for Manpower (Mrs Josephine Teo), Assoc Prof Walter Theseira, Mr Chong Kee Hiong (Bishan-Toa Payoh), Ms Jessica Tan Soon Neo (East Coast), Ms Jessica Tan Soon Neo, Mr Lim Biow Chuan, Mr Png Eng Huat, Ms Foo Mee Har (West Coast), Miss Cheryl Chan Wei Ling, Assoc Prof Walter Theseira (Nominated Member)]    1\n",
       "[The Minister for Manpower (Mrs Josephine Teo), Mr Chong Kee Hiong, Mr Patrick Tay Teck Guan (West Coast)]                                                                                                                                                                                                                                                                                                                                                                                                                                                  1\n",
       "[The Deputy Prime Minister and Coordinating Minister for National Security (Mr Teo Chee Hean), Mr Leon Perera, Mr Alex Yam, Mr Pritam Singh (Aljunied), Mr Leon Perera (Non-Constituency Member), Mr Leon Perera, Mr Alex Yam (Marsiling-Yew Tee), Mr Leon Perera, Mr Pritam Singh, Mr Teo Chee Hean, Mr Teo Chee Hean, Mr Teo Chee Hean, Mr Teo Chee Hean, Mr Teo Chee Hean, Mr Teo Chee Hean]                                                                                                                                                             1\n",
       "[Dr Lim Wee Kiak]                                                                                                                                                                                                                                                                                                                                                                                                                                                                                                                                           1\n",
       "[Ms Irene Quay Siew Ching]                                                                                                                                                                                                                                                                                                                                                                                                                                                                                                                                  1\n",
       "[The Minister for Trade and Industry (Mr Chan Chun Sing), Mr Liang Eng Hwa, Mr Saktiandi Supaat, Mr Seah Kian Peng, Mr Lim Biow Chuan, Mr Yee Chia Hsing, Mr Leon Perera, Liang Eng Hwa, Mr Chan Chun Sing]                                                                                                                                                                                                                                                                                                                                                 1\n",
       "[Mr Thomas Chua Kee Seng, Mr Chan Chun Sing]                                                                                                                                                                                                                                                                                                                                                                                                                                                                                                                1\n",
       "[Er Dr Lee Bee Wah, Er Dr Lee Bee Wah (Nee Soon), Er Dr Lee Bee Wah]                                                                                                                                                                                                                                                                                                                                                                                                                                                                                        1\n",
       "[Mr Thomas Chua Kee Seng, Mr Lim Swee Say]                                                                                                                                                                                                                                                                                                                                                                                                                                                                                                                  1\n",
       "[Mr Pritam Singh, Mr Liang Eng Hwa, Mr Low Thia Khiang (Aljunied), Mr Speaker, Liang Eng Hwa]                                                                                                                                                                                                                                                                                                                                                                                                                                                               1\n",
       "[Mr Seah Kian Peng, Mr Seah Kian Peng (Marine Parade), Mr Masagos Zulkifli B M M]                                                                                                                                                                                                                                                                                                                                                                                                                                                                           1\n",
       "[Mr Saktiandi Supaat, Saktiandi Supaat, Mr Saktiandi Supaat (Bishan-Toa Payoh)]                                                                                                                                                                                                                                                                                                                                                                                                                                                                             1\n",
       "[The Senior Parliamentary Secretary to the Minister for Social and Family Development (Assoc Prof Dr Muhammad Faishal Ibrahim), Ms Anthea Ong]                                                                                                                                                                                                                                                                                                                                                                                                              1\n",
       "[Er Dr Lee Bee Wah (Nee Soon), Er Dr Lee Bee Wah, Mr Low Thia Khiang (Aljunied), Mr Melvin Yong Yik Chye (Tanjong Pagar), Mr Khaw Boon Wan]                                                                                                                                                                                                                                                                                                                                                                                                                 1\n",
       "Name: count, dtype: int64"
      ]
     },
     "execution_count": 26,
     "metadata": {},
     "output_type": "execute_result"
    }
   ],
   "source": [
    "df_questions[\"MPs_Asked\"].value_counts()"
   ]
  },
  {
   "cell_type": "code",
   "execution_count": 27,
   "metadata": {},
   "outputs": [
    {
     "name": "stderr",
     "output_type": "stream",
     "text": [
      "/var/folders/3f/xhw3kd5d62v0s4_2fvl3_7480000gn/T/ipykernel_50984/2832508116.py:37: SettingWithCopyWarning:\n",
      "\n",
      "\n",
      "A value is trying to be set on a copy of a slice from a DataFrame.\n",
      "Try using .loc[row_indexer,col_indexer] = value instead\n",
      "\n",
      "See the caveats in the documentation: https://pandas.pydata.org/pandas-docs/stable/user_guide/indexing.html#returning-a-view-versus-a-copy\n",
      "\n"
     ]
    }
   ],
   "source": [
    "# Function to clean and standardize names\n",
    "def clean_names(names):\n",
    "    # Convert list of names to a single string for processing\n",
    "    names_str = \", \".join(names)\n",
    "    \n",
    "    # Define terms to replace and their replacements\n",
    "    replacements = {\n",
    "        'The Minister for Manpower (Mrs Josephine Teo)': 'Mrs Josephine Teo',\n",
    "        'The Minister for Manpower and Second Minister for Home Affairs (Mrs Josephine Teo)': 'Mrs Josephine Teo',\n",
    "        'The Deputy Prime Minister and Coordinating Minister for National Security (Mr Teo Chee Hean)': 'Mr Teo Chee Hean',\n",
    "        'The Minister for Trade and Industry (Mr Chan Chun Sing)': 'Mr Chan Chun Sing',\n",
    "        'The Senior Parliamentary Secretary to the Minister for Social and Family Development (Assoc Prof Dr Muhammad Faishal Ibrahim)': 'Assoc Prof Dr Muhammad Faishal Ibrahim',\n",
    "        'Liang Eng Hwa': 'Mr Liang Eng Hwa',\n",
    "        'Saktiandi Supaat': 'Mr Saktiandi Supaat'\n",
    "    }\n",
    "    \n",
    "    # Replace specified terms in each name\n",
    "    cleaned_names = []\n",
    "    for name in names:\n",
    "        for term, replacement in replacements.items():\n",
    "            if term in name:\n",
    "                name = replacement\n",
    "        cleaned_names.append(name.strip())\n",
    "    \n",
    "    # Remove content in parentheses for each cleaned name\n",
    "    names_cleaned = []\n",
    "    for name in cleaned_names:\n",
    "        cleaned_name = re.sub(r'\\s*\\([^()]*\\)', '', name).strip()\n",
    "        names_cleaned.append(cleaned_name)\n",
    "\n",
    "    # Remove duplicate names while preserving order\n",
    "    names_cleaned = list(dict.fromkeys(names_cleaned))\n",
    "    \n",
    "    return names_cleaned\n",
    "    \n",
    "# Apply the cleaning function to the 'MPs_Asked' column\n",
    "df_questions['MPs_Asked'] = df_questions['MPs_Asked'].apply(clean_names)"
   ]
  },
  {
   "cell_type": "code",
   "execution_count": 28,
   "metadata": {},
   "outputs": [
    {
     "data": {
      "text/plain": [
       "0      [Er Dr Lee Bee Wah, Dr Tan Wu Meng, Assoc Prof...\n",
       "1                                  [Prof Fatimah Lateef]\n",
       "3      [Assoc Prof Dr Muhammad Faishal Ibrahim, Ms An...\n",
       "13                                 [Mr Saktiandi Supaat]\n",
       "14        [Mr Seah Kian Peng, Mr Masagos Zulkifli B M M]\n",
       "15     [Mr Pritam Singh, Mr Liang Eng Hwa, Mr Low Thi...\n",
       "24            [Mr Thomas Chua Kee Seng, Mr Lim Swee Say]\n",
       "30                                   [Er Dr Lee Bee Wah]\n",
       "32          [Mr Thomas Chua Kee Seng, Mr Chan Chun Sing]\n",
       "34     [Mr Chan Chun Sing, Mr Liang Eng Hwa, Mr Sakti...\n",
       "40                          [Assoc Prof Walter Theseira]\n",
       "41                            [Ms Irene Quay Siew Ching]\n",
       "52                                     [Dr Lim Wee Kiak]\n",
       "53     [Mr Teo Chee Hean, Mr Leon Perera, Mr Alex Yam...\n",
       "54     [Mrs Josephine Teo, Mr Chong Kee Hiong, Mr Pat...\n",
       "56     [Mr Chong Kee Hiong, Mr Liang Eng Hwa, Mr Patr...\n",
       "59                                     [Dr Lim Wee Kiak]\n",
       "64                         [Mr Speaker, Mr Darryl David]\n",
       "73                          [Assoc Prof Walter Theseira]\n",
       "74                                     [Dr Lim Wee Kiak]\n",
       "89     [Mr Kwek Hian Chuan Henry, Mr Masagos Zulkifli...\n",
       "90                                      [Mr Leon Perera]\n",
       "100                                  [Er Dr Lee Bee Wah]\n",
       "107                                     [Ms Foo Mee Har]\n",
       "108           [Mrs Josephine Teo, Mr Louis Ng Kok Kwang]\n",
       "109                    [Mr Darryl David, Mr Ong Ye Kung]\n",
       "116    [Mr Desmond Choo, Mr Seah Kian Peng, Mr Lim Sw...\n",
       "122    [Mr Desmond Choo, Mr Zaqy Mohamad, Mr Lim Swee...\n",
       "131                          [Assoc Prof Fatimah Lateef]\n",
       "132    [Mr Liang Eng Hwa, Dr Tan Wu Meng, Mr Patrick ...\n",
       "143                                    [Ms Joan Pereira]\n",
       "146                  [Mr Saktiandi Supaat, Mr S Iswaran]\n",
       "158    [Mr Sitoh Yih Pin, Mr Dennis Tan Lip Fong, Mr ...\n",
       "159    [Er Dr Lee Bee Wah, Mr Low Thia Khiang, Mr Mel...\n",
       "Name: MPs_Asked, dtype: object"
      ]
     },
     "execution_count": 28,
     "metadata": {},
     "output_type": "execute_result"
    }
   ],
   "source": [
    "df_questions[\"MPs_Asked\"]"
   ]
  },
  {
   "cell_type": "code",
   "execution_count": 29,
   "metadata": {},
   "outputs": [
    {
     "name": "stdout",
     "output_type": "stream",
     "text": [
      "Topic: Community Care and Services\n",
      "- Prof Fatimah Lateef: 1 question\n",
      "- Assoc Prof Dr Muhammad Faishal Ibrahim: 1 question\n",
      "- Ms Anthea Ong: 1 question\n",
      "- Er Dr Lee Bee Wah: 1 question\n",
      "- Ms Joan Pereira: 1 question\n",
      "\n",
      "Topic: Digital Transformation in Industry\n",
      "- Mr Saktiandi Supaat: 2 questions\n",
      "- Mr Thomas Chua Kee Seng: 2 questions\n",
      "- Mr Lim Swee Say: 1 question\n",
      "- Mr Chan Chun Sing: 1 question\n",
      "- Dr Lim Wee Kiak: 1 question\n",
      "- Mr Kwek Hian Chuan Henry: 1 question\n",
      "- Mr Masagos Zulkifli B M M: 1 question\n",
      "- Mr S Iswaran: 1 question\n",
      "\n",
      "Topic: Education and Support Programmes\n",
      "- Dr Lim Wee Kiak: 2 questions\n",
      "- Mr Darryl David: 2 questions\n",
      "- Ms Irene Quay Siew Ching: 1 question\n",
      "- Mr Speaker: 1 question\n",
      "- Mr Leon Perera: 1 question\n",
      "- Mr Ong Ye Kung: 1 question\n",
      "\n",
      "Topic: Law Enforcement and Rehabilitation\n",
      "- Mr Teo Chee Hean: 1 question\n",
      "- Mr Leon Perera: 1 question\n",
      "- Mr Alex Yam: 1 question\n",
      "- Mr Pritam Singh: 1 question\n",
      "\n",
      "Topic: Legislative Matters and Amendments\n",
      "- Mr Chong Kee Hiong: 1 question\n",
      "- Mr Liang Eng Hwa: 1 question\n",
      "- Mr Patrick Tay Teck Guan: 1 question\n",
      "- Ms Foo Mee Har: 1 question\n",
      "- Mr Png Eng Huat: 1 question\n",
      "- Mr Lim Biow Chuan: 1 question\n",
      "- Mr Saktiandi Supaat: 1 question\n",
      "- Mrs Josephine Teo: 1 question\n",
      "- Assoc Prof Walter Theseira: 1 question\n",
      "- Ms Jessica Tan Soon Neo: 1 question\n",
      "- Miss Cheryl Chan Wei Ling: 1 question\n",
      "\n",
      "Topic: National Defence and Security\n",
      "- Mrs Josephine Teo: 1 question\n",
      "- Mr Louis Ng Kok Kwang: 1 question\n",
      "\n",
      "Topic: Punlic Transport and Waste Management\n",
      "- Er Dr Lee Bee Wah: 2 questions\n",
      "- Mr Khaw Boon Wan: 2 questions\n",
      "- Mr Seah Kian Peng: 1 question\n",
      "- Mr Masagos Zulkifli B M M: 1 question\n",
      "- Assoc Prof Walter Theseira: 1 question\n",
      "- Assoc Prof Fatimah Lateef: 1 question\n",
      "- Mr Sitoh Yih Pin: 1 question\n",
      "- Mr Dennis Tan Lip Fong: 1 question\n",
      "- Mr Pritam Singh: 1 question\n",
      "- Mr Yee Chia Hsing: 1 question\n",
      "- Mr Low Thia Khiang: 1 question\n",
      "- Mr Melvin Yong Yik Chye: 1 question\n",
      "\n",
      "Topic: Workforce Support and Employment\n",
      "- Mr Liang Eng Hwa: 3 questions\n",
      "- Mr Patrick Tay Teck Guan: 3 questions\n",
      "- Mr Desmond Choo: 3 questions\n",
      "- Mr Lim Swee Say: 3 questions\n",
      "- Dr Tan Wu Meng: 2 questions\n",
      "- Assoc Prof Daniel Goh Pei Siong: 2 questions\n",
      "- Mr Seah Kian Peng: 2 questions\n",
      "- Ms Foo Mee Har: 2 questions\n",
      "- Er Dr Lee Bee Wah: 1 question\n",
      "- Mr Pritam Singh: 1 question\n",
      "- Mr Low Thia Khiang: 1 question\n",
      "- Mr Speaker: 1 question\n",
      "- Mr Chan Chun Sing: 1 question\n",
      "- Mr Saktiandi Supaat: 1 question\n",
      "- Mr Lim Biow Chuan: 1 question\n",
      "- Mr Yee Chia Hsing: 1 question\n",
      "- Mr Leon Perera: 1 question\n",
      "- Assoc Prof Walter Theseira: 1 question\n",
      "- Mrs Josephine Teo: 1 question\n",
      "- Mr Chong Kee Hiong: 1 question\n",
      "- Mr Zaqy Mohamad: 1 question\n",
      "- Mr Melvin Yong Yik Chye: 1 question\n",
      "- Mr Ang Hin Kee: 1 question\n",
      "- Mr Christopher de Souza: 1 question\n",
      "- Ms Jessica Tan Soon Neo: 1 question\n",
      "- Mr Ang Wei Neng: 1 question\n",
      "\n"
     ]
    }
   ],
   "source": [
    "# Initialize a dictionary to store MP counts for each topic\n",
    "topic_mp_counts = {}\n",
    "\n",
    "# Iterate through each topic\n",
    "for topic, group in df_questions.groupby('Topic'):\n",
    "    # Initialize Counter to count MPs\n",
    "    mp_counts = Counter()\n",
    "    \n",
    "    # Count MPs for the current topic\n",
    "    for _, row in group.iterrows():\n",
    "        mp_counts += Counter(row['MPs_Asked'])\n",
    "    \n",
    "    # Sort MPs by number of questions in descending order\n",
    "    sorted_mp_counts = dict(sorted(mp_counts.items(), key=lambda item: item[1], reverse=True))\n",
    "    \n",
    "    # Include all MPs who asked one question or more\n",
    "    ranked_mps = []\n",
    "    for mp, count in sorted_mp_counts.items():\n",
    "        ranked_mps.append(f\"{mp}: {count} question{'s' if count > 1 else ''}\")\n",
    "    \n",
    "    # Store results in topic_mp_counts\n",
    "    topic_mp_counts[topic] = ranked_mps\n",
    "\n",
    "# Print results for each topic\n",
    "for topic, mp_counts in topic_mp_counts.items():\n",
    "    print(f\"Topic: {topic}\")\n",
    "    for mp_count in mp_counts:\n",
    "        print(f\"- {mp_count}\")\n",
    "    print()"
   ]
  }
 ],
 "metadata": {
  "kernelspec": {
   "display_name": "parliament_new",
   "language": "python",
   "name": "python3"
  },
  "language_info": {
   "codemirror_mode": {
    "name": "ipython",
    "version": 3
   },
   "file_extension": ".py",
   "mimetype": "text/x-python",
   "name": "python",
   "nbconvert_exporter": "python",
   "pygments_lexer": "ipython3",
   "version": "3.12.4"
  }
 },
 "nbformat": 4,
 "nbformat_minor": 2
}
