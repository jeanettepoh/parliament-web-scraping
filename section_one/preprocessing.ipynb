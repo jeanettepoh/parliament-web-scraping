{
 "cells": [
  {
   "cell_type": "code",
   "execution_count": 57,
   "metadata": {},
   "outputs": [],
   "source": [
    "import os\n",
    "import re\n",
    "import glob\n",
    "import nltk\n",
    "import sklearn\n",
    "import pandas as pd\n",
    "import plotly.express as px\n",
    "from bs4 import BeautifulSoup\n",
    "from collections import Counter\n",
    "from wordcloud import WordCloud\n",
    "from nltk.corpus import stopwords\n",
    "from nltk.tokenize import word_tokenize\n",
    "from nltk.stem import WordNetLemmatizer\n",
    "from sklearn.feature_extraction.text import CountVectorizer\n",
    "from sklearn.decomposition import LatentDirichletAllocation"
   ]
  },
  {
   "cell_type": "code",
   "execution_count": 58,
   "metadata": {},
   "outputs": [
    {
     "name": "stderr",
     "output_type": "stream",
     "text": [
      "[nltk_data] Downloading package stopwords to\n",
      "[nltk_data]     /Users/jeanettepoh/nltk_data...\n",
      "[nltk_data]   Package stopwords is already up-to-date!\n",
      "[nltk_data] Downloading package punkt to\n",
      "[nltk_data]     /Users/jeanettepoh/nltk_data...\n",
      "[nltk_data]   Package punkt is already up-to-date!\n",
      "[nltk_data] Downloading package wordnet to\n",
      "[nltk_data]     /Users/jeanettepoh/nltk_data...\n",
      "[nltk_data]   Package wordnet is already up-to-date!\n",
      "[nltk_data] Downloading package omw-1.4 to\n",
      "[nltk_data]     /Users/jeanettepoh/nltk_data...\n",
      "[nltk_data]   Package omw-1.4 is already up-to-date!\n"
     ]
    },
    {
     "data": {
      "text/plain": [
       "True"
      ]
     },
     "execution_count": 58,
     "metadata": {},
     "output_type": "execute_result"
    }
   ],
   "source": [
    "nltk.download('stopwords')\n",
    "nltk.download('punkt')\n",
    "nltk.download('wordnet')\n",
    "nltk.download('omw-1.4')"
   ]
  },
  {
   "cell_type": "code",
   "execution_count": 59,
   "metadata": {},
   "outputs": [
    {
     "name": "stdout",
     "output_type": "stream",
     "text": [
      "\n",
      "Files with no matching elements:\n",
      "scraped_data/sprs3topic_reportid=budget-1314.txt\n",
      "scraped_data/sprs3topic_reportid=president-address-27.txt\n",
      "scraped_data/sprs3topic_reportid=budget-1277.txt\n",
      "scraped_data/sprs3topic_reportid=budget-820.txt\n",
      "scraped_data/sprs3topic_reportid=budget-1099.txt\n",
      "scraped_data/sprs3topic_reportid=budget-1338.txt\n",
      "scraped_data/sprs3topic_reportid=budget-840.txt\n",
      "scraped_data/sprs3topic_reportid=budget-1160.txt\n",
      "scraped_data/sprs3topic_reportid=budget-688.txt\n",
      "scraped_data/sprs3topic_reportid=budget-1142.txt\n",
      "scraped_data/sprs3topic_reportid=budget-867.txt\n",
      "scraped_data/sprs3topic_reportid=budget-696.txt\n",
      "scraped_data/sprs3topic_reportid=budget-938.txt\n",
      "scraped_data/sprs3topic_reportid=motion-902.txt\n",
      "scraped_data/sprs3topic_reportid=budget-870.txt\n",
      "scraped_data/sprs3topic_reportid=budget-1081.txt\n",
      "scraped_data/sprs3topic_reportid=budget-1279.txt\n"
     ]
    }
   ],
   "source": [
    "file_pattern = 'scraped_data/*.txt'\n",
    "data = []\n",
    "files_with_no_elements = []\n",
    "\n",
    "for file in glob.glob(file_pattern):\n",
    "    try:\n",
    "        with open(file, 'r', encoding='utf-8') as f:\n",
    "            # Read the entire content of the file\n",
    "            content = f.read()\n",
    "\n",
    "            # Parse the HTML content\n",
    "            soup = BeautifulSoup(content, 'html.parser')\n",
    "\n",
    "            # Extract data from specified CSS selectors\n",
    "            # sitting_date = soup.select_one('#right1-1 > div > table > tr:nth-child(5) > td:nth-child(2) > span')\n",
    "            section_name = soup.select_one('#right1-1 > div > table > tr:nth-child(6) > td:nth-child(2) > span')\n",
    "            title = soup.select_one('#right1-1 > div > table > tr:nth-child(7) > td:nth-child(2) > span')\n",
    "            text = soup.select_one('#showTopic > div.hansardContent > div')\n",
    "            speakers = soup.select_one('#right1-1 > div > table > tr:nth-child(8) > td:nth-child(2) > span')\n",
    "\n",
    "            # Check if any element is missing\n",
    "            if not (section_name and title and text and speakers):\n",
    "                files_with_no_elements.append(file)\n",
    "                continue\n",
    "\n",
    "            # Initialize a dictionary to store data for this file\n",
    "            file_data = {\n",
    "                'Section Name': section_name.text.strip() if section_name else None,\n",
    "                'Title': title.text.strip() if title else None,\n",
    "                'Text': text.text.strip() if text else None,\n",
    "                'Speakers': speakers.text.strip() if speakers else None\n",
    "            }\n",
    "\n",
    "            # Append the dictionary to the list of data\n",
    "            data.append(file_data)\n",
    "\n",
    "    except Exception as e:\n",
    "        print(f\"Error processing file '{file}': {str(e)}\")\n",
    "\n",
    "# Create a DataFrame from the collected data\n",
    "df = pd.DataFrame(data)\n",
    "\n",
    "# Drop rows with any missing values\n",
    "df.dropna(inplace=True)\n",
    "\n",
    "# Print files with no matching elements\n",
    "if files_with_no_elements:\n",
    "    print(\"\\nFiles with no matching elements:\")\n",
    "    for file in files_with_no_elements:\n",
    "        print(file)\n",
    "else:\n",
    "    print(\"\\nAll files had matching elements.\")"
   ]
  },
  {
   "cell_type": "code",
   "execution_count": 60,
   "metadata": {},
   "outputs": [
    {
     "data": {
      "text/html": [
       "<div>\n",
       "<style scoped>\n",
       "    .dataframe tbody tr th:only-of-type {\n",
       "        vertical-align: middle;\n",
       "    }\n",
       "\n",
       "    .dataframe tbody tr th {\n",
       "        vertical-align: top;\n",
       "    }\n",
       "\n",
       "    .dataframe thead th {\n",
       "        text-align: right;\n",
       "    }\n",
       "</style>\n",
       "<table border=\"1\" class=\"dataframe\">\n",
       "  <thead>\n",
       "    <tr style=\"text-align: right;\">\n",
       "      <th></th>\n",
       "      <th>Section Name</th>\n",
       "      <th>Title</th>\n",
       "      <th>Text</th>\n",
       "      <th>Speakers</th>\n",
       "    </tr>\n",
       "  </thead>\n",
       "  <tbody>\n",
       "    <tr>\n",
       "      <th>0</th>\n",
       "      <td>Oral Answers to Questions</td>\n",
       "      <td>Fair Process for Termination Due to Poor Perfo...</td>\n",
       "      <td>1 Dr Tan Wu Meng asked\\tthe Minister for Manpo...</td>\n",
       "      <td>Er Dr Lee Bee Wah (Nee Soon),Mr Zainal Sapari ...</td>\n",
       "    </tr>\n",
       "    <tr>\n",
       "      <th>1</th>\n",
       "      <td>Written Answers to Questions for Oral Answer N...</td>\n",
       "      <td>Details and Framework of Workings of The Speci...</td>\n",
       "      <td>22 Assoc Prof Fatimah Lateef asked the Ministe...</td>\n",
       "      <td>[Prof Fatimah Lateef, Mr Desmond Lee]</td>\n",
       "    </tr>\n",
       "    <tr>\n",
       "      <th>2</th>\n",
       "      <td>Budget</td>\n",
       "      <td>Committee of Supply – Head R (Ministry of Law)</td>\n",
       "      <td>The Chairman: Head R, Ministry of Law. Mr Chri...</td>\n",
       "      <td>[The Senior Minister of State for Law (Mr Edwi...</td>\n",
       "    </tr>\n",
       "    <tr>\n",
       "      <th>3</th>\n",
       "      <td>Oral Answers to Questions</td>\n",
       "      <td>Female Representation in Statutory Boards</td>\n",
       "      <td>The following question stood in the name of Ms...</td>\n",
       "      <td>[The Senior Parliamentary Secretary to the Min...</td>\n",
       "    </tr>\n",
       "    <tr>\n",
       "      <th>4</th>\n",
       "      <td>Budget</td>\n",
       "      <td>Committee of Supply – Head W (Ministry of Tran...</td>\n",
       "      <td>Growing Pains in TransportMr Sitoh Yih Pin (Po...</td>\n",
       "      <td>[Mr Pritam Singh (Aljunied), Mr Melvin Yong Yi...</td>\n",
       "    </tr>\n",
       "    <tr>\n",
       "      <th>...</th>\n",
       "      <td>...</td>\n",
       "      <td>...</td>\n",
       "      <td>...</td>\n",
       "      <td>...</td>\n",
       "    </tr>\n",
       "    <tr>\n",
       "      <th>159</th>\n",
       "      <td>Oral Answers to Questions</td>\n",
       "      <td>Complaints on Lapses in Real-time Updates for ...</td>\n",
       "      <td>1 Er Dr Lee Bee Wah asked\\tthe Minister for Tr...</td>\n",
       "      <td>Er Dr Lee Bee Wah (Nee Soon),Er Dr Lee Bee Wah...</td>\n",
       "    </tr>\n",
       "    <tr>\n",
       "      <th>160</th>\n",
       "      <td>Second Reading Bills</td>\n",
       "      <td>Central Provident Fund (Amendment) Bill</td>\n",
       "      <td>Order for Second Reading read.4.51 pmThe Minis...</td>\n",
       "      <td>[Mrs Josephine Teo, Assoc Prof Daniel Goh Pei ...</td>\n",
       "    </tr>\n",
       "    <tr>\n",
       "      <th>161</th>\n",
       "      <td>Budget</td>\n",
       "      <td>Committee of Supply – Head I (Ministry of Soci...</td>\n",
       "      <td>The Chairman: Head I, Ministry of Social and F...</td>\n",
       "      <td>[The Chairman, Mr Sam Tan Chin Siong, Ms Denis...</td>\n",
       "    </tr>\n",
       "    <tr>\n",
       "      <th>162</th>\n",
       "      <td>Ministerial Statements</td>\n",
       "      <td>Government's Plans in our Continued Fight agai...</td>\n",
       "      <td>Debate resumed.Mr Deputy Speaker: Minister Isw...</td>\n",
       "      <td>[Mr Deputy Speaker, Mr Deputy Speaker, Miss Ch...</td>\n",
       "    </tr>\n",
       "    <tr>\n",
       "      <th>163</th>\n",
       "      <td>Budget</td>\n",
       "      <td>Committee of Supply – Head X (Ministry of Cult...</td>\n",
       "      <td>Rallying SingaporeansDr Lim Wee Kiak (Sembawan...</td>\n",
       "      <td>Er Dr Lee Bee Wah (Nee Soon),Dr Teo Ho Pin (Bu...</td>\n",
       "    </tr>\n",
       "  </tbody>\n",
       "</table>\n",
       "<p>164 rows × 4 columns</p>\n",
       "</div>"
      ],
      "text/plain": [
       "                                          Section Name  \\\n",
       "0                            Oral Answers to Questions   \n",
       "1    Written Answers to Questions for Oral Answer N...   \n",
       "2                                               Budget   \n",
       "3                            Oral Answers to Questions   \n",
       "4                                               Budget   \n",
       "..                                                 ...   \n",
       "159                          Oral Answers to Questions   \n",
       "160                               Second Reading Bills   \n",
       "161                                             Budget   \n",
       "162                             Ministerial Statements   \n",
       "163                                             Budget   \n",
       "\n",
       "                                                 Title  \\\n",
       "0    Fair Process for Termination Due to Poor Perfo...   \n",
       "1    Details and Framework of Workings of The Speci...   \n",
       "2       Committee of Supply – Head R (Ministry of Law)   \n",
       "3            Female Representation in Statutory Boards   \n",
       "4    Committee of Supply – Head W (Ministry of Tran...   \n",
       "..                                                 ...   \n",
       "159  Complaints on Lapses in Real-time Updates for ...   \n",
       "160            Central Provident Fund (Amendment) Bill   \n",
       "161  Committee of Supply – Head I (Ministry of Soci...   \n",
       "162  Government's Plans in our Continued Fight agai...   \n",
       "163  Committee of Supply – Head X (Ministry of Cult...   \n",
       "\n",
       "                                                  Text  \\\n",
       "0    1 Dr Tan Wu Meng asked\\tthe Minister for Manpo...   \n",
       "1    22 Assoc Prof Fatimah Lateef asked the Ministe...   \n",
       "2    The Chairman: Head R, Ministry of Law. Mr Chri...   \n",
       "3    The following question stood in the name of Ms...   \n",
       "4    Growing Pains in TransportMr Sitoh Yih Pin (Po...   \n",
       "..                                                 ...   \n",
       "159  1 Er Dr Lee Bee Wah asked\\tthe Minister for Tr...   \n",
       "160  Order for Second Reading read.4.51 pmThe Minis...   \n",
       "161  The Chairman: Head I, Ministry of Social and F...   \n",
       "162  Debate resumed.Mr Deputy Speaker: Minister Isw...   \n",
       "163  Rallying SingaporeansDr Lim Wee Kiak (Sembawan...   \n",
       "\n",
       "                                              Speakers  \n",
       "0    Er Dr Lee Bee Wah (Nee Soon),Mr Zainal Sapari ...  \n",
       "1                [Prof Fatimah Lateef, Mr Desmond Lee]  \n",
       "2    [The Senior Minister of State for Law (Mr Edwi...  \n",
       "3    [The Senior Parliamentary Secretary to the Min...  \n",
       "4    [Mr Pritam Singh (Aljunied), Mr Melvin Yong Yi...  \n",
       "..                                                 ...  \n",
       "159  Er Dr Lee Bee Wah (Nee Soon),Er Dr Lee Bee Wah...  \n",
       "160  [Mrs Josephine Teo, Assoc Prof Daniel Goh Pei ...  \n",
       "161  [The Chairman, Mr Sam Tan Chin Siong, Ms Denis...  \n",
       "162  [Mr Deputy Speaker, Mr Deputy Speaker, Miss Ch...  \n",
       "163  Er Dr Lee Bee Wah (Nee Soon),Dr Teo Ho Pin (Bu...  \n",
       "\n",
       "[164 rows x 4 columns]"
      ]
     },
     "execution_count": 60,
     "metadata": {},
     "output_type": "execute_result"
    }
   ],
   "source": [
    "df"
   ]
  },
  {
   "cell_type": "code",
   "execution_count": 61,
   "metadata": {},
   "outputs": [],
   "source": [
    "# Directory to save figures\n",
    "save_dir = \"figures\"\n",
    "os.makedirs(save_dir, exist_ok=True)"
   ]
  },
  {
   "cell_type": "code",
   "execution_count": 62,
   "metadata": {},
   "outputs": [
    {
     "data": {
      "application/vnd.plotly.v1+json": {
       "config": {
        "plotlyServerURL": "https://plot.ly"
       },
       "data": [
        {
         "alignmentgroup": "True",
         "hovertemplate": "Section Name=%{x}<br>Frequency=%{text}<extra></extra>",
         "legendgroup": "",
         "marker": {
          "color": "#636efa",
          "pattern": {
           "shape": ""
          }
         },
         "name": "",
         "offsetgroup": "",
         "orientation": "v",
         "showlegend": false,
         "text": [
          88,
          29,
          24,
          6,
          5,
          4,
          4,
          3,
          1
         ],
         "textposition": "outside",
         "texttemplate": "%{text}",
         "type": "bar",
         "x": [
          "Budget",
          "Oral Answers to Questions",
          "Second Reading Bills",
          "Ministerial Statements",
          "Written Answers to Questions for Oral Answer Not Answered by End of Question Time",
          "Speaker",
          "Motions",
          "Matter Raised On Adjournment Motion",
          "President's Address"
         ],
         "xaxis": "x",
         "y": [
          88,
          29,
          24,
          6,
          5,
          4,
          4,
          3,
          1
         ],
         "yaxis": "y"
        }
       ],
       "layout": {
        "barmode": "relative",
        "height": 600,
        "legend": {
         "tracegroupgap": 0
        },
        "margin": {
         "b": 100,
         "l": 50,
         "r": 50,
         "t": 100
        },
        "plot_bgcolor": "rgba(0,0,0,0)",
        "template": {
         "data": {
          "bar": [
           {
            "error_x": {
             "color": "#2a3f5f"
            },
            "error_y": {
             "color": "#2a3f5f"
            },
            "marker": {
             "line": {
              "color": "#E5ECF6",
              "width": 0.5
             },
             "pattern": {
              "fillmode": "overlay",
              "size": 10,
              "solidity": 0.2
             }
            },
            "type": "bar"
           }
          ],
          "barpolar": [
           {
            "marker": {
             "line": {
              "color": "#E5ECF6",
              "width": 0.5
             },
             "pattern": {
              "fillmode": "overlay",
              "size": 10,
              "solidity": 0.2
             }
            },
            "type": "barpolar"
           }
          ],
          "carpet": [
           {
            "aaxis": {
             "endlinecolor": "#2a3f5f",
             "gridcolor": "white",
             "linecolor": "white",
             "minorgridcolor": "white",
             "startlinecolor": "#2a3f5f"
            },
            "baxis": {
             "endlinecolor": "#2a3f5f",
             "gridcolor": "white",
             "linecolor": "white",
             "minorgridcolor": "white",
             "startlinecolor": "#2a3f5f"
            },
            "type": "carpet"
           }
          ],
          "choropleth": [
           {
            "colorbar": {
             "outlinewidth": 0,
             "ticks": ""
            },
            "type": "choropleth"
           }
          ],
          "contour": [
           {
            "colorbar": {
             "outlinewidth": 0,
             "ticks": ""
            },
            "colorscale": [
             [
              0,
              "#0d0887"
             ],
             [
              0.1111111111111111,
              "#46039f"
             ],
             [
              0.2222222222222222,
              "#7201a8"
             ],
             [
              0.3333333333333333,
              "#9c179e"
             ],
             [
              0.4444444444444444,
              "#bd3786"
             ],
             [
              0.5555555555555556,
              "#d8576b"
             ],
             [
              0.6666666666666666,
              "#ed7953"
             ],
             [
              0.7777777777777778,
              "#fb9f3a"
             ],
             [
              0.8888888888888888,
              "#fdca26"
             ],
             [
              1,
              "#f0f921"
             ]
            ],
            "type": "contour"
           }
          ],
          "contourcarpet": [
           {
            "colorbar": {
             "outlinewidth": 0,
             "ticks": ""
            },
            "type": "contourcarpet"
           }
          ],
          "heatmap": [
           {
            "colorbar": {
             "outlinewidth": 0,
             "ticks": ""
            },
            "colorscale": [
             [
              0,
              "#0d0887"
             ],
             [
              0.1111111111111111,
              "#46039f"
             ],
             [
              0.2222222222222222,
              "#7201a8"
             ],
             [
              0.3333333333333333,
              "#9c179e"
             ],
             [
              0.4444444444444444,
              "#bd3786"
             ],
             [
              0.5555555555555556,
              "#d8576b"
             ],
             [
              0.6666666666666666,
              "#ed7953"
             ],
             [
              0.7777777777777778,
              "#fb9f3a"
             ],
             [
              0.8888888888888888,
              "#fdca26"
             ],
             [
              1,
              "#f0f921"
             ]
            ],
            "type": "heatmap"
           }
          ],
          "heatmapgl": [
           {
            "colorbar": {
             "outlinewidth": 0,
             "ticks": ""
            },
            "colorscale": [
             [
              0,
              "#0d0887"
             ],
             [
              0.1111111111111111,
              "#46039f"
             ],
             [
              0.2222222222222222,
              "#7201a8"
             ],
             [
              0.3333333333333333,
              "#9c179e"
             ],
             [
              0.4444444444444444,
              "#bd3786"
             ],
             [
              0.5555555555555556,
              "#d8576b"
             ],
             [
              0.6666666666666666,
              "#ed7953"
             ],
             [
              0.7777777777777778,
              "#fb9f3a"
             ],
             [
              0.8888888888888888,
              "#fdca26"
             ],
             [
              1,
              "#f0f921"
             ]
            ],
            "type": "heatmapgl"
           }
          ],
          "histogram": [
           {
            "marker": {
             "pattern": {
              "fillmode": "overlay",
              "size": 10,
              "solidity": 0.2
             }
            },
            "type": "histogram"
           }
          ],
          "histogram2d": [
           {
            "colorbar": {
             "outlinewidth": 0,
             "ticks": ""
            },
            "colorscale": [
             [
              0,
              "#0d0887"
             ],
             [
              0.1111111111111111,
              "#46039f"
             ],
             [
              0.2222222222222222,
              "#7201a8"
             ],
             [
              0.3333333333333333,
              "#9c179e"
             ],
             [
              0.4444444444444444,
              "#bd3786"
             ],
             [
              0.5555555555555556,
              "#d8576b"
             ],
             [
              0.6666666666666666,
              "#ed7953"
             ],
             [
              0.7777777777777778,
              "#fb9f3a"
             ],
             [
              0.8888888888888888,
              "#fdca26"
             ],
             [
              1,
              "#f0f921"
             ]
            ],
            "type": "histogram2d"
           }
          ],
          "histogram2dcontour": [
           {
            "colorbar": {
             "outlinewidth": 0,
             "ticks": ""
            },
            "colorscale": [
             [
              0,
              "#0d0887"
             ],
             [
              0.1111111111111111,
              "#46039f"
             ],
             [
              0.2222222222222222,
              "#7201a8"
             ],
             [
              0.3333333333333333,
              "#9c179e"
             ],
             [
              0.4444444444444444,
              "#bd3786"
             ],
             [
              0.5555555555555556,
              "#d8576b"
             ],
             [
              0.6666666666666666,
              "#ed7953"
             ],
             [
              0.7777777777777778,
              "#fb9f3a"
             ],
             [
              0.8888888888888888,
              "#fdca26"
             ],
             [
              1,
              "#f0f921"
             ]
            ],
            "type": "histogram2dcontour"
           }
          ],
          "mesh3d": [
           {
            "colorbar": {
             "outlinewidth": 0,
             "ticks": ""
            },
            "type": "mesh3d"
           }
          ],
          "parcoords": [
           {
            "line": {
             "colorbar": {
              "outlinewidth": 0,
              "ticks": ""
             }
            },
            "type": "parcoords"
           }
          ],
          "pie": [
           {
            "automargin": true,
            "type": "pie"
           }
          ],
          "scatter": [
           {
            "fillpattern": {
             "fillmode": "overlay",
             "size": 10,
             "solidity": 0.2
            },
            "type": "scatter"
           }
          ],
          "scatter3d": [
           {
            "line": {
             "colorbar": {
              "outlinewidth": 0,
              "ticks": ""
             }
            },
            "marker": {
             "colorbar": {
              "outlinewidth": 0,
              "ticks": ""
             }
            },
            "type": "scatter3d"
           }
          ],
          "scattercarpet": [
           {
            "marker": {
             "colorbar": {
              "outlinewidth": 0,
              "ticks": ""
             }
            },
            "type": "scattercarpet"
           }
          ],
          "scattergeo": [
           {
            "marker": {
             "colorbar": {
              "outlinewidth": 0,
              "ticks": ""
             }
            },
            "type": "scattergeo"
           }
          ],
          "scattergl": [
           {
            "marker": {
             "colorbar": {
              "outlinewidth": 0,
              "ticks": ""
             }
            },
            "type": "scattergl"
           }
          ],
          "scattermapbox": [
           {
            "marker": {
             "colorbar": {
              "outlinewidth": 0,
              "ticks": ""
             }
            },
            "type": "scattermapbox"
           }
          ],
          "scatterpolar": [
           {
            "marker": {
             "colorbar": {
              "outlinewidth": 0,
              "ticks": ""
             }
            },
            "type": "scatterpolar"
           }
          ],
          "scatterpolargl": [
           {
            "marker": {
             "colorbar": {
              "outlinewidth": 0,
              "ticks": ""
             }
            },
            "type": "scatterpolargl"
           }
          ],
          "scatterternary": [
           {
            "marker": {
             "colorbar": {
              "outlinewidth": 0,
              "ticks": ""
             }
            },
            "type": "scatterternary"
           }
          ],
          "surface": [
           {
            "colorbar": {
             "outlinewidth": 0,
             "ticks": ""
            },
            "colorscale": [
             [
              0,
              "#0d0887"
             ],
             [
              0.1111111111111111,
              "#46039f"
             ],
             [
              0.2222222222222222,
              "#7201a8"
             ],
             [
              0.3333333333333333,
              "#9c179e"
             ],
             [
              0.4444444444444444,
              "#bd3786"
             ],
             [
              0.5555555555555556,
              "#d8576b"
             ],
             [
              0.6666666666666666,
              "#ed7953"
             ],
             [
              0.7777777777777778,
              "#fb9f3a"
             ],
             [
              0.8888888888888888,
              "#fdca26"
             ],
             [
              1,
              "#f0f921"
             ]
            ],
            "type": "surface"
           }
          ],
          "table": [
           {
            "cells": {
             "fill": {
              "color": "#EBF0F8"
             },
             "line": {
              "color": "white"
             }
            },
            "header": {
             "fill": {
              "color": "#C8D4E3"
             },
             "line": {
              "color": "white"
             }
            },
            "type": "table"
           }
          ]
         },
         "layout": {
          "annotationdefaults": {
           "arrowcolor": "#2a3f5f",
           "arrowhead": 0,
           "arrowwidth": 1
          },
          "autotypenumbers": "strict",
          "coloraxis": {
           "colorbar": {
            "outlinewidth": 0,
            "ticks": ""
           }
          },
          "colorscale": {
           "diverging": [
            [
             0,
             "#8e0152"
            ],
            [
             0.1,
             "#c51b7d"
            ],
            [
             0.2,
             "#de77ae"
            ],
            [
             0.3,
             "#f1b6da"
            ],
            [
             0.4,
             "#fde0ef"
            ],
            [
             0.5,
             "#f7f7f7"
            ],
            [
             0.6,
             "#e6f5d0"
            ],
            [
             0.7,
             "#b8e186"
            ],
            [
             0.8,
             "#7fbc41"
            ],
            [
             0.9,
             "#4d9221"
            ],
            [
             1,
             "#276419"
            ]
           ],
           "sequential": [
            [
             0,
             "#0d0887"
            ],
            [
             0.1111111111111111,
             "#46039f"
            ],
            [
             0.2222222222222222,
             "#7201a8"
            ],
            [
             0.3333333333333333,
             "#9c179e"
            ],
            [
             0.4444444444444444,
             "#bd3786"
            ],
            [
             0.5555555555555556,
             "#d8576b"
            ],
            [
             0.6666666666666666,
             "#ed7953"
            ],
            [
             0.7777777777777778,
             "#fb9f3a"
            ],
            [
             0.8888888888888888,
             "#fdca26"
            ],
            [
             1,
             "#f0f921"
            ]
           ],
           "sequentialminus": [
            [
             0,
             "#0d0887"
            ],
            [
             0.1111111111111111,
             "#46039f"
            ],
            [
             0.2222222222222222,
             "#7201a8"
            ],
            [
             0.3333333333333333,
             "#9c179e"
            ],
            [
             0.4444444444444444,
             "#bd3786"
            ],
            [
             0.5555555555555556,
             "#d8576b"
            ],
            [
             0.6666666666666666,
             "#ed7953"
            ],
            [
             0.7777777777777778,
             "#fb9f3a"
            ],
            [
             0.8888888888888888,
             "#fdca26"
            ],
            [
             1,
             "#f0f921"
            ]
           ]
          },
          "colorway": [
           "#636efa",
           "#EF553B",
           "#00cc96",
           "#ab63fa",
           "#FFA15A",
           "#19d3f3",
           "#FF6692",
           "#B6E880",
           "#FF97FF",
           "#FECB52"
          ],
          "font": {
           "color": "#2a3f5f"
          },
          "geo": {
           "bgcolor": "white",
           "lakecolor": "white",
           "landcolor": "#E5ECF6",
           "showlakes": true,
           "showland": true,
           "subunitcolor": "white"
          },
          "hoverlabel": {
           "align": "left"
          },
          "hovermode": "closest",
          "mapbox": {
           "style": "light"
          },
          "paper_bgcolor": "white",
          "plot_bgcolor": "#E5ECF6",
          "polar": {
           "angularaxis": {
            "gridcolor": "white",
            "linecolor": "white",
            "ticks": ""
           },
           "bgcolor": "#E5ECF6",
           "radialaxis": {
            "gridcolor": "white",
            "linecolor": "white",
            "ticks": ""
           }
          },
          "scene": {
           "xaxis": {
            "backgroundcolor": "#E5ECF6",
            "gridcolor": "white",
            "gridwidth": 2,
            "linecolor": "white",
            "showbackground": true,
            "ticks": "",
            "zerolinecolor": "white"
           },
           "yaxis": {
            "backgroundcolor": "#E5ECF6",
            "gridcolor": "white",
            "gridwidth": 2,
            "linecolor": "white",
            "showbackground": true,
            "ticks": "",
            "zerolinecolor": "white"
           },
           "zaxis": {
            "backgroundcolor": "#E5ECF6",
            "gridcolor": "white",
            "gridwidth": 2,
            "linecolor": "white",
            "showbackground": true,
            "ticks": "",
            "zerolinecolor": "white"
           }
          },
          "shapedefaults": {
           "line": {
            "color": "#2a3f5f"
           }
          },
          "ternary": {
           "aaxis": {
            "gridcolor": "white",
            "linecolor": "white",
            "ticks": ""
           },
           "baxis": {
            "gridcolor": "white",
            "linecolor": "white",
            "ticks": ""
           },
           "bgcolor": "#E5ECF6",
           "caxis": {
            "gridcolor": "white",
            "linecolor": "white",
            "ticks": ""
           }
          },
          "title": {
           "x": 0.05
          },
          "xaxis": {
           "automargin": true,
           "gridcolor": "white",
           "linecolor": "white",
           "ticks": "",
           "title": {
            "standoff": 15
           },
           "zerolinecolor": "white",
           "zerolinewidth": 2
          },
          "yaxis": {
           "automargin": true,
           "gridcolor": "white",
           "linecolor": "white",
           "ticks": "",
           "title": {
            "standoff": 15
           },
           "zerolinecolor": "white",
           "zerolinewidth": 2
          }
         }
        },
        "title": {
         "text": "Distribution of Section Name"
        },
        "uniformtext": {
         "minsize": 8,
         "mode": "hide"
        },
        "width": 1000,
        "xaxis": {
         "anchor": "y",
         "domain": [
          0,
          1
         ],
         "tickangle": -45,
         "tickfont": {
          "size": 12
         },
         "title": {
          "text": "Section Name"
         }
        },
        "yaxis": {
         "anchor": "x",
         "domain": [
          0,
          1
         ],
         "range": [
          0,
          120
         ],
         "tickfont": {
          "size": 12
         },
         "title": {
          "text": "Frequency"
         }
        }
       }
      }
     },
     "metadata": {},
     "output_type": "display_data"
    }
   ],
   "source": [
    "# Group by Section Name and count occurrences\n",
    "section_name_counts = df['Section Name'].value_counts().reset_index()\n",
    "section_name_counts.columns = ['Section Name', 'Count']\n",
    "\n",
    "# Plotting the distribution with Plotly\n",
    "fig = px.bar(section_name_counts, x='Section Name', y='Count', text='Count', \n",
    "             title='Distribution of Section Name', labels={'Count': 'Frequency'})\n",
    "fig.update_traces(texttemplate='%{text}', textposition='outside')  # Display count above each bar\n",
    "fig.update_layout(xaxis_title='Section Name', yaxis_title='Frequency', xaxis_tickangle=-45,\n",
    "                  uniformtext_minsize=8, uniformtext_mode='hide',  # Adjust text size and visibility\n",
    "                  height=600, width=1000,  # Adjust plot size\n",
    "                  margin=dict(l=50, r=50, b=100, t=100),  # Adjust margins for better layout\n",
    "                  plot_bgcolor='rgba(0,0,0,0)')  # Set plot background color to transparent\n",
    "\n",
    "fig.update_xaxes(tickfont=dict(size=12))  # Adjust x-axis tick font size\n",
    "fig.update_yaxes(tickfont=dict(size=12), range=[0, 120])  # Adjust y-axis tick font size and range\n",
    "\n",
    "# Save the plot as an HTML file\n",
    "fig.write_html(os.path.join(save_dir, \"distribution_of_section_names.html\"))\n",
    "\n",
    "fig.show()"
   ]
  },
  {
   "cell_type": "code",
   "execution_count": 63,
   "metadata": {},
   "outputs": [
    {
     "data": {
      "application/vnd.plotly.v1+json": {
       "config": {
        "plotlyServerURL": "https://plot.ly"
       },
       "data": [
        {
         "hovertemplate": "x: %{x}<br>y: %{y}<br>color: [%{z[0]}, %{z[1]}, %{z[2]}]<extra></extra>",
         "name": "0",
         "source": "data:image/png;base64,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",
         "type": "image",
         "xaxis": "x",
         "yaxis": "y"
        }
       ],
       "layout": {
        "coloraxis": {
         "showscale": false
        },
        "template": {
         "data": {
          "bar": [
           {
            "error_x": {
             "color": "#2a3f5f"
            },
            "error_y": {
             "color": "#2a3f5f"
            },
            "marker": {
             "line": {
              "color": "#E5ECF6",
              "width": 0.5
             },
             "pattern": {
              "fillmode": "overlay",
              "size": 10,
              "solidity": 0.2
             }
            },
            "type": "bar"
           }
          ],
          "barpolar": [
           {
            "marker": {
             "line": {
              "color": "#E5ECF6",
              "width": 0.5
             },
             "pattern": {
              "fillmode": "overlay",
              "size": 10,
              "solidity": 0.2
             }
            },
            "type": "barpolar"
           }
          ],
          "carpet": [
           {
            "aaxis": {
             "endlinecolor": "#2a3f5f",
             "gridcolor": "white",
             "linecolor": "white",
             "minorgridcolor": "white",
             "startlinecolor": "#2a3f5f"
            },
            "baxis": {
             "endlinecolor": "#2a3f5f",
             "gridcolor": "white",
             "linecolor": "white",
             "minorgridcolor": "white",
             "startlinecolor": "#2a3f5f"
            },
            "type": "carpet"
           }
          ],
          "choropleth": [
           {
            "colorbar": {
             "outlinewidth": 0,
             "ticks": ""
            },
            "type": "choropleth"
           }
          ],
          "contour": [
           {
            "colorbar": {
             "outlinewidth": 0,
             "ticks": ""
            },
            "colorscale": [
             [
              0,
              "#0d0887"
             ],
             [
              0.1111111111111111,
              "#46039f"
             ],
             [
              0.2222222222222222,
              "#7201a8"
             ],
             [
              0.3333333333333333,
              "#9c179e"
             ],
             [
              0.4444444444444444,
              "#bd3786"
             ],
             [
              0.5555555555555556,
              "#d8576b"
             ],
             [
              0.6666666666666666,
              "#ed7953"
             ],
             [
              0.7777777777777778,
              "#fb9f3a"
             ],
             [
              0.8888888888888888,
              "#fdca26"
             ],
             [
              1,
              "#f0f921"
             ]
            ],
            "type": "contour"
           }
          ],
          "contourcarpet": [
           {
            "colorbar": {
             "outlinewidth": 0,
             "ticks": ""
            },
            "type": "contourcarpet"
           }
          ],
          "heatmap": [
           {
            "colorbar": {
             "outlinewidth": 0,
             "ticks": ""
            },
            "colorscale": [
             [
              0,
              "#0d0887"
             ],
             [
              0.1111111111111111,
              "#46039f"
             ],
             [
              0.2222222222222222,
              "#7201a8"
             ],
             [
              0.3333333333333333,
              "#9c179e"
             ],
             [
              0.4444444444444444,
              "#bd3786"
             ],
             [
              0.5555555555555556,
              "#d8576b"
             ],
             [
              0.6666666666666666,
              "#ed7953"
             ],
             [
              0.7777777777777778,
              "#fb9f3a"
             ],
             [
              0.8888888888888888,
              "#fdca26"
             ],
             [
              1,
              "#f0f921"
             ]
            ],
            "type": "heatmap"
           }
          ],
          "heatmapgl": [
           {
            "colorbar": {
             "outlinewidth": 0,
             "ticks": ""
            },
            "colorscale": [
             [
              0,
              "#0d0887"
             ],
             [
              0.1111111111111111,
              "#46039f"
             ],
             [
              0.2222222222222222,
              "#7201a8"
             ],
             [
              0.3333333333333333,
              "#9c179e"
             ],
             [
              0.4444444444444444,
              "#bd3786"
             ],
             [
              0.5555555555555556,
              "#d8576b"
             ],
             [
              0.6666666666666666,
              "#ed7953"
             ],
             [
              0.7777777777777778,
              "#fb9f3a"
             ],
             [
              0.8888888888888888,
              "#fdca26"
             ],
             [
              1,
              "#f0f921"
             ]
            ],
            "type": "heatmapgl"
           }
          ],
          "histogram": [
           {
            "marker": {
             "pattern": {
              "fillmode": "overlay",
              "size": 10,
              "solidity": 0.2
             }
            },
            "type": "histogram"
           }
          ],
          "histogram2d": [
           {
            "colorbar": {
             "outlinewidth": 0,
             "ticks": ""
            },
            "colorscale": [
             [
              0,
              "#0d0887"
             ],
             [
              0.1111111111111111,
              "#46039f"
             ],
             [
              0.2222222222222222,
              "#7201a8"
             ],
             [
              0.3333333333333333,
              "#9c179e"
             ],
             [
              0.4444444444444444,
              "#bd3786"
             ],
             [
              0.5555555555555556,
              "#d8576b"
             ],
             [
              0.6666666666666666,
              "#ed7953"
             ],
             [
              0.7777777777777778,
              "#fb9f3a"
             ],
             [
              0.8888888888888888,
              "#fdca26"
             ],
             [
              1,
              "#f0f921"
             ]
            ],
            "type": "histogram2d"
           }
          ],
          "histogram2dcontour": [
           {
            "colorbar": {
             "outlinewidth": 0,
             "ticks": ""
            },
            "colorscale": [
             [
              0,
              "#0d0887"
             ],
             [
              0.1111111111111111,
              "#46039f"
             ],
             [
              0.2222222222222222,
              "#7201a8"
             ],
             [
              0.3333333333333333,
              "#9c179e"
             ],
             [
              0.4444444444444444,
              "#bd3786"
             ],
             [
              0.5555555555555556,
              "#d8576b"
             ],
             [
              0.6666666666666666,
              "#ed7953"
             ],
             [
              0.7777777777777778,
              "#fb9f3a"
             ],
             [
              0.8888888888888888,
              "#fdca26"
             ],
             [
              1,
              "#f0f921"
             ]
            ],
            "type": "histogram2dcontour"
           }
          ],
          "mesh3d": [
           {
            "colorbar": {
             "outlinewidth": 0,
             "ticks": ""
            },
            "type": "mesh3d"
           }
          ],
          "parcoords": [
           {
            "line": {
             "colorbar": {
              "outlinewidth": 0,
              "ticks": ""
             }
            },
            "type": "parcoords"
           }
          ],
          "pie": [
           {
            "automargin": true,
            "type": "pie"
           }
          ],
          "scatter": [
           {
            "fillpattern": {
             "fillmode": "overlay",
             "size": 10,
             "solidity": 0.2
            },
            "type": "scatter"
           }
          ],
          "scatter3d": [
           {
            "line": {
             "colorbar": {
              "outlinewidth": 0,
              "ticks": ""
             }
            },
            "marker": {
             "colorbar": {
              "outlinewidth": 0,
              "ticks": ""
             }
            },
            "type": "scatter3d"
           }
          ],
          "scattercarpet": [
           {
            "marker": {
             "colorbar": {
              "outlinewidth": 0,
              "ticks": ""
             }
            },
            "type": "scattercarpet"
           }
          ],
          "scattergeo": [
           {
            "marker": {
             "colorbar": {
              "outlinewidth": 0,
              "ticks": ""
             }
            },
            "type": "scattergeo"
           }
          ],
          "scattergl": [
           {
            "marker": {
             "colorbar": {
              "outlinewidth": 0,
              "ticks": ""
             }
            },
            "type": "scattergl"
           }
          ],
          "scattermapbox": [
           {
            "marker": {
             "colorbar": {
              "outlinewidth": 0,
              "ticks": ""
             }
            },
            "type": "scattermapbox"
           }
          ],
          "scatterpolar": [
           {
            "marker": {
             "colorbar": {
              "outlinewidth": 0,
              "ticks": ""
             }
            },
            "type": "scatterpolar"
           }
          ],
          "scatterpolargl": [
           {
            "marker": {
             "colorbar": {
              "outlinewidth": 0,
              "ticks": ""
             }
            },
            "type": "scatterpolargl"
           }
          ],
          "scatterternary": [
           {
            "marker": {
             "colorbar": {
              "outlinewidth": 0,
              "ticks": ""
             }
            },
            "type": "scatterternary"
           }
          ],
          "surface": [
           {
            "colorbar": {
             "outlinewidth": 0,
             "ticks": ""
            },
            "colorscale": [
             [
              0,
              "#0d0887"
             ],
             [
              0.1111111111111111,
              "#46039f"
             ],
             [
              0.2222222222222222,
              "#7201a8"
             ],
             [
              0.3333333333333333,
              "#9c179e"
             ],
             [
              0.4444444444444444,
              "#bd3786"
             ],
             [
              0.5555555555555556,
              "#d8576b"
             ],
             [
              0.6666666666666666,
              "#ed7953"
             ],
             [
              0.7777777777777778,
              "#fb9f3a"
             ],
             [
              0.8888888888888888,
              "#fdca26"
             ],
             [
              1,
              "#f0f921"
             ]
            ],
            "type": "surface"
           }
          ],
          "table": [
           {
            "cells": {
             "fill": {
              "color": "#EBF0F8"
             },
             "line": {
              "color": "white"
             }
            },
            "header": {
             "fill": {
              "color": "#C8D4E3"
             },
             "line": {
              "color": "white"
             }
            },
            "type": "table"
           }
          ]
         },
         "layout": {
          "annotationdefaults": {
           "arrowcolor": "#2a3f5f",
           "arrowhead": 0,
           "arrowwidth": 1
          },
          "autotypenumbers": "strict",
          "coloraxis": {
           "colorbar": {
            "outlinewidth": 0,
            "ticks": ""
           }
          },
          "colorscale": {
           "diverging": [
            [
             0,
             "#8e0152"
            ],
            [
             0.1,
             "#c51b7d"
            ],
            [
             0.2,
             "#de77ae"
            ],
            [
             0.3,
             "#f1b6da"
            ],
            [
             0.4,
             "#fde0ef"
            ],
            [
             0.5,
             "#f7f7f7"
            ],
            [
             0.6,
             "#e6f5d0"
            ],
            [
             0.7,
             "#b8e186"
            ],
            [
             0.8,
             "#7fbc41"
            ],
            [
             0.9,
             "#4d9221"
            ],
            [
             1,
             "#276419"
            ]
           ],
           "sequential": [
            [
             0,
             "#0d0887"
            ],
            [
             0.1111111111111111,
             "#46039f"
            ],
            [
             0.2222222222222222,
             "#7201a8"
            ],
            [
             0.3333333333333333,
             "#9c179e"
            ],
            [
             0.4444444444444444,
             "#bd3786"
            ],
            [
             0.5555555555555556,
             "#d8576b"
            ],
            [
             0.6666666666666666,
             "#ed7953"
            ],
            [
             0.7777777777777778,
             "#fb9f3a"
            ],
            [
             0.8888888888888888,
             "#fdca26"
            ],
            [
             1,
             "#f0f921"
            ]
           ],
           "sequentialminus": [
            [
             0,
             "#0d0887"
            ],
            [
             0.1111111111111111,
             "#46039f"
            ],
            [
             0.2222222222222222,
             "#7201a8"
            ],
            [
             0.3333333333333333,
             "#9c179e"
            ],
            [
             0.4444444444444444,
             "#bd3786"
            ],
            [
             0.5555555555555556,
             "#d8576b"
            ],
            [
             0.6666666666666666,
             "#ed7953"
            ],
            [
             0.7777777777777778,
             "#fb9f3a"
            ],
            [
             0.8888888888888888,
             "#fdca26"
            ],
            [
             1,
             "#f0f921"
            ]
           ]
          },
          "colorway": [
           "#636efa",
           "#EF553B",
           "#00cc96",
           "#ab63fa",
           "#FFA15A",
           "#19d3f3",
           "#FF6692",
           "#B6E880",
           "#FF97FF",
           "#FECB52"
          ],
          "font": {
           "color": "#2a3f5f"
          },
          "geo": {
           "bgcolor": "white",
           "lakecolor": "white",
           "landcolor": "#E5ECF6",
           "showlakes": true,
           "showland": true,
           "subunitcolor": "white"
          },
          "hoverlabel": {
           "align": "left"
          },
          "hovermode": "closest",
          "mapbox": {
           "style": "light"
          },
          "paper_bgcolor": "white",
          "plot_bgcolor": "#E5ECF6",
          "polar": {
           "angularaxis": {
            "gridcolor": "white",
            "linecolor": "white",
            "ticks": ""
           },
           "bgcolor": "#E5ECF6",
           "radialaxis": {
            "gridcolor": "white",
            "linecolor": "white",
            "ticks": ""
           }
          },
          "scene": {
           "xaxis": {
            "backgroundcolor": "#E5ECF6",
            "gridcolor": "white",
            "gridwidth": 2,
            "linecolor": "white",
            "showbackground": true,
            "ticks": "",
            "zerolinecolor": "white"
           },
           "yaxis": {
            "backgroundcolor": "#E5ECF6",
            "gridcolor": "white",
            "gridwidth": 2,
            "linecolor": "white",
            "showbackground": true,
            "ticks": "",
            "zerolinecolor": "white"
           },
           "zaxis": {
            "backgroundcolor": "#E5ECF6",
            "gridcolor": "white",
            "gridwidth": 2,
            "linecolor": "white",
            "showbackground": true,
            "ticks": "",
            "zerolinecolor": "white"
           }
          },
          "shapedefaults": {
           "line": {
            "color": "#2a3f5f"
           }
          },
          "ternary": {
           "aaxis": {
            "gridcolor": "white",
            "linecolor": "white",
            "ticks": ""
           },
           "baxis": {
            "gridcolor": "white",
            "linecolor": "white",
            "ticks": ""
           },
           "bgcolor": "#E5ECF6",
           "caxis": {
            "gridcolor": "white",
            "linecolor": "white",
            "ticks": ""
           }
          },
          "title": {
           "x": 0.05
          },
          "xaxis": {
           "automargin": true,
           "gridcolor": "white",
           "linecolor": "white",
           "ticks": "",
           "title": {
            "standoff": 15
           },
           "zerolinecolor": "white",
           "zerolinewidth": 2
          },
          "yaxis": {
           "automargin": true,
           "gridcolor": "white",
           "linecolor": "white",
           "ticks": "",
           "title": {
            "standoff": 15
           },
           "zerolinecolor": "white",
           "zerolinewidth": 2
          }
         }
        },
        "title": {
         "text": "Word Cloud for Titles"
        },
        "xaxis": {
         "anchor": "y",
         "domain": [
          0,
          1
         ]
        },
        "yaxis": {
         "anchor": "x",
         "domain": [
          0,
          1
         ]
        }
       }
      }
     },
     "metadata": {},
     "output_type": "display_data"
    }
   ],
   "source": [
    "# Assuming df['Title'] contains the titles\n",
    "titles_text = ' '.join(df['Title'].dropna().astype(str))\n",
    "\n",
    "# Set NLTK English stopwords\n",
    "stop_words = set(stopwords.words('english'))\n",
    "\n",
    "# Add custom stopwords\n",
    "custom_stopwords = {'head', 'committee', 'ministry', 'debate', 'supply', 'annual', 'statement', 'singapore', 'measures', 'chair', 'prime', 'minister'}\n",
    "stop_words.update(custom_stopwords)\n",
    "\n",
    "# Generate the word cloud excluding stopwords\n",
    "wordcloud = WordCloud(width=800, height=400, background_color='white', stopwords=stop_words).generate(titles_text)\n",
    "\n",
    "# Plotting the word cloud using Plotly\n",
    "fig = px.imshow(wordcloud, title='Word Cloud for Titles')\n",
    "fig.update_layout(coloraxis_showscale=False)  # Hide the color axis for cleaner display\n",
    "\n",
    "# Save the plot as an HTML file\n",
    "fig.write_html(os.path.join(save_dir, \"word_cloud_for_titles.html\"))\n",
    "\n",
    "fig.show()"
   ]
  },
  {
   "cell_type": "code",
   "execution_count": 64,
   "metadata": {},
   "outputs": [
    {
     "name": "stdout",
     "output_type": "stream",
     "text": [
      "Topic #0:\n",
      "school student education need child learning support programme moe skill\n",
      "Topic #1:\n",
      "business company industry sector new digital help technology need smes\n",
      "Topic #2:\n",
      "drug lift police team people family offender building home work\n",
      "Topic #3:\n",
      "public defence service time saf people family need country threat\n",
      "Topic #4:\n",
      "energy smoking smoker product tobacco water carbon cigarettes cigarette emission\n",
      "Topic #5:\n",
      "covid 19 support need community people help time art budget\n",
      "Topic #6:\n",
      "transport public new bus waste food like vehicle lta need\n",
      "Topic #7:\n",
      "worker job need budget support work company time help employer\n",
      "Topic #8:\n",
      "care need community service health flat family healthcare support senior\n",
      "Topic #9:\n",
      "council town speaker claim cpf law act case amendment time\n",
      "\n"
     ]
    }
   ],
   "source": [
    "# Add custom stopwords\n",
    "custom_stopwords = list(custom_stopwords) + [\"parliament\", \"session\", \"government\", \"mr\", \"year\", \"singaporeans\", \"member\"]\n",
    "\n",
    "# Combine custom stopwords with the default English stopwords\n",
    "combined_stopwords = list(sklearn.feature_extraction.text.ENGLISH_STOP_WORDS.union(custom_stopwords))\n",
    "\n",
    "# Initialize the lemmatizer\n",
    "lemmatizer = WordNetLemmatizer()\n",
    "\n",
    "# Function to lemmatize the text\n",
    "def lemmatize_text(text):\n",
    "    tokens = word_tokenize(text)\n",
    "    lemmatized_tokens = [lemmatizer.lemmatize(token.lower()) for token in tokens if token.lower() not in combined_stopwords]\n",
    "    return ' '.join(lemmatized_tokens)\n",
    "\n",
    "# Apply lemmatization to each text in the dataframe\n",
    "df['Lemmatized Text'] = df['Text'].apply(lemmatize_text)\n",
    "\n",
    "# Extract all texts for topic modeling\n",
    "texts = df['Lemmatized Text']\n",
    "\n",
    "# Convert texts to a matrix of token counts\n",
    "vectorizer = CountVectorizer(stop_words=combined_stopwords)\n",
    "X = vectorizer.fit_transform(texts)\n",
    "\n",
    "# Fit LDA model\n",
    "lda = LatentDirichletAllocation(n_components=10, random_state=25)  \n",
    "lda.fit(X)\n",
    "\n",
    "# Display the most important words for each topic identified by the LDA model\n",
    "def print_top_words(model, feature_names, n_top_words):\n",
    "    for topic_idx, topic in enumerate(model.components_):\n",
    "        print(f\"Topic #{topic_idx}:\")\n",
    "        # Extract and print the top words for a given topic in an LDA model\n",
    "        print(\" \".join([feature_names[i] for i in topic.argsort()[:-n_top_words - 1:-1]]))\n",
    "    print()\n",
    "\n",
    "n_top_words = 10\n",
    "print_top_words(lda, vectorizer.get_feature_names_out(), n_top_words)\n",
    "\n",
    "# Assign topics to the debates\n",
    "df['Topic'] = lda.transform(X).argmax(axis=1)"
   ]
  },
  {
   "cell_type": "code",
   "execution_count": 65,
   "metadata": {},
   "outputs": [],
   "source": [
    "topics = {\n",
    "    0: \"Education and Support Programmes\",\n",
    "    1: \"Digital Transformation in Industry\",\n",
    "    2: \"Law Enforcement and Rehabilitation\",\n",
    "    3: \"National Defence and Security\",\n",
    "    4: \"Smoking and Environmental Impact\",\n",
    "    5: \"Community Support during COVID-19\",\n",
    "    6: \"Punlic Transport and Waste Management\",\n",
    "    7: \"Workforce Support and Employment\",\n",
    "    8: \"Community Care and Services\",\n",
    "    9: \"Legislative Matters and Amendments\"\n",
    "}\n",
    "\n",
    "df[\"Topic\"] = df[\"Topic\"].map(topics)"
   ]
  },
  {
   "cell_type": "code",
   "execution_count": 66,
   "metadata": {},
   "outputs": [
    {
     "data": {
      "text/html": [
       "<div>\n",
       "<style scoped>\n",
       "    .dataframe tbody tr th:only-of-type {\n",
       "        vertical-align: middle;\n",
       "    }\n",
       "\n",
       "    .dataframe tbody tr th {\n",
       "        vertical-align: top;\n",
       "    }\n",
       "\n",
       "    .dataframe thead th {\n",
       "        text-align: right;\n",
       "    }\n",
       "</style>\n",
       "<table border=\"1\" class=\"dataframe\">\n",
       "  <thead>\n",
       "    <tr style=\"text-align: right;\">\n",
       "      <th></th>\n",
       "      <th>Section Name</th>\n",
       "      <th>Title</th>\n",
       "      <th>Text</th>\n",
       "      <th>Speakers</th>\n",
       "      <th>Lemmatized Text</th>\n",
       "      <th>Topic</th>\n",
       "    </tr>\n",
       "  </thead>\n",
       "  <tbody>\n",
       "    <tr>\n",
       "      <th>0</th>\n",
       "      <td>Oral Answers to Questions</td>\n",
       "      <td>Fair Process for Termination Due to Poor Perfo...</td>\n",
       "      <td>1 Dr Tan Wu Meng asked\\tthe Minister for Manpo...</td>\n",
       "      <td>Er Dr Lee Bee Wah (Nee Soon),Mr Zainal Sapari ...</td>\n",
       "      <td>1 dr tan wu meng asked manpower provide update...</td>\n",
       "      <td>Workforce Support and Employment</td>\n",
       "    </tr>\n",
       "    <tr>\n",
       "      <th>1</th>\n",
       "      <td>Written Answers to Questions for Oral Answer N...</td>\n",
       "      <td>Details and Framework of Workings of The Speci...</td>\n",
       "      <td>22 Assoc Prof Fatimah Lateef asked the Ministe...</td>\n",
       "      <td>[Prof Fatimah Lateef, Mr Desmond Lee]</td>\n",
       "      <td>22 assoc prof fatimah lateef asked social fami...</td>\n",
       "      <td>Community Care and Services</td>\n",
       "    </tr>\n",
       "    <tr>\n",
       "      <th>2</th>\n",
       "      <td>Budget</td>\n",
       "      <td>Committee of Supply – Head R (Ministry of Law)</td>\n",
       "      <td>The Chairman: Head R, Ministry of Law. Mr Chri...</td>\n",
       "      <td>[The Senior Minister of State for Law (Mr Edwi...</td>\n",
       "      <td>chairman : r , law . christopher souza , cut ....</td>\n",
       "      <td>Legislative Matters and Amendments</td>\n",
       "    </tr>\n",
       "    <tr>\n",
       "      <th>3</th>\n",
       "      <td>Oral Answers to Questions</td>\n",
       "      <td>Female Representation in Statutory Boards</td>\n",
       "      <td>The following question stood in the name of Ms...</td>\n",
       "      <td>[The Senior Parliamentary Secretary to the Min...</td>\n",
       "      <td>following question stood m anthea ong –1 ask s...</td>\n",
       "      <td>Community Care and Services</td>\n",
       "    </tr>\n",
       "    <tr>\n",
       "      <th>4</th>\n",
       "      <td>Budget</td>\n",
       "      <td>Committee of Supply – Head W (Ministry of Tran...</td>\n",
       "      <td>Growing Pains in TransportMr Sitoh Yih Pin (Po...</td>\n",
       "      <td>[Mr Pritam Singh (Aljunied), Mr Melvin Yong Yi...</td>\n",
       "      <td>growing pain transportmr sitoh yih pin ( poton...</td>\n",
       "      <td>Punlic Transport and Waste Management</td>\n",
       "    </tr>\n",
       "    <tr>\n",
       "      <th>...</th>\n",
       "      <td>...</td>\n",
       "      <td>...</td>\n",
       "      <td>...</td>\n",
       "      <td>...</td>\n",
       "      <td>...</td>\n",
       "      <td>...</td>\n",
       "    </tr>\n",
       "    <tr>\n",
       "      <th>159</th>\n",
       "      <td>Oral Answers to Questions</td>\n",
       "      <td>Complaints on Lapses in Real-time Updates for ...</td>\n",
       "      <td>1 Er Dr Lee Bee Wah asked\\tthe Minister for Tr...</td>\n",
       "      <td>Er Dr Lee Bee Wah (Nee Soon),Er Dr Lee Bee Wah...</td>\n",
       "      <td>1 er dr lee bee wah asked transport ( ) lta aw...</td>\n",
       "      <td>Punlic Transport and Waste Management</td>\n",
       "    </tr>\n",
       "    <tr>\n",
       "      <th>160</th>\n",
       "      <td>Second Reading Bills</td>\n",
       "      <td>Central Provident Fund (Amendment) Bill</td>\n",
       "      <td>Order for Second Reading read.4.51 pmThe Minis...</td>\n",
       "      <td>[Mrs Josephine Teo, Assoc Prof Daniel Goh Pei ...</td>\n",
       "      <td>order second reading read.4.51 pmthe manpower ...</td>\n",
       "      <td>Legislative Matters and Amendments</td>\n",
       "    </tr>\n",
       "    <tr>\n",
       "      <th>161</th>\n",
       "      <td>Budget</td>\n",
       "      <td>Committee of Supply – Head I (Ministry of Soci...</td>\n",
       "      <td>The Chairman: Head I, Ministry of Social and F...</td>\n",
       "      <td>[The Chairman, Mr Sam Tan Chin Siong, Ms Denis...</td>\n",
       "      <td>chairman : , social family development . seah ...</td>\n",
       "      <td>Community Care and Services</td>\n",
       "    </tr>\n",
       "    <tr>\n",
       "      <th>162</th>\n",
       "      <td>Ministerial Statements</td>\n",
       "      <td>Government's Plans in our Continued Fight agai...</td>\n",
       "      <td>Debate resumed.Mr Deputy Speaker: Minister Isw...</td>\n",
       "      <td>[Mr Deputy Speaker, Mr Deputy Speaker, Miss Ch...</td>\n",
       "      <td>resumed.mr deputy speaker : iswaran.6.49 pmthe...</td>\n",
       "      <td>Digital Transformation in Industry</td>\n",
       "    </tr>\n",
       "    <tr>\n",
       "      <th>163</th>\n",
       "      <td>Budget</td>\n",
       "      <td>Committee of Supply – Head X (Ministry of Cult...</td>\n",
       "      <td>Rallying SingaporeansDr Lim Wee Kiak (Sembawan...</td>\n",
       "      <td>Er Dr Lee Bee Wah (Nee Soon),Dr Teo Ho Pin (Bu...</td>\n",
       "      <td>rallying singaporeansdr lim wee kiak ( sembawa...</td>\n",
       "      <td>Community Support during COVID-19</td>\n",
       "    </tr>\n",
       "  </tbody>\n",
       "</table>\n",
       "<p>164 rows × 6 columns</p>\n",
       "</div>"
      ],
      "text/plain": [
       "                                          Section Name  \\\n",
       "0                            Oral Answers to Questions   \n",
       "1    Written Answers to Questions for Oral Answer N...   \n",
       "2                                               Budget   \n",
       "3                            Oral Answers to Questions   \n",
       "4                                               Budget   \n",
       "..                                                 ...   \n",
       "159                          Oral Answers to Questions   \n",
       "160                               Second Reading Bills   \n",
       "161                                             Budget   \n",
       "162                             Ministerial Statements   \n",
       "163                                             Budget   \n",
       "\n",
       "                                                 Title  \\\n",
       "0    Fair Process for Termination Due to Poor Perfo...   \n",
       "1    Details and Framework of Workings of The Speci...   \n",
       "2       Committee of Supply – Head R (Ministry of Law)   \n",
       "3            Female Representation in Statutory Boards   \n",
       "4    Committee of Supply – Head W (Ministry of Tran...   \n",
       "..                                                 ...   \n",
       "159  Complaints on Lapses in Real-time Updates for ...   \n",
       "160            Central Provident Fund (Amendment) Bill   \n",
       "161  Committee of Supply – Head I (Ministry of Soci...   \n",
       "162  Government's Plans in our Continued Fight agai...   \n",
       "163  Committee of Supply – Head X (Ministry of Cult...   \n",
       "\n",
       "                                                  Text  \\\n",
       "0    1 Dr Tan Wu Meng asked\\tthe Minister for Manpo...   \n",
       "1    22 Assoc Prof Fatimah Lateef asked the Ministe...   \n",
       "2    The Chairman: Head R, Ministry of Law. Mr Chri...   \n",
       "3    The following question stood in the name of Ms...   \n",
       "4    Growing Pains in TransportMr Sitoh Yih Pin (Po...   \n",
       "..                                                 ...   \n",
       "159  1 Er Dr Lee Bee Wah asked\\tthe Minister for Tr...   \n",
       "160  Order for Second Reading read.4.51 pmThe Minis...   \n",
       "161  The Chairman: Head I, Ministry of Social and F...   \n",
       "162  Debate resumed.Mr Deputy Speaker: Minister Isw...   \n",
       "163  Rallying SingaporeansDr Lim Wee Kiak (Sembawan...   \n",
       "\n",
       "                                              Speakers  \\\n",
       "0    Er Dr Lee Bee Wah (Nee Soon),Mr Zainal Sapari ...   \n",
       "1                [Prof Fatimah Lateef, Mr Desmond Lee]   \n",
       "2    [The Senior Minister of State for Law (Mr Edwi...   \n",
       "3    [The Senior Parliamentary Secretary to the Min...   \n",
       "4    [Mr Pritam Singh (Aljunied), Mr Melvin Yong Yi...   \n",
       "..                                                 ...   \n",
       "159  Er Dr Lee Bee Wah (Nee Soon),Er Dr Lee Bee Wah...   \n",
       "160  [Mrs Josephine Teo, Assoc Prof Daniel Goh Pei ...   \n",
       "161  [The Chairman, Mr Sam Tan Chin Siong, Ms Denis...   \n",
       "162  [Mr Deputy Speaker, Mr Deputy Speaker, Miss Ch...   \n",
       "163  Er Dr Lee Bee Wah (Nee Soon),Dr Teo Ho Pin (Bu...   \n",
       "\n",
       "                                       Lemmatized Text  \\\n",
       "0    1 dr tan wu meng asked manpower provide update...   \n",
       "1    22 assoc prof fatimah lateef asked social fami...   \n",
       "2    chairman : r , law . christopher souza , cut ....   \n",
       "3    following question stood m anthea ong –1 ask s...   \n",
       "4    growing pain transportmr sitoh yih pin ( poton...   \n",
       "..                                                 ...   \n",
       "159  1 er dr lee bee wah asked transport ( ) lta aw...   \n",
       "160  order second reading read.4.51 pmthe manpower ...   \n",
       "161  chairman : , social family development . seah ...   \n",
       "162  resumed.mr deputy speaker : iswaran.6.49 pmthe...   \n",
       "163  rallying singaporeansdr lim wee kiak ( sembawa...   \n",
       "\n",
       "                                     Topic  \n",
       "0         Workforce Support and Employment  \n",
       "1              Community Care and Services  \n",
       "2       Legislative Matters and Amendments  \n",
       "3              Community Care and Services  \n",
       "4    Punlic Transport and Waste Management  \n",
       "..                                     ...  \n",
       "159  Punlic Transport and Waste Management  \n",
       "160     Legislative Matters and Amendments  \n",
       "161            Community Care and Services  \n",
       "162     Digital Transformation in Industry  \n",
       "163      Community Support during COVID-19  \n",
       "\n",
       "[164 rows x 6 columns]"
      ]
     },
     "execution_count": 66,
     "metadata": {},
     "output_type": "execute_result"
    }
   ],
   "source": [
    "df"
   ]
  },
  {
   "cell_type": "code",
   "execution_count": 67,
   "metadata": {},
   "outputs": [
    {
     "data": {
      "text/plain": [
       "Topic\n",
       "Workforce Support and Employment         27\n",
       "Digital Transformation in Industry       26\n",
       "Community Care and Services              22\n",
       "Punlic Transport and Waste Management    20\n",
       "Legislative Matters and Amendments       18\n",
       "Education and Support Programmes         16\n",
       "National Defence and Security            14\n",
       "Community Support during COVID-19        13\n",
       "Law Enforcement and Rehabilitation        6\n",
       "Smoking and Environmental Impact          2\n",
       "Name: count, dtype: int64"
      ]
     },
     "execution_count": 67,
     "metadata": {},
     "output_type": "execute_result"
    }
   ],
   "source": [
    "df[\"Topic\"].value_counts()"
   ]
  },
  {
   "cell_type": "code",
   "execution_count": 68,
   "metadata": {},
   "outputs": [
    {
     "data": {
      "application/vnd.plotly.v1+json": {
       "config": {
        "plotlyServerURL": "https://plot.ly"
       },
       "data": [
        {
         "alignmentgroup": "True",
         "hovertemplate": "Topic=%{x}<br>Number of Debates=%{text}<extra></extra>",
         "legendgroup": "Workforce Support and Employment",
         "marker": {
          "color": "#636efa",
          "pattern": {
           "shape": ""
          }
         },
         "name": "Workforce Support and Employment",
         "offsetgroup": "Workforce Support and Employment",
         "orientation": "v",
         "showlegend": true,
         "text": [
          27
         ],
         "textposition": "outside",
         "texttemplate": "%{text}",
         "type": "bar",
         "x": [
          "Workforce Support and Employment"
         ],
         "xaxis": "x",
         "y": [
          27
         ],
         "yaxis": "y"
        },
        {
         "alignmentgroup": "True",
         "hovertemplate": "Topic=%{x}<br>Number of Debates=%{text}<extra></extra>",
         "legendgroup": "Digital Transformation in Industry",
         "marker": {
          "color": "#EF553B",
          "pattern": {
           "shape": ""
          }
         },
         "name": "Digital Transformation in Industry",
         "offsetgroup": "Digital Transformation in Industry",
         "orientation": "v",
         "showlegend": true,
         "text": [
          26
         ],
         "textposition": "outside",
         "texttemplate": "%{text}",
         "type": "bar",
         "x": [
          "Digital Transformation in Industry"
         ],
         "xaxis": "x",
         "y": [
          26
         ],
         "yaxis": "y"
        },
        {
         "alignmentgroup": "True",
         "hovertemplate": "Topic=%{x}<br>Number of Debates=%{text}<extra></extra>",
         "legendgroup": "Community Care and Services",
         "marker": {
          "color": "#00cc96",
          "pattern": {
           "shape": ""
          }
         },
         "name": "Community Care and Services",
         "offsetgroup": "Community Care and Services",
         "orientation": "v",
         "showlegend": true,
         "text": [
          22
         ],
         "textposition": "outside",
         "texttemplate": "%{text}",
         "type": "bar",
         "x": [
          "Community Care and Services"
         ],
         "xaxis": "x",
         "y": [
          22
         ],
         "yaxis": "y"
        },
        {
         "alignmentgroup": "True",
         "hovertemplate": "Topic=%{x}<br>Number of Debates=%{text}<extra></extra>",
         "legendgroup": "Punlic Transport and Waste Management",
         "marker": {
          "color": "#ab63fa",
          "pattern": {
           "shape": ""
          }
         },
         "name": "Punlic Transport and Waste Management",
         "offsetgroup": "Punlic Transport and Waste Management",
         "orientation": "v",
         "showlegend": true,
         "text": [
          20
         ],
         "textposition": "outside",
         "texttemplate": "%{text}",
         "type": "bar",
         "x": [
          "Punlic Transport and Waste Management"
         ],
         "xaxis": "x",
         "y": [
          20
         ],
         "yaxis": "y"
        },
        {
         "alignmentgroup": "True",
         "hovertemplate": "Topic=%{x}<br>Number of Debates=%{text}<extra></extra>",
         "legendgroup": "Legislative Matters and Amendments",
         "marker": {
          "color": "#FFA15A",
          "pattern": {
           "shape": ""
          }
         },
         "name": "Legislative Matters and Amendments",
         "offsetgroup": "Legislative Matters and Amendments",
         "orientation": "v",
         "showlegend": true,
         "text": [
          18
         ],
         "textposition": "outside",
         "texttemplate": "%{text}",
         "type": "bar",
         "x": [
          "Legislative Matters and Amendments"
         ],
         "xaxis": "x",
         "y": [
          18
         ],
         "yaxis": "y"
        },
        {
         "alignmentgroup": "True",
         "hovertemplate": "Topic=%{x}<br>Number of Debates=%{text}<extra></extra>",
         "legendgroup": "Education and Support Programmes",
         "marker": {
          "color": "#19d3f3",
          "pattern": {
           "shape": ""
          }
         },
         "name": "Education and Support Programmes",
         "offsetgroup": "Education and Support Programmes",
         "orientation": "v",
         "showlegend": true,
         "text": [
          16
         ],
         "textposition": "outside",
         "texttemplate": "%{text}",
         "type": "bar",
         "x": [
          "Education and Support Programmes"
         ],
         "xaxis": "x",
         "y": [
          16
         ],
         "yaxis": "y"
        },
        {
         "alignmentgroup": "True",
         "hovertemplate": "Topic=%{x}<br>Number of Debates=%{text}<extra></extra>",
         "legendgroup": "National Defence and Security",
         "marker": {
          "color": "#FF6692",
          "pattern": {
           "shape": ""
          }
         },
         "name": "National Defence and Security",
         "offsetgroup": "National Defence and Security",
         "orientation": "v",
         "showlegend": true,
         "text": [
          14
         ],
         "textposition": "outside",
         "texttemplate": "%{text}",
         "type": "bar",
         "x": [
          "National Defence and Security"
         ],
         "xaxis": "x",
         "y": [
          14
         ],
         "yaxis": "y"
        },
        {
         "alignmentgroup": "True",
         "hovertemplate": "Topic=%{x}<br>Number of Debates=%{text}<extra></extra>",
         "legendgroup": "Community Support during COVID-19",
         "marker": {
          "color": "#B6E880",
          "pattern": {
           "shape": ""
          }
         },
         "name": "Community Support during COVID-19",
         "offsetgroup": "Community Support during COVID-19",
         "orientation": "v",
         "showlegend": true,
         "text": [
          13
         ],
         "textposition": "outside",
         "texttemplate": "%{text}",
         "type": "bar",
         "x": [
          "Community Support during COVID-19"
         ],
         "xaxis": "x",
         "y": [
          13
         ],
         "yaxis": "y"
        },
        {
         "alignmentgroup": "True",
         "hovertemplate": "Topic=%{x}<br>Number of Debates=%{text}<extra></extra>",
         "legendgroup": "Law Enforcement and Rehabilitation",
         "marker": {
          "color": "#FF97FF",
          "pattern": {
           "shape": ""
          }
         },
         "name": "Law Enforcement and Rehabilitation",
         "offsetgroup": "Law Enforcement and Rehabilitation",
         "orientation": "v",
         "showlegend": true,
         "text": [
          6
         ],
         "textposition": "outside",
         "texttemplate": "%{text}",
         "type": "bar",
         "x": [
          "Law Enforcement and Rehabilitation"
         ],
         "xaxis": "x",
         "y": [
          6
         ],
         "yaxis": "y"
        },
        {
         "alignmentgroup": "True",
         "hovertemplate": "Topic=%{x}<br>Number of Debates=%{text}<extra></extra>",
         "legendgroup": "Smoking and Environmental Impact",
         "marker": {
          "color": "#FECB52",
          "pattern": {
           "shape": ""
          }
         },
         "name": "Smoking and Environmental Impact",
         "offsetgroup": "Smoking and Environmental Impact",
         "orientation": "v",
         "showlegend": true,
         "text": [
          2
         ],
         "textposition": "outside",
         "texttemplate": "%{text}",
         "type": "bar",
         "x": [
          "Smoking and Environmental Impact"
         ],
         "xaxis": "x",
         "y": [
          2
         ],
         "yaxis": "y"
        }
       ],
       "layout": {
        "bargap": 0.4,
        "barmode": "relative",
        "font": {
         "size": 12
        },
        "legend": {
         "title": {
          "text": "Topic"
         },
         "tracegroupgap": 0
        },
        "margin": {
         "b": 100,
         "l": 50,
         "r": 50,
         "t": 100
        },
        "paper_bgcolor": "white",
        "plot_bgcolor": "white",
        "showlegend": false,
        "template": {
         "data": {
          "bar": [
           {
            "error_x": {
             "color": "#2a3f5f"
            },
            "error_y": {
             "color": "#2a3f5f"
            },
            "marker": {
             "line": {
              "color": "#E5ECF6",
              "width": 0.5
             },
             "pattern": {
              "fillmode": "overlay",
              "size": 10,
              "solidity": 0.2
             }
            },
            "type": "bar"
           }
          ],
          "barpolar": [
           {
            "marker": {
             "line": {
              "color": "#E5ECF6",
              "width": 0.5
             },
             "pattern": {
              "fillmode": "overlay",
              "size": 10,
              "solidity": 0.2
             }
            },
            "type": "barpolar"
           }
          ],
          "carpet": [
           {
            "aaxis": {
             "endlinecolor": "#2a3f5f",
             "gridcolor": "white",
             "linecolor": "white",
             "minorgridcolor": "white",
             "startlinecolor": "#2a3f5f"
            },
            "baxis": {
             "endlinecolor": "#2a3f5f",
             "gridcolor": "white",
             "linecolor": "white",
             "minorgridcolor": "white",
             "startlinecolor": "#2a3f5f"
            },
            "type": "carpet"
           }
          ],
          "choropleth": [
           {
            "colorbar": {
             "outlinewidth": 0,
             "ticks": ""
            },
            "type": "choropleth"
           }
          ],
          "contour": [
           {
            "colorbar": {
             "outlinewidth": 0,
             "ticks": ""
            },
            "colorscale": [
             [
              0,
              "#0d0887"
             ],
             [
              0.1111111111111111,
              "#46039f"
             ],
             [
              0.2222222222222222,
              "#7201a8"
             ],
             [
              0.3333333333333333,
              "#9c179e"
             ],
             [
              0.4444444444444444,
              "#bd3786"
             ],
             [
              0.5555555555555556,
              "#d8576b"
             ],
             [
              0.6666666666666666,
              "#ed7953"
             ],
             [
              0.7777777777777778,
              "#fb9f3a"
             ],
             [
              0.8888888888888888,
              "#fdca26"
             ],
             [
              1,
              "#f0f921"
             ]
            ],
            "type": "contour"
           }
          ],
          "contourcarpet": [
           {
            "colorbar": {
             "outlinewidth": 0,
             "ticks": ""
            },
            "type": "contourcarpet"
           }
          ],
          "heatmap": [
           {
            "colorbar": {
             "outlinewidth": 0,
             "ticks": ""
            },
            "colorscale": [
             [
              0,
              "#0d0887"
             ],
             [
              0.1111111111111111,
              "#46039f"
             ],
             [
              0.2222222222222222,
              "#7201a8"
             ],
             [
              0.3333333333333333,
              "#9c179e"
             ],
             [
              0.4444444444444444,
              "#bd3786"
             ],
             [
              0.5555555555555556,
              "#d8576b"
             ],
             [
              0.6666666666666666,
              "#ed7953"
             ],
             [
              0.7777777777777778,
              "#fb9f3a"
             ],
             [
              0.8888888888888888,
              "#fdca26"
             ],
             [
              1,
              "#f0f921"
             ]
            ],
            "type": "heatmap"
           }
          ],
          "heatmapgl": [
           {
            "colorbar": {
             "outlinewidth": 0,
             "ticks": ""
            },
            "colorscale": [
             [
              0,
              "#0d0887"
             ],
             [
              0.1111111111111111,
              "#46039f"
             ],
             [
              0.2222222222222222,
              "#7201a8"
             ],
             [
              0.3333333333333333,
              "#9c179e"
             ],
             [
              0.4444444444444444,
              "#bd3786"
             ],
             [
              0.5555555555555556,
              "#d8576b"
             ],
             [
              0.6666666666666666,
              "#ed7953"
             ],
             [
              0.7777777777777778,
              "#fb9f3a"
             ],
             [
              0.8888888888888888,
              "#fdca26"
             ],
             [
              1,
              "#f0f921"
             ]
            ],
            "type": "heatmapgl"
           }
          ],
          "histogram": [
           {
            "marker": {
             "pattern": {
              "fillmode": "overlay",
              "size": 10,
              "solidity": 0.2
             }
            },
            "type": "histogram"
           }
          ],
          "histogram2d": [
           {
            "colorbar": {
             "outlinewidth": 0,
             "ticks": ""
            },
            "colorscale": [
             [
              0,
              "#0d0887"
             ],
             [
              0.1111111111111111,
              "#46039f"
             ],
             [
              0.2222222222222222,
              "#7201a8"
             ],
             [
              0.3333333333333333,
              "#9c179e"
             ],
             [
              0.4444444444444444,
              "#bd3786"
             ],
             [
              0.5555555555555556,
              "#d8576b"
             ],
             [
              0.6666666666666666,
              "#ed7953"
             ],
             [
              0.7777777777777778,
              "#fb9f3a"
             ],
             [
              0.8888888888888888,
              "#fdca26"
             ],
             [
              1,
              "#f0f921"
             ]
            ],
            "type": "histogram2d"
           }
          ],
          "histogram2dcontour": [
           {
            "colorbar": {
             "outlinewidth": 0,
             "ticks": ""
            },
            "colorscale": [
             [
              0,
              "#0d0887"
             ],
             [
              0.1111111111111111,
              "#46039f"
             ],
             [
              0.2222222222222222,
              "#7201a8"
             ],
             [
              0.3333333333333333,
              "#9c179e"
             ],
             [
              0.4444444444444444,
              "#bd3786"
             ],
             [
              0.5555555555555556,
              "#d8576b"
             ],
             [
              0.6666666666666666,
              "#ed7953"
             ],
             [
              0.7777777777777778,
              "#fb9f3a"
             ],
             [
              0.8888888888888888,
              "#fdca26"
             ],
             [
              1,
              "#f0f921"
             ]
            ],
            "type": "histogram2dcontour"
           }
          ],
          "mesh3d": [
           {
            "colorbar": {
             "outlinewidth": 0,
             "ticks": ""
            },
            "type": "mesh3d"
           }
          ],
          "parcoords": [
           {
            "line": {
             "colorbar": {
              "outlinewidth": 0,
              "ticks": ""
             }
            },
            "type": "parcoords"
           }
          ],
          "pie": [
           {
            "automargin": true,
            "type": "pie"
           }
          ],
          "scatter": [
           {
            "fillpattern": {
             "fillmode": "overlay",
             "size": 10,
             "solidity": 0.2
            },
            "type": "scatter"
           }
          ],
          "scatter3d": [
           {
            "line": {
             "colorbar": {
              "outlinewidth": 0,
              "ticks": ""
             }
            },
            "marker": {
             "colorbar": {
              "outlinewidth": 0,
              "ticks": ""
             }
            },
            "type": "scatter3d"
           }
          ],
          "scattercarpet": [
           {
            "marker": {
             "colorbar": {
              "outlinewidth": 0,
              "ticks": ""
             }
            },
            "type": "scattercarpet"
           }
          ],
          "scattergeo": [
           {
            "marker": {
             "colorbar": {
              "outlinewidth": 0,
              "ticks": ""
             }
            },
            "type": "scattergeo"
           }
          ],
          "scattergl": [
           {
            "marker": {
             "colorbar": {
              "outlinewidth": 0,
              "ticks": ""
             }
            },
            "type": "scattergl"
           }
          ],
          "scattermapbox": [
           {
            "marker": {
             "colorbar": {
              "outlinewidth": 0,
              "ticks": ""
             }
            },
            "type": "scattermapbox"
           }
          ],
          "scatterpolar": [
           {
            "marker": {
             "colorbar": {
              "outlinewidth": 0,
              "ticks": ""
             }
            },
            "type": "scatterpolar"
           }
          ],
          "scatterpolargl": [
           {
            "marker": {
             "colorbar": {
              "outlinewidth": 0,
              "ticks": ""
             }
            },
            "type": "scatterpolargl"
           }
          ],
          "scatterternary": [
           {
            "marker": {
             "colorbar": {
              "outlinewidth": 0,
              "ticks": ""
             }
            },
            "type": "scatterternary"
           }
          ],
          "surface": [
           {
            "colorbar": {
             "outlinewidth": 0,
             "ticks": ""
            },
            "colorscale": [
             [
              0,
              "#0d0887"
             ],
             [
              0.1111111111111111,
              "#46039f"
             ],
             [
              0.2222222222222222,
              "#7201a8"
             ],
             [
              0.3333333333333333,
              "#9c179e"
             ],
             [
              0.4444444444444444,
              "#bd3786"
             ],
             [
              0.5555555555555556,
              "#d8576b"
             ],
             [
              0.6666666666666666,
              "#ed7953"
             ],
             [
              0.7777777777777778,
              "#fb9f3a"
             ],
             [
              0.8888888888888888,
              "#fdca26"
             ],
             [
              1,
              "#f0f921"
             ]
            ],
            "type": "surface"
           }
          ],
          "table": [
           {
            "cells": {
             "fill": {
              "color": "#EBF0F8"
             },
             "line": {
              "color": "white"
             }
            },
            "header": {
             "fill": {
              "color": "#C8D4E3"
             },
             "line": {
              "color": "white"
             }
            },
            "type": "table"
           }
          ]
         },
         "layout": {
          "annotationdefaults": {
           "arrowcolor": "#2a3f5f",
           "arrowhead": 0,
           "arrowwidth": 1
          },
          "autotypenumbers": "strict",
          "coloraxis": {
           "colorbar": {
            "outlinewidth": 0,
            "ticks": ""
           }
          },
          "colorscale": {
           "diverging": [
            [
             0,
             "#8e0152"
            ],
            [
             0.1,
             "#c51b7d"
            ],
            [
             0.2,
             "#de77ae"
            ],
            [
             0.3,
             "#f1b6da"
            ],
            [
             0.4,
             "#fde0ef"
            ],
            [
             0.5,
             "#f7f7f7"
            ],
            [
             0.6,
             "#e6f5d0"
            ],
            [
             0.7,
             "#b8e186"
            ],
            [
             0.8,
             "#7fbc41"
            ],
            [
             0.9,
             "#4d9221"
            ],
            [
             1,
             "#276419"
            ]
           ],
           "sequential": [
            [
             0,
             "#0d0887"
            ],
            [
             0.1111111111111111,
             "#46039f"
            ],
            [
             0.2222222222222222,
             "#7201a8"
            ],
            [
             0.3333333333333333,
             "#9c179e"
            ],
            [
             0.4444444444444444,
             "#bd3786"
            ],
            [
             0.5555555555555556,
             "#d8576b"
            ],
            [
             0.6666666666666666,
             "#ed7953"
            ],
            [
             0.7777777777777778,
             "#fb9f3a"
            ],
            [
             0.8888888888888888,
             "#fdca26"
            ],
            [
             1,
             "#f0f921"
            ]
           ],
           "sequentialminus": [
            [
             0,
             "#0d0887"
            ],
            [
             0.1111111111111111,
             "#46039f"
            ],
            [
             0.2222222222222222,
             "#7201a8"
            ],
            [
             0.3333333333333333,
             "#9c179e"
            ],
            [
             0.4444444444444444,
             "#bd3786"
            ],
            [
             0.5555555555555556,
             "#d8576b"
            ],
            [
             0.6666666666666666,
             "#ed7953"
            ],
            [
             0.7777777777777778,
             "#fb9f3a"
            ],
            [
             0.8888888888888888,
             "#fdca26"
            ],
            [
             1,
             "#f0f921"
            ]
           ]
          },
          "colorway": [
           "#636efa",
           "#EF553B",
           "#00cc96",
           "#ab63fa",
           "#FFA15A",
           "#19d3f3",
           "#FF6692",
           "#B6E880",
           "#FF97FF",
           "#FECB52"
          ],
          "font": {
           "color": "#2a3f5f"
          },
          "geo": {
           "bgcolor": "white",
           "lakecolor": "white",
           "landcolor": "#E5ECF6",
           "showlakes": true,
           "showland": true,
           "subunitcolor": "white"
          },
          "hoverlabel": {
           "align": "left"
          },
          "hovermode": "closest",
          "mapbox": {
           "style": "light"
          },
          "paper_bgcolor": "white",
          "plot_bgcolor": "#E5ECF6",
          "polar": {
           "angularaxis": {
            "gridcolor": "white",
            "linecolor": "white",
            "ticks": ""
           },
           "bgcolor": "#E5ECF6",
           "radialaxis": {
            "gridcolor": "white",
            "linecolor": "white",
            "ticks": ""
           }
          },
          "scene": {
           "xaxis": {
            "backgroundcolor": "#E5ECF6",
            "gridcolor": "white",
            "gridwidth": 2,
            "linecolor": "white",
            "showbackground": true,
            "ticks": "",
            "zerolinecolor": "white"
           },
           "yaxis": {
            "backgroundcolor": "#E5ECF6",
            "gridcolor": "white",
            "gridwidth": 2,
            "linecolor": "white",
            "showbackground": true,
            "ticks": "",
            "zerolinecolor": "white"
           },
           "zaxis": {
            "backgroundcolor": "#E5ECF6",
            "gridcolor": "white",
            "gridwidth": 2,
            "linecolor": "white",
            "showbackground": true,
            "ticks": "",
            "zerolinecolor": "white"
           }
          },
          "shapedefaults": {
           "line": {
            "color": "#2a3f5f"
           }
          },
          "ternary": {
           "aaxis": {
            "gridcolor": "white",
            "linecolor": "white",
            "ticks": ""
           },
           "baxis": {
            "gridcolor": "white",
            "linecolor": "white",
            "ticks": ""
           },
           "bgcolor": "#E5ECF6",
           "caxis": {
            "gridcolor": "white",
            "linecolor": "white",
            "ticks": ""
           }
          },
          "title": {
           "x": 0.05
          },
          "xaxis": {
           "automargin": true,
           "gridcolor": "white",
           "linecolor": "white",
           "ticks": "",
           "title": {
            "standoff": 15
           },
           "zerolinecolor": "white",
           "zerolinewidth": 2
          },
          "yaxis": {
           "automargin": true,
           "gridcolor": "white",
           "linecolor": "white",
           "ticks": "",
           "title": {
            "standoff": 15
           },
           "zerolinecolor": "white",
           "zerolinewidth": 2
          }
         }
        },
        "title": {
         "text": "Distribution of Common Topics in Parliamentary Debates",
         "x": 0.5,
         "xanchor": "center"
        },
        "uniformtext": {
         "minsize": 8,
         "mode": "hide"
        },
        "xaxis": {
         "anchor": "y",
         "categoryarray": [
          "Workforce Support and Employment",
          "Digital Transformation in Industry",
          "Community Care and Services",
          "Punlic Transport and Waste Management",
          "Legislative Matters and Amendments",
          "Education and Support Programmes",
          "National Defence and Security",
          "Community Support during COVID-19",
          "Law Enforcement and Rehabilitation",
          "Smoking and Environmental Impact"
         ],
         "categoryorder": "array",
         "domain": [
          0,
          1
         ],
         "tickangle": -45,
         "title": {
          "text": "Topic"
         }
        },
        "yaxis": {
         "anchor": "x",
         "domain": [
          0,
          1
         ],
         "range": [
          0,
          45
         ],
         "showgrid": true,
         "title": {
          "text": "Count"
         },
         "zeroline": false
        }
       }
      }
     },
     "metadata": {},
     "output_type": "display_data"
    }
   ],
   "source": [
    "# Calculate topic counts\n",
    "topic_counts = df[\"Topic\"].value_counts().reset_index()\n",
    "topic_counts.columns = ['Topic', 'Count']\n",
    "\n",
    "# Create the bar plot with Plotly\n",
    "fig = px.bar(topic_counts, x='Topic', y='Count', title='Distribution of Dominant Topics',\n",
    "             labels={'Topic': 'Topic', 'Count': 'Number of Debates'},\n",
    "             text='Count',\n",
    "             color='Topic',\n",
    "             color_continuous_scale=px.colors.qualitative.Plotly)  # Use Plotly's qualitative color scale\n",
    "\n",
    "fig.update_traces(texttemplate='%{text}', textposition='outside')\n",
    "\n",
    "fig.update_layout(\n",
    "    title={'text': 'Distribution of Common Topics in Parliamentary Debates', 'x': 0.5, 'xanchor': 'center'},\n",
    "    xaxis_title='Topic',\n",
    "    yaxis_title='Count',\n",
    "    uniformtext_minsize=8, uniformtext_mode='hide',\n",
    "    plot_bgcolor='white',\n",
    "    paper_bgcolor='white',\n",
    "    font=dict(size=12),\n",
    "    yaxis=dict(showgrid=True, zeroline=False, range=[0, 45]),  # Set the y-axis range to 0-45\n",
    "    xaxis_tickangle=-45,  # Rotate x-axis labels for better readability\n",
    "    bargap=0.4,  # Gap between bars\n",
    "    margin=dict(l=50, r=50, b=100, t=100),  # Adjust margins for better layout\n",
    "    showlegend=False  # Remove the legend\n",
    ")\n",
    "\n",
    "# Save the plot as an HTML file\n",
    "fig.write_html(os.path.join(save_dir, \"distribution_of_common_topics.html\"))\n",
    "\n",
    "fig.show()"
   ]
  },
  {
   "cell_type": "code",
   "execution_count": 69,
   "metadata": {},
   "outputs": [
    {
     "data": {
      "text/html": [
       "<div>\n",
       "<style scoped>\n",
       "    .dataframe tbody tr th:only-of-type {\n",
       "        vertical-align: middle;\n",
       "    }\n",
       "\n",
       "    .dataframe tbody tr th {\n",
       "        vertical-align: top;\n",
       "    }\n",
       "\n",
       "    .dataframe thead th {\n",
       "        text-align: right;\n",
       "    }\n",
       "</style>\n",
       "<table border=\"1\" class=\"dataframe\">\n",
       "  <thead>\n",
       "    <tr style=\"text-align: right;\">\n",
       "      <th></th>\n",
       "      <th>Section Name</th>\n",
       "      <th>Title</th>\n",
       "      <th>Text</th>\n",
       "      <th>Speakers</th>\n",
       "      <th>Lemmatized Text</th>\n",
       "      <th>Topic</th>\n",
       "    </tr>\n",
       "  </thead>\n",
       "  <tbody>\n",
       "    <tr>\n",
       "      <th>0</th>\n",
       "      <td>Oral Answers to Questions</td>\n",
       "      <td>Fair Process for Termination Due to Poor Perfo...</td>\n",
       "      <td>1 Dr Tan Wu Meng asked\\tthe Minister for Manpo...</td>\n",
       "      <td>Er Dr Lee Bee Wah (Nee Soon),Mr Zainal Sapari ...</td>\n",
       "      <td>1 dr tan wu meng asked manpower provide update...</td>\n",
       "      <td>Workforce Support and Employment</td>\n",
       "    </tr>\n",
       "    <tr>\n",
       "      <th>1</th>\n",
       "      <td>Written Answers to Questions for Oral Answer N...</td>\n",
       "      <td>Details and Framework of Workings of The Speci...</td>\n",
       "      <td>22 Assoc Prof Fatimah Lateef asked the Ministe...</td>\n",
       "      <td>[Prof Fatimah Lateef, Mr Desmond Lee]</td>\n",
       "      <td>22 assoc prof fatimah lateef asked social fami...</td>\n",
       "      <td>Community Care and Services</td>\n",
       "    </tr>\n",
       "    <tr>\n",
       "      <th>3</th>\n",
       "      <td>Oral Answers to Questions</td>\n",
       "      <td>Female Representation in Statutory Boards</td>\n",
       "      <td>The following question stood in the name of Ms...</td>\n",
       "      <td>[The Senior Parliamentary Secretary to the Min...</td>\n",
       "      <td>following question stood m anthea ong –1 ask s...</td>\n",
       "      <td>Community Care and Services</td>\n",
       "    </tr>\n",
       "    <tr>\n",
       "      <th>13</th>\n",
       "      <td>Oral Answers to Questions</td>\n",
       "      <td>Wage Growth Moving in Tandem with Productivity...</td>\n",
       "      <td>1 Mr Saktiandi Supaat asked the Minister for T...</td>\n",
       "      <td>Mr Saktiandi Supaat,The Senior Minister of Sta...</td>\n",
       "      <td>1 saktiandi supaat asked trade industry ( ) wa...</td>\n",
       "      <td>Digital Transformation in Industry</td>\n",
       "    </tr>\n",
       "    <tr>\n",
       "      <th>14</th>\n",
       "      <td>Oral Answers to Questions</td>\n",
       "      <td>Impact of Recent Fires in Australia on Singapo...</td>\n",
       "      <td>29 Mr Seah Kian Peng asked the Minister for th...</td>\n",
       "      <td>[The Minister for the Environment and Water Re...</td>\n",
       "      <td>29 seah kian peng asked environment water reso...</td>\n",
       "      <td>Punlic Transport and Waste Management</td>\n",
       "    </tr>\n",
       "    <tr>\n",
       "      <th>15</th>\n",
       "      <td>Oral Answers to Questions</td>\n",
       "      <td>Capital Reserve in PUB's Accounts</td>\n",
       "      <td>8 Mr Liang Eng Hwa asked the Minister for Fina...</td>\n",
       "      <td>[Mr Pritam Singh, Mr Liang Eng Hwa, Mr Low Thi...</td>\n",
       "      <td>8 liang eng hwa asked finance clarify $ 5.3 bi...</td>\n",
       "      <td>Workforce Support and Employment</td>\n",
       "    </tr>\n",
       "    <tr>\n",
       "      <th>24</th>\n",
       "      <td>Written Answers to Questions for Oral Answer N...</td>\n",
       "      <td>Challenges in Applying for Assistance under Le...</td>\n",
       "      <td>41 Mr Thomas Chua Kee Seng asked the Minister ...</td>\n",
       "      <td>Mr Thomas Chua Kee Seng,Mr Lim Swee Say</td>\n",
       "      <td>41 thomas chua kee seng asked manpower ( ) key...</td>\n",
       "      <td>Digital Transformation in Industry</td>\n",
       "    </tr>\n",
       "    <tr>\n",
       "      <th>30</th>\n",
       "      <td>Oral Answers to Questions</td>\n",
       "      <td>Waiting Time for Childcare Centre Places</td>\n",
       "      <td>5 Er Dr Lee Bee Wah asked\\tthe Minister for So...</td>\n",
       "      <td>[The Minister for Social and Family Developmen...</td>\n",
       "      <td>5 er dr lee bee wah asked social family develo...</td>\n",
       "      <td>Community Care and Services</td>\n",
       "    </tr>\n",
       "    <tr>\n",
       "      <th>32</th>\n",
       "      <td>Written Answers to Questions for Oral Answer N...</td>\n",
       "      <td>Update on Local Enterprise and Association Dev...</td>\n",
       "      <td>40 Mr Thomas Chua Kee Seng asked the Minister ...</td>\n",
       "      <td>[Mr Thomas Chua Kee Seng, Mr Chan Chun Sing]</td>\n",
       "      <td>40 thomas chua kee seng asked trade industry p...</td>\n",
       "      <td>Digital Transformation in Industry</td>\n",
       "    </tr>\n",
       "    <tr>\n",
       "      <th>34</th>\n",
       "      <td>Oral Answers to Questions</td>\n",
       "      <td>Measures to Mitigate Increasing Cost of Living</td>\n",
       "      <td>2 Mr Liang Eng Hwa asked the Minister for Trad...</td>\n",
       "      <td>[The Minister for Trade and Industry (Mr Chan ...</td>\n",
       "      <td>2 liang eng hwa asked trade industry ( ) gener...</td>\n",
       "      <td>Workforce Support and Employment</td>\n",
       "    </tr>\n",
       "    <tr>\n",
       "      <th>40</th>\n",
       "      <td>Oral Answers to Questions</td>\n",
       "      <td>Companies with Measures to Deal with Workplace...</td>\n",
       "      <td>8 Assoc Prof Walter Theseira asked the Ministe...</td>\n",
       "      <td>[The Senior Parliamentary Secretary to the Min...</td>\n",
       "      <td>8 assoc prof walter theseira asked manpower st...</td>\n",
       "      <td>Workforce Support and Employment</td>\n",
       "    </tr>\n",
       "    <tr>\n",
       "      <th>41</th>\n",
       "      <td>Oral Answers to Questions</td>\n",
       "      <td>Subject-banding in Accordance with Students’ A...</td>\n",
       "      <td>1 Ms Irene Quay Siew Ching asked the Minister ...</td>\n",
       "      <td>[The Second Minister for Education (Ms Indrane...</td>\n",
       "      <td>1 m irene quay siew ching asked education rega...</td>\n",
       "      <td>Education and Support Programmes</td>\n",
       "    </tr>\n",
       "    <tr>\n",
       "      <th>52</th>\n",
       "      <td>Oral Answers to Questions</td>\n",
       "      <td>Review Polytechnic Courses to Ensure They Stay...</td>\n",
       "      <td>1 Dr Lim Wee Kiak asked the Minister for Educa...</td>\n",
       "      <td>[The Senior Parliamentary Secretary to the Min...</td>\n",
       "      <td>1 dr lim wee kiak asked education ( higher edu...</td>\n",
       "      <td>Education and Support Programmes</td>\n",
       "    </tr>\n",
       "    <tr>\n",
       "      <th>53</th>\n",
       "      <td>Oral Answers to Questions</td>\n",
       "      <td>Salary Components of Prime Minister and Ministers</td>\n",
       "      <td>1 Mr Alex Yam asked the Prime Minister whether...</td>\n",
       "      <td>[The Deputy Prime Minister and Coordinating Mi...</td>\n",
       "      <td>1 alex yam asked ( ) list component salary min...</td>\n",
       "      <td>Law Enforcement and Rehabilitation</td>\n",
       "    </tr>\n",
       "    <tr>\n",
       "      <th>54</th>\n",
       "      <td>Oral Answers to Questions</td>\n",
       "      <td>Profile of Jobs and Industries on Fair Conside...</td>\n",
       "      <td>30 Mr Chong Kee Hiong asked the Minister for M...</td>\n",
       "      <td>[The Minister for Manpower (Mrs Josephine Teo)...</td>\n",
       "      <td>30 chong kee hiong asked manpower regard fair ...</td>\n",
       "      <td>Workforce Support and Employment</td>\n",
       "    </tr>\n",
       "    <tr>\n",
       "      <th>56</th>\n",
       "      <td>Oral Answers to Questions</td>\n",
       "      <td>Clarification on Withdrawal of CPF Savings at ...</td>\n",
       "      <td>1 Mr Lim Biow Chuan asked the Minister for Man...</td>\n",
       "      <td>Mr Chong Kee Hiong,Mr Liang Eng Hwa,Mr Patrick...</td>\n",
       "      <td>1 lim biow chuan asked manpower cpf board ( ) ...</td>\n",
       "      <td>Legislative Matters and Amendments</td>\n",
       "    </tr>\n",
       "    <tr>\n",
       "      <th>59</th>\n",
       "      <td>Oral Answers to Questions</td>\n",
       "      <td>Singaporeans' Perception of Local Brands and P...</td>\n",
       "      <td>1 Dr Lim Wee Kiak asked the Minister for Trade...</td>\n",
       "      <td>[Dr Lim Wee Kiak (Sembawang), The Senior Minis...</td>\n",
       "      <td>1 dr lim wee kiak asked trade industry ( indus...</td>\n",
       "      <td>Digital Transformation in Industry</td>\n",
       "    </tr>\n",
       "    <tr>\n",
       "      <th>64</th>\n",
       "      <td>Oral Answers to Questions</td>\n",
       "      <td>Percentage of Singaporean Mother Tongue Teache...</td>\n",
       "      <td>21 Mr Darryl David asked the Minister for Soci...</td>\n",
       "      <td>[The Minister for Social and Family Developmen...</td>\n",
       "      <td>21 darryl david asked social family developmen...</td>\n",
       "      <td>Education and Support Programmes</td>\n",
       "    </tr>\n",
       "    <tr>\n",
       "      <th>73</th>\n",
       "      <td>Oral Answers to Questions</td>\n",
       "      <td>Analysis that Supported Development of SecureM...</td>\n",
       "      <td>11 Assoc Prof Walter Theseira asked the Minist...</td>\n",
       "      <td>[The Minister for Transport (Mr Khaw Boon Wan)...</td>\n",
       "      <td>11 assoc prof walter theseira asked transport ...</td>\n",
       "      <td>Punlic Transport and Waste Management</td>\n",
       "    </tr>\n",
       "    <tr>\n",
       "      <th>74</th>\n",
       "      <td>Oral Answers to Questions</td>\n",
       "      <td>Top Five Industries where Freelancers Venture ...</td>\n",
       "      <td>4 Dr Lim Wee Kiak asked the Minister for Manpo...</td>\n",
       "      <td>[Dr Lim Wee Kiak (Sembawang), The Second Minis...</td>\n",
       "      <td>4 dr lim wee kiak asked manpower ( ) industry ...</td>\n",
       "      <td>Education and Support Programmes</td>\n",
       "    </tr>\n",
       "    <tr>\n",
       "      <th>89</th>\n",
       "      <td>Written Answers to Questions for Oral Answer N...</td>\n",
       "      <td>Impact of COVID-19 Situation on Singapore’s Cl...</td>\n",
       "      <td>26 Mr Kwek Hian Chuan Henry asked the Minister...</td>\n",
       "      <td>[Mr Kwek Hian Chuan Henry, Mr Masagos Zulkifli...</td>\n",
       "      <td>26 kwek hian chuan henry asked environment wat...</td>\n",
       "      <td>Digital Transformation in Industry</td>\n",
       "    </tr>\n",
       "    <tr>\n",
       "      <th>90</th>\n",
       "      <td>Oral Answers to Questions</td>\n",
       "      <td>Plans for Allied Educators in Schools for Lear...</td>\n",
       "      <td>1 Mr Leon Perera asked the Minister for Educat...</td>\n",
       "      <td>[The Senior Parliamentary Secretary to the Min...</td>\n",
       "      <td>1 leon perera asked education change planned r...</td>\n",
       "      <td>Education and Support Programmes</td>\n",
       "    </tr>\n",
       "    <tr>\n",
       "      <th>100</th>\n",
       "      <td>Oral Answers to Questions</td>\n",
       "      <td>More Financial Incentives and Charging Points ...</td>\n",
       "      <td>20 Er Dr Lee Bee Wah asked\\t the Minister for ...</td>\n",
       "      <td>[The Minister for Transport (Mr Khaw Boon Wan)...</td>\n",
       "      <td>20 er dr lee bee wah asked transport ( ) 's po...</td>\n",
       "      <td>Punlic Transport and Waste Management</td>\n",
       "    </tr>\n",
       "    <tr>\n",
       "      <th>107</th>\n",
       "      <td>Oral Answers to Questions</td>\n",
       "      <td>Effectiveness of Support Schemes in Helping PM...</td>\n",
       "      <td>9 Ms Foo Mee Har asked\\tthe Minister for Manpo...</td>\n",
       "      <td>Ms Foo Mee Har,The Minister for Manpower (Mr L...</td>\n",
       "      <td>9 m foo mee har asked manpower light job layof...</td>\n",
       "      <td>Workforce Support and Employment</td>\n",
       "    </tr>\n",
       "    <tr>\n",
       "      <th>108</th>\n",
       "      <td>Oral Answers to Questions</td>\n",
       "      <td>Extending Mandatory Time-frame for When Govern...</td>\n",
       "      <td>3 Mr Louis Ng Kok Kwang asked the Prime Minist...</td>\n",
       "      <td>[The Minister for Manpower and Second Minister...</td>\n",
       "      <td>3 louis ng kok kwang asked consider increasing...</td>\n",
       "      <td>National Defence and Security</td>\n",
       "    </tr>\n",
       "    <tr>\n",
       "      <th>109</th>\n",
       "      <td>Oral Answers to Questions</td>\n",
       "      <td>Impact of Home-Based Learning and School Closu...</td>\n",
       "      <td>5 Mr Darryl David asked the Minister for Educa...</td>\n",
       "      <td>[The Minister for Education (Mr Ong Ye Kung), ...</td>\n",
       "      <td>5 darryl david asked education period home-bas...</td>\n",
       "      <td>Education and Support Programmes</td>\n",
       "    </tr>\n",
       "    <tr>\n",
       "      <th>116</th>\n",
       "      <td>Oral Answers to Questions</td>\n",
       "      <td>Foreign Worker Representation in Tech and IT S...</td>\n",
       "      <td>5 Mr Desmond Choo asked\\t the Minister for Man...</td>\n",
       "      <td>Mr Desmond Choo,Mr Desmond Choo (Tampines),Mr ...</td>\n",
       "      <td>5 desmond choo asked manpower ( ) current brea...</td>\n",
       "      <td>Workforce Support and Employment</td>\n",
       "    </tr>\n",
       "    <tr>\n",
       "      <th>122</th>\n",
       "      <td>Oral Answers to Questions</td>\n",
       "      <td>Effectiveness of Matching and Retraining under...</td>\n",
       "      <td>19 Mr Zaqy Mohamad asked\\tthe Minister for Man...</td>\n",
       "      <td>Mr Desmond Choo (Tampines),Mr Zaqy Mohamad,The...</td>\n",
       "      <td>19 zaqy mohamad asked manpower ( ) 's assessme...</td>\n",
       "      <td>Workforce Support and Employment</td>\n",
       "    </tr>\n",
       "    <tr>\n",
       "      <th>131</th>\n",
       "      <td>Oral Answers to Questions</td>\n",
       "      <td>Demand and Supply of Heavy Vehicle Parking Lots</td>\n",
       "      <td>2 Assoc Prof Fatimah Lateef asked\\tthe Ministe...</td>\n",
       "      <td>Assoc Prof Fatimah Lateef,The Senior Minister ...</td>\n",
       "      <td>2 assoc prof fatimah lateef asked national dev...</td>\n",
       "      <td>Punlic Transport and Waste Management</td>\n",
       "    </tr>\n",
       "    <tr>\n",
       "      <th>132</th>\n",
       "      <td>Oral Answers to Questions</td>\n",
       "      <td>Dealing with Higher Unemployment Rate</td>\n",
       "      <td>10 Mr Patrick Tay Teck Guan asked\\tthe Ministe...</td>\n",
       "      <td>Mr Liang Eng Hwa,Dr Tan Wu Meng (Jurong),Mr Pa...</td>\n",
       "      <td>10 patrick tay teck guan asked manpower light ...</td>\n",
       "      <td>Workforce Support and Employment</td>\n",
       "    </tr>\n",
       "    <tr>\n",
       "      <th>143</th>\n",
       "      <td>Oral Answers to Questions</td>\n",
       "      <td>Measuring Quality of Healthcare Delivery and A...</td>\n",
       "      <td>13 Ms Joan Pereira asked\\tthe Minister for Hea...</td>\n",
       "      <td>[The Minister for Health (Mr Gan Kim Yong), Ms...</td>\n",
       "      <td>13 m joan pereira asked health ( ) benchmark u...</td>\n",
       "      <td>Community Care and Services</td>\n",
       "    </tr>\n",
       "    <tr>\n",
       "      <th>146</th>\n",
       "      <td>Written Answers to Questions for Oral Answer N...</td>\n",
       "      <td>Progress of EntrePass Scheme</td>\n",
       "      <td>54 Mr Saktiandi Supaat asked the Minister for ...</td>\n",
       "      <td>[Mr Saktiandi Supaat, Mr S Iswaran]</td>\n",
       "      <td>54 saktiandi supaat asked trade industry ( ind...</td>\n",
       "      <td>Digital Transformation in Industry</td>\n",
       "    </tr>\n",
       "    <tr>\n",
       "      <th>158</th>\n",
       "      <td>Oral Answers to Questions</td>\n",
       "      <td>Sustainability of Rail Reliability Levels</td>\n",
       "      <td>3 Mr Sitoh Yih Pin asked the Minister for Tran...</td>\n",
       "      <td>[The Minister for Transport (Mr Khaw Boon Wan)...</td>\n",
       "      <td>3 sitoh yih pin asked transport provide update...</td>\n",
       "      <td>Punlic Transport and Waste Management</td>\n",
       "    </tr>\n",
       "    <tr>\n",
       "      <th>159</th>\n",
       "      <td>Oral Answers to Questions</td>\n",
       "      <td>Complaints on Lapses in Real-time Updates for ...</td>\n",
       "      <td>1 Er Dr Lee Bee Wah asked\\tthe Minister for Tr...</td>\n",
       "      <td>Er Dr Lee Bee Wah (Nee Soon),Er Dr Lee Bee Wah...</td>\n",
       "      <td>1 er dr lee bee wah asked transport ( ) lta aw...</td>\n",
       "      <td>Punlic Transport and Waste Management</td>\n",
       "    </tr>\n",
       "  </tbody>\n",
       "</table>\n",
       "</div>"
      ],
      "text/plain": [
       "                                          Section Name  \\\n",
       "0                            Oral Answers to Questions   \n",
       "1    Written Answers to Questions for Oral Answer N...   \n",
       "3                            Oral Answers to Questions   \n",
       "13                           Oral Answers to Questions   \n",
       "14                           Oral Answers to Questions   \n",
       "15                           Oral Answers to Questions   \n",
       "24   Written Answers to Questions for Oral Answer N...   \n",
       "30                           Oral Answers to Questions   \n",
       "32   Written Answers to Questions for Oral Answer N...   \n",
       "34                           Oral Answers to Questions   \n",
       "40                           Oral Answers to Questions   \n",
       "41                           Oral Answers to Questions   \n",
       "52                           Oral Answers to Questions   \n",
       "53                           Oral Answers to Questions   \n",
       "54                           Oral Answers to Questions   \n",
       "56                           Oral Answers to Questions   \n",
       "59                           Oral Answers to Questions   \n",
       "64                           Oral Answers to Questions   \n",
       "73                           Oral Answers to Questions   \n",
       "74                           Oral Answers to Questions   \n",
       "89   Written Answers to Questions for Oral Answer N...   \n",
       "90                           Oral Answers to Questions   \n",
       "100                          Oral Answers to Questions   \n",
       "107                          Oral Answers to Questions   \n",
       "108                          Oral Answers to Questions   \n",
       "109                          Oral Answers to Questions   \n",
       "116                          Oral Answers to Questions   \n",
       "122                          Oral Answers to Questions   \n",
       "131                          Oral Answers to Questions   \n",
       "132                          Oral Answers to Questions   \n",
       "143                          Oral Answers to Questions   \n",
       "146  Written Answers to Questions for Oral Answer N...   \n",
       "158                          Oral Answers to Questions   \n",
       "159                          Oral Answers to Questions   \n",
       "\n",
       "                                                 Title  \\\n",
       "0    Fair Process for Termination Due to Poor Perfo...   \n",
       "1    Details and Framework of Workings of The Speci...   \n",
       "3            Female Representation in Statutory Boards   \n",
       "13   Wage Growth Moving in Tandem with Productivity...   \n",
       "14   Impact of Recent Fires in Australia on Singapo...   \n",
       "15                   Capital Reserve in PUB's Accounts   \n",
       "24   Challenges in Applying for Assistance under Le...   \n",
       "30            Waiting Time for Childcare Centre Places   \n",
       "32   Update on Local Enterprise and Association Dev...   \n",
       "34      Measures to Mitigate Increasing Cost of Living   \n",
       "40   Companies with Measures to Deal with Workplace...   \n",
       "41   Subject-banding in Accordance with Students’ A...   \n",
       "52   Review Polytechnic Courses to Ensure They Stay...   \n",
       "53   Salary Components of Prime Minister and Ministers   \n",
       "54   Profile of Jobs and Industries on Fair Conside...   \n",
       "56   Clarification on Withdrawal of CPF Savings at ...   \n",
       "59   Singaporeans' Perception of Local Brands and P...   \n",
       "64   Percentage of Singaporean Mother Tongue Teache...   \n",
       "73   Analysis that Supported Development of SecureM...   \n",
       "74   Top Five Industries where Freelancers Venture ...   \n",
       "89   Impact of COVID-19 Situation on Singapore’s Cl...   \n",
       "90   Plans for Allied Educators in Schools for Lear...   \n",
       "100  More Financial Incentives and Charging Points ...   \n",
       "107  Effectiveness of Support Schemes in Helping PM...   \n",
       "108  Extending Mandatory Time-frame for When Govern...   \n",
       "109  Impact of Home-Based Learning and School Closu...   \n",
       "116  Foreign Worker Representation in Tech and IT S...   \n",
       "122  Effectiveness of Matching and Retraining under...   \n",
       "131    Demand and Supply of Heavy Vehicle Parking Lots   \n",
       "132              Dealing with Higher Unemployment Rate   \n",
       "143  Measuring Quality of Healthcare Delivery and A...   \n",
       "146                       Progress of EntrePass Scheme   \n",
       "158          Sustainability of Rail Reliability Levels   \n",
       "159  Complaints on Lapses in Real-time Updates for ...   \n",
       "\n",
       "                                                  Text  \\\n",
       "0    1 Dr Tan Wu Meng asked\\tthe Minister for Manpo...   \n",
       "1    22 Assoc Prof Fatimah Lateef asked the Ministe...   \n",
       "3    The following question stood in the name of Ms...   \n",
       "13   1 Mr Saktiandi Supaat asked the Minister for T...   \n",
       "14   29 Mr Seah Kian Peng asked the Minister for th...   \n",
       "15   8 Mr Liang Eng Hwa asked the Minister for Fina...   \n",
       "24   41 Mr Thomas Chua Kee Seng asked the Minister ...   \n",
       "30   5 Er Dr Lee Bee Wah asked\\tthe Minister for So...   \n",
       "32   40 Mr Thomas Chua Kee Seng asked the Minister ...   \n",
       "34   2 Mr Liang Eng Hwa asked the Minister for Trad...   \n",
       "40   8 Assoc Prof Walter Theseira asked the Ministe...   \n",
       "41   1 Ms Irene Quay Siew Ching asked the Minister ...   \n",
       "52   1 Dr Lim Wee Kiak asked the Minister for Educa...   \n",
       "53   1 Mr Alex Yam asked the Prime Minister whether...   \n",
       "54   30 Mr Chong Kee Hiong asked the Minister for M...   \n",
       "56   1 Mr Lim Biow Chuan asked the Minister for Man...   \n",
       "59   1 Dr Lim Wee Kiak asked the Minister for Trade...   \n",
       "64   21 Mr Darryl David asked the Minister for Soci...   \n",
       "73   11 Assoc Prof Walter Theseira asked the Minist...   \n",
       "74   4 Dr Lim Wee Kiak asked the Minister for Manpo...   \n",
       "89   26 Mr Kwek Hian Chuan Henry asked the Minister...   \n",
       "90   1 Mr Leon Perera asked the Minister for Educat...   \n",
       "100  20 Er Dr Lee Bee Wah asked\\t the Minister for ...   \n",
       "107  9 Ms Foo Mee Har asked\\tthe Minister for Manpo...   \n",
       "108  3 Mr Louis Ng Kok Kwang asked the Prime Minist...   \n",
       "109  5 Mr Darryl David asked the Minister for Educa...   \n",
       "116  5 Mr Desmond Choo asked\\t the Minister for Man...   \n",
       "122  19 Mr Zaqy Mohamad asked\\tthe Minister for Man...   \n",
       "131  2 Assoc Prof Fatimah Lateef asked\\tthe Ministe...   \n",
       "132  10 Mr Patrick Tay Teck Guan asked\\tthe Ministe...   \n",
       "143  13 Ms Joan Pereira asked\\tthe Minister for Hea...   \n",
       "146  54 Mr Saktiandi Supaat asked the Minister for ...   \n",
       "158  3 Mr Sitoh Yih Pin asked the Minister for Tran...   \n",
       "159  1 Er Dr Lee Bee Wah asked\\tthe Minister for Tr...   \n",
       "\n",
       "                                              Speakers  \\\n",
       "0    Er Dr Lee Bee Wah (Nee Soon),Mr Zainal Sapari ...   \n",
       "1                [Prof Fatimah Lateef, Mr Desmond Lee]   \n",
       "3    [The Senior Parliamentary Secretary to the Min...   \n",
       "13   Mr Saktiandi Supaat,The Senior Minister of Sta...   \n",
       "14   [The Minister for the Environment and Water Re...   \n",
       "15   [Mr Pritam Singh, Mr Liang Eng Hwa, Mr Low Thi...   \n",
       "24             Mr Thomas Chua Kee Seng,Mr Lim Swee Say   \n",
       "30   [The Minister for Social and Family Developmen...   \n",
       "32        [Mr Thomas Chua Kee Seng, Mr Chan Chun Sing]   \n",
       "34   [The Minister for Trade and Industry (Mr Chan ...   \n",
       "40   [The Senior Parliamentary Secretary to the Min...   \n",
       "41   [The Second Minister for Education (Ms Indrane...   \n",
       "52   [The Senior Parliamentary Secretary to the Min...   \n",
       "53   [The Deputy Prime Minister and Coordinating Mi...   \n",
       "54   [The Minister for Manpower (Mrs Josephine Teo)...   \n",
       "56   Mr Chong Kee Hiong,Mr Liang Eng Hwa,Mr Patrick...   \n",
       "59   [Dr Lim Wee Kiak (Sembawang), The Senior Minis...   \n",
       "64   [The Minister for Social and Family Developmen...   \n",
       "73   [The Minister for Transport (Mr Khaw Boon Wan)...   \n",
       "74   [Dr Lim Wee Kiak (Sembawang), The Second Minis...   \n",
       "89   [Mr Kwek Hian Chuan Henry, Mr Masagos Zulkifli...   \n",
       "90   [The Senior Parliamentary Secretary to the Min...   \n",
       "100  [The Minister for Transport (Mr Khaw Boon Wan)...   \n",
       "107  Ms Foo Mee Har,The Minister for Manpower (Mr L...   \n",
       "108  [The Minister for Manpower and Second Minister...   \n",
       "109  [The Minister for Education (Mr Ong Ye Kung), ...   \n",
       "116  Mr Desmond Choo,Mr Desmond Choo (Tampines),Mr ...   \n",
       "122  Mr Desmond Choo (Tampines),Mr Zaqy Mohamad,The...   \n",
       "131  Assoc Prof Fatimah Lateef,The Senior Minister ...   \n",
       "132  Mr Liang Eng Hwa,Dr Tan Wu Meng (Jurong),Mr Pa...   \n",
       "143  [The Minister for Health (Mr Gan Kim Yong), Ms...   \n",
       "146                [Mr Saktiandi Supaat, Mr S Iswaran]   \n",
       "158  [The Minister for Transport (Mr Khaw Boon Wan)...   \n",
       "159  Er Dr Lee Bee Wah (Nee Soon),Er Dr Lee Bee Wah...   \n",
       "\n",
       "                                       Lemmatized Text  \\\n",
       "0    1 dr tan wu meng asked manpower provide update...   \n",
       "1    22 assoc prof fatimah lateef asked social fami...   \n",
       "3    following question stood m anthea ong –1 ask s...   \n",
       "13   1 saktiandi supaat asked trade industry ( ) wa...   \n",
       "14   29 seah kian peng asked environment water reso...   \n",
       "15   8 liang eng hwa asked finance clarify $ 5.3 bi...   \n",
       "24   41 thomas chua kee seng asked manpower ( ) key...   \n",
       "30   5 er dr lee bee wah asked social family develo...   \n",
       "32   40 thomas chua kee seng asked trade industry p...   \n",
       "34   2 liang eng hwa asked trade industry ( ) gener...   \n",
       "40   8 assoc prof walter theseira asked manpower st...   \n",
       "41   1 m irene quay siew ching asked education rega...   \n",
       "52   1 dr lim wee kiak asked education ( higher edu...   \n",
       "53   1 alex yam asked ( ) list component salary min...   \n",
       "54   30 chong kee hiong asked manpower regard fair ...   \n",
       "56   1 lim biow chuan asked manpower cpf board ( ) ...   \n",
       "59   1 dr lim wee kiak asked trade industry ( indus...   \n",
       "64   21 darryl david asked social family developmen...   \n",
       "73   11 assoc prof walter theseira asked transport ...   \n",
       "74   4 dr lim wee kiak asked manpower ( ) industry ...   \n",
       "89   26 kwek hian chuan henry asked environment wat...   \n",
       "90   1 leon perera asked education change planned r...   \n",
       "100  20 er dr lee bee wah asked transport ( ) 's po...   \n",
       "107  9 m foo mee har asked manpower light job layof...   \n",
       "108  3 louis ng kok kwang asked consider increasing...   \n",
       "109  5 darryl david asked education period home-bas...   \n",
       "116  5 desmond choo asked manpower ( ) current brea...   \n",
       "122  19 zaqy mohamad asked manpower ( ) 's assessme...   \n",
       "131  2 assoc prof fatimah lateef asked national dev...   \n",
       "132  10 patrick tay teck guan asked manpower light ...   \n",
       "143  13 m joan pereira asked health ( ) benchmark u...   \n",
       "146  54 saktiandi supaat asked trade industry ( ind...   \n",
       "158  3 sitoh yih pin asked transport provide update...   \n",
       "159  1 er dr lee bee wah asked transport ( ) lta aw...   \n",
       "\n",
       "                                     Topic  \n",
       "0         Workforce Support and Employment  \n",
       "1              Community Care and Services  \n",
       "3              Community Care and Services  \n",
       "13      Digital Transformation in Industry  \n",
       "14   Punlic Transport and Waste Management  \n",
       "15        Workforce Support and Employment  \n",
       "24      Digital Transformation in Industry  \n",
       "30             Community Care and Services  \n",
       "32      Digital Transformation in Industry  \n",
       "34        Workforce Support and Employment  \n",
       "40        Workforce Support and Employment  \n",
       "41        Education and Support Programmes  \n",
       "52        Education and Support Programmes  \n",
       "53      Law Enforcement and Rehabilitation  \n",
       "54        Workforce Support and Employment  \n",
       "56      Legislative Matters and Amendments  \n",
       "59      Digital Transformation in Industry  \n",
       "64        Education and Support Programmes  \n",
       "73   Punlic Transport and Waste Management  \n",
       "74        Education and Support Programmes  \n",
       "89      Digital Transformation in Industry  \n",
       "90        Education and Support Programmes  \n",
       "100  Punlic Transport and Waste Management  \n",
       "107       Workforce Support and Employment  \n",
       "108          National Defence and Security  \n",
       "109       Education and Support Programmes  \n",
       "116       Workforce Support and Employment  \n",
       "122       Workforce Support and Employment  \n",
       "131  Punlic Transport and Waste Management  \n",
       "132       Workforce Support and Employment  \n",
       "143            Community Care and Services  \n",
       "146     Digital Transformation in Industry  \n",
       "158  Punlic Transport and Waste Management  \n",
       "159  Punlic Transport and Waste Management  "
      ]
     },
     "execution_count": 69,
     "metadata": {},
     "output_type": "execute_result"
    }
   ],
   "source": [
    "df_questions = df[df[\"Section Name\"].str.contains(\"Questions\")]\n",
    "df_questions"
   ]
  },
  {
   "cell_type": "code",
   "execution_count": 70,
   "metadata": {},
   "outputs": [
    {
     "data": {
      "text/plain": [
       "34"
      ]
     },
     "execution_count": 70,
     "metadata": {},
     "output_type": "execute_result"
    }
   ],
   "source": [
    "len(df_questions)"
   ]
  },
  {
   "cell_type": "code",
   "execution_count": 71,
   "metadata": {},
   "outputs": [
    {
     "name": "stderr",
     "output_type": "stream",
     "text": [
      "<>:2: SyntaxWarning:\n",
      "\n",
      "invalid escape sequence '\\['\n",
      "\n",
      "<>:2: SyntaxWarning:\n",
      "\n",
      "invalid escape sequence '\\['\n",
      "\n",
      "/var/folders/3f/xhw3kd5d62v0s4_2fvl3_7480000gn/T/ipykernel_50984/2027961319.py:2: SyntaxWarning:\n",
      "\n",
      "invalid escape sequence '\\['\n",
      "\n",
      "/var/folders/3f/xhw3kd5d62v0s4_2fvl3_7480000gn/T/ipykernel_50984/2027961319.py:2: SettingWithCopyWarning:\n",
      "\n",
      "\n",
      "A value is trying to be set on a copy of a slice from a DataFrame.\n",
      "Try using .loc[row_indexer,col_indexer] = value instead\n",
      "\n",
      "See the caveats in the documentation: https://pandas.pydata.org/pandas-docs/stable/user_guide/indexing.html#returning-a-view-versus-a-copy\n",
      "\n",
      "/var/folders/3f/xhw3kd5d62v0s4_2fvl3_7480000gn/T/ipykernel_50984/2027961319.py:30: SettingWithCopyWarning:\n",
      "\n",
      "\n",
      "A value is trying to be set on a copy of a slice from a DataFrame.\n",
      "Try using .loc[row_indexer,col_indexer] = value instead\n",
      "\n",
      "See the caveats in the documentation: https://pandas.pydata.org/pandas-docs/stable/user_guide/indexing.html#returning-a-view-versus-a-copy\n",
      "\n"
     ]
    }
   ],
   "source": [
    "# Remove the square brackets from the Speakers column\n",
    "df_questions['Speakers'] = df_questions['Speakers'].str.replace('[\\[\\]]', '', regex=True)\n",
    "\n",
    "# Function to check if the speaker asked a question\n",
    "def asked_question(text, speaker):\n",
    "    parts = speaker.split()\n",
    "    for part in parts:\n",
    "        # Regex pattern to capture name after \"The following question stood in the name of\"\n",
    "        pattern1 = re.compile(r'The\\s+following\\s+question\\s+stood\\s+in\\s+the\\s+name\\s+of\\s+([\\w\\s\\-]+)[^\\w\\s]*')\n",
    "\n",
    "        # Regex pattern to capture name before \"asked\"\n",
    "        pattern2 = re.compile(r'([\\w\\s\\-]+)\\s+asked', re.IGNORECASE)\n",
    "\n",
    "        # Find all matches for both patterns\n",
    "        matches1 = pattern1.findall(text)\n",
    "        matches2 = pattern2.findall(text)\n",
    "\n",
    "        # Check if any part of the speaker's name matches\n",
    "        if any(re.search(r'\\b{}\\b'.format(re.escape(part)), match, re.IGNORECASE) for match in matches1 + matches2):\n",
    "            return True\n",
    "\n",
    "    return False\n",
    "\n",
    "# Apply the function to determine if each speaker asked a question\n",
    "def get_mps_who_asked_questions(row):\n",
    "    speakers = [s.strip() for s in row['Speakers'].split(',')]\n",
    "    mps_asked = [s for s in speakers if asked_question(row['Text'], s)]\n",
    "    return mps_asked\n",
    "\n",
    "df_questions['MPs_Asked'] = df_questions.apply(get_mps_who_asked_questions, axis=1)"
   ]
  },
  {
   "cell_type": "code",
   "execution_count": 72,
   "metadata": {},
   "outputs": [
    {
     "data": {
      "text/plain": [
       "\"The following question stood in the name of Ms Anthea Ong\\xa0\\t–1 To ask\\xa0the Minister for Social and Family Development (a) how we are doing with our target for 20% female representation in Statutory Boards and listed companies by 2020; (b) what steps are being taken to close the gender salary gap of about 20%; and (c) in view of the upcoming International Women's Day theme of #BalanceforBetter, what are existing imbalances in our gender equality pursuit that we must balance for a better Singapore.\\xa0 \\tAssoc Prof Walter Theseira (Nominated Member): Question No 1, Sir.The Senior Parliamentary Secretary to the Minister for Social and Family Development (Assoc Prof Dr Muhammad Faishal Ibrahim) (for the Minister for Social and Family Development): Mr Speaker, a few of the issues being asked in this Parliamentary Question (PQ) are similar to the issues being raised by Members Prof Fatimah Lateef and Ms Rahayu Mahzam in the COS cuts for MSF. May I have your permission to address the issues together when I make my reply during the MSF COS? I have spoken to the Member Ms Anthea Ong and she is agreeable to this arrangement.\\tMr Speaker: I am agreeable also. Assoc Prof Dr Muhammad Faishal Ibrahim: Thank you, Sir.\""
      ]
     },
     "execution_count": 72,
     "metadata": {},
     "output_type": "execute_result"
    }
   ],
   "source": [
    "df_questions.loc[3][\"Text\"]"
   ]
  },
  {
   "cell_type": "code",
   "execution_count": 73,
   "metadata": {},
   "outputs": [
    {
     "data": {
      "text/html": [
       "<div>\n",
       "<style scoped>\n",
       "    .dataframe tbody tr th:only-of-type {\n",
       "        vertical-align: middle;\n",
       "    }\n",
       "\n",
       "    .dataframe tbody tr th {\n",
       "        vertical-align: top;\n",
       "    }\n",
       "\n",
       "    .dataframe thead th {\n",
       "        text-align: right;\n",
       "    }\n",
       "</style>\n",
       "<table border=\"1\" class=\"dataframe\">\n",
       "  <thead>\n",
       "    <tr style=\"text-align: right;\">\n",
       "      <th></th>\n",
       "      <th>Section Name</th>\n",
       "      <th>Title</th>\n",
       "      <th>Text</th>\n",
       "      <th>Speakers</th>\n",
       "      <th>Lemmatized Text</th>\n",
       "      <th>Topic</th>\n",
       "      <th>MPs_Asked</th>\n",
       "    </tr>\n",
       "  </thead>\n",
       "  <tbody>\n",
       "    <tr>\n",
       "      <th>0</th>\n",
       "      <td>Oral Answers to Questions</td>\n",
       "      <td>Fair Process for Termination Due to Poor Perfo...</td>\n",
       "      <td>1 Dr Tan Wu Meng asked\\tthe Minister for Manpo...</td>\n",
       "      <td>Er Dr Lee Bee Wah (Nee Soon),Mr Zainal Sapari ...</td>\n",
       "      <td>1 dr tan wu meng asked manpower provide update...</td>\n",
       "      <td>Workforce Support and Employment</td>\n",
       "      <td>[Er Dr Lee Bee Wah (Nee Soon), Dr Tan Wu Meng ...</td>\n",
       "    </tr>\n",
       "    <tr>\n",
       "      <th>1</th>\n",
       "      <td>Written Answers to Questions for Oral Answer N...</td>\n",
       "      <td>Details and Framework of Workings of The Speci...</td>\n",
       "      <td>22 Assoc Prof Fatimah Lateef asked the Ministe...</td>\n",
       "      <td>Prof Fatimah Lateef, Mr Desmond Lee</td>\n",
       "      <td>22 assoc prof fatimah lateef asked social fami...</td>\n",
       "      <td>Community Care and Services</td>\n",
       "      <td>[Prof Fatimah Lateef]</td>\n",
       "    </tr>\n",
       "    <tr>\n",
       "      <th>3</th>\n",
       "      <td>Oral Answers to Questions</td>\n",
       "      <td>Female Representation in Statutory Boards</td>\n",
       "      <td>The following question stood in the name of Ms...</td>\n",
       "      <td>The Senior Parliamentary Secretary to the Mini...</td>\n",
       "      <td>following question stood m anthea ong –1 ask s...</td>\n",
       "      <td>Community Care and Services</td>\n",
       "      <td>[The Senior Parliamentary Secretary to the Min...</td>\n",
       "    </tr>\n",
       "    <tr>\n",
       "      <th>13</th>\n",
       "      <td>Oral Answers to Questions</td>\n",
       "      <td>Wage Growth Moving in Tandem with Productivity...</td>\n",
       "      <td>1 Mr Saktiandi Supaat asked the Minister for T...</td>\n",
       "      <td>Mr Saktiandi Supaat,The Senior Minister of Sta...</td>\n",
       "      <td>1 saktiandi supaat asked trade industry ( ) wa...</td>\n",
       "      <td>Digital Transformation in Industry</td>\n",
       "      <td>[Mr Saktiandi Supaat, Saktiandi Supaat, Mr Sak...</td>\n",
       "    </tr>\n",
       "    <tr>\n",
       "      <th>14</th>\n",
       "      <td>Oral Answers to Questions</td>\n",
       "      <td>Impact of Recent Fires in Australia on Singapo...</td>\n",
       "      <td>29 Mr Seah Kian Peng asked the Minister for th...</td>\n",
       "      <td>The Minister for the Environment and Water Res...</td>\n",
       "      <td>29 seah kian peng asked environment water reso...</td>\n",
       "      <td>Punlic Transport and Waste Management</td>\n",
       "      <td>[Mr Seah Kian Peng, Mr Seah Kian Peng (Marine ...</td>\n",
       "    </tr>\n",
       "    <tr>\n",
       "      <th>15</th>\n",
       "      <td>Oral Answers to Questions</td>\n",
       "      <td>Capital Reserve in PUB's Accounts</td>\n",
       "      <td>8 Mr Liang Eng Hwa asked the Minister for Fina...</td>\n",
       "      <td>Mr Pritam Singh, Mr Liang Eng Hwa, Mr Low Thia...</td>\n",
       "      <td>8 liang eng hwa asked finance clarify $ 5.3 bi...</td>\n",
       "      <td>Workforce Support and Employment</td>\n",
       "      <td>[Mr Pritam Singh, Mr Liang Eng Hwa, Mr Low Thi...</td>\n",
       "    </tr>\n",
       "    <tr>\n",
       "      <th>24</th>\n",
       "      <td>Written Answers to Questions for Oral Answer N...</td>\n",
       "      <td>Challenges in Applying for Assistance under Le...</td>\n",
       "      <td>41 Mr Thomas Chua Kee Seng asked the Minister ...</td>\n",
       "      <td>Mr Thomas Chua Kee Seng,Mr Lim Swee Say</td>\n",
       "      <td>41 thomas chua kee seng asked manpower ( ) key...</td>\n",
       "      <td>Digital Transformation in Industry</td>\n",
       "      <td>[Mr Thomas Chua Kee Seng, Mr Lim Swee Say]</td>\n",
       "    </tr>\n",
       "    <tr>\n",
       "      <th>30</th>\n",
       "      <td>Oral Answers to Questions</td>\n",
       "      <td>Waiting Time for Childcare Centre Places</td>\n",
       "      <td>5 Er Dr Lee Bee Wah asked\\tthe Minister for So...</td>\n",
       "      <td>The Minister for Social and Family Development...</td>\n",
       "      <td>5 er dr lee bee wah asked social family develo...</td>\n",
       "      <td>Community Care and Services</td>\n",
       "      <td>[Er Dr Lee Bee Wah, Er Dr Lee Bee Wah (Nee Soo...</td>\n",
       "    </tr>\n",
       "    <tr>\n",
       "      <th>32</th>\n",
       "      <td>Written Answers to Questions for Oral Answer N...</td>\n",
       "      <td>Update on Local Enterprise and Association Dev...</td>\n",
       "      <td>40 Mr Thomas Chua Kee Seng asked the Minister ...</td>\n",
       "      <td>Mr Thomas Chua Kee Seng, Mr Chan Chun Sing</td>\n",
       "      <td>40 thomas chua kee seng asked trade industry p...</td>\n",
       "      <td>Digital Transformation in Industry</td>\n",
       "      <td>[Mr Thomas Chua Kee Seng, Mr Chan Chun Sing]</td>\n",
       "    </tr>\n",
       "    <tr>\n",
       "      <th>34</th>\n",
       "      <td>Oral Answers to Questions</td>\n",
       "      <td>Measures to Mitigate Increasing Cost of Living</td>\n",
       "      <td>2 Mr Liang Eng Hwa asked the Minister for Trad...</td>\n",
       "      <td>The Minister for Trade and Industry (Mr Chan C...</td>\n",
       "      <td>2 liang eng hwa asked trade industry ( ) gener...</td>\n",
       "      <td>Workforce Support and Employment</td>\n",
       "      <td>[The Minister for Trade and Industry (Mr Chan ...</td>\n",
       "    </tr>\n",
       "    <tr>\n",
       "      <th>40</th>\n",
       "      <td>Oral Answers to Questions</td>\n",
       "      <td>Companies with Measures to Deal with Workplace...</td>\n",
       "      <td>8 Assoc Prof Walter Theseira asked the Ministe...</td>\n",
       "      <td>The Senior Parliamentary Secretary to the Mini...</td>\n",
       "      <td>8 assoc prof walter theseira asked manpower st...</td>\n",
       "      <td>Workforce Support and Employment</td>\n",
       "      <td>[Assoc Prof Walter Theseira, Assoc Prof Walter...</td>\n",
       "    </tr>\n",
       "    <tr>\n",
       "      <th>41</th>\n",
       "      <td>Oral Answers to Questions</td>\n",
       "      <td>Subject-banding in Accordance with Students’ A...</td>\n",
       "      <td>1 Ms Irene Quay Siew Ching asked the Minister ...</td>\n",
       "      <td>The Second Minister for Education (Ms Indranee...</td>\n",
       "      <td>1 m irene quay siew ching asked education rega...</td>\n",
       "      <td>Education and Support Programmes</td>\n",
       "      <td>[Ms Irene Quay Siew Ching]</td>\n",
       "    </tr>\n",
       "    <tr>\n",
       "      <th>52</th>\n",
       "      <td>Oral Answers to Questions</td>\n",
       "      <td>Review Polytechnic Courses to Ensure They Stay...</td>\n",
       "      <td>1 Dr Lim Wee Kiak asked the Minister for Educa...</td>\n",
       "      <td>The Senior Parliamentary Secretary to the Mini...</td>\n",
       "      <td>1 dr lim wee kiak asked education ( higher edu...</td>\n",
       "      <td>Education and Support Programmes</td>\n",
       "      <td>[Dr Lim Wee Kiak]</td>\n",
       "    </tr>\n",
       "    <tr>\n",
       "      <th>53</th>\n",
       "      <td>Oral Answers to Questions</td>\n",
       "      <td>Salary Components of Prime Minister and Ministers</td>\n",
       "      <td>1 Mr Alex Yam asked the Prime Minister whether...</td>\n",
       "      <td>The Deputy Prime Minister and Coordinating Min...</td>\n",
       "      <td>1 alex yam asked ( ) list component salary min...</td>\n",
       "      <td>Law Enforcement and Rehabilitation</td>\n",
       "      <td>[The Deputy Prime Minister and Coordinating Mi...</td>\n",
       "    </tr>\n",
       "    <tr>\n",
       "      <th>54</th>\n",
       "      <td>Oral Answers to Questions</td>\n",
       "      <td>Profile of Jobs and Industries on Fair Conside...</td>\n",
       "      <td>30 Mr Chong Kee Hiong asked the Minister for M...</td>\n",
       "      <td>The Minister for Manpower (Mrs Josephine Teo),...</td>\n",
       "      <td>30 chong kee hiong asked manpower regard fair ...</td>\n",
       "      <td>Workforce Support and Employment</td>\n",
       "      <td>[The Minister for Manpower (Mrs Josephine Teo)...</td>\n",
       "    </tr>\n",
       "    <tr>\n",
       "      <th>56</th>\n",
       "      <td>Oral Answers to Questions</td>\n",
       "      <td>Clarification on Withdrawal of CPF Savings at ...</td>\n",
       "      <td>1 Mr Lim Biow Chuan asked the Minister for Man...</td>\n",
       "      <td>Mr Chong Kee Hiong,Mr Liang Eng Hwa,Mr Patrick...</td>\n",
       "      <td>1 lim biow chuan asked manpower cpf board ( ) ...</td>\n",
       "      <td>Legislative Matters and Amendments</td>\n",
       "      <td>[Mr Chong Kee Hiong, Mr Liang Eng Hwa, Mr Patr...</td>\n",
       "    </tr>\n",
       "    <tr>\n",
       "      <th>59</th>\n",
       "      <td>Oral Answers to Questions</td>\n",
       "      <td>Singaporeans' Perception of Local Brands and P...</td>\n",
       "      <td>1 Dr Lim Wee Kiak asked the Minister for Trade...</td>\n",
       "      <td>Dr Lim Wee Kiak (Sembawang), The Senior Minist...</td>\n",
       "      <td>1 dr lim wee kiak asked trade industry ( indus...</td>\n",
       "      <td>Digital Transformation in Industry</td>\n",
       "      <td>[Dr Lim Wee Kiak (Sembawang), Dr Lim Wee Kiak]</td>\n",
       "    </tr>\n",
       "    <tr>\n",
       "      <th>64</th>\n",
       "      <td>Oral Answers to Questions</td>\n",
       "      <td>Percentage of Singaporean Mother Tongue Teache...</td>\n",
       "      <td>21 Mr Darryl David asked the Minister for Soci...</td>\n",
       "      <td>The Minister for Social and Family Development...</td>\n",
       "      <td>21 darryl david asked social family developmen...</td>\n",
       "      <td>Education and Support Programmes</td>\n",
       "      <td>[Mr Speaker, Mr Darryl David (Ang Mo Kio), Mr ...</td>\n",
       "    </tr>\n",
       "    <tr>\n",
       "      <th>73</th>\n",
       "      <td>Oral Answers to Questions</td>\n",
       "      <td>Analysis that Supported Development of SecureM...</td>\n",
       "      <td>11 Assoc Prof Walter Theseira asked the Minist...</td>\n",
       "      <td>The Minister for Transport (Mr Khaw Boon Wan),...</td>\n",
       "      <td>11 assoc prof walter theseira asked transport ...</td>\n",
       "      <td>Punlic Transport and Waste Management</td>\n",
       "      <td>[Assoc Prof Walter Theseira, Assoc Prof Walter...</td>\n",
       "    </tr>\n",
       "    <tr>\n",
       "      <th>74</th>\n",
       "      <td>Oral Answers to Questions</td>\n",
       "      <td>Top Five Industries where Freelancers Venture ...</td>\n",
       "      <td>4 Dr Lim Wee Kiak asked the Minister for Manpo...</td>\n",
       "      <td>Dr Lim Wee Kiak (Sembawang), The Second Minist...</td>\n",
       "      <td>4 dr lim wee kiak asked manpower ( ) industry ...</td>\n",
       "      <td>Education and Support Programmes</td>\n",
       "      <td>[Dr Lim Wee Kiak (Sembawang), Dr Lim Wee Kiak]</td>\n",
       "    </tr>\n",
       "    <tr>\n",
       "      <th>89</th>\n",
       "      <td>Written Answers to Questions for Oral Answer N...</td>\n",
       "      <td>Impact of COVID-19 Situation on Singapore’s Cl...</td>\n",
       "      <td>26 Mr Kwek Hian Chuan Henry asked the Minister...</td>\n",
       "      <td>Mr Kwek Hian Chuan Henry, Mr Masagos Zulkifli ...</td>\n",
       "      <td>26 kwek hian chuan henry asked environment wat...</td>\n",
       "      <td>Digital Transformation in Industry</td>\n",
       "      <td>[Mr Kwek Hian Chuan Henry, Mr Masagos Zulkifli...</td>\n",
       "    </tr>\n",
       "    <tr>\n",
       "      <th>90</th>\n",
       "      <td>Oral Answers to Questions</td>\n",
       "      <td>Plans for Allied Educators in Schools for Lear...</td>\n",
       "      <td>1 Mr Leon Perera asked the Minister for Educat...</td>\n",
       "      <td>The Senior Parliamentary Secretary to the Mini...</td>\n",
       "      <td>1 leon perera asked education change planned r...</td>\n",
       "      <td>Education and Support Programmes</td>\n",
       "      <td>[Mr Leon Perera, Mr Leon Perera, Mr Leon Perer...</td>\n",
       "    </tr>\n",
       "    <tr>\n",
       "      <th>100</th>\n",
       "      <td>Oral Answers to Questions</td>\n",
       "      <td>More Financial Incentives and Charging Points ...</td>\n",
       "      <td>20 Er Dr Lee Bee Wah asked\\t the Minister for ...</td>\n",
       "      <td>The Minister for Transport (Mr Khaw Boon Wan),...</td>\n",
       "      <td>20 er dr lee bee wah asked transport ( ) 's po...</td>\n",
       "      <td>Punlic Transport and Waste Management</td>\n",
       "      <td>[Er Dr Lee Bee Wah, Er Dr Lee Bee Wah]</td>\n",
       "    </tr>\n",
       "    <tr>\n",
       "      <th>107</th>\n",
       "      <td>Oral Answers to Questions</td>\n",
       "      <td>Effectiveness of Support Schemes in Helping PM...</td>\n",
       "      <td>9 Ms Foo Mee Har asked\\tthe Minister for Manpo...</td>\n",
       "      <td>Ms Foo Mee Har,The Minister for Manpower (Mr L...</td>\n",
       "      <td>9 m foo mee har asked manpower light job layof...</td>\n",
       "      <td>Workforce Support and Employment</td>\n",
       "      <td>[Ms Foo Mee Har, Ms Foo Mee Har (West Coast)]</td>\n",
       "    </tr>\n",
       "    <tr>\n",
       "      <th>108</th>\n",
       "      <td>Oral Answers to Questions</td>\n",
       "      <td>Extending Mandatory Time-frame for When Govern...</td>\n",
       "      <td>3 Mr Louis Ng Kok Kwang asked the Prime Minist...</td>\n",
       "      <td>The Minister for Manpower and Second Minister ...</td>\n",
       "      <td>3 louis ng kok kwang asked consider increasing...</td>\n",
       "      <td>National Defence and Security</td>\n",
       "      <td>[The Minister for Manpower and Second Minister...</td>\n",
       "    </tr>\n",
       "    <tr>\n",
       "      <th>109</th>\n",
       "      <td>Oral Answers to Questions</td>\n",
       "      <td>Impact of Home-Based Learning and School Closu...</td>\n",
       "      <td>5 Mr Darryl David asked the Minister for Educa...</td>\n",
       "      <td>The Minister for Education (Mr Ong Ye Kung), M...</td>\n",
       "      <td>5 darryl david asked education period home-bas...</td>\n",
       "      <td>Education and Support Programmes</td>\n",
       "      <td>[Mr Darryl David, Mr Darryl David (Ang Mo Kio)...</td>\n",
       "    </tr>\n",
       "    <tr>\n",
       "      <th>116</th>\n",
       "      <td>Oral Answers to Questions</td>\n",
       "      <td>Foreign Worker Representation in Tech and IT S...</td>\n",
       "      <td>5 Mr Desmond Choo asked\\t the Minister for Man...</td>\n",
       "      <td>Mr Desmond Choo,Mr Desmond Choo (Tampines),Mr ...</td>\n",
       "      <td>5 desmond choo asked manpower ( ) current brea...</td>\n",
       "      <td>Workforce Support and Employment</td>\n",
       "      <td>[Mr Desmond Choo, Mr Desmond Choo (Tampines), ...</td>\n",
       "    </tr>\n",
       "    <tr>\n",
       "      <th>122</th>\n",
       "      <td>Oral Answers to Questions</td>\n",
       "      <td>Effectiveness of Matching and Retraining under...</td>\n",
       "      <td>19 Mr Zaqy Mohamad asked\\tthe Minister for Man...</td>\n",
       "      <td>Mr Desmond Choo (Tampines),Mr Zaqy Mohamad,The...</td>\n",
       "      <td>19 zaqy mohamad asked manpower ( ) 's assessme...</td>\n",
       "      <td>Workforce Support and Employment</td>\n",
       "      <td>[Mr Desmond Choo (Tampines), Mr Zaqy Mohamad, ...</td>\n",
       "    </tr>\n",
       "    <tr>\n",
       "      <th>131</th>\n",
       "      <td>Oral Answers to Questions</td>\n",
       "      <td>Demand and Supply of Heavy Vehicle Parking Lots</td>\n",
       "      <td>2 Assoc Prof Fatimah Lateef asked\\tthe Ministe...</td>\n",
       "      <td>Assoc Prof Fatimah Lateef,The Senior Minister ...</td>\n",
       "      <td>2 assoc prof fatimah lateef asked national dev...</td>\n",
       "      <td>Punlic Transport and Waste Management</td>\n",
       "      <td>[Assoc Prof Fatimah Lateef, Assoc Prof Fatimah...</td>\n",
       "    </tr>\n",
       "    <tr>\n",
       "      <th>132</th>\n",
       "      <td>Oral Answers to Questions</td>\n",
       "      <td>Dealing with Higher Unemployment Rate</td>\n",
       "      <td>10 Mr Patrick Tay Teck Guan asked\\tthe Ministe...</td>\n",
       "      <td>Mr Liang Eng Hwa,Dr Tan Wu Meng (Jurong),Mr Pa...</td>\n",
       "      <td>10 patrick tay teck guan asked manpower light ...</td>\n",
       "      <td>Workforce Support and Employment</td>\n",
       "      <td>[Mr Liang Eng Hwa, Dr Tan Wu Meng (Jurong), Mr...</td>\n",
       "    </tr>\n",
       "    <tr>\n",
       "      <th>143</th>\n",
       "      <td>Oral Answers to Questions</td>\n",
       "      <td>Measuring Quality of Healthcare Delivery and A...</td>\n",
       "      <td>13 Ms Joan Pereira asked\\tthe Minister for Hea...</td>\n",
       "      <td>The Minister for Health (Mr Gan Kim Yong), Ms ...</td>\n",
       "      <td>13 m joan pereira asked health ( ) benchmark u...</td>\n",
       "      <td>Community Care and Services</td>\n",
       "      <td>[Ms Joan Pereira (Tanjong Pagar), Ms Joan Pere...</td>\n",
       "    </tr>\n",
       "    <tr>\n",
       "      <th>146</th>\n",
       "      <td>Written Answers to Questions for Oral Answer N...</td>\n",
       "      <td>Progress of EntrePass Scheme</td>\n",
       "      <td>54 Mr Saktiandi Supaat asked the Minister for ...</td>\n",
       "      <td>Mr Saktiandi Supaat, Mr S Iswaran</td>\n",
       "      <td>54 saktiandi supaat asked trade industry ( ind...</td>\n",
       "      <td>Digital Transformation in Industry</td>\n",
       "      <td>[Mr Saktiandi Supaat, Mr S Iswaran]</td>\n",
       "    </tr>\n",
       "    <tr>\n",
       "      <th>158</th>\n",
       "      <td>Oral Answers to Questions</td>\n",
       "      <td>Sustainability of Rail Reliability Levels</td>\n",
       "      <td>3 Mr Sitoh Yih Pin asked the Minister for Tran...</td>\n",
       "      <td>The Minister for Transport (Mr Khaw Boon Wan),...</td>\n",
       "      <td>3 sitoh yih pin asked transport provide update...</td>\n",
       "      <td>Punlic Transport and Waste Management</td>\n",
       "      <td>[Mr Sitoh Yih Pin, Mr Dennis Tan Lip Fong (Non...</td>\n",
       "    </tr>\n",
       "    <tr>\n",
       "      <th>159</th>\n",
       "      <td>Oral Answers to Questions</td>\n",
       "      <td>Complaints on Lapses in Real-time Updates for ...</td>\n",
       "      <td>1 Er Dr Lee Bee Wah asked\\tthe Minister for Tr...</td>\n",
       "      <td>Er Dr Lee Bee Wah (Nee Soon),Er Dr Lee Bee Wah...</td>\n",
       "      <td>1 er dr lee bee wah asked transport ( ) lta aw...</td>\n",
       "      <td>Punlic Transport and Waste Management</td>\n",
       "      <td>[Er Dr Lee Bee Wah (Nee Soon), Er Dr Lee Bee W...</td>\n",
       "    </tr>\n",
       "  </tbody>\n",
       "</table>\n",
       "</div>"
      ],
      "text/plain": [
       "                                          Section Name  \\\n",
       "0                            Oral Answers to Questions   \n",
       "1    Written Answers to Questions for Oral Answer N...   \n",
       "3                            Oral Answers to Questions   \n",
       "13                           Oral Answers to Questions   \n",
       "14                           Oral Answers to Questions   \n",
       "15                           Oral Answers to Questions   \n",
       "24   Written Answers to Questions for Oral Answer N...   \n",
       "30                           Oral Answers to Questions   \n",
       "32   Written Answers to Questions for Oral Answer N...   \n",
       "34                           Oral Answers to Questions   \n",
       "40                           Oral Answers to Questions   \n",
       "41                           Oral Answers to Questions   \n",
       "52                           Oral Answers to Questions   \n",
       "53                           Oral Answers to Questions   \n",
       "54                           Oral Answers to Questions   \n",
       "56                           Oral Answers to Questions   \n",
       "59                           Oral Answers to Questions   \n",
       "64                           Oral Answers to Questions   \n",
       "73                           Oral Answers to Questions   \n",
       "74                           Oral Answers to Questions   \n",
       "89   Written Answers to Questions for Oral Answer N...   \n",
       "90                           Oral Answers to Questions   \n",
       "100                          Oral Answers to Questions   \n",
       "107                          Oral Answers to Questions   \n",
       "108                          Oral Answers to Questions   \n",
       "109                          Oral Answers to Questions   \n",
       "116                          Oral Answers to Questions   \n",
       "122                          Oral Answers to Questions   \n",
       "131                          Oral Answers to Questions   \n",
       "132                          Oral Answers to Questions   \n",
       "143                          Oral Answers to Questions   \n",
       "146  Written Answers to Questions for Oral Answer N...   \n",
       "158                          Oral Answers to Questions   \n",
       "159                          Oral Answers to Questions   \n",
       "\n",
       "                                                 Title  \\\n",
       "0    Fair Process for Termination Due to Poor Perfo...   \n",
       "1    Details and Framework of Workings of The Speci...   \n",
       "3            Female Representation in Statutory Boards   \n",
       "13   Wage Growth Moving in Tandem with Productivity...   \n",
       "14   Impact of Recent Fires in Australia on Singapo...   \n",
       "15                   Capital Reserve in PUB's Accounts   \n",
       "24   Challenges in Applying for Assistance under Le...   \n",
       "30            Waiting Time for Childcare Centre Places   \n",
       "32   Update on Local Enterprise and Association Dev...   \n",
       "34      Measures to Mitigate Increasing Cost of Living   \n",
       "40   Companies with Measures to Deal with Workplace...   \n",
       "41   Subject-banding in Accordance with Students’ A...   \n",
       "52   Review Polytechnic Courses to Ensure They Stay...   \n",
       "53   Salary Components of Prime Minister and Ministers   \n",
       "54   Profile of Jobs and Industries on Fair Conside...   \n",
       "56   Clarification on Withdrawal of CPF Savings at ...   \n",
       "59   Singaporeans' Perception of Local Brands and P...   \n",
       "64   Percentage of Singaporean Mother Tongue Teache...   \n",
       "73   Analysis that Supported Development of SecureM...   \n",
       "74   Top Five Industries where Freelancers Venture ...   \n",
       "89   Impact of COVID-19 Situation on Singapore’s Cl...   \n",
       "90   Plans for Allied Educators in Schools for Lear...   \n",
       "100  More Financial Incentives and Charging Points ...   \n",
       "107  Effectiveness of Support Schemes in Helping PM...   \n",
       "108  Extending Mandatory Time-frame for When Govern...   \n",
       "109  Impact of Home-Based Learning and School Closu...   \n",
       "116  Foreign Worker Representation in Tech and IT S...   \n",
       "122  Effectiveness of Matching and Retraining under...   \n",
       "131    Demand and Supply of Heavy Vehicle Parking Lots   \n",
       "132              Dealing with Higher Unemployment Rate   \n",
       "143  Measuring Quality of Healthcare Delivery and A...   \n",
       "146                       Progress of EntrePass Scheme   \n",
       "158          Sustainability of Rail Reliability Levels   \n",
       "159  Complaints on Lapses in Real-time Updates for ...   \n",
       "\n",
       "                                                  Text  \\\n",
       "0    1 Dr Tan Wu Meng asked\\tthe Minister for Manpo...   \n",
       "1    22 Assoc Prof Fatimah Lateef asked the Ministe...   \n",
       "3    The following question stood in the name of Ms...   \n",
       "13   1 Mr Saktiandi Supaat asked the Minister for T...   \n",
       "14   29 Mr Seah Kian Peng asked the Minister for th...   \n",
       "15   8 Mr Liang Eng Hwa asked the Minister for Fina...   \n",
       "24   41 Mr Thomas Chua Kee Seng asked the Minister ...   \n",
       "30   5 Er Dr Lee Bee Wah asked\\tthe Minister for So...   \n",
       "32   40 Mr Thomas Chua Kee Seng asked the Minister ...   \n",
       "34   2 Mr Liang Eng Hwa asked the Minister for Trad...   \n",
       "40   8 Assoc Prof Walter Theseira asked the Ministe...   \n",
       "41   1 Ms Irene Quay Siew Ching asked the Minister ...   \n",
       "52   1 Dr Lim Wee Kiak asked the Minister for Educa...   \n",
       "53   1 Mr Alex Yam asked the Prime Minister whether...   \n",
       "54   30 Mr Chong Kee Hiong asked the Minister for M...   \n",
       "56   1 Mr Lim Biow Chuan asked the Minister for Man...   \n",
       "59   1 Dr Lim Wee Kiak asked the Minister for Trade...   \n",
       "64   21 Mr Darryl David asked the Minister for Soci...   \n",
       "73   11 Assoc Prof Walter Theseira asked the Minist...   \n",
       "74   4 Dr Lim Wee Kiak asked the Minister for Manpo...   \n",
       "89   26 Mr Kwek Hian Chuan Henry asked the Minister...   \n",
       "90   1 Mr Leon Perera asked the Minister for Educat...   \n",
       "100  20 Er Dr Lee Bee Wah asked\\t the Minister for ...   \n",
       "107  9 Ms Foo Mee Har asked\\tthe Minister for Manpo...   \n",
       "108  3 Mr Louis Ng Kok Kwang asked the Prime Minist...   \n",
       "109  5 Mr Darryl David asked the Minister for Educa...   \n",
       "116  5 Mr Desmond Choo asked\\t the Minister for Man...   \n",
       "122  19 Mr Zaqy Mohamad asked\\tthe Minister for Man...   \n",
       "131  2 Assoc Prof Fatimah Lateef asked\\tthe Ministe...   \n",
       "132  10 Mr Patrick Tay Teck Guan asked\\tthe Ministe...   \n",
       "143  13 Ms Joan Pereira asked\\tthe Minister for Hea...   \n",
       "146  54 Mr Saktiandi Supaat asked the Minister for ...   \n",
       "158  3 Mr Sitoh Yih Pin asked the Minister for Tran...   \n",
       "159  1 Er Dr Lee Bee Wah asked\\tthe Minister for Tr...   \n",
       "\n",
       "                                              Speakers  \\\n",
       "0    Er Dr Lee Bee Wah (Nee Soon),Mr Zainal Sapari ...   \n",
       "1                  Prof Fatimah Lateef, Mr Desmond Lee   \n",
       "3    The Senior Parliamentary Secretary to the Mini...   \n",
       "13   Mr Saktiandi Supaat,The Senior Minister of Sta...   \n",
       "14   The Minister for the Environment and Water Res...   \n",
       "15   Mr Pritam Singh, Mr Liang Eng Hwa, Mr Low Thia...   \n",
       "24             Mr Thomas Chua Kee Seng,Mr Lim Swee Say   \n",
       "30   The Minister for Social and Family Development...   \n",
       "32          Mr Thomas Chua Kee Seng, Mr Chan Chun Sing   \n",
       "34   The Minister for Trade and Industry (Mr Chan C...   \n",
       "40   The Senior Parliamentary Secretary to the Mini...   \n",
       "41   The Second Minister for Education (Ms Indranee...   \n",
       "52   The Senior Parliamentary Secretary to the Mini...   \n",
       "53   The Deputy Prime Minister and Coordinating Min...   \n",
       "54   The Minister for Manpower (Mrs Josephine Teo),...   \n",
       "56   Mr Chong Kee Hiong,Mr Liang Eng Hwa,Mr Patrick...   \n",
       "59   Dr Lim Wee Kiak (Sembawang), The Senior Minist...   \n",
       "64   The Minister for Social and Family Development...   \n",
       "73   The Minister for Transport (Mr Khaw Boon Wan),...   \n",
       "74   Dr Lim Wee Kiak (Sembawang), The Second Minist...   \n",
       "89   Mr Kwek Hian Chuan Henry, Mr Masagos Zulkifli ...   \n",
       "90   The Senior Parliamentary Secretary to the Mini...   \n",
       "100  The Minister for Transport (Mr Khaw Boon Wan),...   \n",
       "107  Ms Foo Mee Har,The Minister for Manpower (Mr L...   \n",
       "108  The Minister for Manpower and Second Minister ...   \n",
       "109  The Minister for Education (Mr Ong Ye Kung), M...   \n",
       "116  Mr Desmond Choo,Mr Desmond Choo (Tampines),Mr ...   \n",
       "122  Mr Desmond Choo (Tampines),Mr Zaqy Mohamad,The...   \n",
       "131  Assoc Prof Fatimah Lateef,The Senior Minister ...   \n",
       "132  Mr Liang Eng Hwa,Dr Tan Wu Meng (Jurong),Mr Pa...   \n",
       "143  The Minister for Health (Mr Gan Kim Yong), Ms ...   \n",
       "146                  Mr Saktiandi Supaat, Mr S Iswaran   \n",
       "158  The Minister for Transport (Mr Khaw Boon Wan),...   \n",
       "159  Er Dr Lee Bee Wah (Nee Soon),Er Dr Lee Bee Wah...   \n",
       "\n",
       "                                       Lemmatized Text  \\\n",
       "0    1 dr tan wu meng asked manpower provide update...   \n",
       "1    22 assoc prof fatimah lateef asked social fami...   \n",
       "3    following question stood m anthea ong –1 ask s...   \n",
       "13   1 saktiandi supaat asked trade industry ( ) wa...   \n",
       "14   29 seah kian peng asked environment water reso...   \n",
       "15   8 liang eng hwa asked finance clarify $ 5.3 bi...   \n",
       "24   41 thomas chua kee seng asked manpower ( ) key...   \n",
       "30   5 er dr lee bee wah asked social family develo...   \n",
       "32   40 thomas chua kee seng asked trade industry p...   \n",
       "34   2 liang eng hwa asked trade industry ( ) gener...   \n",
       "40   8 assoc prof walter theseira asked manpower st...   \n",
       "41   1 m irene quay siew ching asked education rega...   \n",
       "52   1 dr lim wee kiak asked education ( higher edu...   \n",
       "53   1 alex yam asked ( ) list component salary min...   \n",
       "54   30 chong kee hiong asked manpower regard fair ...   \n",
       "56   1 lim biow chuan asked manpower cpf board ( ) ...   \n",
       "59   1 dr lim wee kiak asked trade industry ( indus...   \n",
       "64   21 darryl david asked social family developmen...   \n",
       "73   11 assoc prof walter theseira asked transport ...   \n",
       "74   4 dr lim wee kiak asked manpower ( ) industry ...   \n",
       "89   26 kwek hian chuan henry asked environment wat...   \n",
       "90   1 leon perera asked education change planned r...   \n",
       "100  20 er dr lee bee wah asked transport ( ) 's po...   \n",
       "107  9 m foo mee har asked manpower light job layof...   \n",
       "108  3 louis ng kok kwang asked consider increasing...   \n",
       "109  5 darryl david asked education period home-bas...   \n",
       "116  5 desmond choo asked manpower ( ) current brea...   \n",
       "122  19 zaqy mohamad asked manpower ( ) 's assessme...   \n",
       "131  2 assoc prof fatimah lateef asked national dev...   \n",
       "132  10 patrick tay teck guan asked manpower light ...   \n",
       "143  13 m joan pereira asked health ( ) benchmark u...   \n",
       "146  54 saktiandi supaat asked trade industry ( ind...   \n",
       "158  3 sitoh yih pin asked transport provide update...   \n",
       "159  1 er dr lee bee wah asked transport ( ) lta aw...   \n",
       "\n",
       "                                     Topic  \\\n",
       "0         Workforce Support and Employment   \n",
       "1              Community Care and Services   \n",
       "3              Community Care and Services   \n",
       "13      Digital Transformation in Industry   \n",
       "14   Punlic Transport and Waste Management   \n",
       "15        Workforce Support and Employment   \n",
       "24      Digital Transformation in Industry   \n",
       "30             Community Care and Services   \n",
       "32      Digital Transformation in Industry   \n",
       "34        Workforce Support and Employment   \n",
       "40        Workforce Support and Employment   \n",
       "41        Education and Support Programmes   \n",
       "52        Education and Support Programmes   \n",
       "53      Law Enforcement and Rehabilitation   \n",
       "54        Workforce Support and Employment   \n",
       "56      Legislative Matters and Amendments   \n",
       "59      Digital Transformation in Industry   \n",
       "64        Education and Support Programmes   \n",
       "73   Punlic Transport and Waste Management   \n",
       "74        Education and Support Programmes   \n",
       "89      Digital Transformation in Industry   \n",
       "90        Education and Support Programmes   \n",
       "100  Punlic Transport and Waste Management   \n",
       "107       Workforce Support and Employment   \n",
       "108          National Defence and Security   \n",
       "109       Education and Support Programmes   \n",
       "116       Workforce Support and Employment   \n",
       "122       Workforce Support and Employment   \n",
       "131  Punlic Transport and Waste Management   \n",
       "132       Workforce Support and Employment   \n",
       "143            Community Care and Services   \n",
       "146     Digital Transformation in Industry   \n",
       "158  Punlic Transport and Waste Management   \n",
       "159  Punlic Transport and Waste Management   \n",
       "\n",
       "                                             MPs_Asked  \n",
       "0    [Er Dr Lee Bee Wah (Nee Soon), Dr Tan Wu Meng ...  \n",
       "1                                [Prof Fatimah Lateef]  \n",
       "3    [The Senior Parliamentary Secretary to the Min...  \n",
       "13   [Mr Saktiandi Supaat, Saktiandi Supaat, Mr Sak...  \n",
       "14   [Mr Seah Kian Peng, Mr Seah Kian Peng (Marine ...  \n",
       "15   [Mr Pritam Singh, Mr Liang Eng Hwa, Mr Low Thi...  \n",
       "24          [Mr Thomas Chua Kee Seng, Mr Lim Swee Say]  \n",
       "30   [Er Dr Lee Bee Wah, Er Dr Lee Bee Wah (Nee Soo...  \n",
       "32        [Mr Thomas Chua Kee Seng, Mr Chan Chun Sing]  \n",
       "34   [The Minister for Trade and Industry (Mr Chan ...  \n",
       "40   [Assoc Prof Walter Theseira, Assoc Prof Walter...  \n",
       "41                          [Ms Irene Quay Siew Ching]  \n",
       "52                                   [Dr Lim Wee Kiak]  \n",
       "53   [The Deputy Prime Minister and Coordinating Mi...  \n",
       "54   [The Minister for Manpower (Mrs Josephine Teo)...  \n",
       "56   [Mr Chong Kee Hiong, Mr Liang Eng Hwa, Mr Patr...  \n",
       "59      [Dr Lim Wee Kiak (Sembawang), Dr Lim Wee Kiak]  \n",
       "64   [Mr Speaker, Mr Darryl David (Ang Mo Kio), Mr ...  \n",
       "73   [Assoc Prof Walter Theseira, Assoc Prof Walter...  \n",
       "74      [Dr Lim Wee Kiak (Sembawang), Dr Lim Wee Kiak]  \n",
       "89   [Mr Kwek Hian Chuan Henry, Mr Masagos Zulkifli...  \n",
       "90   [Mr Leon Perera, Mr Leon Perera, Mr Leon Perer...  \n",
       "100             [Er Dr Lee Bee Wah, Er Dr Lee Bee Wah]  \n",
       "107      [Ms Foo Mee Har, Ms Foo Mee Har (West Coast)]  \n",
       "108  [The Minister for Manpower and Second Minister...  \n",
       "109  [Mr Darryl David, Mr Darryl David (Ang Mo Kio)...  \n",
       "116  [Mr Desmond Choo, Mr Desmond Choo (Tampines), ...  \n",
       "122  [Mr Desmond Choo (Tampines), Mr Zaqy Mohamad, ...  \n",
       "131  [Assoc Prof Fatimah Lateef, Assoc Prof Fatimah...  \n",
       "132  [Mr Liang Eng Hwa, Dr Tan Wu Meng (Jurong), Mr...  \n",
       "143  [Ms Joan Pereira (Tanjong Pagar), Ms Joan Pere...  \n",
       "146                [Mr Saktiandi Supaat, Mr S Iswaran]  \n",
       "158  [Mr Sitoh Yih Pin, Mr Dennis Tan Lip Fong (Non...  \n",
       "159  [Er Dr Lee Bee Wah (Nee Soon), Er Dr Lee Bee W...  "
      ]
     },
     "execution_count": 73,
     "metadata": {},
     "output_type": "execute_result"
    }
   ],
   "source": [
    "df_questions"
   ]
  },
  {
   "cell_type": "code",
   "execution_count": 74,
   "metadata": {},
   "outputs": [
    {
     "data": {
      "text/plain": [
       "MPs_Asked\n",
       "[Dr Lim Wee Kiak (Sembawang), Dr Lim Wee Kiak]                                                                                                                                                                                                                                                                                                                                                                                                                                                                                                              2\n",
       "[Assoc Prof Walter Theseira, Assoc Prof Walter Theseira (Nominated Member)]                                                                                                                                                                                                                                                                                                                                                                                                                                                                                 2\n",
       "[Mr Speaker, Mr Darryl David (Ang Mo Kio), Mr Darryl David]                                                                                                                                                                                                                                                                                                                                                                                                                                                                                                 1\n",
       "[Mr Sitoh Yih Pin, Mr Dennis Tan Lip Fong (Non-Constituency Member), Mr Pritam Singh (Aljunied), Mr Pritam Singh, Mr Sitoh Yih Pin (Potong Pasir), Mr Yee Chia Hsing (Chua Chu Kang), Mr Sitoh Yih Pin, Mr Khaw Boon Wan, Mr Khaw Boon Wan, Mr Khaw Boon Wan, Mr Khaw Boon Wan, Mr Khaw Boon Wan, Mr Khaw Boon Wan, Mr Khaw Boon Wan, Mr Khaw Boon Wan]                                                                                                                                                                                                     1\n",
       "[Mr Saktiandi Supaat, Mr S Iswaran]                                                                                                                                                                                                                                                                                                                                                                                                                                                                                                                         1\n",
       "[Ms Joan Pereira (Tanjong Pagar), Ms Joan Pereira]                                                                                                                                                                                                                                                                                                                                                                                                                                                                                                          1\n",
       "[Mr Liang Eng Hwa, Dr Tan Wu Meng (Jurong), Mr Patrick Tay Teck Guan, Ms Foo Mee Har, Mr Melvin Yong Yik Chye, Mr Ang Hin Kee (Ang Mo Kio), Mr Liang Eng Hwa (Holland-Bukit Timah), Mr Ang Hin Kee, Dr Tan Wu Meng, Mr Patrick Tay Teck Guan (West Coast), Mr Desmond Choo, Assoc Prof Daniel Goh Pei Siong (Non-Constituency Member), Mr Christopher de Souza, Ms Jessica Tan Soon Neo, Mr Ang Wei Neng, Ms Foo Mee Har (West Coast), Mr Lim Swee Say, Assoc Prof Daniel Goh Pei Siong]                                                                    1\n",
       "[Assoc Prof Fatimah Lateef, Assoc Prof Fatimah Lateef (Marine Parade)]                                                                                                                                                                                                                                                                                                                                                                                                                                                                                      1\n",
       "[Mr Desmond Choo (Tampines), Mr Zaqy Mohamad, Mr Lim Swee Say, Mr Zaqy Mohamad (Chua Chu Kang)]                                                                                                                                                                                                                                                                                                                                                                                                                                                             1\n",
       "[Mr Desmond Choo, Mr Desmond Choo (Tampines), Mr Seah Kian Peng (Marine Parade), Mr Lim Swee Say, Mr Patrick Tay Teck Guan (West Coast)]                                                                                                                                                                                                                                                                                                                                                                                                                    1\n",
       "[Mr Darryl David, Mr Darryl David (Ang Mo Kio), Mr Ong Ye Kung]                                                                                                                                                                                                                                                                                                                                                                                                                                                                                             1\n",
       "[The Minister for Manpower and Second Minister for Home Affairs (Mrs Josephine Teo), Mr Louis Ng Kok Kwang, Mr Louis Ng Kok Kwang (Nee Soon)]                                                                                                                                                                                                                                                                                                                                                                                                               1\n",
       "[Ms Foo Mee Har, Ms Foo Mee Har (West Coast)]                                                                                                                                                                                                                                                                                                                                                                                                                                                                                                               1\n",
       "[Er Dr Lee Bee Wah, Er Dr Lee Bee Wah]                                                                                                                                                                                                                                                                                                                                                                                                                                                                                                                      1\n",
       "[Mr Leon Perera, Mr Leon Perera, Mr Leon Perera (Non-Constituency Member)]                                                                                                                                                                                                                                                                                                                                                                                                                                                                                  1\n",
       "[Mr Kwek Hian Chuan Henry, Mr Masagos Zulkifli B M M]                                                                                                                                                                                                                                                                                                                                                                                                                                                                                                       1\n",
       "[Er Dr Lee Bee Wah (Nee Soon), Dr Tan Wu Meng (Jurong), Assoc Prof Daniel Goh Pei Siong (Non-Constituency Member), Dr Tan Wu Meng, Assoc Prof Daniel Goh Pei Siong]                                                                                                                                                                                                                                                                                                                                                                                         1\n",
       "[Prof Fatimah Lateef]                                                                                                                                                                                                                                                                                                                                                                                                                                                                                                                                       1\n",
       "[Mr Chong Kee Hiong, Mr Liang Eng Hwa, Mr Patrick Tay Teck Guan, Ms Foo Mee Har, Mr Png Eng Huat (Hougang), Mr Liang Eng Hwa (Holland-Bukit Timah), Mr Lim Biow Chuan (Mountbatten), Mr Saktiandi Supaat (Bishan-Toa Payoh), The Minister for Manpower (Mrs Josephine Teo), Assoc Prof Walter Theseira, Mr Chong Kee Hiong (Bishan-Toa Payoh), Ms Jessica Tan Soon Neo (East Coast), Ms Jessica Tan Soon Neo, Mr Lim Biow Chuan, Mr Png Eng Huat, Ms Foo Mee Har (West Coast), Miss Cheryl Chan Wei Ling, Assoc Prof Walter Theseira (Nominated Member)]    1\n",
       "[The Minister for Manpower (Mrs Josephine Teo), Mr Chong Kee Hiong, Mr Patrick Tay Teck Guan (West Coast)]                                                                                                                                                                                                                                                                                                                                                                                                                                                  1\n",
       "[The Deputy Prime Minister and Coordinating Minister for National Security (Mr Teo Chee Hean), Mr Leon Perera, Mr Alex Yam, Mr Pritam Singh (Aljunied), Mr Leon Perera (Non-Constituency Member), Mr Leon Perera, Mr Alex Yam (Marsiling-Yew Tee), Mr Leon Perera, Mr Pritam Singh, Mr Teo Chee Hean, Mr Teo Chee Hean, Mr Teo Chee Hean, Mr Teo Chee Hean, Mr Teo Chee Hean, Mr Teo Chee Hean]                                                                                                                                                             1\n",
       "[Dr Lim Wee Kiak]                                                                                                                                                                                                                                                                                                                                                                                                                                                                                                                                           1\n",
       "[Ms Irene Quay Siew Ching]                                                                                                                                                                                                                                                                                                                                                                                                                                                                                                                                  1\n",
       "[The Minister for Trade and Industry (Mr Chan Chun Sing), Mr Liang Eng Hwa, Mr Saktiandi Supaat, Mr Seah Kian Peng, Mr Lim Biow Chuan, Mr Yee Chia Hsing, Mr Leon Perera, Liang Eng Hwa, Mr Chan Chun Sing]                                                                                                                                                                                                                                                                                                                                                 1\n",
       "[Mr Thomas Chua Kee Seng, Mr Chan Chun Sing]                                                                                                                                                                                                                                                                                                                                                                                                                                                                                                                1\n",
       "[Er Dr Lee Bee Wah, Er Dr Lee Bee Wah (Nee Soon), Er Dr Lee Bee Wah]                                                                                                                                                                                                                                                                                                                                                                                                                                                                                        1\n",
       "[Mr Thomas Chua Kee Seng, Mr Lim Swee Say]                                                                                                                                                                                                                                                                                                                                                                                                                                                                                                                  1\n",
       "[Mr Pritam Singh, Mr Liang Eng Hwa, Mr Low Thia Khiang (Aljunied), Mr Speaker, Liang Eng Hwa]                                                                                                                                                                                                                                                                                                                                                                                                                                                               1\n",
       "[Mr Seah Kian Peng, Mr Seah Kian Peng (Marine Parade), Mr Masagos Zulkifli B M M]                                                                                                                                                                                                                                                                                                                                                                                                                                                                           1\n",
       "[Mr Saktiandi Supaat, Saktiandi Supaat, Mr Saktiandi Supaat (Bishan-Toa Payoh)]                                                                                                                                                                                                                                                                                                                                                                                                                                                                             1\n",
       "[The Senior Parliamentary Secretary to the Minister for Social and Family Development (Assoc Prof Dr Muhammad Faishal Ibrahim), Ms Anthea Ong]                                                                                                                                                                                                                                                                                                                                                                                                              1\n",
       "[Er Dr Lee Bee Wah (Nee Soon), Er Dr Lee Bee Wah, Mr Low Thia Khiang (Aljunied), Mr Melvin Yong Yik Chye (Tanjong Pagar), Mr Khaw Boon Wan]                                                                                                                                                                                                                                                                                                                                                                                                                 1\n",
       "Name: count, dtype: int64"
      ]
     },
     "execution_count": 74,
     "metadata": {},
     "output_type": "execute_result"
    }
   ],
   "source": [
    "df_questions[\"MPs_Asked\"].value_counts()"
   ]
  },
  {
   "cell_type": "code",
   "execution_count": 75,
   "metadata": {},
   "outputs": [
    {
     "name": "stderr",
     "output_type": "stream",
     "text": [
      "/var/folders/3f/xhw3kd5d62v0s4_2fvl3_7480000gn/T/ipykernel_50984/2832508116.py:37: SettingWithCopyWarning:\n",
      "\n",
      "\n",
      "A value is trying to be set on a copy of a slice from a DataFrame.\n",
      "Try using .loc[row_indexer,col_indexer] = value instead\n",
      "\n",
      "See the caveats in the documentation: https://pandas.pydata.org/pandas-docs/stable/user_guide/indexing.html#returning-a-view-versus-a-copy\n",
      "\n"
     ]
    }
   ],
   "source": [
    "# Function to clean and standardize names\n",
    "def clean_names(names):\n",
    "    # Convert list of names to a single string for processing\n",
    "    names_str = \", \".join(names)\n",
    "    \n",
    "    # Define terms to replace and their replacements\n",
    "    replacements = {\n",
    "        'The Minister for Manpower (Mrs Josephine Teo)': 'Mrs Josephine Teo',\n",
    "        'The Minister for Manpower and Second Minister for Home Affairs (Mrs Josephine Teo)': 'Mrs Josephine Teo',\n",
    "        'The Deputy Prime Minister and Coordinating Minister for National Security (Mr Teo Chee Hean)': 'Mr Teo Chee Hean',\n",
    "        'The Minister for Trade and Industry (Mr Chan Chun Sing)': 'Mr Chan Chun Sing',\n",
    "        'The Senior Parliamentary Secretary to the Minister for Social and Family Development (Assoc Prof Dr Muhammad Faishal Ibrahim)': 'Assoc Prof Dr Muhammad Faishal Ibrahim',\n",
    "        'Liang Eng Hwa': 'Mr Liang Eng Hwa',\n",
    "        'Saktiandi Supaat': 'Mr Saktiandi Supaat'\n",
    "    }\n",
    "    \n",
    "    # Replace specified terms in each name\n",
    "    cleaned_names = []\n",
    "    for name in names:\n",
    "        for term, replacement in replacements.items():\n",
    "            if term in name:\n",
    "                name = replacement\n",
    "        cleaned_names.append(name.strip())\n",
    "    \n",
    "    # Remove content in parentheses for each cleaned name\n",
    "    names_cleaned = []\n",
    "    for name in cleaned_names:\n",
    "        cleaned_name = re.sub(r'\\s*\\([^()]*\\)', '', name).strip()\n",
    "        names_cleaned.append(cleaned_name)\n",
    "\n",
    "    # Remove duplicate names while preserving order\n",
    "    names_cleaned = list(dict.fromkeys(names_cleaned))\n",
    "    \n",
    "    return names_cleaned\n",
    "    \n",
    "# Apply the cleaning function to the 'MPs_Asked' column\n",
    "df_questions['MPs_Asked'] = df_questions['MPs_Asked'].apply(clean_names)"
   ]
  },
  {
   "cell_type": "code",
   "execution_count": 76,
   "metadata": {},
   "outputs": [
    {
     "data": {
      "text/plain": [
       "0      [Er Dr Lee Bee Wah, Dr Tan Wu Meng, Assoc Prof...\n",
       "1                                  [Prof Fatimah Lateef]\n",
       "3      [Assoc Prof Dr Muhammad Faishal Ibrahim, Ms An...\n",
       "13                                 [Mr Saktiandi Supaat]\n",
       "14        [Mr Seah Kian Peng, Mr Masagos Zulkifli B M M]\n",
       "15     [Mr Pritam Singh, Mr Liang Eng Hwa, Mr Low Thi...\n",
       "24            [Mr Thomas Chua Kee Seng, Mr Lim Swee Say]\n",
       "30                                   [Er Dr Lee Bee Wah]\n",
       "32          [Mr Thomas Chua Kee Seng, Mr Chan Chun Sing]\n",
       "34     [Mr Chan Chun Sing, Mr Liang Eng Hwa, Mr Sakti...\n",
       "40                          [Assoc Prof Walter Theseira]\n",
       "41                            [Ms Irene Quay Siew Ching]\n",
       "52                                     [Dr Lim Wee Kiak]\n",
       "53     [Mr Teo Chee Hean, Mr Leon Perera, Mr Alex Yam...\n",
       "54     [Mrs Josephine Teo, Mr Chong Kee Hiong, Mr Pat...\n",
       "56     [Mr Chong Kee Hiong, Mr Liang Eng Hwa, Mr Patr...\n",
       "59                                     [Dr Lim Wee Kiak]\n",
       "64                         [Mr Speaker, Mr Darryl David]\n",
       "73                          [Assoc Prof Walter Theseira]\n",
       "74                                     [Dr Lim Wee Kiak]\n",
       "89     [Mr Kwek Hian Chuan Henry, Mr Masagos Zulkifli...\n",
       "90                                      [Mr Leon Perera]\n",
       "100                                  [Er Dr Lee Bee Wah]\n",
       "107                                     [Ms Foo Mee Har]\n",
       "108           [Mrs Josephine Teo, Mr Louis Ng Kok Kwang]\n",
       "109                    [Mr Darryl David, Mr Ong Ye Kung]\n",
       "116    [Mr Desmond Choo, Mr Seah Kian Peng, Mr Lim Sw...\n",
       "122    [Mr Desmond Choo, Mr Zaqy Mohamad, Mr Lim Swee...\n",
       "131                          [Assoc Prof Fatimah Lateef]\n",
       "132    [Mr Liang Eng Hwa, Dr Tan Wu Meng, Mr Patrick ...\n",
       "143                                    [Ms Joan Pereira]\n",
       "146                  [Mr Saktiandi Supaat, Mr S Iswaran]\n",
       "158    [Mr Sitoh Yih Pin, Mr Dennis Tan Lip Fong, Mr ...\n",
       "159    [Er Dr Lee Bee Wah, Mr Low Thia Khiang, Mr Mel...\n",
       "Name: MPs_Asked, dtype: object"
      ]
     },
     "execution_count": 76,
     "metadata": {},
     "output_type": "execute_result"
    }
   ],
   "source": [
    "df_questions[\"MPs_Asked\"]"
   ]
  },
  {
   "cell_type": "code",
   "execution_count": 77,
   "metadata": {},
   "outputs": [
    {
     "name": "stdout",
     "output_type": "stream",
     "text": [
      "Topic: Community Care and Services\n",
      "- Prof Fatimah Lateef: 1 question\n",
      "- Assoc Prof Dr Muhammad Faishal Ibrahim: 1 question\n",
      "- Ms Anthea Ong: 1 question\n",
      "- Er Dr Lee Bee Wah: 1 question\n",
      "- Ms Joan Pereira: 1 question\n",
      "\n",
      "Topic: Digital Transformation in Industry\n",
      "- Mr Saktiandi Supaat: 2 questions\n",
      "- Mr Thomas Chua Kee Seng: 2 questions\n",
      "- Mr Lim Swee Say: 1 question\n",
      "- Mr Chan Chun Sing: 1 question\n",
      "- Dr Lim Wee Kiak: 1 question\n",
      "- Mr Kwek Hian Chuan Henry: 1 question\n",
      "- Mr Masagos Zulkifli B M M: 1 question\n",
      "- Mr S Iswaran: 1 question\n",
      "\n",
      "Topic: Education and Support Programmes\n",
      "- Dr Lim Wee Kiak: 2 questions\n",
      "- Mr Darryl David: 2 questions\n",
      "- Ms Irene Quay Siew Ching: 1 question\n",
      "- Mr Speaker: 1 question\n",
      "- Mr Leon Perera: 1 question\n",
      "- Mr Ong Ye Kung: 1 question\n",
      "\n",
      "Topic: Law Enforcement and Rehabilitation\n",
      "- Mr Teo Chee Hean: 1 question\n",
      "- Mr Leon Perera: 1 question\n",
      "- Mr Alex Yam: 1 question\n",
      "- Mr Pritam Singh: 1 question\n",
      "\n",
      "Topic: Legislative Matters and Amendments\n",
      "- Mr Chong Kee Hiong: 1 question\n",
      "- Mr Liang Eng Hwa: 1 question\n",
      "- Mr Patrick Tay Teck Guan: 1 question\n",
      "- Ms Foo Mee Har: 1 question\n",
      "- Mr Png Eng Huat: 1 question\n",
      "- Mr Lim Biow Chuan: 1 question\n",
      "- Mr Saktiandi Supaat: 1 question\n",
      "- Mrs Josephine Teo: 1 question\n",
      "- Assoc Prof Walter Theseira: 1 question\n",
      "- Ms Jessica Tan Soon Neo: 1 question\n",
      "- Miss Cheryl Chan Wei Ling: 1 question\n",
      "\n",
      "Topic: National Defence and Security\n",
      "- Mrs Josephine Teo: 1 question\n",
      "- Mr Louis Ng Kok Kwang: 1 question\n",
      "\n",
      "Topic: Punlic Transport and Waste Management\n",
      "- Er Dr Lee Bee Wah: 2 questions\n",
      "- Mr Khaw Boon Wan: 2 questions\n",
      "- Mr Seah Kian Peng: 1 question\n",
      "- Mr Masagos Zulkifli B M M: 1 question\n",
      "- Assoc Prof Walter Theseira: 1 question\n",
      "- Assoc Prof Fatimah Lateef: 1 question\n",
      "- Mr Sitoh Yih Pin: 1 question\n",
      "- Mr Dennis Tan Lip Fong: 1 question\n",
      "- Mr Pritam Singh: 1 question\n",
      "- Mr Yee Chia Hsing: 1 question\n",
      "- Mr Low Thia Khiang: 1 question\n",
      "- Mr Melvin Yong Yik Chye: 1 question\n",
      "\n",
      "Topic: Workforce Support and Employment\n",
      "- Mr Liang Eng Hwa: 3 questions\n",
      "- Mr Patrick Tay Teck Guan: 3 questions\n",
      "- Mr Desmond Choo: 3 questions\n",
      "- Mr Lim Swee Say: 3 questions\n",
      "- Dr Tan Wu Meng: 2 questions\n",
      "- Assoc Prof Daniel Goh Pei Siong: 2 questions\n",
      "- Mr Seah Kian Peng: 2 questions\n",
      "- Ms Foo Mee Har: 2 questions\n",
      "- Er Dr Lee Bee Wah: 1 question\n",
      "- Mr Pritam Singh: 1 question\n",
      "- Mr Low Thia Khiang: 1 question\n",
      "- Mr Speaker: 1 question\n",
      "- Mr Chan Chun Sing: 1 question\n",
      "- Mr Saktiandi Supaat: 1 question\n",
      "- Mr Lim Biow Chuan: 1 question\n",
      "- Mr Yee Chia Hsing: 1 question\n",
      "- Mr Leon Perera: 1 question\n",
      "- Assoc Prof Walter Theseira: 1 question\n",
      "- Mrs Josephine Teo: 1 question\n",
      "- Mr Chong Kee Hiong: 1 question\n",
      "- Mr Zaqy Mohamad: 1 question\n",
      "- Mr Melvin Yong Yik Chye: 1 question\n",
      "- Mr Ang Hin Kee: 1 question\n",
      "- Mr Christopher de Souza: 1 question\n",
      "- Ms Jessica Tan Soon Neo: 1 question\n",
      "- Mr Ang Wei Neng: 1 question\n",
      "\n"
     ]
    }
   ],
   "source": [
    "# Initialize a dictionary to store MP counts for each topic\n",
    "topic_mp_counts = {}\n",
    "\n",
    "# Iterate through each topic\n",
    "for topic, group in df_questions.groupby('Topic'):\n",
    "    # Initialize Counter to count MPs\n",
    "    mp_counts = Counter()\n",
    "    \n",
    "    # Count MPs for the current topic\n",
    "    for _, row in group.iterrows():\n",
    "        mp_counts += Counter(row['MPs_Asked'])\n",
    "    \n",
    "    # Sort MPs by number of questions in descending order\n",
    "    sorted_mp_counts = dict(sorted(mp_counts.items(), key=lambda item: item[1], reverse=True))\n",
    "    \n",
    "    # Include all MPs who asked one question or more\n",
    "    ranked_mps = []\n",
    "    for mp, count in sorted_mp_counts.items():\n",
    "        ranked_mps.append(f\"{mp}: {count} question{'s' if count > 1 else ''}\")\n",
    "    \n",
    "    # Store results in topic_mp_counts\n",
    "    topic_mp_counts[topic] = ranked_mps\n",
    "\n",
    "# Print results for each topic\n",
    "for topic, mp_counts in topic_mp_counts.items():\n",
    "    print(f\"Topic: {topic}\")\n",
    "    for mp_count in mp_counts:\n",
    "        print(f\"- {mp_count}\")\n",
    "    print()"
   ]
  }
 ],
 "metadata": {
  "kernelspec": {
   "display_name": "parliament_new",
   "language": "python",
   "name": "python3"
  },
  "language_info": {
   "codemirror_mode": {
    "name": "ipython",
    "version": 3
   },
   "file_extension": ".py",
   "mimetype": "text/x-python",
   "name": "python",
   "nbconvert_exporter": "python",
   "pygments_lexer": "ipython3",
   "version": "3.12.4"
  }
 },
 "nbformat": 4,
 "nbformat_minor": 2
}
