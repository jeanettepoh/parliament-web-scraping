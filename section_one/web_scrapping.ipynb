{
 "cells": [
  {
   "cell_type": "code",
   "execution_count": 1,
   "metadata": {},
   "outputs": [],
   "source": [
    "import os\n",
    "import time\n",
    "import pandas as pd\n",
    "from datetime import datetime\n",
    "from bs4 import BeautifulSoup\n",
    "\n",
    "from selenium import webdriver\n",
    "from selenium.webdriver.common.by import By\n",
    "from selenium.webdriver.chrome.service import Service\n",
    "from selenium.webdriver.support.ui import WebDriverWait\n",
    "from selenium.webdriver.support import expected_conditions as EC\n",
    "from selenium.common.exceptions import  NoSuchElementException\n",
    "from selenium.common.exceptions import StaleElementReferenceException\n",
    "from selenium.common.exceptions import ElementClickInterceptedException"
   ]
  },
  {
   "cell_type": "code",
   "execution_count": 2,
   "metadata": {},
   "outputs": [],
   "source": [
    "service = Service(executable_path=\"/Users/jeanettepoh/Desktop/chromedriver\")\n",
    "driver = webdriver.Chrome()"
   ]
  },
  {
   "cell_type": "code",
   "execution_count": 3,
   "metadata": {},
   "outputs": [],
   "source": [
    "page_url = \"https://sprs.parl.gov.sg/search/home\"\n",
    "driver.get(page_url)"
   ]
  },
  {
   "cell_type": "code",
   "execution_count": 4,
   "metadata": {},
   "outputs": [],
   "source": [
    "# Get search box and fill it up\n",
    "wait = WebDriverWait(driver, 10)  # Wait up to 10 seconds\n",
    "search = wait.until(EC.presence_of_element_located((By.CSS_SELECTOR, '#divmpscreen2 > div.row > div:nth-child(1) > div > div:nth-child(1) > input')))\n",
    "search.send_keys('COS')"
   ]
  },
  {
   "cell_type": "code",
   "execution_count": 5,
   "metadata": {},
   "outputs": [],
   "source": [
    "# This will select the 13th parliament\n",
    "wait = WebDriverWait(driver, 10)  # Wait up to 10 seconds\n",
    "session = wait.until(EC.element_to_be_clickable((By.CSS_SELECTOR, '#divmpscreen2 > div.row > div:nth-child(1) > div > div.form-group.byParText > select > option:nth-child(14)')))\n",
    "session.click()"
   ]
  },
  {
   "cell_type": "code",
   "execution_count": 6,
   "metadata": {},
   "outputs": [],
   "source": [
    "# Find submit element and click\n",
    "wait = WebDriverWait(driver, 20)\n",
    "\n",
    "# Find the submit button element\n",
    "submit = wait.until(EC.element_to_be_clickable((By.CSS_SELECTOR, '#divmpscreen2 > div.row > div.col-sm-12.text-right.pull-right > div > button:nth-child(2)')))\n",
    "\n",
    "# Click using JavaScript\n",
    "driver.execute_script(\"arguments[0].click();\", submit)"
   ]
  },
  {
   "cell_type": "code",
   "execution_count": 7,
   "metadata": {},
   "outputs": [
    {
     "name": "stdout",
     "output_type": "stream",
     "text": [
      "There are 10 pages to click through\n"
     ]
    }
   ],
   "source": [
    "# Create empty dictionary to store results\n",
    "res_dict = {}\n",
    "\n",
    "# Switch window and check for number of search results\n",
    "driver.switch_to.window(driver.window_handles[1])\n",
    "wait = WebDriverWait(driver, 60)\n",
    "num_results = wait.until(EC.visibility_of_element_located((By.CSS_SELECTOR, '#searchResults > div:nth-child(1) > div')))\n",
    "res = num_results.text.split(' ')\n",
    "num_clicks = int(res[-1]) // int(res[-3]) + 1\n",
    "\n",
    "print('There are {} pages to click through'.format(num_clicks))"
   ]
  },
  {
   "cell_type": "code",
   "execution_count": 8,
   "metadata": {},
   "outputs": [],
   "source": [
    "# Define the directory to save the files\n",
    "home_dir = os.getcwd() \n",
    "save_dir = os.path.join(home_dir, 'scraped_data')\n",
    "\n",
    "# Create the directory if it doesn't exist\n",
    "os.makedirs(save_dir, exist_ok=True)"
   ]
  },
  {
   "cell_type": "code",
   "execution_count": 9,
   "metadata": {},
   "outputs": [],
   "source": [
    "# Nested for loop to click through all search results\n",
    "for click in range(num_clicks):\n",
    "\n",
    "    # Assuming you start from the first window\n",
    "    driver.switch_to.window(driver.window_handles[0])\n",
    "\n",
    "    # Iterate through each search result item\n",
    "    for item in range(1, 21):  # Assuming there are up to 20 items per page\n",
    "        try:\n",
    "            # Switch to search results page if not already there\n",
    "            driver.switch_to.window(driver.window_handles[1])\n",
    "\n",
    "            # Construct XPath for the current item\n",
    "            xpath = '//*[@id=\"searchResults\"]/table/tbody[{}]/tr[{}]/td[2]/a'.format(item, 1)\n",
    "            \n",
    "            # Wait for the element to be clickable and then click it\n",
    "            elem = WebDriverWait(driver, 10).until(EC.element_to_be_clickable((By.XPATH, xpath)))\n",
    "            driver.execute_script(\"arguments[0].scrollIntoView();\", elem)\n",
    "            driver.execute_script(\"arguments[0].click();\", elem)\n",
    "\n",
    "        except:\n",
    "            break\n",
    "\n",
    "        # Switch to the newly opened page\n",
    "        driver.switch_to.window(driver.window_handles[2])\n",
    "\n",
    "        # Print and process the current URL\n",
    "        current_url = driver.current_url.split('/')[-1]\n",
    "        item_key = current_url.replace('?', '_')\n",
    "\n",
    "        # Append result to dictionary for later processing\n",
    "        res_dict[item_key] = driver.page_source\n",
    "\n",
    "        file_path = os.path.join(save_dir, f'{item_key}.txt')\n",
    "        with open(file_path, encoding='utf-8', mode='w+') as file:\n",
    "            file.write(driver.page_source)\n",
    "        \n",
    "        # Close tab\n",
    "        driver.close()\n",
    "\n",
    "    # Switch back to search results tab\n",
    "    driver.switch_to.window(driver.window_handles[1])\n",
    "\n",
    "    # Click on next page once 20 results have been saved\n",
    "    try:\n",
    "        next_page_xpath = '//*[@id=\"searchResults\"]/div[3]/section/ul/li[3]/a/em'\n",
    "        next_page = WebDriverWait(driver, 60).until(EC.element_to_be_clickable((By.XPATH, next_page_xpath)))\n",
    "    except Exception as e:\n",
    "        next_page_xpath = '//*[@id=\"searchResults\"]/div[3]/section/ul/li[1]/a/em'\n",
    "        next_page = WebDriverWait(driver, 60).until(EC.element_to_be_clickable((By.XPATH, next_page_xpath)))\n",
    "    \n",
    "    # Scroll to the element to make sure it's visible\n",
    "    driver.execute_script(\"arguments[0].scrollIntoView();\", next_page)\n",
    "\n",
    "    # Click the next page button\n",
    "    driver.execute_script(\"arguments[0].click();\", next_page)\n",
    "\n",
    "    # Wait for the new page to load (adjust sleep time as necessary)\n",
    "    time.sleep(5)\n",
    "\n",
    "# Quit the driver after processing\n",
    "driver.quit()"
   ]
  }
 ],
 "metadata": {
  "kernelspec": {
   "display_name": "parliament_new",
   "language": "python",
   "name": "python3"
  },
  "language_info": {
   "codemirror_mode": {
    "name": "ipython",
    "version": 3
   },
   "file_extension": ".py",
   "mimetype": "text/x-python",
   "name": "python",
   "nbconvert_exporter": "python",
   "pygments_lexer": "ipython3",
   "version": "3.12.4"
  }
 },
 "nbformat": 4,
 "nbformat_minor": 2
}
